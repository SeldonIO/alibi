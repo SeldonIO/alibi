{
 "cells": [
  {
   "cell_type": "markdown",
   "id": "7147902f",
   "metadata": {},
   "source": [
    "# Similarity explanations for 20 newsgroups dataset"
   ]
  },
  {
   "cell_type": "markdown",
   "id": "1e3ea6e4",
   "metadata": {},
   "source": [
    "In this notebook, we apply the similarity explanation method to a feed forward neural network (FFNN) trained on the 20 newsgroups dataset. \n",
    "\n",
    "The 20 newsgroups dataset is a corpus of 18846 text documents (emails) divided into 20 sections. The FFNN is trained to classify each document in the correct section. The model uses pre-trained sentence embeddings as input features, which are obtained from raw text using a [pretrained transformer](https://www.sbert.net/docs/pretrained_models.html). \n",
    "\n",
    "Given an input document of interest, the similarity explanation method used here aims to find text documents in the training set that are similar to the document of interest according to \"how the model sees them\", meaning that the similarity metric makes use of the gradients of the model's loss function with respect to the model's parameters.\n",
    "\n",
    "The similarity explanation tool supports both `pytorch` and `tensorflow` backends. In this example, we will use the `pytorch` backend.  Running this notebook on CPU can be very slow, so GPU is recommended.\n",
    "\n",
    "A more detailed description of the method can be found [here](../methods/Similarity.ipynb). The implementation follows  [Charpiat et al., 2019](https://papers.nips.cc/paper/2019/hash/c61f571dbd2fb949d3fe5ae1608dd48b-Abstract.html) and  [Hanawa et al. 2021](https://arxiv.org/abs/2006.04528)."
   ]
  },
  {
   "cell_type": "code",
   "execution_count": null,
   "id": "a42616ee",
   "metadata": {},
   "outputs": [],
   "source": [
    "#  Installing required sentence transformer\n",
    "!pip install sentence_transformers"
   ]
  },
  {
   "cell_type": "code",
   "execution_count": 1,
   "id": "a62345f6",
   "metadata": {},
   "outputs": [],
   "source": [
    "import os\n",
    "import torch\n",
    "import string\n",
    "import numpy as np\n",
    "import pandas as pd\n",
    "import matplotlib.pyplot as plt\n",
    "import torch.nn as nn\n",
    "from termcolor import colored\n",
    "from torch.utils.data import DataLoader\n",
    "from tqdm import tqdm\n",
    "from sentence_transformers import SentenceTransformer\n",
    "from sklearn.datasets import fetch_20newsgroups\n",
    "from sklearn.model_selection import train_test_split\n",
    "from alibi.explainers import GradientSimilarity"
   ]
  },
  {
   "cell_type": "markdown",
   "id": "192fb009",
   "metadata": {},
   "source": [
    "## Utils"
   ]
  },
  {
   "cell_type": "code",
   "execution_count": 2,
   "id": "8eba6b40",
   "metadata": {},
   "outputs": [],
   "source": [
    "def to_categorical(y, num_classes):\n",
    "    \"\"\" 1-hot encodes a tensor \"\"\"\n",
    "    return np.eye(num_classes, dtype='uint8')[y].astype('float32')\n",
    "\n",
    "class TorchDataset(torch.utils.data.Dataset):\n",
    "    \"\"\"Utility class to create a torch dataloader from numpy arrays.\n",
    "    \"\"\"\n",
    "    def __init__(self, *indexables):\n",
    "        self.indexables = indexables\n",
    "\n",
    "    def __getitem__(self, idx):\n",
    "        output = tuple(indexable[idx] for indexable in self.indexables)\n",
    "        return output if len(output) > 1 else output[0]\n",
    "\n",
    "    def __len__(self):\n",
    "        return len(self.indexables[0])\n",
    "    \n",
    "def append_int(num):\n",
    "    \"\"\"Converts an integer into an ordinal (ex. 1 -> 1st, 2 -> 2nd, etc.)\n",
    "    \n",
    "    Parameters\n",
    "    ----------\n",
    "    num\n",
    "        Integer number\n",
    "    \n",
    "    Returns\n",
    "    -------\n",
    "    Ordinal suffixes\n",
    "    \"\"\"\n",
    "    if num > 9:\n",
    "        secondToLastDigit = str(num)[-2]\n",
    "        if secondToLastDigit == '1':\n",
    "            return 'th'\n",
    "    lastDigit = num % 10\n",
    "    if (lastDigit == 1):\n",
    "        return 'st'\n",
    "    elif (lastDigit == 2):\n",
    "        return 'nd'\n",
    "    elif (lastDigit == 3):\n",
    "        return 'rd'\n",
    "    else:\n",
    "        return 'th'\n",
    "    \n",
    "def break_doc_in_lines(text, nb_words_per_line=18):\n",
    "    \"\"\"Breaks document in lines of a fixed number of words for visualization purposes.\n",
    "    \n",
    "    Parameters\n",
    "    ----------\n",
    "    text\n",
    "        String to break in line\n",
    "    nb_words_per_line\n",
    "        number of words for each line\n",
    "    \n",
    "    Returns\n",
    "    -------\n",
    "    String with line breakers\n",
    "    \"\"\"\n",
    "    text_l = text.split(' ')\n",
    "    text_conc = []\n",
    "    nb_lines = np.floor(len(text_l) / nb_words_per_line).astype(int) + 1\n",
    "    for i in range(nb_lines):\n",
    "        tl = text_l[i * nb_words_per_line: (i + 1) * nb_words_per_line]\n",
    "        text_conc.append(' '.join(tl))\n",
    "    text = '\\n'.join(text_conc)\n",
    "    \n",
    "    return text"
   ]
  },
  {
   "cell_type": "markdown",
   "id": "7a1c2fe1",
   "metadata": {},
   "source": [
    "## Load data"
   ]
  },
  {
   "cell_type": "markdown",
   "id": "8831fd4f",
   "metadata": {},
   "source": [
    "Loading and preparing the 20 newsgroups dataset."
   ]
  },
  {
   "cell_type": "markdown",
   "id": "437b8c1e",
   "metadata": {},
   "source": [
    "<div class=\"alert alert-warning\">\n",
    "Warning: \n",
    "    \n",
    "    The cell below will load the 20 news groups dataset. This might require a considerable amount of memory.\n",
    "</div>"
   ]
  },
  {
   "cell_type": "code",
   "execution_count": 4,
   "id": "467c838c",
   "metadata": {},
   "outputs": [
    {
     "name": "stdout",
     "output_type": "stream",
     "text": [
      "Loading 20 news groups dataset\n",
      "Cleaning text\n"
     ]
    },
    {
     "name": "stderr",
     "output_type": "stream",
     "text": [
      "The default value of regex will change from True to False in a future version.\n"
     ]
    },
    {
     "name": "stdout",
     "output_type": "stream",
     "text": [
      "\n",
      "\u001b[31mSample document before cleaning\u001b[0m\n",
      "\n",
      "So its an automatic? Don't know if US spec=CDN spec. for Maximas.\n",
      "\n",
      "\n",
      "If it is the first set of brake pads on front, then this is fine. My car\n",
      "eats a set every 15k miles or so. The fact that he is replacing the\n",
      "muffler too is also ok.\n",
      "\n",
      "\n",
      "The mileage is fairly low - but typical fwd stuff is CV joints. Check\n",
      "the maintenance records with the manufacturers requirements for valve\n",
      "adjustments, timing belt changes and so on.\n",
      "\n",
      "The 60k mile service is often expensive, so make sure he has done everything.\n",
      "\n",
      "\n",
      "Well, this is one of the commonly cited methods for identifying a\n",
      "car with highway miles. \n",
      "Might check the gas pedal wear too. Ask him how many sets of tires he\n",
      "has been through. A highway car might have squeezed by on 2 sets,\n",
      "a hard driven car 6-10 sets.\n",
      "\n",
      "\n",
      "\n",
      "Well, the Maxima should be pretty reliable - but if its out of warranty\n",
      "you should get it checked out by someone knowledgeable first. Stuff\n",
      "for Japanese cars can be expensive.\n",
      "\n",
      "\n",
      "1995 model year, I believe. \n",
      "\n",
      "\u001b[31mSample document after cleaning\u001b[0m\n",
      "So its an automatic? Don't know if US spec=CDN spec. for Maximas. If it is the first set\n",
      "of brake pads on front, then this is fine. My car eats a set every 15k miles or\n",
      "so. The fact that he is replacing the muffler too is also ok. The mileage is fairly low\n",
      "- but typical fwd stuff is CV joints. Check the maintenance records with the manufacturers requirements for valve\n",
      "adjustments, timing belt changes and so on. The 60k mile service is often expensive, so make sure he\n",
      "has done everything. Well, this is one of the commonly cited methods for identifying a car with highway\n",
      "miles. Might check the gas pedal wear too. Ask him how many sets of tires he has been\n",
      "through. A highway car might have squeezed by on 2 sets, a hard driven car 6-10 sets. Well,\n",
      "the Maxima should be pretty reliable - but if its out of warranty you should get it checked\n",
      "out by someone knowledgeable first. Stuff for Japanese cars can be expensive. 1995 model year, I believe.\n",
      "\n",
      "Splitting train - test\n",
      "X_train shape: (14604,) - y_train shape: (14604, 20)\n",
      "X_test shape: (3652,) - y_test shape: (3652, 20)\n"
     ]
    }
   ],
   "source": [
    "example_idx = 4\n",
    "\n",
    "print(\"Loading 20 news groups dataset\")\n",
    "data = fetch_20newsgroups(shuffle=True, random_state=1, subset='train',\n",
    "                          remove=('headers', 'footers', 'quotes'),\n",
    "                          return_X_y=False)\n",
    "X, y = np.asarray(data.data), data.target\n",
    "target_names = data.target_names\n",
    "df = pd.DataFrame({'text': X, 'labels': y})\n",
    "\n",
    "print(\"Cleaning text\")\n",
    "df['text_cleaned'] = df['text'].str.replace('\\s+',' ')\n",
    "df['text_cleaned'] = df['text_cleaned'].str.strip()\n",
    "df['text_cleaned'] = df['text_cleaned'].str.slice(0,131072)\n",
    "df = df.replace('', np.NaN).dropna()\n",
    "df = df.drop_duplicates(subset='text_cleaned')\n",
    "print('')\n",
    "\n",
    "print(colored(\"Sample document before cleaning\", 'red'))\n",
    "print(f\"{df['text'][example_idx]}\")\n",
    "print('')\n",
    "print(colored(\"Sample document after cleaning\", 'red'))\n",
    "print(break_doc_in_lines(f\"{df['text_cleaned'][example_idx]}\"))\n",
    "print('')\n",
    "\n",
    "print(\"Splitting train - test\")\n",
    "df_train, df_test = train_test_split(df, test_size=0.2)\n",
    "X_train, y_train = df_train['text_cleaned'].values, df_train['labels'].values\n",
    "X_test, y_test = df_test['text_cleaned'].values, df_test['labels'].values\n",
    "y_train, y_test = to_categorical(y_train, num_classes=20), to_categorical(y_test, num_classes=20)\n",
    "print(f\"X_train shape: {X_train.shape} - y_train shape: {y_train.shape}\")\n",
    "print(f\"X_test shape: {X_test.shape} - y_test shape: {y_test.shape}\")"
   ]
  },
  {
   "cell_type": "markdown",
   "id": "b5a9d6dc",
   "metadata": {},
   "source": [
    "## Define and train model"
   ]
  },
  {
   "cell_type": "markdown",
   "id": "6efe2a5f",
   "metadata": {},
   "source": [
    "We define and train a `pytorch` classifier using sentence embeddings as inputs."
   ]
  },
  {
   "cell_type": "markdown",
   "id": "abdd5d35",
   "metadata": {},
   "source": [
    "### Define model"
   ]
  },
  {
   "cell_type": "code",
   "execution_count": 5,
   "id": "d91fae48",
   "metadata": {},
   "outputs": [],
   "source": [
    "class EmbeddingModel:\n",
    "    \"\"\"Pre-trained sentence transformer wrapper.\n",
    "    \"\"\"\n",
    "    def __init__(\n",
    "        self,\n",
    "        model_name: str = 'paraphrase-MiniLM-L6-v2',  # https://www.sbert.net/docs/pretrained_models.html\n",
    "        max_seq_length: int = 200,\n",
    "        batch_size: int = 32,\n",
    "        device: torch.device = None\n",
    "    ) -> None:\n",
    "        if not isinstance(device, torch.device):\n",
    "            device = torch.device('cuda' if torch.cuda.is_available() else 'cpu')\n",
    "        self.encode_text = SentenceTransformer(model_name).to(device)\n",
    "        self.encode_text.max_seq_length = max_seq_length\n",
    "        self.batch_size = batch_size\n",
    "    \n",
    "    def __call__(self, x: np.ndarray) -> np.ndarray:\n",
    "        return self.encode_text.encode(x, \n",
    "                                       convert_to_numpy=True, \n",
    "                                       batch_size=self.batch_size,\n",
    "                                       show_progress_bar=False)\n",
    "\n",
    "class Classifier(nn.Module):\n",
    "    \"\"\"FFNN classifier with pretrained sentence embeddings inputs.\n",
    "    \"\"\"\n",
    "    def __init__(\n",
    "        self, \n",
    "        n_classes= 20\n",
    "    ) -> None:\n",
    "        \"\"\" Text classification model from sentence embeddings. \"\"\"\n",
    "        super().__init__()\n",
    "        self.head = nn.Sequential(nn.Linear(384, 256), \n",
    "                                  nn.LeakyReLU(.1), \n",
    "                                  nn.Dropout(.5), \n",
    "                                  nn.Linear(256, n_classes))\n",
    "        \n",
    "    def forward(self, sentence_embeddings) -> torch.Tensor:\n",
    "        return self.head(sentence_embeddings)"
   ]
  },
  {
   "cell_type": "code",
   "execution_count": 6,
   "id": "7dbe859b",
   "metadata": {},
   "outputs": [],
   "source": [
    "device = torch.device('cuda' if torch.cuda.is_available() else 'cpu') "
   ]
  },
  {
   "cell_type": "markdown",
   "id": "9136a551",
   "metadata": {},
   "source": [
    "### Get sentence embeddings and define dataloaders"
   ]
  },
  {
   "cell_type": "code",
   "execution_count": 7,
   "id": "04ae1215",
   "metadata": {},
   "outputs": [
    {
     "name": "stdout",
     "output_type": "stream",
     "text": [
      "Getting train embeddings\n",
      "Getting test embeddings\n"
     ]
    }
   ],
   "source": [
    "embedding_model = EmbeddingModel(device=device)\n",
    "\n",
    "print('Getting train embeddings')    \n",
    "embeddings_train = embedding_model(X_train)\n",
    "train_loader = DataLoader(TorchDataset(torch.Tensor(embeddings_train).to(device), \n",
    "                                       torch.Tensor(y_train).to(device)), \n",
    "                          batch_size=32, \n",
    "                          shuffle=True)\n",
    "\n",
    "print('Getting test embeddings')  \n",
    "embeddings_test = embedding_model(X_test)\n",
    "test_loader = DataLoader(TorchDataset(torch.Tensor(embeddings_test).to(device), \n",
    "                                      torch.Tensor(y_test).to(device)), \n",
    "                         batch_size=32, \n",
    "                         shuffle=False)"
   ]
  },
  {
   "cell_type": "markdown",
   "id": "921d8122",
   "metadata": {},
   "source": [
    "### Train model"
   ]
  },
  {
   "cell_type": "code",
   "execution_count": 8,
   "id": "47f431a1",
   "metadata": {
    "scrolled": true
   },
   "outputs": [
    {
     "name": "stdout",
     "output_type": "stream",
     "text": [
      "Training classifier\n"
     ]
    },
    {
     "name": "stderr",
     "output_type": "stream",
     "text": [
      "100%|████████████████| 457/457 [00:00<00:00, 972.33it/s]\n",
      "100%|███████████████| 457/457 [00:00<00:00, 1189.45it/s]\n",
      "100%|███████████████| 457/457 [00:00<00:00, 1195.13it/s]\n"
     ]
    }
   ],
   "source": [
    "epochs = 3\n",
    "\n",
    "# initialize classifier\n",
    "model = Classifier().to(device)\n",
    "print('Training classifier')\n",
    "loss_fn = nn.CrossEntropyLoss()\n",
    "optimizer = torch.optim.Adam(model.parameters(), lr=1e-3)\n",
    "for epoch in range(epochs):\n",
    "    for x, y in tqdm(train_loader):\n",
    "        y_hat = model(x)\n",
    "        optimizer.zero_grad()\n",
    "        loss = loss_fn(y_hat, y)\n",
    "        loss.backward()\n",
    "        optimizer.step()"
   ]
  },
  {
   "cell_type": "markdown",
   "id": "0dc01171",
   "metadata": {},
   "source": [
    "### Evaluate model"
   ]
  },
  {
   "cell_type": "markdown",
   "id": "788f76d7",
   "metadata": {},
   "source": [
    "Evaluating the model on train and test set. Since the dataset is well balanced, we only consider accuracy as evaluation metric."
   ]
  },
  {
   "cell_type": "code",
   "execution_count": 9,
   "id": "981e503e",
   "metadata": {},
   "outputs": [
    {
     "name": "stdout",
     "output_type": "stream",
     "text": [
      "Train set evaluation\n",
      "Accuracy: 0.720\n",
      "Test set evaluation\n",
      "Accuracy: 0.664\n"
     ]
    }
   ],
   "source": [
    "def eval_model(model, loader):\n",
    "    model.eval()\n",
    "    logits, labels = [], []\n",
    "    with torch.no_grad():\n",
    "        for x, y in loader:\n",
    "            y_hat = model(x)\n",
    "            logits += [y_hat.cpu().numpy()]\n",
    "            labels += [y.cpu().numpy()]\n",
    "    logits = np.concatenate(logits, 0)\n",
    "    preds = np.argmax(logits, 1)\n",
    "    labels = np.concatenate(labels, 0)\n",
    "    accuracy = (preds == labels.argmax(axis=1)).mean()\n",
    "    print(f'Accuracy: {accuracy:.3f}')\n",
    "    \n",
    "print('Train set evaluation')\n",
    "eval_model(model, train_loader)\n",
    "print('Test set evaluation')\n",
    "eval_model(model, test_loader)"
   ]
  },
  {
   "cell_type": "markdown",
   "id": "42b937b6",
   "metadata": {},
   "source": [
    "## Find similar instances"
   ]
  },
  {
   "cell_type": "markdown",
   "id": "2f1d727b",
   "metadata": {},
   "source": [
    "Selecting a reference set of 1000 random samples from the training set. The `GradientSimilarity` explainer will find the most similar instances among those. This downsampling step is performed in order to speed up the `fit` step."
   ]
  },
  {
   "cell_type": "code",
   "execution_count": 10,
   "id": "901d4b9c",
   "metadata": {},
   "outputs": [],
   "source": [
    "idxs_ref = np.random.choice(len(X_train), 1000, replace=False)\n",
    "X_ref = X_train[idxs_ref]\n",
    "embeddings_ref = embeddings_train[idxs_ref]\n",
    "y_ref = y_train[idxs_ref]"
   ]
  },
  {
   "cell_type": "markdown",
   "id": "4c2221b1",
   "metadata": {},
   "source": [
    "Initializing a `GradientSimilarity` explainer instance."
   ]
  },
  {
   "cell_type": "code",
   "execution_count": 11,
   "id": "32ed6fb7",
   "metadata": {},
   "outputs": [],
   "source": [
    "gsm = GradientSimilarity(model, \n",
    "                         loss_fn, \n",
    "                         precompute_grads=True, \n",
    "                         sim_fn='grad_cos', \n",
    "                         backend='pytorch', \n",
    "                         device=device)"
   ]
  },
  {
   "cell_type": "markdown",
   "id": "8477b40a",
   "metadata": {},
   "source": [
    "Fitting the explainer on the reference data."
   ]
  },
  {
   "cell_type": "code",
   "execution_count": 12,
   "id": "199d13db",
   "metadata": {},
   "outputs": [
    {
     "data": {
      "text/plain": [
       "GradientSimilarity(meta={\n",
       "  'name': 'GradientSimilarity',\n",
       "  'type': ['whitebox'],\n",
       "  'explanations': ['local'],\n",
       "  'params': {\n",
       "              'sim_fn_name': 'grad_cos',\n",
       "              'store_grads': True,\n",
       "              'backend_name': 'pytorch',\n",
       "              'task_name': 'classification'}\n",
       "            ,\n",
       "  'version': '0.6.6dev'}\n",
       ")"
      ]
     },
     "execution_count": 12,
     "metadata": {},
     "output_type": "execute_result"
    }
   ],
   "source": [
    "gsm.fit(embeddings_ref, y_ref)"
   ]
  },
  {
   "cell_type": "markdown",
   "id": "809d356c",
   "metadata": {},
   "source": [
    "Selecting 3 random instances from the test set. We only select documents with less than 1000 characters for visualization purposes. "
   ]
  },
  {
   "cell_type": "code",
   "execution_count": 13,
   "id": "81e73d21",
   "metadata": {},
   "outputs": [],
   "source": [
    "idxs_samples = np.where(np.array([len(x) for x in X_test]) <= 1000)[0]\n",
    "idxs_samples = np.random.choice(idxs_samples, 3, replace=False)\n",
    "\n",
    "X_sample, embeddings_sample, y_sample = X_test[idxs_samples], embeddings_test[idxs_samples], y_test[idxs_samples]"
   ]
  },
  {
   "cell_type": "markdown",
   "id": "13a53067",
   "metadata": {},
   "source": [
    "Getting predictions and explanations for each of the 5 test samples."
   ]
  },
  {
   "cell_type": "code",
   "execution_count": 14,
   "id": "fb65a810",
   "metadata": {},
   "outputs": [],
   "source": [
    "preds = model(torch.Tensor(embeddings_sample).to(device)).detach().cpu().numpy().argmax(axis=1)\n",
    "expls = gsm.explain(embeddings_sample, y_sample)"
   ]
  },
  {
   "cell_type": "markdown",
   "id": "56f940ef",
   "metadata": {},
   "source": [
    "## Visualizations "
   ]
  },
  {
   "cell_type": "markdown",
   "id": "5aca9cc0",
   "metadata": {},
   "source": [
    "Building a dictionary for each sample for visualization purposes. \n",
    "Each dictionary contains:\n",
    "\n",
    "* The original text document `x` (not the embedding representation).\n",
    "* The corresponding label `y`.\n",
    "* The corresponding model's prediction `pred`.\n",
    "* The reference instances ordered by similarity `X_sim`.\n",
    "* The corresponding reference labels ordered by similarity `y_sim`.\n",
    "* The corresponding model's predictions for the reference set `preds_sim`."
   ]
  },
  {
   "cell_type": "code",
   "execution_count": 15,
   "id": "9636082a",
   "metadata": {},
   "outputs": [],
   "source": [
    "ds = []\n",
    "for j in range(len(embeddings_sample)):\n",
    "    y_sim = y_ref[expls.data['ordered_indices'][j]].argmax(axis=1)\n",
    "    X_sim = X_ref[expls.data['ordered_indices'][j]]\n",
    "    sim_embedding = embeddings_ref[expls.data['ordered_indices'][j]]\n",
    "    preds_sim = model(torch.Tensor(sim_embedding).to(device)).detach().cpu().numpy().argmax(axis=1)\n",
    "\n",
    "    d = {'x': X_sample[j], \n",
    "         'y': y_sample[j].argmax(), \n",
    "         'pred':preds[j],\n",
    "         'X_sim': X_sim,\n",
    "         'y_sim': y_sim, \n",
    "         'preds_sim': preds_sim}\n",
    "    ds.append(d)"
   ]
  },
  {
   "cell_type": "markdown",
   "id": "a5e9dc99",
   "metadata": {},
   "source": [
    "### Most similar instances"
   ]
  },
  {
   "cell_type": "markdown",
   "id": "177d2506",
   "metadata": {},
   "source": [
    "Showing the 3 most similar instances for each of the test instances."
   ]
  },
  {
   "cell_type": "code",
   "execution_count": 16,
   "id": "4c8c368e",
   "metadata": {
    "scrolled": false
   },
   "outputs": [
    {
     "name": "stdout",
     "output_type": "stream",
     "text": [
      "\u001b[34mSample nb 0\u001b[0m\n",
      "\u001b[34m===========\u001b[0m\n",
      "\n",
      "\u001b[31mOriginal instance - \u001b[0m \u001b[31mLabel: misc.forsale - \u001b[0m \u001b[31mPrediction: misc.forsale\u001b[0m\n",
      "One pair of kg1's in Oak finish with black grilles. Includes original packaging. $200 + shipping Firm.\n",
      "\n",
      "\u001b[31m1st most similar instance - \u001b[0m \u001b[31mLabel: misc.forsale - \u001b[0m \u001b[31mPrediction: misc.forsale\u001b[0m\n",
      "Kirsch Pull down Window Shades - White, Light Filtering - 73.25\" Wide, 72\" High, can be cut to\n",
      "width - Brand new, unopened - \"Best Quality\", Vinyl Coated Cotton - Mounting Brackets included - $35 (Bought\n",
      "at $60 at J.C.Penney)\n",
      "\n",
      "\u001b[31m2nd most similar instance - \u001b[0m \u001b[31mLabel: misc.forsale - \u001b[0m \u001b[31mPrediction: misc.forsale\u001b[0m\n",
      "Hey, collection. I am interested in buying any in good condition. I am particularly interested in any of\n",
      "the older, exotic models (eg five ] transformers into one etc... I am looking at paying around $20-$40\n",
      "depending upon the model, size and original cost etc. I will also pay airmail postage and packing. I\n",
      "am also happy to buy any old sci-fi related toys eg robots, rocketships, micronauts etc... There is only\n",
      "one catch. I live in New Zealand so you have to be willing to post the items there.\n",
      "I hop that someone can help me out. Cheers\n",
      "\n",
      "\u001b[31m3rd most similar instance - \u001b[0m \u001b[31mLabel: misc.forsale - \u001b[0m \u001b[31mPrediction: misc.forsale\u001b[0m\n",
      "HP 9872B 4 pen plotter. $150 Fujistu M2451E 130 meg SCSI tape drive $150 Sony 40 meg SCSI\n",
      "disk drive (sticks once in a while) $50 Dead Maxtor XT4380E 338 meg ESDI drive $100 Dead Miniscribe\n",
      "20 meg SCSI drive $10 Adaptac SCSI to ST-412 interface board $20 Daughter boards from tape drives ?QIC-02\n",
      "- QIC-36? $20 Twist Terms (VT100 terms that the head twists on for 80x25 or 80x72) $150 14\"\n",
      "Analog RGB color monitor (15.7 Khz works nice with amiga's) $100 Spool with 90+ feet of 50 conductor\n",
      "ribbon cable $75 All prices are or best offer. Prices do not include UPS shipping. All items working\n",
      "except those stated as Dead.\n",
      "\n",
      "\u001b[34mSample nb 1\u001b[0m\n",
      "\u001b[34m===========\u001b[0m\n",
      "\n",
      "\u001b[31mOriginal instance - \u001b[0m \u001b[31mLabel: sci.crypt - \u001b[0m \u001b[31mPrediction: sci.crypt\u001b[0m\n",
      "I am looking for some Public Domain (and exportable) code for encryption. Nothing elaborate, just something that will\n",
      "satisfy a marketing need :-) Oh yes, UNIX platform.\n",
      "\n",
      "\u001b[31m1st most similar instance - \u001b[0m \u001b[31mLabel: sci.crypt - \u001b[0m \u001b[31mPrediction: sci.crypt\u001b[0m\n",
      "Hmmmm. I think, with really large keyspaces like this, you need to alter the strategy discussed for DES.\n",
      "Attempt decryption of several blocks, and check the disctribution of the contents. I don't think it's at all\n",
      "feasible to keep 2**80 encryptions of a known plaintext block on *any* amount of tape or CD-ROM. And\n",
      "certainly not 2**128 such encrypted blocks. (Anyone know a cheap way of converting every atom in the solar\n",
      "system into a one bit storage device?) Actually, a keysearch of this kind shouldn't be much worse than\n",
      "the simpler kind in terms of speed. It's just that you have to do it over for *every*\n",
      "encrypted message. Dumb question: Has anyone ever done any serious research on how many legitimate ASCII-encoded 8-byte blocks\n",
      "there are that could be part of an english sentence? For attacking DES in ECB mode, it seems\n",
      "like a dictionary of this kind might be pretty valuable....\n",
      "\n",
      "\u001b[31m2nd most similar instance - \u001b[0m \u001b[31mLabel: sci.crypt - \u001b[0m \u001b[31mPrediction: sci.crypt\u001b[0m\n",
      "As am I If \"high quality secure NSA classified technology\" means handing my key over to whomever, I'll\n",
      "take PGP any day. Right now they are billing it as voluntary, i.e. bend over, here it comes.\n",
      "As soon as enough Wiretap chip based units are out there, how much easier do you think it\n",
      "will be to redefine \"on your own\" to mean write it yourself and don't even THINK about distributing\n",
      "it...? Get honest, no one is going to buy this trash if they KNOW it's compromised already, and\n",
      "less will buy it if the algorithm is not disclosed. The NSA knows that making this stuff available\n",
      "to the public means handing it to whatever foreign powers are interested in the process. Since when has\n",
      "export control stopped anyone (especially software wise) Ask yourself carefully if \" high quality secure NSA classified technology\n",
      "\" is something they are going to hand out. Not unless you can drive a NSA van through\n",
      "the holes. uni (Dark)\n",
      "\n",
      "\u001b[31m3rd most similar instance - \u001b[0m \u001b[31mLabel: sci.crypt - \u001b[0m \u001b[31mPrediction: sci.crypt\u001b[0m\n",
      "You're reading far too much into this (aside from the obvious fact that you shouldn't hold anybody to\n",
      "what they wrote in a 10 year old book in a rapidly changing field like this.) Quite simply\n",
      "she says that the security should not DEPEND on the secrecy of the algorithm. A secret algorithm can\n",
      "still be secure, after all, we just don't know it. Only our level of trust is affected, not\n",
      "the security of the system. The algorithm *could* be RSA for all we know, which we believe to\n",
      "be secure. They have a much better reason to classify the algorithm than to protect its security. They\n",
      "want to protect its market share. If they publish the algorithm, then shortly manufacturers would make chips that\n",
      "implement the algorithm and standard but do not use a key stored in escrow. And of course, everybody\n",
      "would buy them. The whole push of this chip is that by establishing a standard that you can\n",
      "only use if you follow their rules, they get us to follow their rules without enacting new laws\n",
      "that we would fight tooth and nail. Quite simply, with Clipper established, it would be much harder for\n",
      "another encryption maker to define a new standard, to make phones that can't talk to the leading phone\n",
      "companies. The result is tappable cryptography without laws forbidding other kinds, for 99% of the populace. To get\n",
      "untappable crypto, you would have to build a special phone that runs on top of this system, and\n",
      "everybody you talk to would have to have an indentical one. That's the chicken and egg of crypto.\n",
      "The government is using its very special ability to solve chicken and egg problems of new technologies to\n",
      "control this one in a way they like. It's almost admirably clever. When the EFF started, I posed\n",
      "the question here \"What are the police going to do when they wake up and discover they can't\n",
      "wiretap?\" and nobody here had an answer (or even thought it was much of a question) Then came\n",
      "the backdoor and Digital Telephony bills, which we fought. Now we have their real answer, the cleverest of\n",
      "all.\n",
      "\n",
      "\u001b[34mSample nb 2\u001b[0m\n",
      "\u001b[34m===========\u001b[0m\n",
      "\n",
      "\u001b[31mOriginal instance - \u001b[0m \u001b[31mLabel: comp.graphics - \u001b[0m \u001b[31mPrediction: comp.graphics\u001b[0m\n",
      "Sorry if this is a FAQ but : \"Where can I get a 286 (16 bit) version of\n",
      "POV-Ray ? \" Any help would be greatly appreciated. I need the 286 version since Turbo Pascal won't\n",
      "let me run a 32 bit program from within my program. Any info on this would also be\n",
      "a great help. Thanks, Byron. bkidd@esk.compserv.utas.edu.au B.Kidd@cam.compserv.utas.edu.au --\n",
      "\n",
      "\u001b[31m1st most similar instance - \u001b[0m \u001b[31mLabel: comp.graphics - \u001b[0m \u001b[31mPrediction: comp.graphics\u001b[0m\n",
      "FOR IMMEDIATE RELEASE Editorial Contact: Single Source Marketing: Myra Manahan (714) 545-1338 Genoa Systems: Joseph Brunoli (408) 432-9090\n",
      "Neil Roehm (408) 432-9090/Technical Genoa Presents High Performance Video Graphics Accelerator SAN JOSE, Calif USA -- Genoa Systems\n",
      "Corporation announces WINDOWSVGA 24, a True Color 24-bit graphics accelerator card that delivers up to 16.8 million colors\n",
      "at speeds faster than the competition. Plus it offers a full range of resolutions, high refresh rates as\n",
      "well as unique proprietary performance features. The card is available in both 16-bit ISA bus and 32-bit VESA\n",
      "Local bus versions (models 8500 AND 8500VL). With 1MB DRAM on board, the WINDOWSVGA 24 card offers maximum\n",
      "resolution up to 1,280 x 1,024 and supports a refresh rate of 72Hz at 800 x 600 and\n",
      "resolution up to 1,024 x 768 non-interlaced. Both models provide performance many times greater than standard SVGA boards,\n",
      "yet conform to all current video standards. WINDOWSVGA 24 features Genoa's FlickerFree(tm) technology, which eliminates screen flash and\n",
      "flicker to make viewing much more comfortable. the cards also come with Safescan(tm), a utility developed by Genoa\n",
      "to eliminate the black border around the screen and thereby provide 100-percent screen use for overscanning monitors. WINDOWSVGA\n",
      "model 8500VL takes full advantage of the speed offered by the new VESA Local bus technology. Most VL\n",
      "bus cards will only handle data transfers up to 33MHz, but the 8500VL will transfer data at the\n",
      "full speed of the CPU, up to 50MHz. Genoa is also offering this card in the \"TurboBahn\" combination\n",
      "packaged with their TURBOEXPRESS 486VL motherboard. Built around the Cirrus Logic GD-5426 GUI accelerator, WINDOWSVGA 24 offers the\n",
      "user an exceptional price/performance value. Genoa's advanced proprietary drivers act to \"turbocharge\" the chip, thereby providing an affordable\n",
      "accelerator card with power and performance that surpass many of the more highly priced chip cards. The Genoa\n",
      "user will enjoy optimal speed and reliability for such programs as Windows, AutoCAD, AutoShade, 3D Studio, OS/2, OrCAD\n",
      "and more. Driver updates and product bulletins are available on Genoa's BBS at (408) 943-1231. Genoa Systems manufactures\n",
      "and markets an extensive line of graphics adapters, motherboards, audio and multimedia cards for IBM-compatible personal computers. All\n",
      "products come with a two year limited warranty on parts and labor. Genoa products are currently distributed worldwide\n",
      "through authorized distributors, resellers, VARs and systems integrators. For more information contact Joe Brunoli, Marketing Manager, Genoa Systems\n",
      "at 75 E. Trimble Road, San Jose, Calif. 95131; Tel: (408) 432-9090 or (800) 934-3662; Fax: (408) 434-0997.\n",
      "\n",
      "\n",
      "\u001b[31m2nd most similar instance - \u001b[0m \u001b[31mLabel: comp.graphics - \u001b[0m \u001b[31mPrediction: comp.graphics\u001b[0m\n",
      "Well, the temp file thing creates an obvious problem: it is impossible to use cview for viewing CD-ROM\n",
      "based picture collections. And it is the ONLY non- windows viewer that works properly with my Cirrus-based 24\n",
      "bit VGA.\n",
      "\n",
      "\u001b[31m3rd most similar instance - \u001b[0m \u001b[31mLabel: comp.graphics - \u001b[0m \u001b[31mPrediction: comp.graphics\u001b[0m\n",
      "If you are looking for viewer try VPIC60\n",
      "\n"
     ]
    }
   ],
   "source": [
    "for sample_nb in range(3):\n",
    "    title = f\"Sample nb {sample_nb}\"\n",
    "    print(colored(title, 'blue'))\n",
    "    print(colored(f\"{len(title) * '='}\", 'blue'))\n",
    "    print('')\n",
    "    \n",
    "    print(colored(\"Original instance - \", 'red'), \n",
    "          colored(f\"Label: {target_names[ds[sample_nb]['y']]} - \", 'red'), \n",
    "          colored(f\"Prediction: {target_names[ds[sample_nb]['pred']]}\", 'red'))\n",
    "    print(break_doc_in_lines(f\"{ds[sample_nb]['x']}\"))\n",
    "    print('')\n",
    "    \n",
    "    for i in range(3):\n",
    "        print(colored(f\"{i+1}{append_int(i+1)} most similar instance - \", 'red'), \n",
    "              colored(f\"Label: {target_names[ds[sample_nb]['y_sim'][i]]} - \", 'red'), \n",
    "              colored(f\"Prediction: {target_names[ds[sample_nb]['preds_sim'][i]]}\", 'red'))\n",
    "        print(break_doc_in_lines(f\"{ds[sample_nb]['X_sim'][i]}\"))\n",
    "        print('')"
   ]
  },
  {
   "cell_type": "markdown",
   "id": "f3f4cc21",
   "metadata": {},
   "source": [
    "### Most similar labels distributions "
   ]
  },
  {
   "cell_type": "markdown",
   "id": "70521e8c",
   "metadata": {},
   "source": [
    "Showing the average similarity scores for each group of instances in the reference set belonging to the same true class and to the same predicted class. "
   ]
  },
  {
   "cell_type": "code",
   "execution_count": 17,
   "id": "829c9688",
   "metadata": {},
   "outputs": [],
   "source": [
    "def plot_distributions(ds, expls, target_names, figsize=(20, 5)):\n",
    "\n",
    "    for i in range(len(ds)):\n",
    "        fig, axes = plt.subplots(1, 2, figsize=figsize, sharex=False)\n",
    "        d = ds[i]\n",
    "\n",
    "        y_sim = d['y_sim']\n",
    "        preds_sim = d['preds_sim']\n",
    "        y = d['y']\n",
    "        pred = d['pred']\n",
    "        df_ditribution = pd.DataFrame({'y_sim': y_sim, \n",
    "                                       'preds_sim': preds_sim, \n",
    "                                       'scores': expls.data['scores'][i]})\n",
    "        title = f\"Sample nb {i}\"\n",
    "        print(colored(title, 'blue'))\n",
    "        print(colored(f\"{len(title) * '='}\", 'blue'))\n",
    "        print('')\n",
    "\n",
    "        print(colored(\"Original instance\", 'red'))\n",
    "        print(colored(f\"Label: section {d['y']}, {target_names[d['y']]}\", 'red')) \n",
    "        print(colored(f\"Prediction: section {d['pred']}, {target_names[d['pred']]}\", 'red'))\n",
    "        print(break_doc_in_lines(f\"{d['x']}\"))\n",
    "        \n",
    "        df_y = df_ditribution.groupby('y_sim')['scores'].mean()\n",
    "        df_y.index = target_names\n",
    "        df_y.sort_values(ascending=True).plot(kind='barh', ax=axes[0])\n",
    "        axes[0].set_title(\"Averaged scores for each true class in reference set \\n\")\n",
    "        \n",
    "        df_preds = df_ditribution.groupby('preds_sim')['scores'].mean()\n",
    "        df_preds.index = target_names\n",
    "        df_preds.sort_values(ascending=True).plot(kind='barh', ax=axes[1])\n",
    "        axes[1].set_title(\"Averaged scores for each predicted class in reference set \\n\")\n",
    "        fig.tight_layout()\n",
    "        plt.show()"
   ]
  },
  {
   "cell_type": "code",
   "execution_count": 19,
   "id": "8dcd9629",
   "metadata": {
    "scrolled": false
   },
   "outputs": [
    {
     "name": "stdout",
     "output_type": "stream",
     "text": [
      "\u001b[34mSample nb 0\u001b[0m\n",
      "\u001b[34m===========\u001b[0m\n",
      "\n",
      "\u001b[31mOriginal instance\u001b[0m\n",
      "\u001b[31mLabel: section 6, misc.forsale\u001b[0m\n",
      "\u001b[31mPrediction: section 6, misc.forsale\u001b[0m\n",
      "One pair of kg1's in Oak finish with black grilles. Includes original packaging. $200 + shipping Firm.\n"
     ]
    },
    {
     "data": {
      "image/png": "[encoded data removed]",
      "text/plain": [
       "<Figure size 1440x360 with 2 Axes>"
      ]
     },
     "metadata": {
      "needs_background": "light"
     },
     "output_type": "display_data"
    },
    {
     "name": "stdout",
     "output_type": "stream",
     "text": [
      "\u001b[34mSample nb 1\u001b[0m\n",
      "\u001b[34m===========\u001b[0m\n",
      "\n",
      "\u001b[31mOriginal instance\u001b[0m\n",
      "\u001b[31mLabel: section 11, sci.crypt\u001b[0m\n",
      "\u001b[31mPrediction: section 11, sci.crypt\u001b[0m\n",
      "I am looking for some Public Domain (and exportable) code for encryption. Nothing elaborate, just something that will\n",
      "satisfy a marketing need :-) Oh yes, UNIX platform.\n"
     ]
    },
    {
     "data": {
      "image/png": "[encoded data removed]",
      "text/plain": [
       "<Figure size 1440x360 with 2 Axes>"
      ]
     },
     "metadata": {
      "needs_background": "light"
     },
     "output_type": "display_data"
    },
    {
     "name": "stdout",
     "output_type": "stream",
     "text": [
      "\u001b[34mSample nb 2\u001b[0m\n",
      "\u001b[34m===========\u001b[0m\n",
      "\n",
      "\u001b[31mOriginal instance\u001b[0m\n",
      "\u001b[31mLabel: section 1, comp.graphics\u001b[0m\n",
      "\u001b[31mPrediction: section 1, comp.graphics\u001b[0m\n",
      "Sorry if this is a FAQ but : \"Where can I get a 286 (16 bit) version of\n",
      "POV-Ray ? \" Any help would be greatly appreciated. I need the 286 version since Turbo Pascal won't\n",
      "let me run a 32 bit program from within my program. Any info on this would also be\n",
      "a great help. Thanks, Byron. bkidd@esk.compserv.utas.edu.au B.Kidd@cam.compserv.utas.edu.au --\n"
     ]
    },
    {
     "data": {
      "image/png": "[encoded data removed]",
      "text/plain": [
       "<Figure size 1440x360 with 2 Axes>"
      ]
     },
     "metadata": {
      "needs_background": "light"
     },
     "output_type": "display_data"
    }
   ],
   "source": [
    "plot_distributions(ds, expls, target_names)"
   ]
  },
  {
   "cell_type": "markdown",
   "id": "3ad76da8",
   "metadata": {},
   "source": [
    "The plots show how the instances belonging to the same class (and the instances classified by the model as belonging to the same class) of the instance of interest  have on average higher similarity scores, as expected. "
   ]
  }
 ],
 "metadata": {
  "kernelspec": {
   "display_name": "Python 3",
   "language": "python",
   "name": "python3"
  },
  "language_info": {
   "codemirror_mode": {
    "name": "ipython",
    "version": 3
   },
   "file_extension": ".py",
   "mimetype": "text/x-python",
   "name": "python",
   "nbconvert_exporter": "python",
   "pygments_lexer": "ipython3",
   "version": "3.8.13"
  }
 },
 "nbformat": 4,
 "nbformat_minor": 5
}
