{
 "cells": [
  {
   "cell_type": "markdown",
   "metadata": {},
   "source": [
    "# Integrated gradients for Mnist"
   ]
  },
  {
   "cell_type": "markdown",
   "metadata": {},
   "source": [
    "In this notebook we apply the integrated gradients method to a convolutional network trained on the mnist dataset. \n",
    "\n",
    "A description of the method can be found [here](../doc/source/methods/IntegratedGradients.ipynb). Integrated gradients was originally proposed in [here](https://arxiv.org/abs/1703.01365)."
   ]
  },
  {
   "cell_type": "code",
   "execution_count": 1,
   "metadata": {},
   "outputs": [
    {
     "name": "stdout",
     "output_type": "stream",
     "text": [
      "TF version:  1.15.0\n",
      "Eager execution enabled:  True\n"
     ]
    }
   ],
   "source": [
    "import numpy as np\n",
    "import os\n",
    "import tensorflow as tf\n",
    "tf.compat.v1.enable_eager_execution()\n",
    "from tensorflow.keras.layers import Activation, Conv2D, Dense, Dropout\n",
    "from tensorflow.keras.layers import Flatten, Input, Reshape, MaxPooling2D\n",
    "from tensorflow.keras.models import Model\n",
    "from tensorflow.keras.utils import to_categorical\n",
    "from alibi.explainers import IntegratedGradients\n",
    "import matplotlib.pyplot as plt\n",
    "print('TF version: ', tf.__version__)\n",
    "print('Eager execution enabled: ', tf.executing_eagerly())"
   ]
  },
  {
   "cell_type": "code",
   "execution_count": 60,
   "metadata": {},
   "outputs": [],
   "source": [
    "def plot_attributions(model, data, labels, attrs, figsize=(20, 15)):\n",
    "    \n",
    "    ncols = 4\n",
    "    nrows = 3\n",
    "    fig, ax = plt.subplots(nrows=nrows, ncols=ncols, figsize=figsize)\n",
    "    \n",
    "    n_subplot = 1\n",
    "\n",
    "    for i in [0, 1, 9]:\n",
    "        X_i = data[i]\n",
    "        attrs_i = attrs[i]\n",
    "        attrs_plus_i = attrs_i.copy()\n",
    "        attrs_minus_i = -attrs_i.copy()\n",
    "        attrs_plus_i[attrs_plus_i < 0] = 0\n",
    "        attrs_minus_i[attrs_minus_i < 0] = 0\n",
    "        \n",
    "        label = labels[i]\n",
    "        pred = np.argmax(model(X_i.reshape((1, ) + X_i.shape)).numpy(), axis=1)\n",
    "        \n",
    "        # original image\n",
    "        plt.subplot(nrows, ncols, n_subplot)\n",
    "        if i == 0:\n",
    "            plt.title('Original image. \\n True label: persian cat. \\n Model prediction: {}'.format(pred[0]))\n",
    "        else:\n",
    "            plt.title('\\n Model prediction: {}'.format(pred))\n",
    "        \n",
    "        plt.imshow(np.squeeze(X_i), cmap='gray')\n",
    "        n_subplot += 1\n",
    "        \n",
    "        # all attributions\n",
    "        plt.subplot(nrows, ncols, n_subplot)\n",
    "        if i == 0:\n",
    "            plt.title('All Attributions')\n",
    "        plt.imshow(np.squeeze(attrs_i), cmap='gray')\n",
    "        n_subplot += 1\n",
    "\n",
    "        # positive attributions\n",
    "        plt.subplot(nrows, ncols, n_subplot)\n",
    "        if i == 0:\n",
    "            plt.title('Positive Attributions')\n",
    "        plt.imshow(np.squeeze(attrs_plus_i), cmap='gray')\n",
    "        n_subplot += 1\n",
    "\n",
    "        # negative attributions\n",
    "        plt.subplot(nrows, ncols, n_subplot)\n",
    "        if i == 0 :\n",
    "            plt.title('Negative Attributions')\n",
    "        plt.imshow(np.squeeze(attrs_minus_i), cmap='gray')\n",
    "        n_subplot += 1\n",
    "   \n",
    "    plt.show()"
   ]
  },
  {
   "cell_type": "markdown",
   "metadata": {},
   "source": [
    "## Load data"
   ]
  },
  {
   "cell_type": "markdown",
   "metadata": {},
   "source": [
    "Loading and preparing the mnist data set."
   ]
  },
  {
   "cell_type": "code",
   "execution_count": 61,
   "metadata": {},
   "outputs": [
    {
     "name": "stdout",
     "output_type": "stream",
     "text": [
      "(60000, 28, 28, 1) (60000, 10) (10000, 28, 28, 1) (10000, 10)\n"
     ]
    }
   ],
   "source": [
    "train, test = tf.keras.datasets.mnist.load_data()\n",
    "X_train, y_train = train\n",
    "X_test, y_test = test\n",
    "test_labels = y_test.copy()\n",
    "train_labels = y_train.copy()\n",
    "                         \n",
    "X_train = X_train.reshape(-1, 28, 28, 1).astype('float64') / 255\n",
    "X_test = X_test.reshape(-1, 28, 28, 1).astype('float64') / 255\n",
    "y_train = to_categorical(y_train, 10)\n",
    "y_test = to_categorical(y_test, 10)\n",
    "print(X_train.shape, y_train.shape, X_test.shape, y_test.shape)"
   ]
  },
  {
   "cell_type": "markdown",
   "metadata": {},
   "source": [
    "## Train model"
   ]
  },
  {
   "cell_type": "markdown",
   "metadata": {},
   "source": [
    "Training a convolutional neural network on the mnist dataset. The model include 2 convolutional layers and it reaches a test accuracy of 0.98. If `save_model = True`, a local folder `../model_mnist` will be created and the trained model will be saved in that folder. If the model was previously saved, it can be loaded by setting `load_mnist_model = True`."
   ]
  },
  {
   "cell_type": "code",
   "execution_count": 6,
   "metadata": {},
   "outputs": [],
   "source": [
    "load_mnist_model = False\n",
    "save_model = True"
   ]
  },
  {
   "cell_type": "code",
   "execution_count": 7,
   "metadata": {},
   "outputs": [
    {
     "name": "stdout",
     "output_type": "stream",
     "text": [
      "Train on 60000 samples, validate on 10000 samples\n",
      "Epoch 1/6\n",
      "60000/60000 [==============================] - 7s 121us/sample - loss: 0.5028 - acc: 0.8402 - val_loss: 0.1345 - val_acc: 0.9595\n",
      "Epoch 2/6\n",
      "60000/60000 [==============================] - 5s 82us/sample - loss: 0.1756 - acc: 0.9455 - val_loss: 0.0811 - val_acc: 0.9723\n",
      "Epoch 3/6\n",
      "60000/60000 [==============================] - 5s 82us/sample - loss: 0.1230 - acc: 0.9612 - val_loss: 0.0571 - val_acc: 0.9805\n",
      "Epoch 4/6\n",
      "60000/60000 [==============================] - 5s 83us/sample - loss: 0.1035 - acc: 0.9676 - val_loss: 0.0460 - val_acc: 0.9857\n",
      "Epoch 5/6\n",
      "60000/60000 [==============================] - 5s 83us/sample - loss: 0.0877 - acc: 0.9728 - val_loss: 0.0429 - val_acc: 0.9857\n",
      "Epoch 6/6\n",
      "60000/60000 [==============================] - 5s 82us/sample - loss: 0.0778 - acc: 0.9761 - val_loss: 0.0369 - val_acc: 0.9882\n"
     ]
    }
   ],
   "source": [
    "filepath = './model_mnist/'  # change to directory where model is downloaded\n",
    "if load_mnist_model:\n",
    "    model = tf.keras.models.load_model(os.path.join(filepath, 'model.h5'))\n",
    "else:\n",
    "    # define model\n",
    "    inputs = Input(shape=(X_train.shape[1:]), dtype=tf.float64)\n",
    "    x = Conv2D(64, 2, padding='same', activation='relu')(inputs)\n",
    "    x = MaxPooling2D(pool_size=2)(x)\n",
    "    x = Dropout(.3)(x)\n",
    "    \n",
    "    x = Conv2D(32, 2, padding='same', activation='relu')(x)\n",
    "    x = MaxPooling2D(pool_size=2)(x)\n",
    "    x = Dropout(.3)(x)\n",
    "    \n",
    "    x = Flatten()(x)\n",
    "    x = Dense(256, activation='relu')(x)\n",
    "    x = Dropout(.5)(x)\n",
    "    logits = Dense(10, name='logits')(x)\n",
    "    outputs = Activation('softmax', name='softmax')(logits)\n",
    "    model = Model(inputs=inputs, outputs=outputs)\n",
    "    model.compile(loss='categorical_crossentropy',\n",
    "                  optimizer='adam',\n",
    "                  metrics=['accuracy'])\n",
    "    \n",
    "    # train model\n",
    "    model.fit(X_train,\n",
    "              y_train,\n",
    "              epochs=6,\n",
    "              batch_size=256,\n",
    "              verbose=1,\n",
    "              validation_data=(X_test, y_test)\n",
    "              )\n",
    "    if save_model:\n",
    "        if not os.path.exists(filepath):\n",
    "            os.makedirs(filepath)\n",
    "        model.save(os.path.join(filepath, 'model.h5'))"
   ]
  },
  {
   "cell_type": "markdown",
   "metadata": {},
   "source": [
    "## Calculate integrated gradients"
   ]
  },
  {
   "cell_type": "markdown",
   "metadata": {},
   "source": [
    "The IntegratedGradients class implements the integrated gradients features attribution method. A description of the method can be found [here](../doc/source/methods/IntegratedGradients.ipynb).\n",
    "\n",
    "In the following example, the baselines (i. e. the starting points of the gradients' integral) are black images (all pixel's values are set to zero). This means that black areas of the image will always have zero attributions.\n",
    "The path integral is defined as a straight line from the baseline to the input image. The path is approximated by choosing 50 discrete steps according to the Gauss-Legendre method."
   ]
  },
  {
   "cell_type": "code",
   "execution_count": 8,
   "metadata": {},
   "outputs": [],
   "source": [
    "# Initialize IntegratedGradients instance\n",
    "n_steps = 50\n",
    "method = \"gausslegendre\"\n",
    "return_convergence_delta = True\n",
    "return_predictions = False\n",
    "ig  = IntegratedGradients(model,\n",
    "                          n_steps=n_steps, \n",
    "                          method=method)"
   ]
  },
  {
   "cell_type": "code",
   "execution_count": 31,
   "metadata": {},
   "outputs": [],
   "source": [
    "# Calculate attributions for the first 10 images in the test set\n",
    "nb_samples = 10\n",
    "X_test_red = X_test[:nb_samples]\n",
    "test_labels_red = test_labels[:nb_samples]\n",
    "explanation = ig.explain(X_test_red, \n",
    "                         baselines=None, \n",
    "                         target=test_labels_red,\n",
    "                         return_convergence_delta=return_convergence_delta, \n",
    "                         return_predictions=return_predictions)"
   ]
  },
  {
   "cell_type": "code",
   "execution_count": 32,
   "metadata": {},
   "outputs": [],
   "source": [
    "# Get attributions values from the explanation object\n",
    "attributions = explanation.data['attributions']"
   ]
  },
  {
   "cell_type": "markdown",
   "metadata": {},
   "source": [
    "## Visualize attributions"
   ]
  },
  {
   "cell_type": "code",
   "execution_count": 58,
   "metadata": {},
   "outputs": [
    {
     "data": {
      "image/png": "[encoded data removed]",
      "text/plain": [
       "<Figure size 1440x1080 with 12 Axes>"
      ]
     },
     "metadata": {
      "needs_background": "light"
     },
     "output_type": "display_data"
    }
   ],
   "source": [
    "plot_attributions(model, X_test, test_labels, attributions, figsize=(20, 15))"
   ]
  }
 ],
 "metadata": {
  "kernelspec": {
   "display_name": "Python [conda env:tf115]",
   "language": "python",
   "name": "conda-env-tf115-py"
  },
  "language_info": {
   "codemirror_mode": {
    "name": "ipython",
    "version": 3
   },
   "file_extension": ".py",
   "mimetype": "text/x-python",
   "name": "python",
   "nbconvert_exporter": "python",
   "pygments_lexer": "ipython3",
   "version": "3.7.6"
  }
 },
 "nbformat": 4,
 "nbformat_minor": 4
}
