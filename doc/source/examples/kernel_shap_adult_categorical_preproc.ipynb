{
 "cells": [
  {
   "cell_type": "markdown",
   "metadata": {},
   "source": [
    "# KernelSHAP: combining preprocessor and predictor"
   ]
  },
  {
   "cell_type": "markdown",
   "metadata": {},
   "source": [
    "<div class=\"alert alert-info\">\n",
    "Note\n",
    "\n",
    "To enable SHAP support, you may need to run\n",
    "    \n",
    "```bash\n",
    "pip install alibi[shap]\n",
    "```\n",
    "\n",
    "</div>"
   ]
  },
  {
   "cell_type": "markdown",
   "metadata": {},
   "source": [
    "## Introduction"
   ]
  },
  {
   "cell_type": "markdown",
   "metadata": {},
   "source": [
    "In [this](kernel_shap_adult_lr.ipynb) example, we showed that the categorical variables can be handled by fitting the explainer on preprocessed data and passing preprocessed data to the `explain` call. To handle the categorical variables, we either group them explicitly or sum the estimated shap values for each encoded shap dimension. An alternative way is to define our black-box model to include the preprocessor, as shown in [this](anchor_tabular_adult.ipynb) example. We now show that these methods give the same results."
   ]
  },
  {
   "cell_type": "code",
   "execution_count": null,
   "metadata": {},
   "outputs": [],
   "source": [
    "import shap\n",
    "shap.initjs()\n",
    "\n",
    "import matplotlib.pyplot as plt\n",
    "import numpy as np\n",
    "import pandas as pd\n",
    "\n",
    "from alibi.explainers import KernelShap\n",
    "from alibi.datasets import fetch_adult\n",
    "from scipy.special import logit\n",
    "from sklearn.compose import ColumnTransformer\n",
    "from sklearn.impute import SimpleImputer\n",
    "from sklearn.linear_model import LogisticRegression\n",
    "from sklearn.metrics import accuracy_score, confusion_matrix, ConfusionMatrixDisplay\n",
    "from sklearn.model_selection import cross_val_score, train_test_split\n",
    "from sklearn.pipeline import Pipeline\n",
    "from sklearn.preprocessing import StandardScaler, OneHotEncoder"
   ]
  },
  {
   "cell_type": "markdown",
   "metadata": {},
   "source": [
    "## Data preparation"
   ]
  },
  {
   "cell_type": "markdown",
   "metadata": {},
   "source": [
    "### Load and split"
   ]
  },
  {
   "cell_type": "markdown",
   "metadata": {},
   "source": [
    "The `fetch_adult` function returns a `Bunch` object containing the features, the targets, the feature names and a mapping of categorical variables to numbers."
   ]
  },
  {
   "cell_type": "code",
   "execution_count": 2,
   "metadata": {},
   "outputs": [
    {
     "data": {
      "text/plain": [
       "dict_keys(['data', 'target', 'feature_names', 'target_names', 'category_map'])"
      ]
     },
     "execution_count": 2,
     "metadata": {},
     "output_type": "execute_result"
    }
   ],
   "source": [
    "adult = fetch_adult()\n",
    "adult.keys()"
   ]
  },
  {
   "cell_type": "code",
   "execution_count": 3,
   "metadata": {},
   "outputs": [],
   "source": [
    "data = adult.data\n",
    "target = adult.target\n",
    "target_names = adult.target_names\n",
    "feature_names = adult.feature_names\n",
    "category_map = adult.category_map"
   ]
  },
  {
   "cell_type": "markdown",
   "metadata": {},
   "source": [
    "Note that for your own datasets you can use our utility function `gen_category_map` to create the category map."
   ]
  },
  {
   "cell_type": "code",
   "execution_count": 4,
   "metadata": {},
   "outputs": [],
   "source": [
    "from alibi.utils import gen_category_map"
   ]
  },
  {
   "cell_type": "code",
   "execution_count": 5,
   "metadata": {},
   "outputs": [],
   "source": [
    "np.random.seed(0)\n",
    "data_perm = np.random.permutation(np.c_[data, target])\n",
    "data = data_perm[:,:-1]\n",
    "target = data_perm[:,-1]"
   ]
  },
  {
   "cell_type": "code",
   "execution_count": 6,
   "metadata": {},
   "outputs": [],
   "source": [
    "idx = 30000\n",
    "X_train,y_train = data[:idx,:], target[:idx]\n",
    "X_test, y_test = data[idx+1:,:], target[idx+1:]"
   ]
  },
  {
   "cell_type": "markdown",
   "metadata": {},
   "source": [
    "### Create feature transformation pipeline"
   ]
  },
  {
   "cell_type": "markdown",
   "metadata": {},
   "source": [
    "Create feature pre-processor. Needs to have 'fit' and 'transform' methods. Different types of pre-processing can be applied to all or part of the features. In the example below we will standardize ordinal features and apply one-hot-encoding to categorical features.\n",
    "\n",
    "Ordinal features:"
   ]
  },
  {
   "cell_type": "code",
   "execution_count": 7,
   "metadata": {},
   "outputs": [],
   "source": [
    "ordinal_features = [x for x in range(len(feature_names)) if x not in list(category_map.keys())]\n",
    "ordinal_transformer = Pipeline(steps=[('imputer', SimpleImputer(strategy='median')),\n",
    "                                      ('scaler', StandardScaler())])"
   ]
  },
  {
   "cell_type": "markdown",
   "metadata": {},
   "source": [
    "Categorical features:"
   ]
  },
  {
   "cell_type": "code",
   "execution_count": 8,
   "metadata": {},
   "outputs": [],
   "source": [
    "categorical_features = list(category_map.keys())\n",
    "categorical_transformer = Pipeline(steps=[('imputer', SimpleImputer(strategy='median')),\n",
    "                                          ('onehot', OneHotEncoder(drop='first', handle_unknown='error'))])"
   ]
  },
  {
   "cell_type": "markdown",
   "metadata": {},
   "source": [
    "Note that in order to be able to interpret the coefficients corresponding to the categorical features, the option `drop='first'` has been passed to the `OneHotEncoder`. This means that for a categorical variable with `n` levels, the length of the code will be `n-1`. This is necessary in order to avoid introducing feature multicolinearity, which would skew the interpretation of the results. For more information about the issue about multicolinearity in the context of linear modelling see [[1]](#References).\n",
    "<a id='src_1'></a>"
   ]
  },
  {
   "cell_type": "markdown",
   "metadata": {},
   "source": [
    "Combine and fit:"
   ]
  },
  {
   "cell_type": "code",
   "execution_count": 9,
   "metadata": {},
   "outputs": [
    {
     "data": {
      "text/html": [
       "<style>#sk-container-id-1 {color: black;background-color: white;}#sk-container-id-1 pre{padding: 0;}#sk-container-id-1 div.sk-toggleable {background-color: white;}#sk-container-id-1 label.sk-toggleable__label {cursor: pointer;display: block;width: 100%;margin-bottom: 0;padding: 0.3em;box-sizing: border-box;text-align: center;}#sk-container-id-1 label.sk-toggleable__label-arrow:before {content: \"▸\";float: left;margin-right: 0.25em;color: #696969;}#sk-container-id-1 label.sk-toggleable__label-arrow:hover:before {color: black;}#sk-container-id-1 div.sk-estimator:hover label.sk-toggleable__label-arrow:before {color: black;}#sk-container-id-1 div.sk-toggleable__content {max-height: 0;max-width: 0;overflow: hidden;text-align: left;background-color: #f0f8ff;}#sk-container-id-1 div.sk-toggleable__content pre {margin: 0.2em;color: black;border-radius: 0.25em;background-color: #f0f8ff;}#sk-container-id-1 input.sk-toggleable__control:checked~div.sk-toggleable__content {max-height: 200px;max-width: 100%;overflow: auto;}#sk-container-id-1 input.sk-toggleable__control:checked~label.sk-toggleable__label-arrow:before {content: \"▾\";}#sk-container-id-1 div.sk-estimator input.sk-toggleable__control:checked~label.sk-toggleable__label {background-color: #d4ebff;}#sk-container-id-1 div.sk-label input.sk-toggleable__control:checked~label.sk-toggleable__label {background-color: #d4ebff;}#sk-container-id-1 input.sk-hidden--visually {border: 0;clip: rect(1px 1px 1px 1px);clip: rect(1px, 1px, 1px, 1px);height: 1px;margin: -1px;overflow: hidden;padding: 0;position: absolute;width: 1px;}#sk-container-id-1 div.sk-estimator {font-family: monospace;background-color: #f0f8ff;border: 1px dotted black;border-radius: 0.25em;box-sizing: border-box;margin-bottom: 0.5em;}#sk-container-id-1 div.sk-estimator:hover {background-color: #d4ebff;}#sk-container-id-1 div.sk-parallel-item::after {content: \"\";width: 100%;border-bottom: 1px solid gray;flex-grow: 1;}#sk-container-id-1 div.sk-label:hover label.sk-toggleable__label {background-color: #d4ebff;}#sk-container-id-1 div.sk-serial::before {content: \"\";position: absolute;border-left: 1px solid gray;box-sizing: border-box;top: 0;bottom: 0;left: 50%;z-index: 0;}#sk-container-id-1 div.sk-serial {display: flex;flex-direction: column;align-items: center;background-color: white;padding-right: 0.2em;padding-left: 0.2em;position: relative;}#sk-container-id-1 div.sk-item {position: relative;z-index: 1;}#sk-container-id-1 div.sk-parallel {display: flex;align-items: stretch;justify-content: center;background-color: white;position: relative;}#sk-container-id-1 div.sk-item::before, #sk-container-id-1 div.sk-parallel-item::before {content: \"\";position: absolute;border-left: 1px solid gray;box-sizing: border-box;top: 0;bottom: 0;left: 50%;z-index: -1;}#sk-container-id-1 div.sk-parallel-item {display: flex;flex-direction: column;z-index: 1;position: relative;background-color: white;}#sk-container-id-1 div.sk-parallel-item:first-child::after {align-self: flex-end;width: 50%;}#sk-container-id-1 div.sk-parallel-item:last-child::after {align-self: flex-start;width: 50%;}#sk-container-id-1 div.sk-parallel-item:only-child::after {width: 0;}#sk-container-id-1 div.sk-dashed-wrapped {border: 1px dashed gray;margin: 0 0.4em 0.5em 0.4em;box-sizing: border-box;padding-bottom: 0.4em;background-color: white;}#sk-container-id-1 div.sk-label label {font-family: monospace;font-weight: bold;display: inline-block;line-height: 1.2em;}#sk-container-id-1 div.sk-label-container {text-align: center;}#sk-container-id-1 div.sk-container {/* jupyter's `normalize.less` sets `[hidden] { display: none; }` but bootstrap.min.css set `[hidden] { display: none !important; }` so we also need the `!important` here to be able to override the default hidden behavior on the sphinx rendered scikit-learn.org. See: https://github.com/scikit-learn/scikit-learn/issues/21755 */display: inline-block !important;position: relative;}#sk-container-id-1 div.sk-text-repr-fallback {display: none;}</style><div id=\"sk-container-id-1\" class=\"sk-top-container\"><div class=\"sk-text-repr-fallback\"><pre>ColumnTransformer(transformers=[(&#x27;num&#x27;,\n",
       "                                 Pipeline(steps=[(&#x27;imputer&#x27;,\n",
       "                                                  SimpleImputer(strategy=&#x27;median&#x27;)),\n",
       "                                                 (&#x27;scaler&#x27;, StandardScaler())]),\n",
       "                                 [0, 8, 9, 10]),\n",
       "                                (&#x27;cat&#x27;,\n",
       "                                 Pipeline(steps=[(&#x27;imputer&#x27;,\n",
       "                                                  SimpleImputer(strategy=&#x27;median&#x27;)),\n",
       "                                                 (&#x27;onehot&#x27;,\n",
       "                                                  OneHotEncoder(drop=&#x27;first&#x27;))]),\n",
       "                                 [1, 2, 3, 4, 5, 6, 7, 11])])</pre><b>In a Jupyter environment, please rerun this cell to show the HTML representation or trust the notebook. <br />On GitHub, the HTML representation is unable to render, please try loading this page with nbviewer.org.</b></div><div class=\"sk-container\" hidden><div class=\"sk-item sk-dashed-wrapped\"><div class=\"sk-label-container\"><div class=\"sk-label sk-toggleable\"><input class=\"sk-toggleable__control sk-hidden--visually\" id=\"sk-estimator-id-1\" type=\"checkbox\" ><label for=\"sk-estimator-id-1\" class=\"sk-toggleable__label sk-toggleable__label-arrow\">ColumnTransformer</label><div class=\"sk-toggleable__content\"><pre>ColumnTransformer(transformers=[(&#x27;num&#x27;,\n",
       "                                 Pipeline(steps=[(&#x27;imputer&#x27;,\n",
       "                                                  SimpleImputer(strategy=&#x27;median&#x27;)),\n",
       "                                                 (&#x27;scaler&#x27;, StandardScaler())]),\n",
       "                                 [0, 8, 9, 10]),\n",
       "                                (&#x27;cat&#x27;,\n",
       "                                 Pipeline(steps=[(&#x27;imputer&#x27;,\n",
       "                                                  SimpleImputer(strategy=&#x27;median&#x27;)),\n",
       "                                                 (&#x27;onehot&#x27;,\n",
       "                                                  OneHotEncoder(drop=&#x27;first&#x27;))]),\n",
       "                                 [1, 2, 3, 4, 5, 6, 7, 11])])</pre></div></div></div><div class=\"sk-parallel\"><div class=\"sk-parallel-item\"><div class=\"sk-item\"><div class=\"sk-label-container\"><div class=\"sk-label sk-toggleable\"><input class=\"sk-toggleable__control sk-hidden--visually\" id=\"sk-estimator-id-2\" type=\"checkbox\" ><label for=\"sk-estimator-id-2\" class=\"sk-toggleable__label sk-toggleable__label-arrow\">num</label><div class=\"sk-toggleable__content\"><pre>[0, 8, 9, 10]</pre></div></div></div><div class=\"sk-serial\"><div class=\"sk-item\"><div class=\"sk-serial\"><div class=\"sk-item\"><div class=\"sk-estimator sk-toggleable\"><input class=\"sk-toggleable__control sk-hidden--visually\" id=\"sk-estimator-id-3\" type=\"checkbox\" ><label for=\"sk-estimator-id-3\" class=\"sk-toggleable__label sk-toggleable__label-arrow\">SimpleImputer</label><div class=\"sk-toggleable__content\"><pre>SimpleImputer(strategy=&#x27;median&#x27;)</pre></div></div></div><div class=\"sk-item\"><div class=\"sk-estimator sk-toggleable\"><input class=\"sk-toggleable__control sk-hidden--visually\" id=\"sk-estimator-id-4\" type=\"checkbox\" ><label for=\"sk-estimator-id-4\" class=\"sk-toggleable__label sk-toggleable__label-arrow\">StandardScaler</label><div class=\"sk-toggleable__content\"><pre>StandardScaler()</pre></div></div></div></div></div></div></div></div><div class=\"sk-parallel-item\"><div class=\"sk-item\"><div class=\"sk-label-container\"><div class=\"sk-label sk-toggleable\"><input class=\"sk-toggleable__control sk-hidden--visually\" id=\"sk-estimator-id-5\" type=\"checkbox\" ><label for=\"sk-estimator-id-5\" class=\"sk-toggleable__label sk-toggleable__label-arrow\">cat</label><div class=\"sk-toggleable__content\"><pre>[1, 2, 3, 4, 5, 6, 7, 11]</pre></div></div></div><div class=\"sk-serial\"><div class=\"sk-item\"><div class=\"sk-serial\"><div class=\"sk-item\"><div class=\"sk-estimator sk-toggleable\"><input class=\"sk-toggleable__control sk-hidden--visually\" id=\"sk-estimator-id-6\" type=\"checkbox\" ><label for=\"sk-estimator-id-6\" class=\"sk-toggleable__label sk-toggleable__label-arrow\">SimpleImputer</label><div class=\"sk-toggleable__content\"><pre>SimpleImputer(strategy=&#x27;median&#x27;)</pre></div></div></div><div class=\"sk-item\"><div class=\"sk-estimator sk-toggleable\"><input class=\"sk-toggleable__control sk-hidden--visually\" id=\"sk-estimator-id-7\" type=\"checkbox\" ><label for=\"sk-estimator-id-7\" class=\"sk-toggleable__label sk-toggleable__label-arrow\">OneHotEncoder</label><div class=\"sk-toggleable__content\"><pre>OneHotEncoder(drop=&#x27;first&#x27;)</pre></div></div></div></div></div></div></div></div></div></div></div></div>"
      ],
      "text/plain": [
       "ColumnTransformer(transformers=[('num',\n",
       "                                 Pipeline(steps=[('imputer',\n",
       "                                                  SimpleImputer(strategy='median')),\n",
       "                                                 ('scaler', StandardScaler())]),\n",
       "                                 [0, 8, 9, 10]),\n",
       "                                ('cat',\n",
       "                                 Pipeline(steps=[('imputer',\n",
       "                                                  SimpleImputer(strategy='median')),\n",
       "                                                 ('onehot',\n",
       "                                                  OneHotEncoder(drop='first'))]),\n",
       "                                 [1, 2, 3, 4, 5, 6, 7, 11])])"
      ]
     },
     "execution_count": 9,
     "metadata": {},
     "output_type": "execute_result"
    }
   ],
   "source": [
    "preprocessor = ColumnTransformer(transformers=[('num', ordinal_transformer, ordinal_features),\n",
    "                                               ('cat', categorical_transformer, categorical_features)])\n",
    "preprocessor.fit(X_train)"
   ]
  },
  {
   "cell_type": "markdown",
   "metadata": {},
   "source": [
    "## Fit a binary logistic regression classifier to the preprocessed Adult dataset"
   ]
  },
  {
   "cell_type": "markdown",
   "metadata": {},
   "source": [
    "### Preprocess the data"
   ]
  },
  {
   "cell_type": "code",
   "execution_count": 10,
   "metadata": {},
   "outputs": [],
   "source": [
    "X_train_proc = preprocessor.transform(X_train)\n",
    "X_test_proc = preprocessor.transform(X_test)"
   ]
  },
  {
   "cell_type": "markdown",
   "metadata": {},
   "source": [
    "### Training "
   ]
  },
  {
   "cell_type": "code",
   "execution_count": 11,
   "metadata": {},
   "outputs": [
    {
     "data": {
      "text/html": [
       "<style>#sk-container-id-2 {color: black;background-color: white;}#sk-container-id-2 pre{padding: 0;}#sk-container-id-2 div.sk-toggleable {background-color: white;}#sk-container-id-2 label.sk-toggleable__label {cursor: pointer;display: block;width: 100%;margin-bottom: 0;padding: 0.3em;box-sizing: border-box;text-align: center;}#sk-container-id-2 label.sk-toggleable__label-arrow:before {content: \"▸\";float: left;margin-right: 0.25em;color: #696969;}#sk-container-id-2 label.sk-toggleable__label-arrow:hover:before {color: black;}#sk-container-id-2 div.sk-estimator:hover label.sk-toggleable__label-arrow:before {color: black;}#sk-container-id-2 div.sk-toggleable__content {max-height: 0;max-width: 0;overflow: hidden;text-align: left;background-color: #f0f8ff;}#sk-container-id-2 div.sk-toggleable__content pre {margin: 0.2em;color: black;border-radius: 0.25em;background-color: #f0f8ff;}#sk-container-id-2 input.sk-toggleable__control:checked~div.sk-toggleable__content {max-height: 200px;max-width: 100%;overflow: auto;}#sk-container-id-2 input.sk-toggleable__control:checked~label.sk-toggleable__label-arrow:before {content: \"▾\";}#sk-container-id-2 div.sk-estimator input.sk-toggleable__control:checked~label.sk-toggleable__label {background-color: #d4ebff;}#sk-container-id-2 div.sk-label input.sk-toggleable__control:checked~label.sk-toggleable__label {background-color: #d4ebff;}#sk-container-id-2 input.sk-hidden--visually {border: 0;clip: rect(1px 1px 1px 1px);clip: rect(1px, 1px, 1px, 1px);height: 1px;margin: -1px;overflow: hidden;padding: 0;position: absolute;width: 1px;}#sk-container-id-2 div.sk-estimator {font-family: monospace;background-color: #f0f8ff;border: 1px dotted black;border-radius: 0.25em;box-sizing: border-box;margin-bottom: 0.5em;}#sk-container-id-2 div.sk-estimator:hover {background-color: #d4ebff;}#sk-container-id-2 div.sk-parallel-item::after {content: \"\";width: 100%;border-bottom: 1px solid gray;flex-grow: 1;}#sk-container-id-2 div.sk-label:hover label.sk-toggleable__label {background-color: #d4ebff;}#sk-container-id-2 div.sk-serial::before {content: \"\";position: absolute;border-left: 1px solid gray;box-sizing: border-box;top: 0;bottom: 0;left: 50%;z-index: 0;}#sk-container-id-2 div.sk-serial {display: flex;flex-direction: column;align-items: center;background-color: white;padding-right: 0.2em;padding-left: 0.2em;position: relative;}#sk-container-id-2 div.sk-item {position: relative;z-index: 1;}#sk-container-id-2 div.sk-parallel {display: flex;align-items: stretch;justify-content: center;background-color: white;position: relative;}#sk-container-id-2 div.sk-item::before, #sk-container-id-2 div.sk-parallel-item::before {content: \"\";position: absolute;border-left: 1px solid gray;box-sizing: border-box;top: 0;bottom: 0;left: 50%;z-index: -1;}#sk-container-id-2 div.sk-parallel-item {display: flex;flex-direction: column;z-index: 1;position: relative;background-color: white;}#sk-container-id-2 div.sk-parallel-item:first-child::after {align-self: flex-end;width: 50%;}#sk-container-id-2 div.sk-parallel-item:last-child::after {align-self: flex-start;width: 50%;}#sk-container-id-2 div.sk-parallel-item:only-child::after {width: 0;}#sk-container-id-2 div.sk-dashed-wrapped {border: 1px dashed gray;margin: 0 0.4em 0.5em 0.4em;box-sizing: border-box;padding-bottom: 0.4em;background-color: white;}#sk-container-id-2 div.sk-label label {font-family: monospace;font-weight: bold;display: inline-block;line-height: 1.2em;}#sk-container-id-2 div.sk-label-container {text-align: center;}#sk-container-id-2 div.sk-container {/* jupyter's `normalize.less` sets `[hidden] { display: none; }` but bootstrap.min.css set `[hidden] { display: none !important; }` so we also need the `!important` here to be able to override the default hidden behavior on the sphinx rendered scikit-learn.org. See: https://github.com/scikit-learn/scikit-learn/issues/21755 */display: inline-block !important;position: relative;}#sk-container-id-2 div.sk-text-repr-fallback {display: none;}</style><div id=\"sk-container-id-2\" class=\"sk-top-container\"><div class=\"sk-text-repr-fallback\"><pre>LogisticRegression(max_iter=500, multi_class=&#x27;multinomial&#x27;, random_state=0)</pre><b>In a Jupyter environment, please rerun this cell to show the HTML representation or trust the notebook. <br />On GitHub, the HTML representation is unable to render, please try loading this page with nbviewer.org.</b></div><div class=\"sk-container\" hidden><div class=\"sk-item\"><div class=\"sk-estimator sk-toggleable\"><input class=\"sk-toggleable__control sk-hidden--visually\" id=\"sk-estimator-id-8\" type=\"checkbox\" checked><label for=\"sk-estimator-id-8\" class=\"sk-toggleable__label sk-toggleable__label-arrow\">LogisticRegression</label><div class=\"sk-toggleable__content\"><pre>LogisticRegression(max_iter=500, multi_class=&#x27;multinomial&#x27;, random_state=0)</pre></div></div></div></div></div>"
      ],
      "text/plain": [
       "LogisticRegression(max_iter=500, multi_class='multinomial', random_state=0)"
      ]
     },
     "execution_count": 11,
     "metadata": {},
     "output_type": "execute_result"
    }
   ],
   "source": [
    "classifier = LogisticRegression(multi_class='multinomial',\n",
    "                                random_state=0,\n",
    "                                max_iter=500,\n",
    "                                verbose=0,\n",
    "                               )\n",
    "classifier.fit(X_train_proc, y_train)"
   ]
  },
  {
   "cell_type": "markdown",
   "metadata": {},
   "source": [
    "### Model assessment"
   ]
  },
  {
   "cell_type": "code",
   "execution_count": 12,
   "metadata": {},
   "outputs": [],
   "source": [
    "y_pred = classifier.predict(X_test_proc)"
   ]
  },
  {
   "cell_type": "code",
   "execution_count": 13,
   "metadata": {},
   "outputs": [],
   "source": [
    "cm = confusion_matrix(y_test, y_pred)"
   ]
  },
  {
   "cell_type": "code",
   "execution_count": 14,
   "metadata": {},
   "outputs": [
    {
     "data": {
      "image/png": "[encoded data removed]",
      "text/plain": [
       "<Figure size 432x288 with 2 Axes>"
      ]
     },
     "metadata": {
      "needs_background": "light"
     },
     "output_type": "display_data"
    }
   ],
   "source": [
    "title = 'Confusion matrix for the logistic regression classifier'\n",
    "disp = ConfusionMatrixDisplay.from_estimator(classifier, \n",
    "                                             X_test_proc, \n",
    "                                             y_test,\n",
    "                                             display_labels=target_names,\n",
    "                                             cmap=plt.cm.Blues,\n",
    "                                             normalize=None,\n",
    "                                            )\n",
    "disp.ax_.set_title(title);"
   ]
  },
  {
   "cell_type": "code",
   "execution_count": 15,
   "metadata": {},
   "outputs": [
    {
     "name": "stdout",
     "output_type": "stream",
     "text": [
      "Test accuracy:  0.855078125\n"
     ]
    }
   ],
   "source": [
    "print('Test accuracy: ', accuracy_score(y_test, classifier.predict(X_test_proc)))"
   ]
  },
  {
   "cell_type": "markdown",
   "metadata": {},
   "source": [
    "## Explaining the model with an explainer fitted on the preprocessed data"
   ]
  },
  {
   "cell_type": "markdown",
   "metadata": {},
   "source": [
    "To speed up computation, we will use a background dataset with only `100` samples."
   ]
  },
  {
   "cell_type": "code",
   "execution_count": 16,
   "metadata": {},
   "outputs": [],
   "source": [
    "start_example_idx = 0\n",
    "stop_example_idx = 100\n",
    "background_data = slice(start_example_idx, stop_example_idx)"
   ]
  },
  {
   "cell_type": "markdown",
   "metadata": {},
   "source": [
    "First, we group the categorical variables."
   ]
  },
  {
   "cell_type": "code",
   "execution_count": 17,
   "metadata": {},
   "outputs": [],
   "source": [
    "def make_groups(num_feats_names, cat_feats_names, feat_enc_dim):\n",
    "    \"\"\"\n",
    "    Given a list with numerical feat. names, categorical feat. names\n",
    "    and a list specifying the lengths of the encoding for each cat.\n",
    "    varible, the function outputs a list of group names, and a list\n",
    "    of the same len where each entry represents the column indices that\n",
    "    the corresponding categorical feature \n",
    "    \"\"\"\n",
    "    \n",
    "    group_names = num_feats_names + cat_feats_names\n",
    "    groups = []\n",
    "    cat_var_idx = 0\n",
    "    \n",
    "    for name in group_names: \n",
    "        if name in num_feats_names:\n",
    "            groups.append(list(range(len(groups), len(groups) + 1)))\n",
    "        else:\n",
    "            start_idx = groups[-1][-1] + 1 if groups else 0\n",
    "            groups.append(list(range(start_idx, start_idx + feat_enc_dim[cat_var_idx] )))\n",
    "            cat_var_idx += 1\n",
    "    \n",
    "    return group_names, groups\n",
    "            \n",
    "def sparse2ndarray(mat, examples=None):\n",
    "    \"\"\"\n",
    "    Converts a scipy.sparse.csr.csr_matrix to a numpy.ndarray.\n",
    "    If specified, examples is slice object specifying which selects a\n",
    "    number of rows from mat and converts only the respective slice.\n",
    "    \"\"\"\n",
    "    \n",
    "    if examples:\n",
    "        return mat[examples, :].toarray()\n",
    "    \n",
    "    return mat.toarray()"
   ]
  },
  {
   "cell_type": "code",
   "execution_count": 18,
   "metadata": {},
   "outputs": [],
   "source": [
    "# obtain the indices of the categorical and the numerical features from the pipeline.\n",
    "numerical_feats_idx  = preprocessor.transformers_[0][2]\n",
    "categorical_feats_idx  = preprocessor.transformers_[1][2]\n",
    "num_feats_names = [feature_names[i] for i in numerical_feats_idx]\n",
    "cat_feats_names = [feature_names[i] for i in categorical_feats_idx]\n",
    "perm_feat_names = num_feats_names + cat_feats_names \n",
    "ohe = preprocessor.transformers_[1][1].named_steps['onehot']\n",
    "feat_enc_dim = [len(cat_enc) - 1 for cat_enc in ohe.categories_]"
   ]
  },
  {
   "cell_type": "code",
   "execution_count": 19,
   "metadata": {},
   "outputs": [],
   "source": [
    "# create the groups\n",
    "X_train_proc_d = sparse2ndarray(X_train_proc, examples=background_data)\n",
    "group_names, groups = make_groups(num_feats_names, cat_feats_names, feat_enc_dim)"
   ]
  },
  {
   "cell_type": "markdown",
   "metadata": {},
   "source": [
    "Having created the groups, we are now ready to instantiate the explainer and explain our set."
   ]
  },
  {
   "cell_type": "code",
   "execution_count": 20,
   "metadata": {},
   "outputs": [
    {
     "data": {
      "text/plain": [
       "KernelShap(meta={'name': 'KernelShap', 'type': 'blackbox', 'explanations': ['local', 'global'], 'params': {'groups': [[0], [1], [2], [3], [4, 5, 6, 7, 8, 9, 10, 11], [12, 13, 14, 15, 16, 17], [18, 19, 20], [21, 22, 23, 24, 25, 26, 27, 28], [29, 30, 31, 32, 33], [34, 35, 36, 37], [38], [39, 40, 41, 42, 43, 44, 45, 46, 47, 48]], 'group_names': ['Age', 'Capital Gain', 'Capital Loss', 'Hours per week', 'Workclass', 'Education', 'Marital Status', 'Occupation', 'Relationship', 'Race', 'Sex', 'Country'], 'weights': None, 'summarise_background': False}})"
      ]
     },
     "execution_count": 20,
     "metadata": {},
     "output_type": "execute_result"
    }
   ],
   "source": [
    "pred_fcn = classifier.predict_proba\n",
    "grp_lr_explainer = KernelShap(pred_fcn, link='logit', feature_names=perm_feat_names, seed=0)\n",
    "grp_lr_explainer.fit(X_train_proc_d, group_names=group_names, groups=groups)"
   ]
  },
  {
   "cell_type": "markdown",
   "metadata": {},
   "source": [
    "We select only a small fraction of the testing set to explain for the purposes of this example."
   ]
  },
  {
   "cell_type": "code",
   "execution_count": 21,
   "metadata": {},
   "outputs": [],
   "source": [
    "def split_set(X, y, fraction, random_state=0):\n",
    "    \"\"\"\n",
    "    Given a set X, associated labels y, split\\\\s a fraction y from X.\n",
    "    \"\"\"\n",
    "    _, X_split, _, y_split = train_test_split(X, \n",
    "                                              y, \n",
    "                                              test_size=fraction, \n",
    "                                              random_state=random_state,\n",
    "                                             )\n",
    "    print(\"Number of records: {}\".format(X_split.shape[0]))\n",
    "    print(\"Number of class {}: {}\".format(0, len(y_split) - y_split.sum()))\n",
    "    print(\"Number of class {}: {}\".format(1, y_split.sum()))\n",
    "    \n",
    "    return X_split, y_split"
   ]
  },
  {
   "cell_type": "code",
   "execution_count": 22,
   "metadata": {},
   "outputs": [
    {
     "name": "stdout",
     "output_type": "stream",
     "text": [
      "Number of records: 26\n",
      "Number of class 0: 20\n",
      "Number of class 1: 6\n"
     ]
    }
   ],
   "source": [
    "fraction_explained = 0.01 \n",
    "X_explain, y_explain = split_set(X_test, \n",
    "                                 y_test, \n",
    "                                 fraction_explained, \n",
    "                                 )\n",
    "X_explain_proc = preprocessor.transform(X_explain)\n",
    "X_explain_proc_d = sparse2ndarray(X_explain_proc)"
   ]
  },
  {
   "cell_type": "code",
   "execution_count": null,
   "metadata": {},
   "outputs": [],
   "source": [
    "grouped_explanation = grp_lr_explainer.explain(X_explain_proc_d)"
   ]
  },
  {
   "cell_type": "markdown",
   "metadata": {},
   "source": [
    "### Explaining with an explainer fitted on the raw data"
   ]
  },
  {
   "cell_type": "markdown",
   "metadata": {},
   "source": [
    "To explain with an explainer fitted on the raw data, we make the preprocessor part of the predictor, as shown below."
   ]
  },
  {
   "cell_type": "code",
   "execution_count": 24,
   "metadata": {},
   "outputs": [],
   "source": [
    "pred_fcn = lambda x: classifier.predict_proba(preprocessor.transform(x))\n",
    "lr_explainer = KernelShap(pred_fcn, link='logit', feature_names=feature_names, seed=0)"
   ]
  },
  {
   "cell_type": "markdown",
   "metadata": {},
   "source": [
    "We use the same background dataset to fit the explainer."
   ]
  },
  {
   "cell_type": "code",
   "execution_count": 25,
   "metadata": {},
   "outputs": [
    {
     "data": {
      "text/plain": [
       "KernelShap(meta={'name': 'KernelShap', 'type': 'blackbox', 'explanations': ['local', 'global'], 'params': {'groups': None, 'group_names': None, 'weights': None, 'summarise_background': False}})"
      ]
     },
     "execution_count": 25,
     "metadata": {},
     "output_type": "execute_result"
    }
   ],
   "source": [
    "lr_explainer.fit(X_train[background_data])"
   ]
  },
  {
   "cell_type": "markdown",
   "metadata": {},
   "source": [
    "We explain the same dataset as before."
   ]
  },
  {
   "cell_type": "code",
   "execution_count": null,
   "metadata": {},
   "outputs": [],
   "source": [
    "explanation = lr_explainer.explain(X_explain)"
   ]
  },
  {
   "cell_type": "markdown",
   "metadata": {},
   "source": [
    "### Results comparison"
   ]
  },
  {
   "cell_type": "markdown",
   "metadata": {},
   "source": [
    "To show that fitting the explainer on the raw data and combining the preprocessor with the classifier gives the same results as grouping the variables and fitting the explainer on the preprocessed data, we check to see that the same features are considered as most important when combining the two approaches."
   ]
  },
  {
   "cell_type": "code",
   "execution_count": 27,
   "metadata": {},
   "outputs": [],
   "source": [
    "def get_ranked_values(explanation):\n",
    "    \"\"\"\n",
    "    Retrives a tuple of (feature_effects, feature_names) for\n",
    "    each class explained. A feature's effect is its average\n",
    "    shap value magnitude across an array of instances.\n",
    "    \"\"\"\n",
    "    \n",
    "    ranked_shap_vals = []\n",
    "    for cls_idx in range(len(explanation.shap_values)):\n",
    "        this_ranking = (\n",
    "            explanation.raw['importances'][str(cls_idx)]['ranked_effect'],\n",
    "            explanation.raw['importances'][str(cls_idx)]['names']\n",
    "                       )\n",
    "        ranked_shap_vals.append(this_ranking)\n",
    "    \n",
    "    return ranked_shap_vals\n",
    "\n",
    "def compare_ranking(ranking_1, ranking_2, methods=None):\n",
    "    for i, (combined, grouped) in enumerate(zip(ranking_1, ranking_2)):\n",
    "        print(f\"Class: {i}\")\n",
    "        c_names, g_names = combined[1], grouped[1]\n",
    "        c_mag, g_mag = combined[0], grouped[0]\n",
    "        different = []\n",
    "        for i, (c_n, g_n) in enumerate(zip(c_names, g_names)):\n",
    "            if c_n != g_n:\n",
    "                different.append((i, c_n, g_n))\n",
    "        if different:\n",
    "            method_1 = methods[0] if methods else \"Method_1\"\n",
    "            method_2 = methods[1] if methods else \"Method_2\"\n",
    "            i, c_ns, g_ns = list(zip(*different))\n",
    "            data = {\"Rank\": i, method_1: c_ns, method_2: g_ns}\n",
    "            df = pd.DataFrame(data=data)\n",
    "            print(\"Found the following rank differences:\")\n",
    "            print(df)\n",
    "        else:\n",
    "            print(\"The methods provided the same ranking for the feature effects.\")\n",
    "            print(f\"The ranking is: {c_names}\")\n",
    "        print(\"\")\n",
    "        \n",
    "def reorder_feats(vals_and_names, src_vals_and_names):\n",
    "    \"\"\"Given a two tuples, each containing a list of ranked feature\n",
    "    shap values and the corresponding feature names, the function \n",
    "    reorders the values in vals according to the order specified in\n",
    "    the list of names contained in src_vals_and_names.\n",
    "    \"\"\"\n",
    "    \n",
    "    _, src_names = src_vals_and_names\n",
    "    vals, names = vals_and_names\n",
    "    reordered = np.zeros_like(vals)\n",
    "    \n",
    "    for i, name in enumerate(src_names):\n",
    "        alt_idx = names.index(name)\n",
    "        reordered[i] = vals[alt_idx]\n",
    "    \n",
    "    return reordered, src_names\n",
    "\n",
    "def compare_avg_mag_shap(class_idx, comparisons, baseline, **kwargs):\n",
    "    \"\"\"\n",
    "    Given a list of tuples, baseline, containing the feature values and a list with feature names \n",
    "    for each class and, comparisons, a list of lists with tuples with the same structure , the \n",
    "    function reorders the values of the features in comparisons entries according to the order \n",
    "    of the feature names provided in the baseline entries and displays the feature values for comparison.\n",
    "    \"\"\"\n",
    "    \n",
    "    methods = kwargs.get(\"methods\", [f\"method_{i}\" for i in range(len(comparisons) + 1)])\n",
    "    \n",
    "    n_features = len(baseline[class_idx][0])\n",
    "    \n",
    "    # bar settings\n",
    "    bar_width = kwargs.get(\"bar_width\", 0.05)\n",
    "    bar_space = kwargs.get(\"bar_space\", 2)\n",
    "    \n",
    "    # x axis \n",
    "    x_low = kwargs.get(\"x_low\", 0.0)\n",
    "    x_high = kwargs.get(\"x_high\", 1.0)\n",
    "    x_step = kwargs.get(\"x_step\", 0.05)\n",
    "    x_ticks = np.round(np.arange(x_low, x_high + x_step, x_step), 3)\n",
    "\n",
    "    # y axis (these are the y coordinate of start and end of each group \n",
    "    # of bars)\n",
    "    start_y_pos = np.array(np.arange(0, n_features))*bar_space\n",
    "    end_y_pos = start_y_pos + bar_width*len(methods)\n",
    "    y_ticks = 0.5*(start_y_pos + end_y_pos)\n",
    "    \n",
    "    # figure \n",
    "    fig_x = kwargs.get(\"fig_x\", 10)\n",
    "    fig_y = kwargs.get(\"fig_y\", 7)\n",
    "    \n",
    "    # fontsizes \n",
    "    title_font = kwargs.get(\"title_fontsize\", 20)\n",
    "    legend_font = kwargs.get(\"legend_fontsize\", 20)\n",
    "    tick_labels_font = kwargs.get(\"tick_labels_fontsize\", 20)\n",
    "    axes_label_fontsize = kwargs.get(\"axes_label_fontsize\", 10)\n",
    "    \n",
    "    # labels \n",
    "    title = kwargs.get(\"title\", None)\n",
    "    ylabel = kwargs.get(\"ylabel\", None)\n",
    "    xlabel = kwargs.get(\"xlabel\", None)\n",
    "    \n",
    "    # process input data \n",
    "    methods = list(reversed(methods))\n",
    "    base_vals = baseline[class_idx][0] \n",
    "    ordering = baseline[class_idx][1]\n",
    "    comp_vals = []\n",
    "    \n",
    "    # reorder the features so that they match the order of the baseline (ordering)\n",
    "    for comparison in comparisons:\n",
    "        vals, ord_ = reorder_feats(comparison[class_idx], baseline[class_idx])\n",
    "        comp_vals.append(vals)\n",
    "        assert ord_ is ordering \n",
    "        \n",
    "    all_vals = [base_vals] + comp_vals\n",
    "    data = dict(zip(methods, all_vals))\n",
    "    df = pd.DataFrame(data=data, index=ordering)\n",
    "    \n",
    "    # plotting logic\n",
    "    fig, ax = plt.subplots(figsize=(fig_x, fig_y))\n",
    "\n",
    "    for i, col in enumerate(df.columns):\n",
    "        values = list(df[col])\n",
    "        y_pos = [y + bar_width*i for y  in start_y_pos] \n",
    "        ax.barh(y_pos, list(values), bar_width, label=col)\n",
    "    \n",
    "    # add ticks, legend and labels\n",
    "    ax.set_xticks(x_ticks)\n",
    "    ax.set_xticklabels([str(x) for x in x_ticks], rotation=45, fontsize=tick_labels_font)\n",
    "    ax.set_xlabel(xlabel, fontsize=axes_label_fontsize)\n",
    "    ax.set_yticks(y_ticks)\n",
    "    ax.set_yticklabels(ordering, fontsize=tick_labels_font)\n",
    "    ax.set_ylabel(ylabel, fontsize=axes_label_fontsize)\n",
    "    ax.invert_yaxis()  # labels read top-to-bottom\n",
    "    ax.legend(fontsize=legend_font)   \n",
    "\n",
    "    plt.grid(True)\n",
    "    plt.title(title, fontsize=title_font)\n",
    "\n",
    "    return ax, fig, df"
   ]
  },
  {
   "cell_type": "code",
   "execution_count": 28,
   "metadata": {},
   "outputs": [
    {
     "name": "stdout",
     "output_type": "stream",
     "text": [
      "Class: 0\n",
      "The methods provided the same ranking for the feature effects.\n",
      "The ranking is: ['Marital Status', 'Capital Gain', 'Education', 'Occupation', 'Sex', 'Relationship', 'Age', 'Hours per week', 'Workclass', 'Capital Loss', 'Country', 'Race']\n",
      "\n",
      "Class: 1\n",
      "The methods provided the same ranking for the feature effects.\n",
      "The ranking is: ['Marital Status', 'Capital Gain', 'Education', 'Occupation', 'Sex', 'Relationship', 'Age', 'Hours per week', 'Workclass', 'Capital Loss', 'Country', 'Race']\n",
      "\n"
     ]
    }
   ],
   "source": [
    "ranked_grouped_shap_vals = get_ranked_values(grouped_explanation)\n",
    "ranked_shal_vals_raw = get_ranked_values(explanation)\n",
    "compare_ranking(ranked_grouped_shap_vals, ranked_shal_vals_raw)"
   ]
  },
  {
   "cell_type": "markdown",
   "metadata": {},
   "source": [
    "Above we can see that both methods returned the same feature importances. "
   ]
  },
  {
   "cell_type": "code",
   "execution_count": 29,
   "metadata": {},
   "outputs": [
    {
     "data": {
      "image/png": "[encoded data removed]",
      "text/plain": [
       "<Figure size 720x504 with 1 Axes>"
      ]
     },
     "metadata": {
      "needs_background": "light"
     },
     "output_type": "display_data"
    }
   ],
   "source": [
    "class_idx = 0 \n",
    "\n",
    "ax, fig, _ = compare_avg_mag_shap(class_idx, \n",
    "                               [ranked_shal_vals_raw], \n",
    "                               ranked_grouped_shap_vals, \n",
    "                               methods=('raw_data', 'grouped'),\n",
    "                               bar_width=0.5,\n",
    "                               tick_labels_fontsize=12,\n",
    "                               legend_fontsize=12,\n",
    "                               title_fontsize=15,\n",
    "                               xlabel=\"Features  effects (class {})\".format(0),\n",
    "                               ylabel=\"Feature\",\n",
    "                               axes_label_fontsize=15,\n",
    "                               )"
   ]
  },
  {
   "cell_type": "markdown",
   "metadata": {},
   "source": [
    "We can see that the shap values are very similar. The differences appear because the regression dataset generated in order to compute the shap values differes slightly between the two runs due to the difference in the order of the features in the background dataset.\n"
   ]
  },
  {
   "cell_type": "markdown",
   "metadata": {},
   "source": [
    "### References"
   ]
  },
  {
   "cell_type": "markdown",
   "metadata": {},
   "source": [
    "<a id='References'></a>\n",
    "\n",
    "[[1]](#src_1) *Mahto, K.K., 2019. \"One-Hot-Encoding, Multicollinearity and the Dummy Variable Trap\". Retrieved 02 Feb 2020*  [(link)](https://towardsdatascience.com/one-hot-encoding-multicollinearity-and-the-dummy-variable-trap-b5840be3c41a)"
   ]
  }
 ],
 "metadata": {
  "kernelspec": {
   "display_name": "Python 3 (ipykernel)",
   "language": "python",
   "name": "python3"
  },
  "language_info": {
   "codemirror_mode": {
    "name": "ipython",
    "version": 3
   },
   "file_extension": ".py",
   "mimetype": "text/x-python",
   "name": "python",
   "nbconvert_exporter": "python",
   "pygments_lexer": "ipython3",
   "version": "3.9.13"
  }
 },
 "nbformat": 4,
 "nbformat_minor": 4
}
