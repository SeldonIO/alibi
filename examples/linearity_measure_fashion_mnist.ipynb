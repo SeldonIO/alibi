{
 "cells": [
  {
   "cell_type": "markdown",
   "metadata": {},
   "source": [
    "# Linearity measure applied to fashion MNIST\n",
    " \n",
    "## General definition\n",
    "\n",
    "The model linearity module in alibi provides metric to measure how linear an ML model is. Linearity is defined based on how much the linear superposition of the model's outputs differs from the output of the same linear superposition of the inputs. \n",
    "\n",
    "Given $N$ input vectors $v_i$, $N$ real coefficients $\\alpha_i$ and a predict function $\\text{M}(v_i)$, the linearity of the predict function is defined as\n",
    "\n",
    "$$L = \\Big|\\Big|\\sum_i \\alpha_i M(v_i) - M\\Big(\\sum_i \\alpha_i v_i\\Big) \\Big|\\Big| \\quad \\quad \\text{If M is a regressor}$$\n",
    "\n",
    "$$L = \\Big|\\Big|\\sum_i \\alpha_i \\log \\circ M(v_i) - \\log \\circ M\\Big(\\sum_i \\alpha_i v_i\\Big)\\Big|\\Big| \\quad \\quad \\text{If M is a classifier}$$\n",
    "\n",
    "Note that a lower value of $L$ means that the model $M$ is more linear.\n",
    "\n",
    "\n",
    "## Alibi implementation\n",
    "* Based on the general definition above, alibi calculates the linearity of a model in the neighboorhood of a given instance $v_0$. \n",
    "\n",
    "## Fashion MNIST data set\n",
    "\n",
    "* We train a convolutional neural network to classify the images in the fashion MNIST dataset. \n",
    "\n",
    "* We investigate the correlation between the model's linearity associated to a certain instance and the class the instance belong to. \n",
    "\n",
    "* We also calculate the linearity measure for each internal layer of the CNN and show how linearity propagates through the model."
   ]
  },
  {
   "cell_type": "code",
   "execution_count": 1,
   "metadata": {},
   "outputs": [],
   "source": [
    "import pandas as pd\n",
    "import numpy as np\n",
    "import matplotlib\n",
    "%matplotlib inline\n",
    "import matplotlib.pyplot as plt\n",
    "from time import time\n",
    "\n",
    "import tensorflow as tf\n",
    "\n",
    "from alibi.confidence.model_linearity import linearity_measure, LinearityMeasure\n",
    "from alibi.confidence.model_linearity import _infer_feature_range\n",
    "\n",
    "from tensorflow.keras.layers import Conv2D, Dense, Dropout, Flatten, MaxPooling2D, Input, Activation\n",
    "from tensorflow.keras.models import Model\n",
    "from tensorflow.keras.utils import to_categorical\n",
    "from tensorflow.keras import backend as K"
   ]
  },
  {
   "cell_type": "markdown",
   "metadata": {},
   "source": [
    "## Load data fashion mnist \n",
    "The fashion MNIST data set consists of 60000 images of shape $28 \\times 28$ divided in 10 categories. Each category corresponds to a different type of clothing piece, such as \"boots\", \"t-shirts\", etc"
   ]
  },
  {
   "cell_type": "code",
   "execution_count": 3,
   "metadata": {},
   "outputs": [
    {
     "name": "stdout",
     "output_type": "stream",
     "text": [
      "x_train shape: (60000, 28, 28) y_train shape: (60000,)\n"
     ]
    }
   ],
   "source": [
    "(x_train, y_train), (x_test, y_test) = tf.keras.datasets.fashion_mnist.load_data()\n",
    "print('x_train shape:', x_train.shape, 'y_train shape:', y_train.shape)"
   ]
  },
  {
   "cell_type": "code",
   "execution_count": 4,
   "metadata": {},
   "outputs": [
    {
     "name": "stdout",
     "output_type": "stream",
     "text": [
      "Sample instance from the MNIST data set.\n"
     ]
    },
    {
     "data": {
      "image/png": "[encoded data removed]",
      "text/plain": [
       "<Figure size 432x288 with 1 Axes>"
      ]
     },
     "metadata": {
      "needs_background": "light"
     },
     "output_type": "display_data"
    }
   ],
   "source": [
    "idx = 0\n",
    "plt.imshow(x_train[idx])\n",
    "print('Sample instance from the MNIST data set.')"
   ]
  },
  {
   "cell_type": "code",
   "execution_count": 5,
   "metadata": {},
   "outputs": [
    {
     "name": "stdout",
     "output_type": "stream",
     "text": [
      "x_train shape: (60000, 28, 28, 1) x_test shape: (10000, 28, 28, 1)\n",
      "y_train shape: (60000, 10) y_test shape: (10000, 10)\n"
     ]
    }
   ],
   "source": [
    "x_train = x_train.astype('float32') / 255\n",
    "x_test = x_test.astype('float32') / 255\n",
    "x_train = np.reshape(x_train, x_train.shape + (1,))\n",
    "x_test = np.reshape(x_test, x_test.shape + (1,))\n",
    "print('x_train shape:', x_train.shape, 'x_test shape:', x_test.shape)\n",
    "y_train = to_categorical(y_train)\n",
    "y_test = to_categorical(y_test)\n",
    "print('y_train shape:', y_train.shape, 'y_test shape:', y_test.shape)"
   ]
  },
  {
   "cell_type": "markdown",
   "metadata": {},
   "source": [
    "## Convolutional neural network\n",
    "Here we define and train a 2 layer convolutional neural network on the fashion MNIST data set."
   ]
  },
  {
   "cell_type": "markdown",
   "metadata": {},
   "source": [
    "### Define model"
   ]
  },
  {
   "cell_type": "code",
   "execution_count": 6,
   "metadata": {},
   "outputs": [],
   "source": [
    "def model():\n",
    "    x_in = Input(shape=(28, 28, 1), name='input')\n",
    "    x = Conv2D(filters=64, kernel_size=2, padding='same', name='conv_1')(x_in)\n",
    "    x = Activation('relu', name='relu_1')(x)\n",
    "    x = MaxPooling2D(pool_size=2, name='maxp_1')(x)\n",
    "    x = Dropout(0.3, name='drop_1')(x)\n",
    "    \n",
    "    x = Conv2D(filters=64, kernel_size=2, padding='same', name='conv_2')(x)\n",
    "    x = Activation('relu', name='relu_2')(x)\n",
    "    x = MaxPooling2D(pool_size=2, name='maxp_2')(x)\n",
    "    x = Dropout(0.3, name='drop_2')(x)\n",
    "    \n",
    "    x = Flatten(name='flat')(x)\n",
    "    x = Dense(256, name='dense_1')(x)\n",
    "    x = Activation('relu', name='relu_3')(x)\n",
    "    x = Dropout(0.5, name='drop_3')(x)\n",
    "    x_out = Dense(10, name='dense_2')(x)\n",
    "    x_out = Activation('softmax', name='softmax')(x_out)\n",
    "    \n",
    "    cnn = Model(inputs=x_in, outputs=x_out)\n",
    "    cnn.compile(loss='categorical_crossentropy', optimizer='adam', metrics=['accuracy'])\n",
    "    \n",
    "    return cnn"
   ]
  },
  {
   "cell_type": "code",
   "execution_count": 7,
   "metadata": {},
   "outputs": [
    {
     "name": "stdout",
     "output_type": "stream",
     "text": [
      "Model: \"model\"\n",
      "_________________________________________________________________\n",
      "Layer (type)                 Output Shape              Param #   \n",
      "=================================================================\n",
      "input (InputLayer)           [(None, 28, 28, 1)]       0         \n",
      "_________________________________________________________________\n",
      "conv_1 (Conv2D)              (None, 28, 28, 64)        320       \n",
      "_________________________________________________________________\n",
      "relu_1 (Activation)          (None, 28, 28, 64)        0         \n",
      "_________________________________________________________________\n",
      "maxp_1 (MaxPooling2D)        (None, 14, 14, 64)        0         \n",
      "_________________________________________________________________\n",
      "drop_1 (Dropout)             (None, 14, 14, 64)        0         \n",
      "_________________________________________________________________\n",
      "conv_2 (Conv2D)              (None, 14, 14, 64)        16448     \n",
      "_________________________________________________________________\n",
      "relu_2 (Activation)          (None, 14, 14, 64)        0         \n",
      "_________________________________________________________________\n",
      "maxp_2 (MaxPooling2D)        (None, 7, 7, 64)          0         \n",
      "_________________________________________________________________\n",
      "drop_2 (Dropout)             (None, 7, 7, 64)          0         \n",
      "_________________________________________________________________\n",
      "flat (Flatten)               (None, 3136)              0         \n",
      "_________________________________________________________________\n",
      "dense_1 (Dense)              (None, 256)               803072    \n",
      "_________________________________________________________________\n",
      "relu_3 (Activation)          (None, 256)               0         \n",
      "_________________________________________________________________\n",
      "drop_3 (Dropout)             (None, 256)               0         \n",
      "_________________________________________________________________\n",
      "dense_2 (Dense)              (None, 10)                2570      \n",
      "_________________________________________________________________\n",
      "softmax (Activation)         (None, 10)                0         \n",
      "=================================================================\n",
      "Total params: 822,410\n",
      "Trainable params: 822,410\n",
      "Non-trainable params: 0\n",
      "_________________________________________________________________\n"
     ]
    }
   ],
   "source": [
    "cnn = model()\n",
    "cnn.summary()"
   ]
  },
  {
   "cell_type": "markdown",
   "metadata": {},
   "source": [
    "### Training"
   ]
  },
  {
   "cell_type": "code",
   "execution_count": 8,
   "metadata": {},
   "outputs": [
    {
     "name": "stdout",
     "output_type": "stream",
     "text": [
      "Epoch 1/5\n",
      "60000/60000 [==============================] - 40s 674us/sample - loss: 0.5552 - acc: 0.7955\n",
      "Epoch 2/5\n",
      "60000/60000 [==============================] - 43s 717us/sample - loss: 0.3865 - acc: 0.8596\n",
      "Epoch 3/5\n",
      "60000/60000 [==============================] - 51s 852us/sample - loss: 0.3421 - acc: 0.8765\n",
      "Epoch 4/5\n",
      "60000/60000 [==============================] - 47s 782us/sample - loss: 0.3123 - acc: 0.8851\n",
      "Epoch 5/5\n",
      "60000/60000 [==============================] - 48s 802us/sample - loss: 0.2938 - acc: 0.8936\n"
     ]
    }
   ],
   "source": [
    "cnn.fit(x_train, y_train, batch_size=64, epochs=5);"
   ]
  },
  {
   "cell_type": "markdown",
   "metadata": {},
   "source": [
    "## Linearity of each Layer \n",
    "Here we calculate the linearity of the model considering each layer as the output in turn. The values are averaged over 100 random instances sampled from the training set."
   ]
  },
  {
   "cell_type": "markdown",
   "metadata": {},
   "source": [
    "### Extract layers"
   ]
  },
  {
   "cell_type": "code",
   "execution_count": 9,
   "metadata": {},
   "outputs": [],
   "source": [
    "inp = cnn.input\n",
    "outs = {l.name: l.output for l in cnn.layers}\n",
    "predict_fns = {name: K.function([inp], [out]) for name, out in outs.items()}"
   ]
  },
  {
   "cell_type": "markdown",
   "metadata": {},
   "source": [
    "### Calculate linearity"
   ]
  },
  {
   "cell_type": "code",
   "execution_count": 10,
   "metadata": {},
   "outputs": [],
   "source": [
    "# Infering feature ranges.\n",
    "features_range = _infer_feature_range(x_test)\n",
    "\n",
    "# Selecting random instances from training set.\n",
    "rnd = np.random.randint(len(x_test) - 101, size=100)"
   ]
  },
  {
   "cell_type": "code",
   "execution_count": 11,
   "metadata": {},
   "outputs": [],
   "source": [
    "lins_layers = {}\n",
    "for name, l in predict_fns.items():\n",
    "    if name != 'input':\n",
    "        def predict_fn(x):\n",
    "            layer = l([x])\n",
    "            return layer[0]\n",
    "        if name == 'softmax':\n",
    "            lins_layers[name] = linearity_measure(predict_fn, x_test[rnd], feature_range=features_range,\n",
    "                                                  agg='global', model_type='classifier', nb_samples=20)\n",
    "        else:\n",
    "            lins_layers[name] = linearity_measure(predict_fn, x_test[rnd], feature_range=features_range, \n",
    "                                                  agg='global', model_type='regressor', nb_samples=20)\n",
    "lins_layers_mean = {k: v.mean() for k, v in lins_layers.items()}\n",
    "S = pd.Series(data=lins_layers_mean)"
   ]
  },
  {
   "cell_type": "code",
   "execution_count": 12,
   "metadata": {},
   "outputs": [
    {
     "name": "stdout",
     "output_type": "stream",
     "text": [
      "Linearity measure calculated taking as output each layer of a convolutional neural network.\n"
     ]
    },
    {
     "data": {
      "image/png": "[encoded data removed]",
      "text/plain": [
       "<Figure size 1080x720 with 1 Axes>"
      ]
     },
     "metadata": {
      "needs_background": "light"
     },
     "output_type": "display_data"
    }
   ],
   "source": [
    "colors = ['gray' for l in S[:-1]]\n",
    "colors.append('r')\n",
    "ax = S.plot(kind='bar', linewidth=3, figsize=(15,10), color=colors, width=0.7, fontsize=18)\n",
    "ax.set_ylabel('L measure', fontsize=20)\n",
    "ax.set_xlabel('Layer', fontsize=20)\n",
    "print('Linearity measure calculated taking as output each layer of a convolutional neural network.')"
   ]
  },
  {
   "cell_type": "markdown",
   "metadata": {},
   "source": [
    "Linearity measure in the locality of a given instance calculated taking as output each layer of a convolutional neural network trained on the fashion MNIST data set.\n",
    "* The linearity measure of the first convolutional layer conv_1 is 0, as expected since convolutions are linear operations.\n",
    "* The relu activation introduces non-linearity, which is increased by maxpooling. Dropout layers and flatten layers do no change the output at inference time so the linearity doesn't change.\n",
    "* The second convolutional layer conv_2 and the dense layers change the linearity even though they are linear operations. \n",
    "* The softmax layer in red is obtained by inverting the softmax function. \n",
    "* For more details see arxiv reference."
   ]
  },
  {
   "cell_type": "markdown",
   "metadata": {},
   "source": [
    "## Linearity and categories\n",
    "Here we calculate the linearity averaged over all instances belonging to the same class, for each class."
   ]
  },
  {
   "cell_type": "code",
   "execution_count": 13,
   "metadata": {},
   "outputs": [],
   "source": [
    "class_groups = []\n",
    "for i in range(10):\n",
    "    y = y_test.argmax(axis=1)\n",
    "    idxs_i = np.where(y == i)[0]\n",
    "    class_groups.append(x_test[idxs_i])"
   ]
  },
  {
   "cell_type": "code",
   "execution_count": 14,
   "metadata": {},
   "outputs": [
    {
     "name": "stdout",
     "output_type": "stream",
     "text": [
      "Calculating linearity for instances belonging to class 0\n",
      "Run time for class 0: 2.941605806350708\n",
      "Calculating linearity for instances belonging to class 1\n",
      "Run time for class 1: 3.3313376903533936\n",
      "Calculating linearity for instances belonging to class 2\n",
      "Run time for class 2: 3.178601026535034\n",
      "Calculating linearity for instances belonging to class 3\n",
      "Run time for class 3: 3.324582815170288\n",
      "Calculating linearity for instances belonging to class 4\n",
      "Run time for class 4: 3.085338830947876\n",
      "Calculating linearity for instances belonging to class 5\n",
      "Run time for class 5: 3.159513473510742\n",
      "Calculating linearity for instances belonging to class 6\n",
      "Run time for class 6: 3.4014275074005127\n",
      "Calculating linearity for instances belonging to class 7\n",
      "Run time for class 7: 3.3238165378570557\n",
      "Calculating linearity for instances belonging to class 8\n",
      "Run time for class 8: 2.9885218143463135\n",
      "Calculating linearity for instances belonging to class 9\n",
      "Run time for class 9: 3.4760279655456543\n",
      "Total run time: 32.22387504577637\n"
     ]
    }
   ],
   "source": [
    "def predict_fn(x):\n",
    "    return cnn.predict(x)\n",
    "lins_classes = []\n",
    "t_0 = time()\n",
    "for j in range(len(class_groups)):\n",
    "    print(f'Calculating linearity for instances belonging to class {j}')\n",
    "    class_group = class_groups[j]\n",
    "    class_group = np.random.permutation(class_group)[:2000]\n",
    "    t_i = time()\n",
    "    lin = linearity_measure(predict_fn, class_group, feature_range=features_range,\n",
    "                            agg='global', model_type='classifier', nb_samples=20)\n",
    "    t_i_1 = time() - t_i\n",
    "    print(f'Run time for class {j}: {t_i_1}')\n",
    "    lins_classes.append(lin)\n",
    "t_fin = time() - t_0\n",
    "print(f'Total run time: {t_fin}')"
   ]
  },
  {
   "cell_type": "code",
   "execution_count": 15,
   "metadata": {},
   "outputs": [],
   "source": [
    "df = pd.DataFrame(data=lins_classes).T"
   ]
  },
  {
   "cell_type": "code",
   "execution_count": 16,
   "metadata": {},
   "outputs": [
    {
     "name": "stdout",
     "output_type": "stream",
     "text": [
      "Linearity measure distribution means for each class in the fashion MNIST data set.\n"
     ]
    },
    {
     "data": {
      "image/png": "[encoded data removed]",
      "text/plain": [
       "<Figure size 1080x720 with 1 Axes>"
      ]
     },
     "metadata": {
      "needs_background": "light"
     },
     "output_type": "display_data"
    }
   ],
   "source": [
    "ax = df.mean().plot(kind='bar', linewidth=3, figsize=(15,10), color='gray', width=0.7, fontsize=10)\n",
    "ax.set_ylabel('L measure', fontsize=20)\n",
    "ax.set_xlabel('Class', fontsize=20)\n",
    "print(\"Linearity measure distribution means for each class in the fashion MNIST data set.\")"
   ]
  },
  {
   "cell_type": "code",
   "execution_count": 17,
   "metadata": {},
   "outputs": [
    {
     "name": "stdout",
     "output_type": "stream",
     "text": [
      "Linearity measure distributions for each class in the fashion MNIST data set.\n"
     ]
    },
    {
     "data": {
      "image/png": "[encoded data removed]",
      "text/plain": [
       "<Figure size 720x720 with 10 Axes>"
      ]
     },
     "metadata": {
      "needs_background": "light"
     },
     "output_type": "display_data"
    }
   ],
   "source": [
    "ax2 = df.plot(kind='hist', subplots=True, bins=20, figsize=(10,10), sharey=True)\n",
    "for a in ax2:\n",
    "    a.set_xlabel('L measure', fontsize=20)\n",
    "    a.set_ylabel('', rotation=True, fontsize=10)\n",
    "#ax2.set_ylabel('F', fontsize=10)\n",
    "print('Linearity measure distributions for each class in the fashion MNIST data set.')"
   ]
  }
 ],
 "metadata": {
  "kernelspec": {
   "display_name": "Python 3",
   "language": "python",
   "name": "python3"
  },
  "language_info": {
   "codemirror_mode": {
    "name": "ipython",
    "version": 3
   },
   "file_extension": ".py",
   "mimetype": "text/x-python",
   "name": "python",
   "nbconvert_exporter": "python",
   "pygments_lexer": "ipython3",
   "version": "3.7.3"
  }
 },
 "nbformat": 4,
 "nbformat_minor": 2
}
