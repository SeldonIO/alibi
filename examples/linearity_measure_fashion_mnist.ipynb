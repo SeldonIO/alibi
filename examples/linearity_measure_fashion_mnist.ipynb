{
 "cells": [
  {
   "cell_type": "markdown",
   "metadata": {},
   "source": [
    "# Fashion MNIST experiment\n",
    "* We train a convolutional neural network to classify the images in the fashion MNIST data set. \n",
    "\n",
    "* We investigate the correlation between the model's linearity associated to a certain instance and the class the instance belong to. \n",
    "\n",
    "* We also calculate the linearity measure for each internal layer of the NN and show how linearity propagates through the model.\n"
   ]
  },
  {
   "cell_type": "code",
   "execution_count": 1,
   "metadata": {},
   "outputs": [],
   "source": [
    "import pandas as pd\n",
    "import numpy as np\n",
    "import matplotlib\n",
    "%matplotlib inline\n",
    "import matplotlib.pyplot as plt\n",
    "from time import time"
   ]
  },
  {
   "cell_type": "code",
   "execution_count": 2,
   "metadata": {},
   "outputs": [],
   "source": [
    "from sklearn.datasets import load_boston, load_iris\n",
    "import tensorflow as tf"
   ]
  },
  {
   "cell_type": "code",
   "execution_count": 3,
   "metadata": {},
   "outputs": [],
   "source": [
    "from alibi.confidence.model_linearity import linearity_measure, LinearityMeasure\n",
    "from alibi.confidence.model_linearity import _infer_feature_range"
   ]
  },
  {
   "cell_type": "code",
   "execution_count": 4,
   "metadata": {},
   "outputs": [
    {
     "name": "stderr",
     "output_type": "stream",
     "text": [
      "Using TensorFlow backend.\n"
     ]
    }
   ],
   "source": [
    "import keras\n",
    "from keras.layers import Conv2D, Dense, Dropout, Flatten, MaxPooling2D, Input, Activation\n",
    "from keras.models import Model\n",
    "from keras.utils import to_categorical\n",
    "from keras import backend as K"
   ]
  },
  {
   "cell_type": "markdown",
   "metadata": {},
   "source": [
    "## Load data fashion mnist \n",
    "The fashion MNIST data set consists of 60000 images of shape $28 \\times 28$ divided in 10 categories. Each category corresponds to a different type of clothing piece, such as \"boots\", \"t-shirts\", etc"
   ]
  },
  {
   "cell_type": "code",
   "execution_count": 5,
   "metadata": {},
   "outputs": [
    {
     "name": "stdout",
     "output_type": "stream",
     "text": [
      "x_train shape: (60000, 28, 28) y_train shape: (60000,)\n"
     ]
    }
   ],
   "source": [
    "(x_train, y_train), (x_test, y_test) = keras.datasets.fashion_mnist.load_data()\n",
    "print('x_train shape:', x_train.shape, 'y_train shape:', y_train.shape)"
   ]
  },
  {
   "cell_type": "code",
   "execution_count": 6,
   "metadata": {},
   "outputs": [
    {
     "name": "stdout",
     "output_type": "stream",
     "text": [
      "Sample instance from the MNIST data set.\n"
     ]
    },
    {
     "data": {
      "image/png": "[encoded data removed]",
      "text/plain": [
       "<Figure size 432x288 with 1 Axes>"
      ]
     },
     "metadata": {
      "needs_background": "light"
     },
     "output_type": "display_data"
    }
   ],
   "source": [
    "idx = 0\n",
    "plt.imshow(x_train[idx])\n",
    "print('Sample instance from the MNIST data set.')"
   ]
  },
  {
   "cell_type": "code",
   "execution_count": 7,
   "metadata": {},
   "outputs": [
    {
     "name": "stdout",
     "output_type": "stream",
     "text": [
      "x_train shape: (60000, 28, 28, 1) x_test shape: (10000, 28, 28, 1)\n",
      "y_train shape: (60000, 10) y_test shape: (10000, 10)\n"
     ]
    }
   ],
   "source": [
    "x_train = x_train.astype('float32') / 255\n",
    "x_test = x_test.astype('float32') / 255\n",
    "x_train = np.reshape(x_train, x_train.shape + (1,))\n",
    "x_test = np.reshape(x_test, x_test.shape + (1,))\n",
    "print('x_train shape:', x_train.shape, 'x_test shape:', x_test.shape)\n",
    "y_train = to_categorical(y_train)\n",
    "y_test = to_categorical(y_test)\n",
    "print('y_train shape:', y_train.shape, 'y_test shape:', y_test.shape)"
   ]
  },
  {
   "cell_type": "markdown",
   "metadata": {},
   "source": [
    "## Convolutional neural network\n",
    "Here we define and train a 2 layer convolutional neural network on the fashion MNIST data set."
   ]
  },
  {
   "cell_type": "markdown",
   "metadata": {},
   "source": [
    "### Define model"
   ]
  },
  {
   "cell_type": "code",
   "execution_count": 8,
   "metadata": {},
   "outputs": [],
   "source": [
    "def model():\n",
    "    x_in = Input(shape=(28, 28, 1), name='input')\n",
    "    x = Conv2D(filters=64, kernel_size=2, padding='same', name='conv_1')(x_in)\n",
    "    x = Activation('relu', name='relu_1')(x)\n",
    "    x = MaxPooling2D(pool_size=2, name='maxp_1')(x)\n",
    "    x = Dropout(0.3, name='drop_1')(x)\n",
    "    \n",
    "    x = Conv2D(filters=64, kernel_size=2, padding='same', name='conv_2')(x)\n",
    "    x = Activation('relu', name='relu_2')(x)\n",
    "    x = MaxPooling2D(pool_size=2, name='maxp_2')(x)\n",
    "    x = Dropout(0.3, name='drop_2')(x)\n",
    "    \n",
    "    x = Flatten(name='flat')(x)\n",
    "    x = Dense(256, name='dense_1')(x)\n",
    "    x = Activation('relu', name='relu_3')(x)\n",
    "    x = Dropout(0.5, name='drop_3')(x)\n",
    "    x_out = Dense(10, name='dense_2')(x)\n",
    "    x_out = Activation('softmax', name='softmax')(x_out)\n",
    "    \n",
    "    cnn = Model(inputs=x_in, outputs=x_out)\n",
    "    cnn.compile(loss='categorical_crossentropy', optimizer='adam', metrics=['accuracy'])\n",
    "    \n",
    "    return cnn"
   ]
  },
  {
   "cell_type": "code",
   "execution_count": 9,
   "metadata": {},
   "outputs": [
    {
     "name": "stdout",
     "output_type": "stream",
     "text": [
      "WARNING:tensorflow:From /home/fdz/anaconda3/envs/alibi/lib/python3.7/site-packages/tensorflow/python/framework/op_def_library.py:263: colocate_with (from tensorflow.python.framework.ops) is deprecated and will be removed in a future version.\n",
      "Instructions for updating:\n",
      "Colocations handled automatically by placer.\n",
      "WARNING:tensorflow:From /home/fdz/anaconda3/envs/alibi/lib/python3.7/site-packages/keras/backend/tensorflow_backend.py:3445: calling dropout (from tensorflow.python.ops.nn_ops) with keep_prob is deprecated and will be removed in a future version.\n",
      "Instructions for updating:\n",
      "Please use `rate` instead of `keep_prob`. Rate should be set to `rate = 1 - keep_prob`.\n",
      "_________________________________________________________________\n",
      "Layer (type)                 Output Shape              Param #   \n",
      "=================================================================\n",
      "input (InputLayer)           (None, 28, 28, 1)         0         \n",
      "_________________________________________________________________\n",
      "conv_1 (Conv2D)              (None, 28, 28, 64)        320       \n",
      "_________________________________________________________________\n",
      "relu_1 (Activation)          (None, 28, 28, 64)        0         \n",
      "_________________________________________________________________\n",
      "maxp_1 (MaxPooling2D)        (None, 14, 14, 64)        0         \n",
      "_________________________________________________________________\n",
      "drop_1 (Dropout)             (None, 14, 14, 64)        0         \n",
      "_________________________________________________________________\n",
      "conv_2 (Conv2D)              (None, 14, 14, 64)        16448     \n",
      "_________________________________________________________________\n",
      "relu_2 (Activation)          (None, 14, 14, 64)        0         \n",
      "_________________________________________________________________\n",
      "maxp_2 (MaxPooling2D)        (None, 7, 7, 64)          0         \n",
      "_________________________________________________________________\n",
      "drop_2 (Dropout)             (None, 7, 7, 64)          0         \n",
      "_________________________________________________________________\n",
      "flat (Flatten)               (None, 3136)              0         \n",
      "_________________________________________________________________\n",
      "dense_1 (Dense)              (None, 256)               803072    \n",
      "_________________________________________________________________\n",
      "relu_3 (Activation)          (None, 256)               0         \n",
      "_________________________________________________________________\n",
      "drop_3 (Dropout)             (None, 256)               0         \n",
      "_________________________________________________________________\n",
      "dense_2 (Dense)              (None, 10)                2570      \n",
      "_________________________________________________________________\n",
      "softmax (Activation)         (None, 10)                0         \n",
      "=================================================================\n",
      "Total params: 822,410\n",
      "Trainable params: 822,410\n",
      "Non-trainable params: 0\n",
      "_________________________________________________________________\n"
     ]
    }
   ],
   "source": [
    "cnn = model()\n",
    "cnn.summary()"
   ]
  },
  {
   "cell_type": "markdown",
   "metadata": {},
   "source": [
    "### Training"
   ]
  },
  {
   "cell_type": "code",
   "execution_count": 10,
   "metadata": {},
   "outputs": [
    {
     "name": "stdout",
     "output_type": "stream",
     "text": [
      "WARNING:tensorflow:From /home/fdz/anaconda3/envs/alibi/lib/python3.7/site-packages/tensorflow/python/ops/math_ops.py:3066: to_int32 (from tensorflow.python.ops.math_ops) is deprecated and will be removed in a future version.\n",
      "Instructions for updating:\n",
      "Use tf.cast instead.\n",
      "Epoch 1/1\n",
      "60000/60000 [==============================] - 50s 834us/step - loss: 0.5662 - acc: 0.7932\n"
     ]
    },
    {
     "data": {
      "text/plain": [
       "<keras.callbacks.History at 0x7f580d3e7828>"
      ]
     },
     "execution_count": 10,
     "metadata": {},
     "output_type": "execute_result"
    }
   ],
   "source": [
    "cnn.fit(x_train, y_train, batch_size=64, epochs=1)"
   ]
  },
  {
   "cell_type": "markdown",
   "metadata": {},
   "source": [
    "## Linearity of each Layer \n",
    "Here we calculated the linearity of the model considering each of the layer as the output. The values are averaged over 100 random instances sampled from the training set."
   ]
  },
  {
   "cell_type": "markdown",
   "metadata": {},
   "source": [
    "### Extract layers"
   ]
  },
  {
   "cell_type": "code",
   "execution_count": 11,
   "metadata": {},
   "outputs": [],
   "source": [
    "inp = cnn.input\n",
    "outs = {l.name: l.output for l in cnn.layers}\n",
    "predict_fns = {name: K.function([inp], [out]) for name, out in outs.items()}"
   ]
  },
  {
   "cell_type": "markdown",
   "metadata": {},
   "source": [
    "### Calculate linearity"
   ]
  },
  {
   "cell_type": "code",
   "execution_count": 12,
   "metadata": {},
   "outputs": [],
   "source": [
    "# Infering features ranges.\n",
    "features_range = _infer_feature_range(x_train)\n",
    "# Selecting random instances from training set.\n",
    "rnd = np.random.randint(len(x_train) - 1001, size=100)"
   ]
  },
  {
   "cell_type": "code",
   "execution_count": 13,
   "metadata": {},
   "outputs": [],
   "source": [
    "lins_layers = {}\n",
    "for name, l in predict_fns.items():\n",
    "    if name != 'input':\n",
    "        def predict_fn(x):\n",
    "            layer = l([x])\n",
    "            return layer[0]\n",
    "        if name == 'softmax':\n",
    "            lins_layers[name] = linearity_measure(predict_fn, x_train[rnd], features_range=features_range,\n",
    "                                                  agg='global', model_type='classifier', nb_samples=10)\n",
    "        else:\n",
    "            lins_layers[name] = linearity_measure(predict_fn, x_train[rnd], features_range=features_range, \n",
    "                                                  agg='global', model_type='regressor', nb_samples=10)\n",
    "lins_layers_mean = {k: v.mean() for k, v in lins_layers.items()}\n",
    "S = pd.Series(data=lins_layers_mean)"
   ]
  },
  {
   "cell_type": "code",
   "execution_count": 27,
   "metadata": {},
   "outputs": [
    {
     "name": "stdout",
     "output_type": "stream",
     "text": [
      "Linearity measure in the locality of a given instance calculated taking as output each layer of a convolutional neural network trained on the fashion MNIST data set.\n"
     ]
    },
    {
     "data": {
      "image/png": "[encoded data removed]",
      "text/plain": [
       "<Figure size 720x576 with 1 Axes>"
      ]
     },
     "metadata": {
      "needs_background": "light"
     },
     "output_type": "display_data"
    }
   ],
   "source": [
    "colors = ['gray' for l in S[:-1]]\n",
    "colors.append('r')\n",
    "ax = S.plot(kind='bar', linewidth=3, figsize=(10,8), color=colors, width=0.7, fontsize=18)\n",
    "ax.set_ylabel('L measure', fontsize=20)\n",
    "ax.set_xlabel('Layer', fontsize=20)\n",
    "print('Linearity measure in the locality of a given instance calculated taking as output each layer of a convolutional neural network trained on the fashion MNIST data set.')"
   ]
  },
  {
   "cell_type": "markdown",
   "metadata": {},
   "source": [
    "## Linearity and categories\n",
    "Here we calculate the linearity averaged over all instances belonging to the same class, for each class."
   ]
  },
  {
   "cell_type": "code",
   "execution_count": 15,
   "metadata": {},
   "outputs": [],
   "source": [
    "class_groups = []\n",
    "for i in range(10):\n",
    "    y = y_train.argmax(axis=1)\n",
    "    idxs_i = np.where(y == i)[0]\n",
    "    class_groups.append(x_train[idxs_i])"
   ]
  },
  {
   "cell_type": "code",
   "execution_count": 16,
   "metadata": {},
   "outputs": [
    {
     "name": "stdout",
     "output_type": "stream",
     "text": [
      "Calculating linearity for instances belonging to class 0\n",
      "Run time for class 0: 7.740753412246704\n",
      "Calculating linearity for instances belonging to class 1\n",
      "Run time for class 1: 6.661514520645142\n",
      "Calculating linearity for instances belonging to class 2\n",
      "Run time for class 2: 7.760556221008301\n",
      "Calculating linearity for instances belonging to class 3\n",
      "Run time for class 3: 9.46802806854248\n",
      "Calculating linearity for instances belonging to class 4\n",
      "Run time for class 4: 6.412372589111328\n",
      "Calculating linearity for instances belonging to class 5\n",
      "Run time for class 5: 6.94471001625061\n",
      "Calculating linearity for instances belonging to class 6\n",
      "Run time for class 6: 6.345818042755127\n",
      "Calculating linearity for instances belonging to class 7\n",
      "Run time for class 7: 7.963598728179932\n",
      "Calculating linearity for instances belonging to class 8\n",
      "Run time for class 8: 7.536167860031128\n",
      "Calculating linearity for instances belonging to class 9\n",
      "Run time for class 9: 7.0886993408203125\n",
      "Total run time: 73.96849584579468\n"
     ]
    }
   ],
   "source": [
    "def predict_fn(x):\n",
    "    return cnn.predict(x)\n",
    "lins_classes = []\n",
    "t_0 = time()\n",
    "for j in range(len(class_groups)):\n",
    "    print('Calculating linearity for instances belonging to class {}'.format(j))\n",
    "    class_group = class_groups[j]\n",
    "    class_group = np.random.permutation(class_group)[:2000]\n",
    "    t_i = time()\n",
    "    lin = linearity_measure(predict_fn, class_group, features_range=features_range,\n",
    "                                                  agg='global', model_type='classifier', nb_samples=20)\n",
    "    t_i_1 = time() - t_i\n",
    "    print('Run time for class {}: {}'.format(j, t_i_1))\n",
    "    lins_classes.append(lin)\n",
    "t_fin = time() - t_0\n",
    "print('Total run time: {}'.format(t_fin))"
   ]
  },
  {
   "cell_type": "code",
   "execution_count": 17,
   "metadata": {},
   "outputs": [],
   "source": [
    "df = pd.DataFrame(data=lins_classes).T"
   ]
  },
  {
   "cell_type": "code",
   "execution_count": 29,
   "metadata": {},
   "outputs": [
    {
     "name": "stdout",
     "output_type": "stream",
     "text": [
      "Linearity measure distributions' means for each class in the fashion MNIST data set.\n"
     ]
    },
    {
     "data": {
      "image/png": "[encoded data removed]",
      "text/plain": [
       "<Figure size 1080x720 with 1 Axes>"
      ]
     },
     "metadata": {
      "needs_background": "light"
     },
     "output_type": "display_data"
    }
   ],
   "source": [
    "ax = df.mean().plot(kind='bar', linewidth=3, figsize=(15,10), color='gray', width=0.7, fontsize=10)\n",
    "ax.set_ylabel('L measure', fontsize=20)\n",
    "ax.set_xlabel('Class', fontsize=20)\n",
    "print(\"Linearity measure distributions' means for each class in the fashion MNIST data set.\")"
   ]
  },
  {
   "cell_type": "code",
   "execution_count": 35,
   "metadata": {},
   "outputs": [
    {
     "name": "stdout",
     "output_type": "stream",
     "text": [
      "Linearity measure distributions for each class in the fashion MNIST data set.\n"
     ]
    },
    {
     "data": {
      "image/png": "[encoded data removed]",
      "text/plain": [
       "<Figure size 720x720 with 10 Axes>"
      ]
     },
     "metadata": {
      "needs_background": "light"
     },
     "output_type": "display_data"
    }
   ],
   "source": [
    "ax2 = df.plot(kind='hist', subplots=True, bins=20, figsize=(10,10), sharey=True)\n",
    "for a in ax2:\n",
    "    a.set_xlabel('L measure', fontsize=20)\n",
    "#ax2.set_ylabel('F', fontsize=10)\n",
    "print('Linearity measure distributions for each class in the fashion MNIST data set.')"
   ]
  },
  {
   "cell_type": "code",
   "execution_count": null,
   "metadata": {},
   "outputs": [],
   "source": []
  }
 ],
 "metadata": {
  "kernelspec": {
   "display_name": "Python 3",
   "language": "python",
   "name": "python3"
  },
  "language_info": {
   "codemirror_mode": {
    "name": "ipython",
    "version": 3
   },
   "file_extension": ".py",
   "mimetype": "text/x-python",
   "name": "python",
   "nbconvert_exporter": "python",
   "pygments_lexer": "ipython3",
   "version": "3.7.3"
  }
 },
 "nbformat": 4,
 "nbformat_minor": 2
}
