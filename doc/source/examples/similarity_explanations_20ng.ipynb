{
 "cells": [
  {
   "cell_type": "code",
   "execution_count": 1,
   "id": "c295a8fd",
   "metadata": {},
   "outputs": [
    {
     "name": "stdout",
     "output_type": "stream",
     "text": [
      "env: CUDA_VISIBLE_DEVICES=0\n"
     ]
    }
   ],
   "source": [
    "%set_env CUDA_VISIBLE_DEVICES=0"
   ]
  },
  {
   "cell_type": "markdown",
   "id": "611fec1a",
   "metadata": {},
   "source": [
    "# Similarity explanations for 20 news groups dataset"
   ]
  },
  {
   "cell_type": "markdown",
   "id": "9366dea8",
   "metadata": {},
   "source": [
    "In this notebook we apply the similarity explanation method to a feed forward neural network (FFNN) trained on the 20 news group dataset. \n",
    "\n",
    "The 20 news group dataset is a corpus of 18846 text documents (emails) divided in 20 sections. The FFNN is trained to classify each document in the correct section. The model uses pre-trained sentence embeddings as input features, which are obtained from raw text using a [pretrained transformer](https://www.sbert.net/docs/pretrained_models.html). \n",
    "\n",
    "Given an input document of interest, the similarity explanation method used here aims to find text documents in the train dataset that are similar to the document of interest according to \"how the model sees them\", meaning that the similarity metric makes use of the gradients of the model's loss function with respect to the model's parameters.\n",
    "\n",
    "The similarity explanation tool is implemented with both pytorch and tensorflow backends. In this example, we will use the pytorch backend.\n",
    "\n",
    "A more detailed description of the method can be found [here](link_to_method). The implementation follows  [Charpiat et al., 2019](https://papers.nips.cc/paper/2019/file/c61f571dbd2fb949d3fe5ae1608dd48b-Paper.pdf) and  [Hanawa et al. 2021](https://arxiv.org/pdf/2006.04528.pdf)."
   ]
  },
  {
   "cell_type": "code",
   "execution_count": 2,
   "id": "3c702433",
   "metadata": {},
   "outputs": [],
   "source": [
    "import numpy as np\n",
    "import pandas as pd\n",
    "import os\n",
    "import torch\n",
    "import re\n",
    "import string\n",
    "import matplotlib.pyplot as plt\n",
    "import torch.nn as nn\n",
    "from termcolor import colored\n",
    "from torch.utils.data import DataLoader\n",
    "from tqdm import tqdm\n",
    "from sentence_transformers import SentenceTransformer\n",
    "from sklearn.datasets import fetch_20newsgroups\n",
    "from sklearn.model_selection import train_test_split\n",
    "from alibi.explainers.similarity.grad import GradientSimilarity"
   ]
  },
  {
   "cell_type": "code",
   "execution_count": 3,
   "id": "8769f3c0",
   "metadata": {},
   "outputs": [],
   "source": [
    "def to_categorical(y, num_classes):\n",
    "    \"\"\" 1-hot encodes a tensor \"\"\"\n",
    "    return np.eye(num_classes, dtype='uint8')[y].astype('float32')\n",
    "\n",
    "class TorchDataset(torch.utils.data.Dataset):\n",
    "    \"\"\"Utility class to create a torch dataloader from numpy arrays.\n",
    "    \"\"\"\n",
    "    def __init__(self, *indexables):\n",
    "        self.indexables = indexables\n",
    "\n",
    "    def __getitem__(self, idx):\n",
    "        output = tuple(indexable[idx] for indexable in self.indexables)\n",
    "        return output if len(output) > 1 else output[0]\n",
    "\n",
    "    def __len__(self):\n",
    "        return len(self.indexables[0])\n",
    "    \n",
    "def clean_header(text):\n",
    "    text = re.sub(r'(From:\\s+[^\\n]+\\n)', '', text)\n",
    "    text = re.sub(r'(Subject:[^\\n]+\\n)', '', text)\n",
    "    text = re.sub(r'(([\\sA-Za-z0-9\\-]+)?[A|a]rchive-name:[^\\n]+\\n)', '', text)\n",
    "    text = re.sub(r'(Last-modified:[^\\n]+\\n)', '', text)\n",
    "    text = re.sub(r'(Version:[^\\n]+\\n)', '', text)\n",
    "\n",
    "    return text\n",
    "\n",
    "def clean_text(text):        \n",
    "    text = text.lower()\n",
    "    text = text.strip()\n",
    "    text = re.sub(re_url, '', text)\n",
    "    text = re.sub(re_email, '', text)\n",
    "    text = re.sub(f'[{re.escape(string.punctuation)}]', '', text)\n",
    "    text = re.sub(r'(\\d+)', ' ', text)\n",
    "    text = re.sub(r'(\\s+)', ' ', text)\n",
    "    \n",
    "    return text\n"
   ]
  },
  {
   "cell_type": "markdown",
   "id": "87f7db33",
   "metadata": {},
   "source": [
    "## Load data"
   ]
  },
  {
   "cell_type": "markdown",
   "id": "23401d67",
   "metadata": {},
   "source": [
    "Loading and preparing the 20 news group data set."
   ]
  },
  {
   "cell_type": "code",
   "execution_count": 9,
   "id": "9054cfc6",
   "metadata": {},
   "outputs": [
    {
     "name": "stdout",
     "output_type": "stream",
     "text": [
      "Loading 20 news groups dataset\n",
      "Cleaning text\n",
      "\n",
      "\u001b[31mSample document before cleaning\u001b[0m\n",
      "\n",
      "So its an automatic? Don't know if US spec=CDN spec. for Maximas.\n",
      "\n",
      "\n",
      "If it is the first set of brake pads on front, then this is fine. My car\n",
      "eats a set every 15k miles or so. The fact that he is replacing the\n",
      "muffler too is also ok.\n",
      "\n",
      "\n",
      "The mileage is fairly low - but typical fwd stuff is CV joints. Check\n",
      "the maintenance records with the manufacturers requirements for valve\n",
      "adjustments, timing belt changes and so on.\n",
      "\n",
      "The 60k mile service is often expensive, so make sure he has done everything.\n",
      "\n",
      "\n",
      "Well, this is one of the commonly cited methods for identifying a\n",
      "car with highway miles. \n",
      "Might check the gas pedal wear too. Ask him how many sets of tires he\n",
      "has been through. A highway car might have squeezed by on 2 sets,\n",
      "a hard driven car 6-10 sets.\n",
      "\n",
      "\n",
      "\n",
      "Well, the Maxima should be pretty reliable - but if its out of warranty\n",
      "you should get it checked out by someone knowledgeable first. Stuff\n",
      "for Japanese cars can be expensive.\n",
      "\n",
      "\n",
      "1995 model year, I believe. \n",
      "\n",
      "\u001b[31mSample document after cleaning\u001b[0m\n",
      "so its an automatic dont know if us speccdn spec for maximas if it is the first set of brake pads on front then this is fine my car eats a set every k miles or so the fact that he is replacing the muffler too is also ok the mileage is fairly low but typical fwd stuff is cv joints check the maintenance records with the manufacturers requirements for valve adjustments timing belt changes and so on the k mile service is often expensive so make sure he has done everything well this is one of the commonly cited methods for identifying a car with highway miles might check the gas pedal wear too ask him how many sets of tires he has been through a highway car might have squeezed by on sets a hard driven car sets well the maxima should be pretty reliable but if its out of warranty you should get it checked out by someone knowledgeable first stuff for japanese cars can be expensive model year i believe\n",
      "\n",
      "Splitting train - test\n",
      "X_train shape: (15076,) - y_train shape: (15076, 20)\n",
      "X_test shape: (3770,) - y_test shape: (3770, 20)\n"
     ]
    }
   ],
   "source": [
    "re_url = re.compile(r'(?:http|ftp|https)://(?:[\\w_-]+(?:(?:\\.[\\w_-]+)+))(?:[\\w.,@?^=%&:/~+#-]*[\\w@?^=%&/~+#-])?')\n",
    "re_email = re.compile('(?:[a-z0-9!#$%&\\'*+/=?^_`{|}~-]+(?:\\.[a-z0-9!#$%&\\'*+/=?^_`{|}~-]+)*|\"' + \n",
    "                      '(?:[\\x01-\\x08\\x0b\\x0c\\x0e-\\x1f\\x21\\x23-\\x5b\\x5d-\\x7f]|\\\\[\\x01-\\x09\\x0b\\x0c\\x0e-\\x7f])*\")' + \n",
    "                      '@(?:(?:[a-z0-9](?:[a-z0-9-]*[a-z0-9])?\\.)+[a-z0-9]' + \n",
    "                      '(?:[a-z0-9-]*[a-z0-9])?|\\[(?:(?:(2(5[0-5]|[0-4][0-9])|1[0-9][0-9]|[1-9]?[0-9]))\\.)' + \n",
    "                      '{3}(?:(2(5[0-5]|[0-4][0-9])|1[0-9][0-9]|[1-9]?[0-9])|[a-z0-9-]*[a-z0-9]:' + \n",
    "                      '(?:[\\x01-\\x08\\x0b\\x0c\\x0e-\\x1f\\x21-\\x5a\\x53-\\x7f]|\\\\[\\x01-\\x09\\x0b\\x0c\\x0e-\\x7f])+)\\])')\n",
    "example_idx = 4\n",
    "\n",
    "print(\"Loading 20 news groups dataset\")\n",
    "data = fetch_20newsgroups(shuffle=True, random_state=1, subset='all',\n",
    "                          remove=('headers', 'footers', 'quotes'),\n",
    "                          return_X_y=False)\n",
    "X, y = np.asarray(data.data), data.target\n",
    "target_names = data.target_names\n",
    "df = pd.DataFrame({'text': X, 'labels': y})\n",
    "\n",
    "print(\"Cleaning text\")\n",
    "df['text_cleaned'] = df['text'].apply(clean_header)\n",
    "df['text_cleaned'] = df['text_cleaned'].apply(clean_text)\n",
    "print('')\n",
    "\n",
    "print(colored(\"Sample document before cleaning\", 'red'))\n",
    "print(f\"{df['text'][example_idx]}\")\n",
    "print('')\n",
    "print(colored(\"Sample document after cleaning\", 'red'))\n",
    "print(f\"{df['text_cleaned'][example_idx]}\")\n",
    "print('')\n",
    "\n",
    "print(\"Splitting train - test\")\n",
    "df_train, df_test = train_test_split(df, test_size=0.2)\n",
    "X_train, y_train = df_train['text_cleaned'].values, df_train['labels'].values\n",
    "X_test, y_test = df_test['text_cleaned'].values, df_test['labels'].values\n",
    "y_train, y_test = to_categorical(y_train, num_classes=20), to_categorical(y_test, num_classes=20)\n",
    "print(f\"X_train shape: {X_train.shape} - y_train shape: {y_train.shape}\")\n",
    "print(f\"X_test shape: {X_test.shape} - y_test shape: {y_test.shape}\")"
   ]
  },
  {
   "cell_type": "markdown",
   "id": "cfdb67fd",
   "metadata": {},
   "source": [
    "## Define and train model"
   ]
  },
  {
   "cell_type": "markdown",
   "id": "177469ea",
   "metadata": {},
   "source": [
    "We define and train a pytorch classifier using sentence embeddings as inputs."
   ]
  },
  {
   "cell_type": "markdown",
   "id": "894f1d3b",
   "metadata": {},
   "source": [
    "### Define model"
   ]
  },
  {
   "cell_type": "code",
   "execution_count": 10,
   "id": "ea62d378",
   "metadata": {},
   "outputs": [],
   "source": [
    "class EmbeddingModel:\n",
    "    \"\"\"Pre-trained sentence transformer wrapper.\n",
    "    \"\"\"\n",
    "    def __init__(\n",
    "        self,\n",
    "        model_name: str = 'paraphrase-MiniLM-L6-v2',  # https://www.sbert.net/docs/pretrained_models.html\n",
    "        max_seq_length: int = 200,\n",
    "        batch_size: int = 32,\n",
    "        device: torch.device = None\n",
    "    ) -> None:\n",
    "        if not isinstance(device, torch.device):\n",
    "            device = torch.device('cuda' if torch.cuda.is_available() else 'cpu')\n",
    "        self.encode_text = SentenceTransformer(model_name).to(device)\n",
    "        self.encode_text.max_seq_length = max_seq_length\n",
    "        self.batch_size = batch_size\n",
    "    \n",
    "    def __call__(self, x: np.ndarray) -> np.ndarray:\n",
    "        return self.encode_text.encode(x, \n",
    "                                       convert_to_numpy=True, \n",
    "                                       batch_size=self.batch_size,\n",
    "                                       show_progress_bar=False)\n",
    "\n",
    "class Classifier(nn.Module):\n",
    "    \"\"\"FFNN classifier with pretrained sentence embeddings inputs.\n",
    "    \"\"\"\n",
    "    def __init__(\n",
    "        self, \n",
    "        n_classes= 20\n",
    "    ) -> None:\n",
    "        \"\"\" Text classification model from sentence embeddings. \"\"\"\n",
    "        super().__init__()\n",
    "        self.head = nn.Sequential(nn.Linear(384, 256), \n",
    "                                  nn.LeakyReLU(.1), \n",
    "                                  nn.Dropout(.5), \n",
    "                                  nn.Linear(256, n_classes))\n",
    "        \n",
    "    def forward(self, sentence_embeddings) -> torch.Tensor:\n",
    "        return self.head(sentence_embeddings)"
   ]
  },
  {
   "cell_type": "code",
   "execution_count": 11,
   "id": "ed493080",
   "metadata": {},
   "outputs": [],
   "source": [
    "device = torch.device('cuda' if torch.cuda.is_available() else 'cpu') "
   ]
  },
  {
   "cell_type": "markdown",
   "id": "af340e2c",
   "metadata": {},
   "source": [
    "### Get sentence embeddings and define dataloaders"
   ]
  },
  {
   "cell_type": "code",
   "execution_count": 12,
   "id": "ca37a6af",
   "metadata": {},
   "outputs": [
    {
     "name": "stdout",
     "output_type": "stream",
     "text": [
      "Getting train embeddings\n",
      "Getting test embeddings\n"
     ]
    }
   ],
   "source": [
    "embedding_model = EmbeddingModel(device=device)\n",
    "\n",
    "print('Getting train embeddings')    \n",
    "embeddings_train = embedding_model(X_train)\n",
    "train_loader = DataLoader(TorchDataset(torch.Tensor(embeddings_train).to(device), \n",
    "                                       torch.Tensor(y_train).to(device)), \n",
    "                          batch_size=32, \n",
    "                          shuffle=True)\n",
    "\n",
    "print('Getting test embeddings')  \n",
    "embeddings_test = embedding_model(X_test)\n",
    "test_loader = DataLoader(TorchDataset(torch.Tensor(embeddings_test).to(device), \n",
    "                                      torch.Tensor(y_test).to(device)), \n",
    "                         batch_size=32, \n",
    "                         shuffle=False)"
   ]
  },
  {
   "cell_type": "markdown",
   "id": "ed010991",
   "metadata": {},
   "source": [
    "### Train model"
   ]
  },
  {
   "cell_type": "code",
   "execution_count": 13,
   "id": "a9a4521f",
   "metadata": {
    "scrolled": true
   },
   "outputs": [
    {
     "name": "stdout",
     "output_type": "stream",
     "text": [
      "Training classifier\n"
     ]
    },
    {
     "name": "stderr",
     "output_type": "stream",
     "text": [
      "100%|███████████████| 472/472 [00:00<00:00, 1110.86it/s]\n",
      "100%|███████████████| 472/472 [00:00<00:00, 1085.19it/s]\n",
      "100%|███████████████| 472/472 [00:00<00:00, 1100.92it/s]\n"
     ]
    }
   ],
   "source": [
    "epochs = 3\n",
    "\n",
    "# initialize classifier\n",
    "model = Classifier().to(device)\n",
    "print('Training classifier')\n",
    "loss_fn = nn.CrossEntropyLoss()\n",
    "optimizer = torch.optim.Adam(model.parameters(), lr=1e-3)\n",
    "for epoch in range(epochs):\n",
    "    for x, y in tqdm(train_loader):\n",
    "        y_hat = model(x)\n",
    "        optimizer.zero_grad()\n",
    "        loss = loss_fn(y_hat, y)\n",
    "        loss.backward()\n",
    "        optimizer.step()"
   ]
  },
  {
   "cell_type": "markdown",
   "id": "889dc742",
   "metadata": {},
   "source": [
    "### Evaluate model"
   ]
  },
  {
   "cell_type": "markdown",
   "id": "b7d8bd58",
   "metadata": {},
   "source": [
    "Evaluating the model on train and test set. Since the dataset is well balanced, we only consider accuracy as evaluation metric."
   ]
  },
  {
   "cell_type": "code",
   "execution_count": 14,
   "id": "8d93b6a5",
   "metadata": {},
   "outputs": [
    {
     "name": "stdout",
     "output_type": "stream",
     "text": [
      "Train set evaluation\n",
      "Accuracy: 0.703\n",
      "Test set evaluation\n",
      "Accuracy: 0.649\n"
     ]
    }
   ],
   "source": [
    "def eval_model(model, loader):\n",
    "    model.eval()\n",
    "    logits, labels = [], []\n",
    "    with torch.no_grad():\n",
    "        for x, y in loader:\n",
    "            y_hat = model(x)\n",
    "            logits += [y_hat.cpu().numpy()]\n",
    "            labels += [y.cpu().numpy()]\n",
    "    logits = np.concatenate(logits, 0)\n",
    "    preds = np.argmax(logits, 1)\n",
    "    labels = np.concatenate(labels, 0)\n",
    "    accuracy = (preds == labels.argmax(axis=1)).mean()\n",
    "    print(f'Accuracy: {accuracy:.3f}')\n",
    "    \n",
    "print('Train set evaluation')\n",
    "eval_model(model, train_loader)\n",
    "print('Test set evaluation')\n",
    "eval_model(model, test_loader)"
   ]
  },
  {
   "cell_type": "markdown",
   "id": "8886b5f3",
   "metadata": {},
   "source": [
    "## Find similaraties "
   ]
  },
  {
   "cell_type": "markdown",
   "id": "1e06b980",
   "metadata": {},
   "source": [
    "Selecting a reference set of 1000 random samples from the training set. The `GradientSimilarity` explainer will find the most similar instances among those. This downsampling step is performed in order to speed up the `fit` step."
   ]
  },
  {
   "cell_type": "code",
   "execution_count": 15,
   "id": "b0694105",
   "metadata": {},
   "outputs": [],
   "source": [
    "idxs_ref = np.random.choice(len(X_train), 1000, replace=False)\n",
    "X_ref = X_train[idxs_ref]\n",
    "embeddings_ref = embeddings_train[idxs_ref]\n",
    "y_ref = y_train[idxs_ref]"
   ]
  },
  {
   "cell_type": "markdown",
   "id": "c67aae23",
   "metadata": {},
   "source": [
    "Initializing a `GradientSimilarity` explainer instance."
   ]
  },
  {
   "cell_type": "code",
   "execution_count": 16,
   "id": "f135bb7a",
   "metadata": {},
   "outputs": [],
   "source": [
    "gsm = GradientSimilarity(model, \n",
    "                         loss_fn, \n",
    "                         precompute_grads=True, \n",
    "                         sim_fn='grad_cos', \n",
    "                         backend='pytorch', \n",
    "                         device=device)"
   ]
  },
  {
   "cell_type": "markdown",
   "id": "6dad914f",
   "metadata": {},
   "source": [
    "Fitting the explainer on the reference data."
   ]
  },
  {
   "cell_type": "code",
   "execution_count": 17,
   "id": "597cc5f3",
   "metadata": {},
   "outputs": [
    {
     "data": {
      "text/plain": [
       "GradientSimilarity(meta={\n",
       "  'name': 'GradientSimilarity',\n",
       "  'type': ['whitebox'],\n",
       "  'explanations': ['local'],\n",
       "  'params': {\n",
       "              'sim_fn_name': 'grad_cos',\n",
       "              'store_grads': True,\n",
       "              'backend_name': 'pytorch',\n",
       "              'task_name': 'classification'}\n",
       "            ,\n",
       "  'version': '0.6.6dev'}\n",
       ")"
      ]
     },
     "execution_count": 17,
     "metadata": {},
     "output_type": "execute_result"
    }
   ],
   "source": [
    "gsm.fit(embeddings_ref, y_ref)"
   ]
  },
  {
   "cell_type": "markdown",
   "id": "307c3f73",
   "metadata": {},
   "source": [
    "Selecting 5 random instances from the test set."
   ]
  },
  {
   "cell_type": "code",
   "execution_count": 18,
   "id": "f08b5935",
   "metadata": {},
   "outputs": [],
   "source": [
    "idxs_samples = np.random.choice(len(X_test), 5, replace=False)\n",
    "X_sample, embeddings_sample, y_sample = X_test[idxs_samples], embeddings_test[idxs_samples], y_test[idxs_samples]"
   ]
  },
  {
   "cell_type": "markdown",
   "id": "c6f66047",
   "metadata": {},
   "source": [
    "Getting predictions and explanations for each of the 5 test samples."
   ]
  },
  {
   "cell_type": "code",
   "execution_count": 19,
   "id": "208dab82",
   "metadata": {},
   "outputs": [],
   "source": [
    "preds = model(torch.Tensor(embeddings_sample).to(device)).detach().cpu().numpy().argmax(axis=1)\n",
    "expls = gsm.explain(embeddings_sample, y_sample)"
   ]
  },
  {
   "cell_type": "markdown",
   "id": "39d31e05",
   "metadata": {},
   "source": [
    "Building a dictionary for each sample for visualization purposes. \n",
    "Each dictionary contains\n",
    "* The original text document `x` (not the embedding representation).\n",
    "* The corresponding label `y`.\n",
    "* The corresponding model's prediction `pred`.\n",
    "* The reference instances ordered by similarity `x_sim`.\n",
    "* The corresponding reference labels ordered by similarity `y_sim`.\n",
    "* The corresponding model's predictions for the reference set `preds_sim`."
   ]
  },
  {
   "cell_type": "code",
   "execution_count": 20,
   "id": "b20715b1",
   "metadata": {},
   "outputs": [],
   "source": [
    "ds = []\n",
    "for j in range(len(embeddings_sample)):\n",
    "    y_sim = y_ref[expls.data['ordered_indices'][j]].argmax(axis=1)\n",
    "    X_sim = X_ref[expls.data['ordered_indices'][j]]\n",
    "    sim_embedding = embeddings_ref[expls.data['ordered_indices'][j]]\n",
    "    preds_sim = model(torch.Tensor(sim_embedding).to(device)).detach().cpu().numpy().argmax(axis=1)\n",
    "\n",
    "    d = {'x': X_sample[j], \n",
    "         'y': y_sample[j].argmax(), \n",
    "         'pred':preds[j],\n",
    "         'x_sim': X_sim,\n",
    "         'y_sim': y_sim, \n",
    "         'preds_sim': preds_sim}\n",
    "    ds.append(d)"
   ]
  },
  {
   "cell_type": "markdown",
   "id": "46033679",
   "metadata": {},
   "source": [
    "Showing the most similar instance for each of the test instances."
   ]
  },
  {
   "cell_type": "code",
   "execution_count": 21,
   "id": "d98e9482",
   "metadata": {},
   "outputs": [
    {
     "name": "stdout",
     "output_type": "stream",
     "text": [
      "\u001b[34mSample nb 0\u001b[0m\n",
      "\u001b[34m===========\u001b[0m\n",
      "\n",
      "\u001b[31mOriginal instance - \u001b[0m \u001b[31mLabel: sci.electronics - \u001b[0m \u001b[31mPrediction: comp.os.ms-windows.misc\u001b[0m\n",
      "yep at oakoaklandedu they have a couple different hc things in pubmsdosemulators and get the file indextxt for a list of what they have lige\n",
      "\n",
      "\u001b[31mMost similar instance - \u001b[0m \u001b[31mLabel: sci.electronics - \u001b[0m \u001b[31mPrediction: sci.electronics\u001b[0m\n",
      "radioelectronics sends each company a bunch of computerprinted address labels for all the people who circled that companys number the company sends whatever it wants to normally a catalog\n",
      "\n",
      "\u001b[34mSample nb 1\u001b[0m\n",
      "\u001b[34m===========\u001b[0m\n",
      "\n",
      "\u001b[31mOriginal instance - \u001b[0m \u001b[31mLabel: soc.religion.christian - \u001b[0m \u001b[31mPrediction: soc.religion.christian\u001b[0m\n",
      "hmmmakes you wonder whether prayer in jesus name means saying jesus name or whether were simply to do all things with the attitude that we belong to jesus frank d\n",
      "\n",
      "\u001b[31mMost similar instance - \u001b[0m \u001b[31mLabel: soc.religion.christian - \u001b[0m \u001b[31mPrediction: soc.religion.christian\u001b[0m\n",
      " in response to a question about why jesus parents would be sanctified beyond normal humanity i would think that simply being pregnant with the incarnation of the almighty god would be enough to make mary blessed among all women whether or not she had special spiritual attributes i find that the more special mary needs to be the less human jesus gets\n",
      "\n",
      "\u001b[34mSample nb 2\u001b[0m\n",
      "\u001b[34m===========\u001b[0m\n",
      "\n",
      "\u001b[31mOriginal instance - \u001b[0m \u001b[31mLabel: sci.electronics - \u001b[0m \u001b[31mPrediction: comp.windows.x\u001b[0m\n",
      "hi there can anyone tell me where it is possible to purchase controls found on most arcade style games many projects i am working on would be greatly augmented if i could implement them thanx in advance\n",
      "\n",
      "\u001b[31mMost similar instance - \u001b[0m \u001b[31mLabel: sci.electronics - \u001b[0m \u001b[31mPrediction: sci.electronics\u001b[0m\n",
      "the best info i have seen so far is the article joystick metrics measuring physical properties through the pcs joystick port by michael covington in the may issue of pc tech journal it talks about how to read all kinds of things voltage current resistance in basic and even includes code for a simple oscilloscope display its possible to read the joystick port directly if you dont want to use basic the detailed information for this is in the pc technical reference under options and adapters you have to provide some millisecond resolution timing functions but thats a subject which has appeared many times in articles from dr dobbs circuit cellar ink etc look for the public domain ztimer package on wuarchive good luck\n",
      "\n",
      "\u001b[34mSample nb 3\u001b[0m\n",
      "\u001b[34m===========\u001b[0m\n",
      "\n",
      "\u001b[31mOriginal instance - \u001b[0m \u001b[31mLabel: rec.sport.baseball - \u001b[0m \u001b[31mPrediction: rec.sport.baseball\u001b[0m\n",
      "im no kingman fan just thought id point out that hes the only player in history to have five threehr games joe carter has four eddie murray three mccovey and gehrig also three ruth mays foxx and dawson two each i dont think reggies ws game counts else i believe he would also have had two the beastmaster\n",
      "\n",
      "\u001b[31mMost similar instance - \u001b[0m \u001b[31mLabel: rec.sport.baseball - \u001b[0m \u001b[31mPrediction: rec.sport.baseball\u001b[0m\n",
      "my understanding was that ted turner owner of the braves started running his tv station nationwide and started running all of his teams games on his nationwide tv station he dubbed his team americas team that is the only team at least at the time all of whose games could be seen across america now wor is nationwide out of beautiful secaucus but not all mets games are on wor wgn chicago and wsbk boston are two other superstations at least they are on the east coast i dont know how many cubssoxsox games they show hymie ill be mellow when im dead weird al yankovic you get your mellow laid back attitude from sonny the cuckoo bird josh about me\n",
      "\n",
      "\u001b[34mSample nb 4\u001b[0m\n",
      "\u001b[34m===========\u001b[0m\n",
      "\n",
      "\u001b[31mOriginal instance - \u001b[0m \u001b[31mLabel: sci.space - \u001b[0m \u001b[31mPrediction: sci.med\u001b[0m\n",
      "a freeze dried tootsie roll tm the actual taste sensation was like nothing you will ever willingly experience the amazing thing was that we ate a second one and a third and i doubt that they actually flew on missions as im certain they did bad things to the gastrointestinal tract compared to space food sticks tang was a gastronomic contribution to mankind dillon pyron the opinions expressed are those of the tidseg lewisville vax support sender unless otherwise stated when im here when im home god gave us weather so we wouldnt complain about other things padi dm \n",
      "\n",
      "\u001b[31mMost similar instance - \u001b[0m \u001b[31mLabel: sci.space - \u001b[0m \u001b[31mPrediction: sci.space\u001b[0m\n",
      "henry if i read you correctly you may be asking if i put a blackbody in interstellar space disregarding the sun and nearby large warm objects what termperature will it reach in thermal equilibrium with the ambient radiation field if thats the case let me point out that interstellar dust and molecules provide many instances of things that are well nottoofar from being blackbodies many different observations including iras and cobe have determined that interstellar dust grain temperatures can range from k to k you might look in a conference proceedings interstellar processes ed d j hollenbach and h a thronson jr published in try the articles by tielens et al seab and black inside the disk of the galaxy the temperature varies quite a bit from place to place how close are you to the nearest ob association i would guess outside the galaxy of course things arent so varied i hope this is what you were looking for\n",
      "\n"
     ]
    }
   ],
   "source": [
    "for sample_nb in range(5):\n",
    "    print(colored(f\"Sample nb {sample_nb}\", 'blue'))\n",
    "    print(colored(\"===========\", 'blue'))\n",
    "    print('')\n",
    "    \n",
    "    print(colored(\"Original instance - \", 'red'), \n",
    "          colored(f\"Label: {target_names[ds[sample_nb]['y']]} - \", 'red'), \n",
    "          colored(f\"Prediction: {target_names[ds[sample_nb]['pred']]}\", 'red'))\n",
    "    print(f\"{ds[sample_nb]['x']}\")\n",
    "    print('')\n",
    "\n",
    "    print(colored(\"Most similar instance - \", 'red'), \n",
    "          colored(f\"Label: {target_names[ds[sample_nb]['y_sim'][0]]} - \", 'red'), \n",
    "          colored(f\"Prediction: {target_names[ds[sample_nb]['preds_sim'][0]]}\", 'red'))\n",
    "    print(f\"{ds[sample_nb]['x_sim'][0]}\")\n",
    "    print('')"
   ]
  },
  {
   "cell_type": "markdown",
   "id": "89288d2c",
   "metadata": {},
   "source": [
    "## Most similar labels distributions "
   ]
  },
  {
   "cell_type": "markdown",
   "id": "446700df",
   "metadata": {},
   "source": [
    "Showing the average similarity scores for each group of instances in the reference set belonging to the same true class and to same predicted class. "
   ]
  },
  {
   "cell_type": "code",
   "execution_count": 26,
   "id": "50b0b6e0",
   "metadata": {},
   "outputs": [],
   "source": [
    "def plot_distributions(ds, expls, figsize=(20, 5)):\n",
    "\n",
    "    for i in range(len(ds)):\n",
    "        fig, axes = plt.subplots(1, 2, figsize=figsize, sharex=False)\n",
    "        d = ds[i]\n",
    "\n",
    "        y_sim = d['y_sim']\n",
    "        preds_sim = d['preds_sim']\n",
    "        y = d['y']\n",
    "        pred = d['pred']\n",
    "        df_ditribution = pd.DataFrame({'y_sim': y_sim, \n",
    "                                       'preds_sim': preds_sim, \n",
    "                                       'scores': expls.data['scores'][i]})\n",
    "        print(colored(f\"Sample nb {i}\", 'blue'))\n",
    "        print(colored(\"===========\", 'blue'))\n",
    "        print('')\n",
    "\n",
    "        print(colored(\"Original instance\", 'red'))\n",
    "        print(colored(f\"Label: section {d['y']}, {target_names[d['y']]}\", 'red')) \n",
    "        print(colored(f\"Prediction: section {d['pred']}, {target_names[d['pred']]}\", 'red'))\n",
    "        print(f\"{d['x']}\")\n",
    "        \n",
    "        df_y = df_ditribution.groupby('y_sim')['scores'].mean().sort_values(ascending=False)\n",
    "        df_y.plot(kind='bar', ax=axes[0])\n",
    "        axes[0].set_title(\"Averaged scores for each true class in reference set \\n\")\n",
    "        df_preds = df_ditribution.groupby('preds_sim')['scores'].mean().sort_values(ascending=False)\n",
    "        df_preds.plot(kind='bar', ax=axes[1])\n",
    "        axes[1].set_title(\"Averaged scores for each predicted class in reference set \\n\")\n",
    "\n",
    "        plt.show()"
   ]
  },
  {
   "cell_type": "code",
   "execution_count": 27,
   "id": "7fdff624",
   "metadata": {
    "scrolled": false
   },
   "outputs": [
    {
     "name": "stdout",
     "output_type": "stream",
     "text": [
      "\u001b[34mSample nb 0\u001b[0m\n",
      "\u001b[34m===========\u001b[0m\n",
      "\n",
      "\u001b[31mOriginal instance\u001b[0m\n",
      "\u001b[31mLabel: section 12, sci.electronics\u001b[0m\n",
      "\u001b[31mPrediction: section 2, comp.os.ms-windows.misc\u001b[0m\n",
      "yep at oakoaklandedu they have a couple different hc things in pubmsdosemulators and get the file indextxt for a list of what they have lige\n"
     ]
    },
    {
     "data": {
      "image/png": "[encoded data removed]",
      "text/plain": [
       "<Figure size 1440x360 with 2 Axes>"
      ]
     },
     "metadata": {
      "needs_background": "light"
     },
     "output_type": "display_data"
    },
    {
     "name": "stdout",
     "output_type": "stream",
     "text": [
      "\u001b[34mSample nb 1\u001b[0m\n",
      "\u001b[34m===========\u001b[0m\n",
      "\n",
      "\u001b[31mOriginal instance\u001b[0m\n",
      "\u001b[31mLabel: section 15, soc.religion.christian\u001b[0m\n",
      "\u001b[31mPrediction: section 15, soc.religion.christian\u001b[0m\n",
      "hmmmakes you wonder whether prayer in jesus name means saying jesus name or whether were simply to do all things with the attitude that we belong to jesus frank d\n"
     ]
    },
    {
     "data": {
      "image/png": "[encoded data removed]",
      "text/plain": [
       "<Figure size 1440x360 with 2 Axes>"
      ]
     },
     "metadata": {
      "needs_background": "light"
     },
     "output_type": "display_data"
    },
    {
     "name": "stdout",
     "output_type": "stream",
     "text": [
      "\u001b[34mSample nb 2\u001b[0m\n",
      "\u001b[34m===========\u001b[0m\n",
      "\n",
      "\u001b[31mOriginal instance\u001b[0m\n",
      "\u001b[31mLabel: section 12, sci.electronics\u001b[0m\n",
      "\u001b[31mPrediction: section 5, comp.windows.x\u001b[0m\n",
      "hi there can anyone tell me where it is possible to purchase controls found on most arcade style games many projects i am working on would be greatly augmented if i could implement them thanx in advance\n"
     ]
    },
    {
     "data": {
      "image/png": "[encoded data removed]",
      "text/plain": [
       "<Figure size 1440x360 with 2 Axes>"
      ]
     },
     "metadata": {
      "needs_background": "light"
     },
     "output_type": "display_data"
    },
    {
     "name": "stdout",
     "output_type": "stream",
     "text": [
      "\u001b[34mSample nb 3\u001b[0m\n",
      "\u001b[34m===========\u001b[0m\n",
      "\n",
      "\u001b[31mOriginal instance\u001b[0m\n",
      "\u001b[31mLabel: section 9, rec.sport.baseball\u001b[0m\n",
      "\u001b[31mPrediction: section 9, rec.sport.baseball\u001b[0m\n",
      "im no kingman fan just thought id point out that hes the only player in history to have five threehr games joe carter has four eddie murray three mccovey and gehrig also three ruth mays foxx and dawson two each i dont think reggies ws game counts else i believe he would also have had two the beastmaster\n"
     ]
    },
    {
     "data": {
      "image/png": "[encoded data removed]",
      "text/plain": [
       "<Figure size 1440x360 with 2 Axes>"
      ]
     },
     "metadata": {
      "needs_background": "light"
     },
     "output_type": "display_data"
    },
    {
     "name": "stdout",
     "output_type": "stream",
     "text": [
      "\u001b[34mSample nb 4\u001b[0m\n",
      "\u001b[34m===========\u001b[0m\n",
      "\n",
      "\u001b[31mOriginal instance\u001b[0m\n",
      "\u001b[31mLabel: section 14, sci.space\u001b[0m\n",
      "\u001b[31mPrediction: section 13, sci.med\u001b[0m\n",
      "a freeze dried tootsie roll tm the actual taste sensation was like nothing you will ever willingly experience the amazing thing was that we ate a second one and a third and i doubt that they actually flew on missions as im certain they did bad things to the gastrointestinal tract compared to space food sticks tang was a gastronomic contribution to mankind dillon pyron the opinions expressed are those of the tidseg lewisville vax support sender unless otherwise stated when im here when im home god gave us weather so we wouldnt complain about other things padi dm \n"
     ]
    },
    {
     "data": {
      "image/png": "[encoded data removed]",
      "text/plain": [
       "<Figure size 1440x360 with 2 Axes>"
      ]
     },
     "metadata": {
      "needs_background": "light"
     },
     "output_type": "display_data"
    }
   ],
   "source": [
    "plot_distributions(ds, expls)"
   ]
  },
  {
   "cell_type": "markdown",
   "id": "f335219f",
   "metadata": {},
   "source": [
    "---------------"
   ]
  },
  {
   "cell_type": "markdown",
   "id": "c00bee4e",
   "metadata": {},
   "source": [
    "# Try to display text in a different way below"
   ]
  },
  {
   "cell_type": "code",
   "execution_count": 197,
   "id": "9e91fe6f",
   "metadata": {},
   "outputs": [],
   "source": [
    "def print_side_by_side(a, b, size=40, space=4):\n",
    "    while a or b:\n",
    "        print(a[:size].ljust(size) + \" \" * space + b[:size])\n",
    "        a = a[size:]\n",
    "        b = b[size:]"
   ]
  },
  {
   "cell_type": "code",
   "execution_count": 200,
   "id": "9101c656",
   "metadata": {
    "collapsed": true
   },
   "outputs": [
    {
     "name": "stdout",
     "output_type": "stream",
     "text": [
      "Original instance the harvard computer s    Most similar instance university of toro\n",
      "ociety is pleased to announce its third     nto instructional and research computing\n",
      "lecture of the spring ivan sutherland th     is sponsoring a technical presentation \n",
      "e father of computer graphics and an inn    on visualization software \ba\bd\bv\ba\bn\bc\be\n",
      "ovator in microprocessing will be speaki    \bd \bv\bi\bs\bu\ba\bl \bs\by\bs\bt\be\bm\bs \ba\bv\bs \bs\n",
      "ng at harvard university on tuesday apri    \bo\bf\bt\bw\ba\br\be pm pm thursday may sandfo\n",
      "l at pm in aiken computations building r    rd fleming building room advanced visual\n",
      "oom the title of his talk is logical eff     systems will present this technical sem\n",
      "ort and the conflict over the control of    inar on avs the worlds leading visualiza\n",
      " information cookies and tea will be ser    tion software package avs is a point and\n",
      "ved at pm in the aiken lobby admissions      click module driven easytouse product t\n",
      "is free and all are welcome aiken is loc    hat produces full color two or three dim\n",
      "ated north of the science center near th    ensional rendered scenes for interactive\n",
      "e law school for more information send e     observation it is supported on all curr\n",
      "mail to the lecture will be videotaped a    ent unix risc platforms from sun sgi ibm\n",
      "nd a tape will be made available thanks      hp dg and dec it also runs under dec vm\n",
      "                                            s avs is in its fourth year on the stree\n",
      "                                            t and is very mature all fields of scien\n",
      "                                            ce engineering medicine and even busines\n",
      "                                            s applications now use avs this seminar \n",
      "                                            will focus on its many features in techn\n",
      "                                            ical detail during a half hour slide pre\n",
      "                                            sentation following a question period th\n",
      "                                            ere will be a live demonstration using a\n",
      "                                             sun sparcstation in addition a new avs \n",
      "                                            program called campus will be introduced\n",
      "                                             at this meeting also discussed will be \n",
      "                                            the international avs center which provi\n",
      "                                            des an online repository of over graphic\n",
      "                                            s modules at the north carolina supercom\n",
      "                                            puter center in raliegh nc avs has imbed\n",
      "                                            ded tools to write ones own customized m\n",
      "                                            odules should these not be available wit\n",
      "                                            h avs or from avs international \bs\bp\be\ba\n",
      "                                            \bk\be\br\bs the scheduled speaker for this \n",
      "                                            presentation is mr paul ecklund of ecklu\n",
      "                                            nd associates the distributor of avs in \n",
      "                                            canada\n"
     ]
    }
   ],
   "source": [
    "title_orig = f\"Original instance \" \n",
    "title_sim = f\"Most similar instance \"\n",
    "print_side_by_side(title_orig + ds[sample_nb]['x'], title_sim + ds[sample_nb]['x_sim'][0])"
   ]
  },
  {
   "cell_type": "code",
   "execution_count": 154,
   "id": "64ff33c3",
   "metadata": {
    "scrolled": false
   },
   "outputs": [],
   "source": [
    "from io import BytesIO\n",
    "from matplotlib.transforms import IdentityTransform\n",
    "from matplotlib.figure import Figure\n",
    "\n",
    "def text_to_rgba(s, *, dpi, fontsize=8):\n",
    "    # To convert a text string to an image, we can:\n",
    "    # - draw it on an empty and transparent figure;\n",
    "    # - save the figure to a temporary buffer using ``bbox_inches=\"tight\",\n",
    "    #   pad_inches=0`` which will pick the correct area to save;\n",
    "    # - load the buffer using ``plt.imread``.\n",
    "    #\n",
    "    # (If desired, one can also directly save the image to the filesystem.)\n",
    "    fig = Figure(facecolor=\"none\")\n",
    "    fig.text(0, 0, s, fontsize=fontsize, verticalalignment='center', horizontalalignment='center')\n",
    "    with BytesIO() as buf:\n",
    "        fig.savefig(buf, dpi=dpi, format=\"png\", bbox_inches=\"tight\",\n",
    "                    pad_inches=0)\n",
    "        buf.seek(0)\n",
    "        rgba = plt.imread(buf)\n",
    "    return rgba\n",
    "\n",
    "def appendInt(num):\n",
    "    if num > 9:\n",
    "        secondToLastDigit = str(num)[-2]\n",
    "        if secondToLastDigit == '1':\n",
    "            return 'th'\n",
    "    lastDigit = num % 10\n",
    "    if (lastDigit == 1):\n",
    "        return 'st'\n",
    "    elif (lastDigit == 2):\n",
    "        return 'nd'\n",
    "    elif (lastDigit == 3):\n",
    "        return 'rd'\n",
    "    else:\n",
    "        return 'th'\n",
    "\n",
    "def plot_similar(ds, expls, nb_samples_to_display=2, figsize=(20, 10)):\n",
    "    fig, axes = plt.subplots(2, 3, figsize=figsize, sharex=False)\n",
    "    #range_j = len(ds)\n",
    "    range_j = 2\n",
    "    for j in range(range_j):\n",
    "        d = ds[j]\n",
    "        orig_j = text_to_rgba(d['x'], fontsize=8, dpi=200)\n",
    "        axes[j, 0].imshow(orig_j)\n",
    "        if j == 0:\n",
    "            axes[j, 0].set_title(\"Original instance \\n\" + \n",
    "                                 \"================ \\n \" + \n",
    "                                 f\"Label: section {d['y']}, {target_names[d['y']]} \\n \" + \n",
    "                                 f\"Prediction: section {d['pred']}, {target_names[d['pred']]} \")\n",
    "        else:\n",
    "            axes[j, 0].set_title(f\"Label: section {d['y']}, {target_names[d['y']]} \\n \" + \n",
    "                                 f\"Prediction: section {d['pred']}, {target_names[d['pred']]} \")\n",
    "        #range_i = len(d['expl'].data['most_similar'])\n",
    "        if nb_samples_to_display > len(expls.data['most_similar'][j]):\n",
    "            nb_samples_to_display = len(expls.data['most_similar'][j])\n",
    "        \n",
    "                                        \n",
    "        for i in range(nb_samples_to_display):\n",
    "            sim_ji = text_to_rgba(d['x_sim'][i], fontsize=30, dpi=200)\n",
    "            axes[j, i + 1].imshow(sim_ji)\n",
    "            if j == 0:\n",
    "                axes[j, i + 1].set_title(f\"{i+1}{appendInt(i+1)} most similar instance \\n\" + \n",
    "                                         \"================ \\n \" + \n",
    "                                         f\"Label: section {d['y_sim'][i]}, {target_names[d['y_sim'][i]]} \\n \" + \n",
    "                                         f\"Prediction: section {d['preds_sim'][i]}, {target_names[d['preds_sim'][i]]}\")\n",
    "            else:\n",
    "                axes[j, i + 1].set_title(f\"Label: section {d['y_sim'][i]}, {target_names[d['y_sim'][i]]} \\n \" + \n",
    "                                         f\"Prediction: section {d['preds_sim'][i]}, {target_names[d['preds_sim'][i]]}\")\n",
    "    plt.show()\n",
    "\n",
    "def plot_distributions(ds, expls, figsize=(20, 5)):\n",
    "\n",
    "    for i in range(len(ds)):\n",
    "        fig, axes = plt.subplots(1, 2, figsize=figsize, sharex=False)\n",
    "        d = ds[i]\n",
    "\n",
    "        y_sim = d['y_sim']\n",
    "        preds_sim = d['preds_sim']\n",
    "        y = d['y']\n",
    "        pred = d['pred']\n",
    "        df_ditribution = pd.DataFrame({'y_sim': y_sim, \n",
    "                                       'preds_sim': preds_sim, \n",
    "                                       'scores': expls.data['scores'][i]})\n",
    "        \n",
    "        # rgba = text_to_rgba(d['x'], fontsize=8, dpi=100)\n",
    "        # axes[i, 0].imshow(rgba)\n",
    "        \n",
    "        \n",
    "        print(f\"Original instance, sample nb {i} \\n \" + \n",
    "              \"========================================================================== \\n \" +\n",
    "              f\"{d['x']} \\n \" + \n",
    "              \"========================================================================== \\n \" +\n",
    "              f\"Label: section {d['y']}, {target_names[d['y']]} \\n \" + \n",
    "              f\"Prediction: section {d['pred']}, {target_names[d['pred']]} \")\n",
    "            #axes[i, 0].set_title(\"Original instance \\n \" + \n",
    "            #                     \"=================== \\n \" + \n",
    "            #                     f\"Label: section {d['y']}, {target_names[d['y']]} \\n \" + \n",
    "            #                     f\"Prediction: section {d['pred']}, {target_names[d['pred']]} \")\n",
    "            #print(f\"============================================================================== \\n\")\n",
    "\n",
    "        df_y = df_ditribution.groupby('y_sim')['scores'].mean().sort_values(ascending=False)\n",
    "        df_y.plot(kind='bar', ax=axes[0])\n",
    "        axes[0].set_title(\"Averaged scores for each true class in reference set \\n\" + \n",
    "                                 \"================================== \\n \")\n",
    "        df_preds = df_ditribution.groupby('preds_sim')['scores'].mean().sort_values(ascending=False)\n",
    "        df_preds.plot(kind='bar', ax=axes[1])\n",
    "        axes[1].set_title(\"Averaged scores for each predicted class in reference set \\n\" + \n",
    "                                 \"================================== \\n \")\n",
    "\n",
    "        plt.show()\n",
    "\n"
   ]
  },
  {
   "cell_type": "code",
   "execution_count": 138,
   "id": "13ef1c86",
   "metadata": {},
   "outputs": [
    {
     "data": {
      "image/png": "[encoded data removed]",
      "text/plain": [
       "<Figure size 1440x720 with 6 Axes>"
      ]
     },
     "metadata": {
      "needs_background": "light"
     },
     "output_type": "display_data"
    }
   ],
   "source": [
    "plot_similar(ds, expls)"
   ]
  },
  {
   "cell_type": "code",
   "execution_count": 50,
   "id": "2fb7ab92",
   "metadata": {},
   "outputs": [
    {
     "data": {
      "text/plain": [
       "'excellent discussion of dc landing techniques by henry deleted the dc will not take of horizontally it takes of vertically for several reasons vertical landings require miles of runway and limit noise pollution they require wheels or wings just turn on the engines and touch down of course as henry pointed out vetical landings quite that simple well to be blunt yes but at least learning the soyuz vehicles use parachutes for the descent and then fire small rockets just before they hit the ground parachutes are however not especially practical if you want to reuse something without much effort the landings are also not very comfortable however in the words of georgy grechko prefer to have bruises not to sink'"
      ]
     },
     "execution_count": 50,
     "metadata": {},
     "output_type": "execute_result"
    }
   ],
   "source": [
    "ds[3]['x']"
   ]
  },
  {
   "cell_type": "code",
   "execution_count": 51,
   "id": "25953cb3",
   "metadata": {},
   "outputs": [
    {
     "data": {
      "text/plain": [
       "'how hard or easy would it be to have combo mission such as solar sail on the way out to the outer planets but once in near to orbit to use more normal means seems that everyone talks about using one system and one system only per mission why not have more than one propulsion system or did miss something or did it die in committee michael adams nsmca alaska edu not high just jacked'"
      ]
     },
     "execution_count": 51,
     "metadata": {},
     "output_type": "execute_result"
    }
   ],
   "source": [
    "ds[3]['x_sim'][0][0]"
   ]
  },
  {
   "cell_type": "markdown",
   "id": "be78c2ca",
   "metadata": {},
   "source": [
    "-----------"
   ]
  }
 ],
 "metadata": {
  "kernelspec": {
   "display_name": "Python 3 (ipykernel)",
   "language": "python",
   "name": "python3"
  },
  "language_info": {
   "codemirror_mode": {
    "name": "ipython",
    "version": 3
   },
   "file_extension": ".py",
   "mimetype": "text/x-python",
   "name": "python",
   "nbconvert_exporter": "python",
   "pygments_lexer": "ipython3",
   "version": "3.8.13"
  }
 },
 "nbformat": 4,
 "nbformat_minor": 5
}
