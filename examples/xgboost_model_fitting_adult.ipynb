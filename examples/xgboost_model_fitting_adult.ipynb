{
 "cells": [
  {
   "cell_type": "markdown",
   "metadata": {},
   "source": [
    "# A Gradient Boosted Tree Model for the Adult Dataset"
   ]
  },
  {
   "cell_type": "markdown",
   "metadata": {},
   "source": [
    "## Introduction"
   ]
  },
  {
   "cell_type": "markdown",
   "metadata": {},
   "source": [
    "This example introduces the reader to the fitting and evaluation of gradient boosted tree models. We consider a binary classification task into two income brackets  (less than or greater than  \\$50, 000), given attributes such as capital gains and losses, marital status, age, occupation, etc.."
   ]
  },
  {
   "cell_type": "code",
   "execution_count": 3,
   "metadata": {},
   "outputs": [],
   "source": [
    "import matplotlib.pyplot as plt\n",
    "import numpy as np\n",
    "import xgboost as xgb\n",
    "\n",
    "from alibi.datasets import fetch_adult\n",
    "from copy import deepcopy\n",
    "from functools import partial\n",
    "from itertools import chain, product\n",
    "from scipy.special import expit\n",
    "invlogit=expit\n",
    "from sklearn.metrics import accuracy_score, confusion_matrix\n",
    "from tqdm import tqdm"
   ]
  },
  {
   "cell_type": "markdown",
   "metadata": {},
   "source": [
    "## Data preparation"
   ]
  },
  {
   "cell_type": "markdown",
   "metadata": {},
   "source": [
    "### Load and split"
   ]
  },
  {
   "cell_type": "markdown",
   "metadata": {},
   "source": [
    "The `fetch_adult` function returns a `Bunch` object containing the features, targets, feature names and a mapping of categorical variables to numbers."
   ]
  },
  {
   "cell_type": "code",
   "execution_count": 36,
   "metadata": {},
   "outputs": [],
   "source": [
    "adult = fetch_adult()\n",
    "adult.keys()\n",
    "\n",
    "data = adult.data\n",
    "target = adult.target\n",
    "target_names = adult.target_names\n",
    "feature_names = adult.feature_names\n",
    "category_map = adult.category_map"
   ]
  },
  {
   "cell_type": "markdown",
   "metadata": {},
   "source": [
    "Note that for your own datasets you can use the utility function `gen_category_map` imported from `alibi.utils.data`  to create the category map."
   ]
  },
  {
   "cell_type": "code",
   "execution_count": 37,
   "metadata": {},
   "outputs": [],
   "source": [
    "np.random.seed(0)\n",
    "data_perm = np.random.permutation(np.c_[data, target])\n",
    "data = data_perm[:,:-1]\n",
    "target = data_perm[:,-1]\n",
    "\n",
    "idx = 30000\n",
    "X_train,y_train = data[:idx,:], target[:idx]\n",
    "X_test, y_test = data[idx+1:,:], target[idx+1:]"
   ]
  },
  {
   "cell_type": "markdown",
   "metadata": {},
   "source": [
    "### Create feature transformation pipeline and preprocess data"
   ]
  },
  {
   "cell_type": "markdown",
   "metadata": {},
   "source": [
    "Unlike in a previous [example](kernel_shap_adult_lr.ipynb), the categorical variables are not encoded. For linear models such as logistic regression, using an encoding of the variable that assigns a unique integer to a category will affect the coefficient estimates as the model will learn patterns based on the ordering of the input, which is incorrect. In contrast, by encoding the into a sequence of binary variables, the model can learn which encoded dimensions are relevant for predicting a given target but cannot represent non-linear relations between the categories and targets. \n",
    "\n",
    "On the other hand, decision trees can naturally handle both data types simultaneously; a categorical feature can be used for splitting a node multiple times. So, hypothetically speaking, if the categorical variable `var` has `4` levels, encoded `0-3` and level `2` correlates well with a particular outcome, then a decision path could contain the splits `var < 3` and `var > 1` if this pattern generalises in the data and thus splitting according to these criteria reduce the splits' impurity. \n",
    "\n",
    "In general, we note that for a categorical variable with $q$ levels there are $2^{q-1}-1$ possible partitions into two groups, and for large $q$ finding an optimal split is intractable. However, for binary classification problems an optimal split can be found efficiently (see references in [[1]](#References)). As $q$ increases, the number of potential splits to choose from increases, so it is more likely that a split that fits the data is found. For large $q$ this can lead to overfitting, so variables with large number of categories can potentially harm model performance.\n",
    "\n",
    "The interested reader is referred to consult these blog posts ([first](https://roamanalytics.com/2016/10/28/are-categorical-variables-getting-lost-in-your-random-forests/), [second](https://towardsdatascience.com/one-hot-encoding-is-making-your-tree-based-ensembles-worse-heres-why-d64b282b5769)), which demonstrate of the pitfalls of encoding categorical data as one-hot when using tree-based models. `sklearn` expects that the categorical data is encoded, and this approach should be followed when working with this library.\n",
    "\n",
    "<a id='source_4'></a>"
   ]
  },
  {
   "cell_type": "markdown",
   "metadata": {},
   "source": [
    "## Model optimisation\n",
    "<a id='optimisation'></a>"
   ]
  },
  {
   "cell_type": "markdown",
   "metadata": {},
   "source": [
    "`xgboost` wraps arrays using  `DMatrix` objects, optimised for both memory efficiency and training speed."
   ]
  },
  {
   "cell_type": "code",
   "execution_count": 7,
   "metadata": {},
   "outputs": [],
   "source": [
    "def wrap(arr):\n",
    "    return np.ascontiguousarray(arr)\n",
    "\n",
    "dtrain = xgb.DMatrix(\n",
    "    wrap(X_train), \n",
    "    label=wrap(y_train), \n",
    "    feature_names=feature_names, \n",
    ")\n",
    "\n",
    "dtest = xgb.DMatrix(wrap(X_test), label=wrap(y_test), feature_names=feature_names)"
   ]
  },
  {
   "cell_type": "markdown",
   "metadata": {},
   "source": [
    "`xgboost` defines three classes of parameters that need to be configured in order to train and/or optimise a model:\n",
    "\n",
    "* general parameters: high level settings such as the type of boosting model\n",
    "\n",
    "* learning parameters: these are parameters that control the boosting process (model hyperparameters)\n",
    "\n",
    "* learning task parameters: define the optimisation objective and the metric on which the validation performance is measured"
   ]
  },
  {
   "cell_type": "code",
   "execution_count": 8,
   "metadata": {},
   "outputs": [],
   "source": [
    "learning_params = {}\n",
    "booster_params = {}\n",
    "general_params = {}\n",
    "params = {}"
   ]
  },
  {
   "cell_type": "markdown",
   "metadata": {},
   "source": [
    "This is a binary classification problem, optimised with binary cross-entropy as an objective, defined as:\n",
    "<a id='f_1'></a>\n",
    "\n",
    "$$\n",
    "J (y_i, \\hat{y}_i) = -\\frac{1}{N} \\sum_{i=1}^N [y_i \\log(1 + e^{- \\hat{y}_i}) + (1 - y_i) \\log (1 + e^{\\hat{y}_i})]\n",
    "$$\n",
    "\n",
    "where $y_i$ is the true label for the $i$th observation and $\\hat{y}_i$ is the decision score (logit) <sup>[(1)](#Footnotes) </sup> of the positive class (whose members' income exceeds \\$50, 000). Setting the objective to `binary:logitraw` means the call to the `predict` method will output $\\hat{y}_i$. \n",
    "\n",
    "<a id='f_1'></a>"
   ]
  },
  {
   "cell_type": "code",
   "execution_count": null,
   "metadata": {},
   "outputs": [],
   "source": [
    "learning_params.update({\n",
    "    'objective':'binary:logitraw',\n",
    "    'seed': 42,\n",
    "    'eval_metric': ['auc', 'logloss'] # metrics computed for specified dataset\n",
    "})"
   ]
  },
  {
   "cell_type": "markdown",
   "metadata": {},
   "source": [
    "The [AUC](https://en.wikipedia.org/wiki/Receiver_operating_characteristic#Area_under_the_curve) will be used as a target for early stopping during hyperparameter optimisation . Using this metric as opposed to, e.g., accuracy helps deal with the imbalanced data since this metric balances the true positive rate and the false positive rate. However, it should be noted that AUC is an _aggregate_ performance measure since it is derived by matching predicted labels with ground truths across models with different output thresholds. In practice, however, only one such model is selected. Thus, a higher AUC just reflects that on average, the ensemble performs better. However, whether the classifier selected according to this metric is optimal depends on the threshold chosen for converting the predicted probabilities to class labels.\n",
    "\n",
    "Additionally, the weights of the positive are scaled to reflect the class imbalance. A common setting is to scale the positive class by the ratio of the negative to positive examples (approximately 3 for this dataset). Since this is a heuristic approach, this parameter will be cross-validated.\n",
    "\n",
    "\n",
    "The first parameters optimised are:\n",
    "\n",
    "* `max_depth`: the maximum depth of any tree added to the ensemble. Deeper trees are more accurate (on training data) since they represent more specific rules\n",
    "\n",
    "* `min_child_weight`: child nodes are required to have a total weight above this threshold for a split to occur. For a node $L$, this weight is computed according to \n",
    "\n",
    "$$\n",
    "H_L = \\sum_{i}w_i  \\frac{\\partial^2 J (y_i, \\hat{y}_{i,{t-1}})}{\\partial {\\hat{y}_{i,t-1}}^2}\n",
    "$$\n",
    "\n",
    "where the summation of Hessians is over all examples $i$ split at the node, and the subscript $t-1$ indicates that the derivative is with respect to the output evaluated at the previous round in the boosting [process](https://xgboost.readthedocs.io/en/latest/tutorials/model.html). In this example, the weight $w_i$ depends on the class and is controlled through the `scale_pos_weight` argument. The second derivative above is given by\n",
    "\n",
    "$$\n",
    "\\frac{2 e^{\\hat{y}_i}}{{(1 + e^{\\hat{y}_i})}^2},\n",
    "$$\n",
    "\n",
    "whose variation is depicted in Figure 1."
   ]
  },
  {
   "attachments": {
    "hess.png": {
     "image/png": "[encoded data removed]"
    }
   },
   "cell_type": "markdown",
   "metadata": {},
   "source": [
    "![hess.png](attachment:hess.png)"
   ]
  },
  {
   "cell_type": "markdown",
   "metadata": {},
   "source": [
    "Figure 1 shows that when the classifier assigns a high positive or a low negative score, the contribution of data point $i$ to the child weight is very small. Therefore, setting a very small value for `min_child_weight` parameter can result in overfitting since the splitting process will make splits in order to ensure the instances in a leaf are correctly classified at the expense of finding more parsimonious rules that generalise well.\n",
    "\n",
    "* `scale_pos_weight`: a scaling factor applied to the positive class to deal with class imbalance\n",
    "\n",
    "* `gamma`: is a parameter that controls the minimum gain that has to be attained in order for a split to be made\n",
    "\n",
    "To understand `gamma`, recall that the _gain_ of making a particular split is defined as function of the _structure scores_ of the left (L) and right (R) child nodes and the structure score of the parent as \n",
    "\n",
    "$$\n",
    "gain = \\frac{1}{2}\\left[\\frac{G_L^2}{H_L + \\lambda} + \\frac{G_R^2}{H_R + \\lambda} - \\frac{{(G_L+G_R)}^2}{H_L + H_R + \\lambda}  \\right] - \\gamma\n",
    "$$\n",
    "\n",
    "where $\\lambda$ is a regularisation hyperparameter shrinking the model output, $H_L$ is defined above and $G_L$ is given by\n",
    "\n",
    "$$\n",
    "G_L = \\sum_{i}w_i  \\frac{\\partial J (y_i, \\hat{y}_{i,{t-1}})}{\\partial {\\hat{y}_{i,t-1}}}\n",
    "$$\n",
    "\n",
    "and $i$ sums over the points that flow through the node $L$. Note that these structure scores represent minimisers of the objective (which is simply a quadratic in the leaf value). To make a split, the gain should exceed $\\gamma$.\n",
    "\n",
    "\n",
    "The _learning rate_ (`eta`) is fixed. This parameter is the fraction of the output score a member of the ensemble contributes to the decision score. Lower values yield larger ensembles."
   ]
  },
  {
   "cell_type": "code",
   "execution_count": 1,
   "metadata": {},
   "outputs": [],
   "source": [
    "def tune_params(dtrain, base_params,  param_dict, maximise=True, prev_optimum=None, **kwargs):\n",
    "    \"\"\"\n",
    "        Given a training set `dtrain`, a dictionary of parameters to be optimised `param_dict` and \n",
    "        all the other learning and booster parameters (`base_param`), this function runs an \n",
    "        exhaustive grid search over the tuning parameters.\n",
    "        \n",
    "        NB: Specifying `prev_optimum` allows one to tune parameters in stages. maximise should indicate\n",
    "        if the evaluation metric should be maximised during CV.\n",
    "    \"\"\"\n",
    "\n",
    "    def _statistic(maximise, argument=False):\n",
    "        if maximise:\n",
    "            if argument:\n",
    "                return np.argmax\n",
    "            return np.max\n",
    "        if argument:\n",
    "            return np.argmin\n",
    "        return np.min\n",
    "    \n",
    "    \n",
    "    def _compare(optimum, val, maximise=True):\n",
    "        \n",
    "        eps=1e-4\n",
    "        \n",
    "        if maximise:\n",
    "            if val > optimum + eps:\n",
    "                return True\n",
    "            return False\n",
    "        if val < optimum - eps:\n",
    "            return True\n",
    "        return False\n",
    "    \n",
    "    statistic = partial(_statistic, maximise)\n",
    "    compare = partial(_compare, maximise=maximise)\n",
    "    metrics = kwargs.get(\"metrics\")\n",
    "    if isinstance(metrics, list):\n",
    "        opt_metric = metrics[-1]\n",
    "    else:\n",
    "        opt_metric = metrics\n",
    "\n",
    "    print(f\"CV with params: {list(param_dict.keys())}\")\n",
    "    print(f\"Tracked metrics: {metrics}\")\n",
    "    print(f\"Cross-validating on: {opt_metric}\")\n",
    "    \n",
    "    if prev_optimum:\n",
    "        optimum = prev_optimum\n",
    "    else:    \n",
    "        optimum = -float(\"Inf\") if maximise else float(\"Inf\")\n",
    "    \n",
    "    params = deepcopy(base_params)\n",
    "    pars, pars_val = list(param_dict.keys()), list(param_dict.values())\n",
    "    combinations = list(product(*pars_val))\n",
    "    best_combination = {}\n",
    "    \n",
    "    # run grid search\n",
    "    for combination in tqdm(combinations):\n",
    "        for p_name, p_val in zip(pars, combination):\n",
    "            params[p_name] = p_val\n",
    "        cv_results = xgb.cv(\n",
    "            params,\n",
    "            dtrain,\n",
    "            **kwargs,\n",
    "        )\n",
    "        mean = statistic()(cv_results[f'test-{opt_metric}-mean'])\n",
    "        boost_rounds = statistic(argument=True)(cv_results[f'test-{opt_metric}-mean'])    \n",
    "        improved = compare(optimum, mean)\n",
    "        if improved:\n",
    "            optimum = mean\n",
    "            for name, val in zip(pars, combination):\n",
    "                best_combination[name]=val\n",
    "            print(f\"{opt_metric} mean value: {mean} at {boost_rounds} rounds\")\n",
    "            msg = 'Best params:' + '\\n{}: {}'*len(pars)\n",
    "            print(msg.format(*list(chain(*best_combination.items()))))\n",
    "        \n",
    "    return optimum, best_combination, boost_rounds"
   ]
  },
  {
   "cell_type": "code",
   "execution_count": 18,
   "metadata": {},
   "outputs": [],
   "source": [
    "booster_params.update({'eta': 0.1})\n",
    "\n",
    "tuning_params={\n",
    "        'scale_pos_weight': [2, 3, 4, 5],\n",
    "        'min_child_weight': [0.1, 0.5, 1.0, 2.0, 5.0],\n",
    "        'max_depth': [3, 4, 5],\n",
    "        'gamma': [0.01, 0.05, 0.08, 0.1, 0.2]\n",
    "}"
   ]
  },
  {
   "cell_type": "markdown",
   "metadata": {},
   "source": [
    "All parameters apart from the ones tuned are included in `params`. The cross-validation process is controlled through `cv_opts`."
   ]
  },
  {
   "cell_type": "code",
   "execution_count": 19,
   "metadata": {},
   "outputs": [],
   "source": [
    "params.update(general_params)\n",
    "params.update(learning_params)\n",
    "params.update(booster_params)\n",
    "\n",
    "cv_opts = {\n",
    "    'num_boost_round': 1000,\n",
    "    'nfold': 5, \n",
    "    'stratified': True,\n",
    "    'metrics': ['logloss', 'aucpr', 'auc'],  # can alternatively perform early stopping on log-loss or aucpr\n",
    "    'early_stopping_rounds': 20,\n",
    "    'seed': 42,\n",
    "}"
   ]
  },
  {
   "cell_type": "markdown",
   "metadata": {},
   "source": [
    "Optimise `scale_pos_weight`, `min_child_weight`, `max_depth` and `gamma`. Note that this section is **long running** since it conducts an extensive grid search. "
   ]
  },
  {
   "cell_type": "code",
   "execution_count": null,
   "metadata": {},
   "outputs": [],
   "source": [
    "optimum, best_params, boost_rounds = tune_params(dtrain, \n",
    "                                                 params, \n",
    "                                                 tuning_params, \n",
    "                                                 maximise=True, \n",
    "                                                 **cv_opts\n",
    "                                                )\n",
    "\n",
    "if best_params:\n",
    "    params.update(best_params)\n",
    "    params.update({'boost_rounds': boost_rounds})"
   ]
  },
  {
   "cell_type": "code",
   "execution_count": null,
   "metadata": {},
   "outputs": [],
   "source": [
    "params"
   ]
  },
  {
   "cell_type": "markdown",
   "metadata": {},
   "source": [
    "Further optimisation is possible by adjusting the following parameters:\n",
    "\n",
    "* `subsample`: this is the ratio of the total training examples that will be used for training during each boosting round\n",
    "\n",
    "* `colsamplebytree`: this is the ratio of the features used to fit an ensemble member during a boosting round\n",
    "\n",
    "Training on uniformly chosen data subsamples with uniformly chosen subsets of features promotes noise robustness. "
   ]
  },
  {
   "cell_type": "code",
   "execution_count": null,
   "metadata": {},
   "outputs": [],
   "source": [
    "tuning_params = {\n",
    "    'subsample': [0.6, 0.7, 0.8, 0.9, 1.0],\n",
    "    'colsamplebytree': [0.6, 0.7, 0.8, 0.9, 1.0]\n",
    "}\n",
    "\n",
    "optimum, best_params, boost_rounds = tune_params(dtrain, \n",
    "                                                 params, \n",
    "                                                 tuning_params, \n",
    "                                                 maximise=True, \n",
    "                                                 prev_optimum=optimum,\n",
    "                                                 **cv_opts\n",
    "                                                )"
   ]
  },
  {
   "cell_type": "markdown",
   "metadata": {},
   "source": [
    "None of the stated configuration resulted in an improvement of the AUC, which could be a consequence of the fact that:\n",
    "\n",
    "* the parameters selected in the previous round provide strong model regularisation; in particular, the maximum tree depth for any ensemble member is 3, which means only a subset of features are used anyway to perform the splits in any given tree. Further subsampling may thus not be effective since the subsampling is already implicit in the chosen tree structure\n",
    "\n",
    "* the AUC is insensitive to small model changes since it measures how the proportion of false positives changes as the number of false negatives changes across a range of models. The confidence of the models does not feature in this measure (since a highly confident classifier and one that predicts probabilities near the decision threshold will have identical AUC)\n"
   ]
  },
  {
   "cell_type": "code",
   "execution_count": null,
   "metadata": {},
   "outputs": [],
   "source": [
    "if best_params:\n",
    "    params.update(best_params)\n",
    "    params.update({'boost_rounds': boost_rounds})"
   ]
  },
  {
   "cell_type": "code",
   "execution_count": null,
   "metadata": {},
   "outputs": [],
   "source": [
    "params"
   ]
  },
  {
   "cell_type": "markdown",
   "metadata": {},
   "source": [
    "To prevent overfitting, a regulariser $\\Omega(f_t)$ with the form \n",
    "\n",
    "$$\n",
    "\\Omega(f_t) = \\gamma T + \\frac{\\lambda}{2} \\sum_{j=1}^T s_{j,t}^2\n",
    "$$\n",
    "\n",
    "is added to the objective function at every boosting round $t$. Above $T$ is the total number of leaves and $s_{j,t}$ is the score of the $j$th leaf at round $t$. For the binary logistic objective, a higher $\\lambda$ penalises confident predictions (shrinks the scores). \n",
    "\n",
    "By default $\\lambda = 1$. Since subsampling data and features did not improve the performance, we explore with relaxing regularisation in order to adjust the model regularisation."
   ]
  },
  {
   "cell_type": "code",
   "execution_count": null,
   "metadata": {},
   "outputs": [],
   "source": [
    "tuning_params = {\n",
    "    'lambda': [0.01, 0.1, 0.5, 0.9, 0.95, 1, 2, 5, 10]\n",
    "}\n",
    "\n",
    "optimum, best_params, boost_rounds = tune_params(dtrain, \n",
    "                                                 params, \n",
    "                                                 tuning_params, \n",
    "                                                 maximise=True, \n",
    "                                                 prev_optimum=optimum,\n",
    "                                                 **cv_opts)\n",
    "\n",
    "if best_params:\n",
    "    params.update(best_params)\n",
    "    params.update({'boost_rounds': boost_rounds})"
   ]
  },
  {
   "cell_type": "markdown",
   "metadata": {},
   "source": [
    "## Model training\n",
    "<a id='training'></a>"
   ]
  },
  {
   "cell_type": "markdown",
   "metadata": {},
   "source": [
    "The model will now be trained with the following parameters (skip the `param` update if you ran the optimisation section):"
   ]
  },
  {
   "cell_type": "code",
   "execution_count": 27,
   "metadata": {},
   "outputs": [],
   "source": [
    "learning_params = {\n",
    "    'objective':'binary:logitraw',\n",
    "    'seed': 42,\n",
    "    'eval_metric': ['auc', 'logloss'] # metrics computed for specified dataset\n",
    "}\n",
    "\n",
    "\n",
    "params = { \n",
    "    'scale_pos_weight': 2,\n",
    "    'min_child_weight': 0.1,\n",
    "    'max_depth': 3,\n",
    "    'gamma': 0.01, \n",
    "    'boost_rounds': 541,\n",
    "}\n",
    "\n",
    "params.update(learning_params)"
   ]
  },
  {
   "cell_type": "code",
   "execution_count": null,
   "metadata": {},
   "outputs": [],
   "source": [
    "if 'boost_rounds' in params:\n",
    "    boost_rounds = params.pop('boost_rounds')\n",
    "\n",
    "model = xgb.train(\n",
    "    params,\n",
    "    dtrain,\n",
    "    num_boost_round=boost_rounds,\n",
    "    evals=[(dtrain, \"Train\"), (dtest, \"Test\")],\n",
    ")"
   ]
  },
  {
   "cell_type": "code",
   "execution_count": 44,
   "metadata": {},
   "outputs": [],
   "source": [
    "model.save_model('adult_xgb.mdl')"
   ]
  },
  {
   "cell_type": "markdown",
   "metadata": {},
   "source": [
    "## Model assessment"
   ]
  },
  {
   "cell_type": "markdown",
   "metadata": {},
   "source": [
    "The confusion matrix is used to quantify the model performance below."
   ]
  },
  {
   "cell_type": "code",
   "execution_count": null,
   "metadata": {},
   "outputs": [],
   "source": [
    "def plot_conf_matrix(y_test, y_pred, class_names):\n",
    "    \"\"\"\n",
    "    Plots confusion matrix. Taken from:\n",
    "    http://queirozf.com/entries/visualizing-machine-learning-models-examples-with-scikit-learn-and-matplotlib\n",
    "    \"\"\"\n",
    "    \n",
    "    matrix = confusion_matrix(y_test,y_pred)\n",
    "\n",
    "\n",
    "    # place labels at the top\n",
    "    plt.gca().xaxis.tick_top()\n",
    "    plt.gca().xaxis.set_label_position('top')\n",
    "\n",
    "    # plot the matrix per se\n",
    "    plt.imshow(matrix, interpolation='nearest', cmap=plt.cm.Blues)\n",
    "\n",
    "    # plot colorbar to the right\n",
    "    plt.colorbar()\n",
    "\n",
    "    fmt = 'd'\n",
    "\n",
    "    # write the number of predictions in each bucket\n",
    "    thresh = matrix.max() / 2.\n",
    "    for i, j in product(range(matrix.shape[0]), range(matrix.shape[1])):\n",
    "\n",
    "        # if background is dark, use a white number, and vice-versa\n",
    "        plt.text(j, i, format(matrix[i, j], fmt),\n",
    "             horizontalalignment=\"center\",\n",
    "             color=\"white\" if matrix[i, j] > thresh else \"black\")\n",
    "\n",
    "    tick_marks = np.arange(len(class_names))\n",
    "    plt.xticks(tick_marks, class_names, rotation=45)\n",
    "    plt.yticks(tick_marks, class_names)\n",
    "    plt.tight_layout()\n",
    "    plt.ylabel('True label',size=14)\n",
    "    plt.xlabel('Predicted label',size=14)\n",
    "    plt.show()\n",
    "\n",
    "\n",
    "def predict(xgb_model, dataset, proba=False, threshold=0.5):\n",
    "    \"\"\"\n",
    "    Predicts labels given a xgboost model that outputs raw logits. \n",
    "    \"\"\"\n",
    "    \n",
    "    y_pred = model.predict(dataset)  # raw logits are predicted\n",
    "    y_pred_proba = invlogit(y_pred) \n",
    "    if proba:\n",
    "        return y_pred_proba\n",
    "    y_pred_class = np.zeros_like(y_pred)\n",
    "    y_pred_class[y_pred_proba >= threshold] = 1  # assign a label \n",
    "    \n",
    "    return y_pred_class\n",
    "    "
   ]
  },
  {
   "cell_type": "code",
   "execution_count": 40,
   "metadata": {},
   "outputs": [
    {
     "data": {
      "image/png": "[encoded data removed]",
      "text/plain": [
       "<Figure size 432x288 with 2 Axes>"
      ]
     },
     "metadata": {
      "needs_background": "light"
     },
     "output_type": "display_data"
    },
    {
     "name": "stdout",
     "output_type": "stream",
     "text": [
      "Train accuracy:  87.75  %.\n",
      "Test  accuracy:  86.6797%.\n"
     ]
    }
   ],
   "source": [
    "y_pred_train = predict(model, dtrain)\n",
    "y_pred_test = predict(model, dtest)\n",
    "\n",
    "plot_conf_matrix(y_test, y_pred_test, target_names)\n",
    "\n",
    "print(f'Train accuracy:  {round(100*accuracy_score(y_train, y_pred_train), 4)}  %.')\n",
    "print(f'Test  accuracy:  {round(100*accuracy_score(y_test, y_pred_test), 4)}%.')"
   ]
  },
  {
   "cell_type": "markdown",
   "metadata": {},
   "source": [
    "## Footnotes"
   ]
  },
  {
   "cell_type": "markdown",
   "metadata": {},
   "source": [
    "<a id='Footnotes'></a>\n",
    "\n",
    "[(1)](#f_1): One can derive the stated formula by noting that the probability of the positive class is $p_i = 1/( 1 + \\exp^{-\\hat{y}_i})$ and taking its logarithm."
   ]
  },
  {
   "cell_type": "markdown",
   "metadata": {},
   "source": [
    "## References"
   ]
  },
  {
   "cell_type": "markdown",
   "metadata": {},
   "source": [
    "<a id='References'></a>\n",
    "\n",
    "\n",
    "[[1]](#source_4) Hastie, T., Tibshirani, R. and Friedman, J., 2009. The elements of statistical learning: data mining, inference, and prediction, p. 310, Springer Science & Business Media.\n"
   ]
  }
 ],
 "metadata": {
  "kernelspec": {
   "display_name": "Python 3",
   "language": "python",
   "name": "python3"
  },
  "language_info": {
   "codemirror_mode": {
    "name": "ipython",
    "version": 3
   },
   "file_extension": ".py",
   "mimetype": "text/x-python",
   "name": "python",
   "nbconvert_exporter": "python",
   "pygments_lexer": "ipython3",
   "version": "3.7.6"
  }
 },
 "nbformat": 4,
 "nbformat_minor": 4
}
