{
 "cells": [
  {
   "cell_type": "markdown",
   "id": "f84c3680",
   "metadata": {},
   "source": [
    "# Similarity explanations for 20 newsgroups dataset"
   ]
  },
  {
   "cell_type": "markdown",
   "id": "ffff0a41",
   "metadata": {},
   "source": [
    "In this notebook, we apply the similarity explanation method to a feed forward neural network (FFNN) trained on the 20 newsgroups dataset. \n",
    "\n",
    "The 20 newsgroups dataset is a corpus of 18846 text documents (emails) divided into 20 sections. The FFNN is trained to classify each document in the correct section. The model uses pre-trained sentence embeddings as input features, which are obtained from raw text using a [pretrained transformer](https://www.sbert.net/docs/pretrained_models.html). \n",
    "\n",
    "Given an input document of interest, the similarity explanation method used here aims to find text documents in the training set that are similar to the document of interest according to \"how the model sees them\", meaning that the similarity metric makes use of the gradients of the model's loss function with respect to the model's parameters.\n",
    "\n",
    "The similarity explanation tool supports both `pytorch` and `tensorflow` backends. In this example, we will use the `pytorch` backend.\n",
    "\n",
    "A more detailed description of the method can be found [here](../methods/Similarity.ipynb). The implementation follows  [Charpiat et al., 2019](https://papers.nips.cc/paper/2019/hash/c61f571dbd2fb949d3fe5ae1608dd48b-Abstract.html) and  [Hanawa et al. 2021](https://arxiv.org/abs/2006.04528)."
   ]
  },
  {
   "cell_type": "code",
   "execution_count": 2,
   "id": "643375d1",
   "metadata": {},
   "outputs": [],
   "source": [
    "import os\n",
    "import torch\n",
    "import string\n",
    "import numpy as np\n",
    "import pandas as pd\n",
    "import matplotlib.pyplot as plt\n",
    "import torch.nn as nn\n",
    "from termcolor import colored\n",
    "from torch.utils.data import DataLoader\n",
    "from tqdm import tqdm\n",
    "from sentence_transformers import SentenceTransformer\n",
    "from sklearn.datasets import fetch_20newsgroups\n",
    "from sklearn.model_selection import train_test_split\n",
    "from alibi.explainers.similarity.grad import GradientSimilarity"
   ]
  },
  {
   "cell_type": "code",
   "execution_count": 3,
   "id": "e208a8b0",
   "metadata": {},
   "outputs": [],
   "source": [
    "def to_categorical(y, num_classes):\n",
    "    \"\"\" 1-hot encodes a tensor \"\"\"\n",
    "    return np.eye(num_classes, dtype='uint8')[y].astype('float32')\n",
    "\n",
    "class TorchDataset(torch.utils.data.Dataset):\n",
    "    \"\"\"Utility class to create a torch dataloader from numpy arrays.\n",
    "    \"\"\"\n",
    "    def __init__(self, *indexables):\n",
    "        self.indexables = indexables\n",
    "\n",
    "    def __getitem__(self, idx):\n",
    "        output = tuple(indexable[idx] for indexable in self.indexables)\n",
    "        return output if len(output) > 1 else output[0]\n",
    "\n",
    "    def __len__(self):\n",
    "        return len(self.indexables[0])\n",
    "    \n",
    "def appendInt(num):\n",
    "    \"\"\"Converts integer into cardials (ex. 1 -> 1st, 2 -> 2nd, etc.)\n",
    "    \n",
    "    Parameters\n",
    "    ----------\n",
    "    num\n",
    "        Integer number\n",
    "    \n",
    "    Returns\n",
    "    -------\n",
    "    Oridinal suffixes\n",
    "    \"\"\"\n",
    "    if num > 9:\n",
    "        secondToLastDigit = str(num)[-2]\n",
    "        if secondToLastDigit == '1':\n",
    "            return 'th'\n",
    "    lastDigit = num % 10\n",
    "    if (lastDigit == 1):\n",
    "        return 'st'\n",
    "    elif (lastDigit == 2):\n",
    "        return 'nd'\n",
    "    elif (lastDigit == 3):\n",
    "        return 'rd'\n",
    "    else:\n",
    "        return 'th'\n",
    "    \n",
    "def break_doc_in_lines(text, nb_words_per_line=18):\n",
    "    \"\"\"Breaks document in lines of a fixed number of words for visualization purposes.\n",
    "    \n",
    "    Parameters\n",
    "    ----------\n",
    "    text\n",
    "        String to break in line\n",
    "    nb_words_per_line\n",
    "        number of words for each line\n",
    "    \n",
    "    Returns\n",
    "    -------\n",
    "    String with line breakers\n",
    "    \"\"\"\n",
    "    text_l = text.split(' ')\n",
    "    text_conc = []\n",
    "    nb_lines = np.floor(len(text_l) / nb_words_per_line).astype(int) + 1\n",
    "    for i in range(nb_lines):\n",
    "        tl = text_l[i * nb_words_per_line: (i + 1) * nb_words_per_line]\n",
    "        text_conc.append(' '.join(tl))\n",
    "    text = '\\n'.join(text_conc)\n",
    "    \n",
    "    return text"
   ]
  },
  {
   "cell_type": "markdown",
   "id": "d16dcfc6",
   "metadata": {},
   "source": [
    "## Load data"
   ]
  },
  {
   "cell_type": "markdown",
   "id": "d58158ab",
   "metadata": {},
   "source": [
    "Loading and preparing the 20 newsgroups dataset."
   ]
  },
  {
   "cell_type": "code",
   "execution_count": 4,
   "id": "e2782a3a",
   "metadata": {},
   "outputs": [
    {
     "name": "stdout",
     "output_type": "stream",
     "text": [
      "Loading 20 news groups dataset\n",
      "Cleaning text\n"
     ]
    },
    {
     "name": "stderr",
     "output_type": "stream",
     "text": [
      "The default value of regex will change from True to False in a future version.\n"
     ]
    },
    {
     "name": "stdout",
     "output_type": "stream",
     "text": [
      "\n",
      "\u001b[31mSample document before cleaning\u001b[0m\n",
      "\n",
      "So its an automatic? Don't know if US spec=CDN spec. for Maximas.\n",
      "\n",
      "\n",
      "If it is the first set of brake pads on front, then this is fine. My car\n",
      "eats a set every 15k miles or so. The fact that he is replacing the\n",
      "muffler too is also ok.\n",
      "\n",
      "\n",
      "The mileage is fairly low - but typical fwd stuff is CV joints. Check\n",
      "the maintenance records with the manufacturers requirements for valve\n",
      "adjustments, timing belt changes and so on.\n",
      "\n",
      "The 60k mile service is often expensive, so make sure he has done everything.\n",
      "\n",
      "\n",
      "Well, this is one of the commonly cited methods for identifying a\n",
      "car with highway miles. \n",
      "Might check the gas pedal wear too. Ask him how many sets of tires he\n",
      "has been through. A highway car might have squeezed by on 2 sets,\n",
      "a hard driven car 6-10 sets.\n",
      "\n",
      "\n",
      "\n",
      "Well, the Maxima should be pretty reliable - but if its out of warranty\n",
      "you should get it checked out by someone knowledgeable first. Stuff\n",
      "for Japanese cars can be expensive.\n",
      "\n",
      "\n",
      "1995 model year, I believe. \n",
      "\n",
      "\u001b[31mSample document after cleaning\u001b[0m\n",
      "So its an automatic? Don't know if US spec=CDN spec. for Maximas. If it is the first set\n",
      "of brake pads on front, then this is fine. My car eats a set every 15k miles or\n",
      "so. The fact that he is replacing the muffler too is also ok. The mileage is fairly low\n",
      "- but typical fwd stuff is CV joints. Check the maintenance records with the manufacturers requirements for valve\n",
      "adjustments, timing belt changes and so on. The 60k mile service is often expensive, so make sure he\n",
      "has done everything. Well, this is one of the commonly cited methods for identifying a car with highway\n",
      "miles. Might check the gas pedal wear too. Ask him how many sets of tires he has been\n",
      "through. A highway car might have squeezed by on 2 sets, a hard driven car 6-10 sets. Well,\n",
      "the Maxima should be pretty reliable - but if its out of warranty you should get it checked\n",
      "out by someone knowledgeable first. Stuff for Japanese cars can be expensive. 1995 model year, I believe.\n",
      "\n",
      "Splitting train - test\n",
      "X_train shape: (14604,) - y_train shape: (14604, 20)\n",
      "X_test shape: (3652,) - y_test shape: (3652, 20)\n"
     ]
    }
   ],
   "source": [
    "example_idx = 4\n",
    "\n",
    "print(\"Loading 20 news groups dataset\")\n",
    "data = fetch_20newsgroups(shuffle=True, random_state=1, subset='all',\n",
    "                          remove=('headers', 'footers', 'quotes'),\n",
    "                          return_X_y=False)\n",
    "X, y = np.asarray(data.data), data.target\n",
    "target_names = data.target_names\n",
    "df = pd.DataFrame({'text': X, 'labels': y})\n",
    "\n",
    "print(\"Cleaning text\")\n",
    "df['text_cleaned'] = df['text'].str.replace('\\s+',' ')\n",
    "df['text_cleaned'] = df['text_cleaned'].str.strip()\n",
    "df['text_cleaned'] = df['text_cleaned'].str.slice(0,131072)\n",
    "df = df.replace('', np.NaN).dropna()\n",
    "df = df.drop_duplicates(subset='text_cleaned')\n",
    "print('')\n",
    "\n",
    "print(colored(\"Sample document before cleaning\", 'red'))\n",
    "print(f\"{df['text'][example_idx]}\")\n",
    "print('')\n",
    "print(colored(\"Sample document after cleaning\", 'red'))\n",
    "print(break_doc_in_lines(f\"{df['text_cleaned'][example_idx]}\"))\n",
    "print('')\n",
    "\n",
    "print(\"Splitting train - test\")\n",
    "df_train, df_test = train_test_split(df, test_size=0.2)\n",
    "X_train, y_train = df_train['text_cleaned'].values, df_train['labels'].values\n",
    "X_test, y_test = df_test['text_cleaned'].values, df_test['labels'].values\n",
    "y_train, y_test = to_categorical(y_train, num_classes=20), to_categorical(y_test, num_classes=20)\n",
    "print(f\"X_train shape: {X_train.shape} - y_train shape: {y_train.shape}\")\n",
    "print(f\"X_test shape: {X_test.shape} - y_test shape: {y_test.shape}\")"
   ]
  },
  {
   "cell_type": "markdown",
   "id": "bb99b40b",
   "metadata": {},
   "source": [
    "## Define and train model"
   ]
  },
  {
   "cell_type": "markdown",
   "id": "769f7eb1",
   "metadata": {},
   "source": [
    "We define and train a `pytorch` classifier using sentence embeddings as inputs."
   ]
  },
  {
   "cell_type": "markdown",
   "id": "e608c24a",
   "metadata": {},
   "source": [
    "### Define model"
   ]
  },
  {
   "cell_type": "code",
   "execution_count": 5,
   "id": "41cc56f3",
   "metadata": {},
   "outputs": [],
   "source": [
    "class EmbeddingModel:\n",
    "    \"\"\"Pre-trained sentence transformer wrapper.\n",
    "    \"\"\"\n",
    "    def __init__(\n",
    "        self,\n",
    "        model_name: str = 'paraphrase-MiniLM-L6-v2',  # https://www.sbert.net/docs/pretrained_models.html\n",
    "        max_seq_length: int = 200,\n",
    "        batch_size: int = 32,\n",
    "        device: torch.device = None\n",
    "    ) -> None:\n",
    "        if not isinstance(device, torch.device):\n",
    "            device = torch.device('cuda' if torch.cuda.is_available() else 'cpu')\n",
    "        self.encode_text = SentenceTransformer(model_name).to(device)\n",
    "        self.encode_text.max_seq_length = max_seq_length\n",
    "        self.batch_size = batch_size\n",
    "    \n",
    "    def __call__(self, x: np.ndarray) -> np.ndarray:\n",
    "        return self.encode_text.encode(x, \n",
    "                                       convert_to_numpy=True, \n",
    "                                       batch_size=self.batch_size,\n",
    "                                       show_progress_bar=False)\n",
    "\n",
    "class Classifier(nn.Module):\n",
    "    \"\"\"FFNN classifier with pretrained sentence embeddings inputs.\n",
    "    \"\"\"\n",
    "    def __init__(\n",
    "        self, \n",
    "        n_classes= 20\n",
    "    ) -> None:\n",
    "        \"\"\" Text classification model from sentence embeddings. \"\"\"\n",
    "        super().__init__()\n",
    "        self.head = nn.Sequential(nn.Linear(384, 256), \n",
    "                                  nn.LeakyReLU(.1), \n",
    "                                  nn.Dropout(.5), \n",
    "                                  nn.Linear(256, n_classes))\n",
    "        \n",
    "    def forward(self, sentence_embeddings) -> torch.Tensor:\n",
    "        return self.head(sentence_embeddings)"
   ]
  },
  {
   "cell_type": "code",
   "execution_count": 6,
   "id": "53ce1a2e",
   "metadata": {},
   "outputs": [],
   "source": [
    "device = torch.device('cuda' if torch.cuda.is_available() else 'cpu') "
   ]
  },
  {
   "cell_type": "markdown",
   "id": "1defd1c4",
   "metadata": {},
   "source": [
    "### Get sentence embeddings and define dataloaders"
   ]
  },
  {
   "cell_type": "code",
   "execution_count": 7,
   "id": "02f241a7",
   "metadata": {},
   "outputs": [
    {
     "name": "stdout",
     "output_type": "stream",
     "text": [
      "Getting train embeddings\n",
      "Getting test embeddings\n"
     ]
    }
   ],
   "source": [
    "embedding_model = EmbeddingModel(device=device)\n",
    "\n",
    "print('Getting train embeddings')    \n",
    "embeddings_train = embedding_model(X_train)\n",
    "train_loader = DataLoader(TorchDataset(torch.Tensor(embeddings_train).to(device), \n",
    "                                       torch.Tensor(y_train).to(device)), \n",
    "                          batch_size=32, \n",
    "                          shuffle=True)\n",
    "\n",
    "print('Getting test embeddings')  \n",
    "embeddings_test = embedding_model(X_test)\n",
    "test_loader = DataLoader(TorchDataset(torch.Tensor(embeddings_test).to(device), \n",
    "                                      torch.Tensor(y_test).to(device)), \n",
    "                         batch_size=32, \n",
    "                         shuffle=False)"
   ]
  },
  {
   "cell_type": "markdown",
   "id": "4fed82f4",
   "metadata": {},
   "source": [
    "### Train model"
   ]
  },
  {
   "cell_type": "code",
   "execution_count": 8,
   "id": "c56a3898",
   "metadata": {
    "scrolled": true
   },
   "outputs": [
    {
     "name": "stdout",
     "output_type": "stream",
     "text": [
      "Training classifier\n"
     ]
    },
    {
     "name": "stderr",
     "output_type": "stream",
     "text": [
      "100%|███████████████| 457/457 [00:00<00:00, 1142.95it/s]\n",
      "100%|███████████████| 457/457 [00:00<00:00, 1153.49it/s]\n",
      "100%|███████████████| 457/457 [00:00<00:00, 1155.77it/s]\n"
     ]
    }
   ],
   "source": [
    "epochs = 3\n",
    "\n",
    "# initialize classifier\n",
    "model = Classifier().to(device)\n",
    "print('Training classifier')\n",
    "loss_fn = nn.CrossEntropyLoss()\n",
    "optimizer = torch.optim.Adam(model.parameters(), lr=1e-3)\n",
    "for epoch in range(epochs):\n",
    "    for x, y in tqdm(train_loader):\n",
    "        y_hat = model(x)\n",
    "        optimizer.zero_grad()\n",
    "        loss = loss_fn(y_hat, y)\n",
    "        loss.backward()\n",
    "        optimizer.step()"
   ]
  },
  {
   "cell_type": "markdown",
   "id": "6f86b4df",
   "metadata": {},
   "source": [
    "### Evaluate model"
   ]
  },
  {
   "cell_type": "markdown",
   "id": "ad540a8f",
   "metadata": {},
   "source": [
    "Evaluating the model on train and test set. Since the dataset is well balanced, we only consider accuracy as evaluation metric."
   ]
  },
  {
   "cell_type": "code",
   "execution_count": 9,
   "id": "bb61bbca",
   "metadata": {},
   "outputs": [
    {
     "name": "stdout",
     "output_type": "stream",
     "text": [
      "Train set evaluation\n",
      "Accuracy: 0.721\n",
      "Test set evaluation\n",
      "Accuracy: 0.666\n"
     ]
    }
   ],
   "source": [
    "def eval_model(model, loader):\n",
    "    model.eval()\n",
    "    logits, labels = [], []\n",
    "    with torch.no_grad():\n",
    "        for x, y in loader:\n",
    "            y_hat = model(x)\n",
    "            logits += [y_hat.cpu().numpy()]\n",
    "            labels += [y.cpu().numpy()]\n",
    "    logits = np.concatenate(logits, 0)\n",
    "    preds = np.argmax(logits, 1)\n",
    "    labels = np.concatenate(labels, 0)\n",
    "    accuracy = (preds == labels.argmax(axis=1)).mean()\n",
    "    print(f'Accuracy: {accuracy:.3f}')\n",
    "    \n",
    "print('Train set evaluation')\n",
    "eval_model(model, train_loader)\n",
    "print('Test set evaluation')\n",
    "eval_model(model, test_loader)"
   ]
  },
  {
   "cell_type": "markdown",
   "id": "e2036a39",
   "metadata": {},
   "source": [
    "## Find similaraties "
   ]
  },
  {
   "cell_type": "markdown",
   "id": "d7906621",
   "metadata": {},
   "source": [
    "Selecting a reference set of 1000 random samples from the training set. The `GradientSimilarity` explainer will find the most similar instances among those. This downsampling step is performed in order to speed up the `fit` step."
   ]
  },
  {
   "cell_type": "code",
   "execution_count": 10,
   "id": "f178a776",
   "metadata": {},
   "outputs": [],
   "source": [
    "idxs_ref = np.random.choice(len(X_train), 1000, replace=False)\n",
    "X_ref = X_train[idxs_ref]\n",
    "embeddings_ref = embeddings_train[idxs_ref]\n",
    "y_ref = y_train[idxs_ref]"
   ]
  },
  {
   "cell_type": "markdown",
   "id": "e0226b2a",
   "metadata": {},
   "source": [
    "Initializing a `GradientSimilarity` explainer instance."
   ]
  },
  {
   "cell_type": "code",
   "execution_count": 11,
   "id": "a1527866",
   "metadata": {},
   "outputs": [],
   "source": [
    "gsm = GradientSimilarity(model, \n",
    "                         loss_fn, \n",
    "                         precompute_grads=True, \n",
    "                         sim_fn='grad_cos', \n",
    "                         backend='pytorch', \n",
    "                         device=device)"
   ]
  },
  {
   "cell_type": "markdown",
   "id": "8e5abb35",
   "metadata": {},
   "source": [
    "Fitting the explainer on the reference data."
   ]
  },
  {
   "cell_type": "code",
   "execution_count": 12,
   "id": "e73eee70",
   "metadata": {},
   "outputs": [
    {
     "data": {
      "text/plain": [
       "GradientSimilarity(meta={\n",
       "  'name': 'GradientSimilarity',\n",
       "  'type': ['whitebox'],\n",
       "  'explanations': ['local'],\n",
       "  'params': {\n",
       "              'sim_fn_name': 'grad_cos',\n",
       "              'store_grads': True,\n",
       "              'backend_name': 'pytorch',\n",
       "              'task_name': 'classification'}\n",
       "            ,\n",
       "  'version': '0.6.6dev'}\n",
       ")"
      ]
     },
     "execution_count": 12,
     "metadata": {},
     "output_type": "execute_result"
    }
   ],
   "source": [
    "gsm.fit(embeddings_ref, y_ref)"
   ]
  },
  {
   "cell_type": "markdown",
   "id": "66d9e51e",
   "metadata": {},
   "source": [
    "Selecting 3 random instances from the test set. We only select documents with less than 1000 characters for visualization purposes. "
   ]
  },
  {
   "cell_type": "code",
   "execution_count": 82,
   "id": "07f299c1",
   "metadata": {},
   "outputs": [],
   "source": [
    "idxs_samples = np.where(np.array([len(x) for x in X_test]) <= 1000)[0]\n",
    "idxs_samples = np.random.choice(idxs_samples, 3, replace=False)\n",
    "\n",
    "X_sample, embeddings_sample, y_sample = X_test[idxs_samples], embeddings_test[idxs_samples], y_test[idxs_samples]"
   ]
  },
  {
   "cell_type": "markdown",
   "id": "05411e72",
   "metadata": {},
   "source": [
    "Getting predictions and explanations for each of the 5 test samples."
   ]
  },
  {
   "cell_type": "code",
   "execution_count": 83,
   "id": "b8189a08",
   "metadata": {},
   "outputs": [],
   "source": [
    "preds = model(torch.Tensor(embeddings_sample).to(device)).detach().cpu().numpy().argmax(axis=1)\n",
    "expls = gsm.explain(embeddings_sample, y_sample)"
   ]
  },
  {
   "cell_type": "markdown",
   "id": "a0b1bc4a",
   "metadata": {},
   "source": [
    "## Visualizations "
   ]
  },
  {
   "cell_type": "markdown",
   "id": "cfa143fa",
   "metadata": {},
   "source": [
    "Building a dictionary for each sample for visualization purposes. \n",
    "Each dictionary contains:\n",
    "\n",
    "* The original text document `x` (not the embedding representation).\n",
    "* The corresponding label `y`.\n",
    "* The corresponding model's prediction `pred`.\n",
    "* The reference instances ordered by similarity `x_sim`.\n",
    "* The corresponding reference labels ordered by similarity `y_sim`.\n",
    "* The corresponding model's predictions for the reference set `preds_sim`."
   ]
  },
  {
   "cell_type": "code",
   "execution_count": 84,
   "id": "a9509cc4",
   "metadata": {},
   "outputs": [],
   "source": [
    "ds = []\n",
    "for j in range(len(embeddings_sample)):\n",
    "    y_sim = y_ref[expls.data['ordered_indices'][j]].argmax(axis=1)\n",
    "    X_sim = X_ref[expls.data['ordered_indices'][j]]\n",
    "    sim_embedding = embeddings_ref[expls.data['ordered_indices'][j]]\n",
    "    preds_sim = model(torch.Tensor(sim_embedding).to(device)).detach().cpu().numpy().argmax(axis=1)\n",
    "\n",
    "    d = {'x': X_sample[j], \n",
    "         'y': y_sample[j].argmax(), \n",
    "         'pred':preds[j],\n",
    "         'x_sim': X_sim,\n",
    "         'y_sim': y_sim, \n",
    "         'preds_sim': preds_sim}\n",
    "    ds.append(d)"
   ]
  },
  {
   "cell_type": "markdown",
   "id": "1744a7ec",
   "metadata": {},
   "source": [
    "### Most similar instances"
   ]
  },
  {
   "cell_type": "markdown",
   "id": "3c69a69e",
   "metadata": {},
   "source": [
    "Showing the 3 most similar instances for each of the test instances."
   ]
  },
  {
   "cell_type": "code",
   "execution_count": 85,
   "id": "ece8da60",
   "metadata": {
    "scrolled": true
   },
   "outputs": [
    {
     "name": "stdout",
     "output_type": "stream",
     "text": [
      "\u001b[34mSample nb 0\u001b[0m\n",
      "\u001b[34m===========\u001b[0m\n",
      "\n",
      "\u001b[31mOriginal instance - \u001b[0m \u001b[31mLabel: misc.forsale - \u001b[0m \u001b[31mPrediction: misc.forsale\u001b[0m\n",
      "I have a Powerbook 170 4/40 that is over 1 year old with no warranty but, in perfect\n",
      "condition (with original Apple fax/modem), that I would consider selling you for around a $1000. Get back to\n",
      "me with what you think would be equitable arrangements (sp?). Have all manuals and system disks, some software\n",
      "in boxes and loaded, but threw out the Mac packaging. -ts- --- * Origin: hp NEMESIS ph (23:303/1)\n",
      "\n",
      "\n",
      "\u001b[31m1st most similar instance - \u001b[0m \u001b[31mLabel: misc.forsale - \u001b[0m \u001b[31mPrediction: misc.forsale\u001b[0m\n",
      "***** FORSALE ***** Intel i486DX-33 CPU Price: $300 Must sell immediately. Andie Wei-Ku Lin\n",
      "\n",
      "\u001b[31m2nd most similar instance - \u001b[0m \u001b[31mLabel: misc.forsale - \u001b[0m \u001b[31mPrediction: misc.forsale\u001b[0m\n",
      "I have a used Sony D-808K CarDiscman for sale. I bought it new on June 16, 1992. It\n",
      "still has the one-year warranty intact. Specifications: Sony's best car discman perfect condition 8X oversampling 1-bit D/A converter\n",
      "3-beam laser pickup dual color display DSP sound processing (Bass Boost and DDS modes) w/ 3 levels of\n",
      "effect 2-way repeat hold mode can also run on just 2 AA batteries 30 track programming w/ repeat\n",
      "random play w/ delete fused cigarette lighter adapter (could save the player if something goes wrong Accesories: headphone\n",
      "plug & line-out jack Sony MDR-34 headphones AC power Adapter patch cord for home use automobile mouting plate\n",
      "car conecting pack remote control(great for home use) carrying case extra fuses This unit is great to use\n",
      "in any car. Can be moved easily between vehicles. Works well in home or car. Just need cigaraette\n",
      "lighter/outlet and a cassette player. I have everything that it came with manuals, packaging, receipts etc. The unit\n",
      "is in perfect condition with normal well taken care of use. Extremely versatile and manuverable unit that can\n",
      "be used anywhere. I am asking $250 for the system and extras. Please e-mail if interested.\n",
      "\n",
      "\u001b[31m3rd most similar instance - \u001b[0m \u001b[31mLabel: misc.forsale - \u001b[0m \u001b[31mPrediction: comp.sys.mac.hardware\u001b[0m\n",
      "Nice little, really compact, cream colored, 1200 external modem. Good for the mac or ibm. I will throw\n",
      "in a cable for an extra $5 or so. If you are interested email me an offer.\n",
      "\n",
      "\u001b[34mSample nb 1\u001b[0m\n",
      "\u001b[34m===========\u001b[0m\n",
      "\n",
      "\u001b[31mOriginal instance - \u001b[0m \u001b[31mLabel: soc.religion.christian - \u001b[0m \u001b[31mPrediction: soc.religion.christian\u001b[0m\n",
      "Does anyone know of an English language edition that does not show the verse (or even chapter) numbers.\n",
      "I have always thought that such an edition would be very useful - although hard to navigate around.\n",
      "I have a Scots NT that doesn't show verse numbers, and it is great to read, particularly longer\n",
      "narrative passages, but my Scots isn't quite up to doing proper study from this edition - I tend\n",
      "to use it to get a \"feel\" for a story, particularly in the gospels, and then use an\n",
      "English edition to look for details. Alison\n",
      "\n",
      "\u001b[31m1st most similar instance - \u001b[0m \u001b[31mLabel: soc.religion.christian - \u001b[0m \u001b[31mPrediction: soc.religion.christian\u001b[0m\n",
      "John, While I will not take the time to rebut you point by point, I will suggest three\n",
      "current works which I think will be helpful in your quest to answer this question. John Dominic Crossan\n",
      "(Professor of Religion at De Paul Univ)- _The Cross That Spoke_ Harper and Row Pub. 1988, Also his\n",
      "latest work _The Historical Jesus - The Life of A Mediterranean Jewish Peasant_ Harper and Row Pub. 1991,\n",
      "Also two works of Burton Mack (Professor of New Testament at the Claremont Graduate School) _A Myth of\n",
      "Innocence_ Fortress Press 1988, And his latest book _The Lost Gospel: The Book of Q and Christian Origins_\n",
      "Harper and Row, 1992. You might start with Mack's book on Q and then examine the others afterward.\n",
      "However I think that once you do that you will see that your \"evidence\" is not as sturdy\n",
      "as you'd like. Most of the tired arguements you stated, assume eyewitness accounts, such is not the case.\n",
      "But Anyway look at Mack and Crossan and then get back to us.\n",
      "\n",
      "\u001b[31m2nd most similar instance - \u001b[0m \u001b[31mLabel: soc.religion.christian - \u001b[0m \u001b[31mPrediction: soc.religion.christian\u001b[0m\n",
      "A \"new Christian\" wrote that he was new to the faith and learning about it \"by reading the\n",
      "Bible, of course\". I am not at all sure this is the best path to follow. While the\n",
      "Bible is, for Christians, the word of God, the revelation of God is Jesus Christ and the chief\n",
      "legacy of this revalation is the Church. I am not recommending any one denommination, but I do recommend\n",
      "finding a comfortable christian congregation in which to develop your faith, rather than just reading the Bible. This\n",
      "does not mean that the Bible should not be read, although I would stick to the Gospels, epistles,\n",
      "and Psalms and avoid the Book of Revelation altogether [until you are with friends you are comfortable with].\n",
      "I am sure that mistakenly fervent projects to read the entire Bible have frequently bogged down with a\n",
      "remarkable lack of fervour somewhere in the middle of Leviticus, or for the really sturdy, somewhere in Chronicles.\n",
      "The point is that the Bible is their to illustrate the Faith of Christians, but does not provide\n",
      "the totality of that faith. Vital beliefs of virtually all Christians are simply not mentioned - the Trinity,\n",
      "the duality of natures in Christ, types of Church organization. All these beliefs and practices have developed from\n",
      "the lived experience of the Christian people, an experience lived one hopes in the Spirit. As such the\n",
      "Bible, I think, is better studies in the context of a congregation, and the context of other reading.\n",
      "Following up on a suggestion of an old confessor of mine, I would even suggest that a good\n",
      "novel is a good way to reflect on the christian life. [Most novels of any profundity are actually\n",
      "discussing the nature of good and evil in the human heart]. My own induction into the christian faith\n",
      "was brought about [after grace] through reading Graham Greene: _The Power and the Glory_ and the poetry of\n",
      "Gerard Manley Hopkins. I would also recommend Graham Greene's _Monsignor Quixote_ and any novel by Iris Murdoch. The\n",
      "last is not even a Christian, but such is her insistence on the need for the good life,\n",
      "that, frankly, I often am more uplifted and God directed after reading her than after reading many parts\n",
      "of the Bible. And that after all is what being a Christian is all about: letting your soul\n",
      "and your life be, in some way, directed towards the infinite, represented to us by the person of\n",
      "Jesus Christ.\n",
      "\n",
      "\u001b[31m3rd most similar instance - \u001b[0m \u001b[31mLabel: soc.religion.christian - \u001b[0m \u001b[31mPrediction: soc.religion.christian\u001b[0m\n",
      "jwindley@cheap.cs.utah.edu (Jay Windley) writes... [...] This is curious. I read in _EH_... \"The Lord imparted the gift of\n",
      "knowledge to James the Just, to John and Peter after his resurrection, these delivered it to the rest\n",
      "of the apostles, and they to the seventy, of whom Barnabas was one.\" --- Eusebius, _Ecclesiastical History_ It\n",
      "seems that the Lord imparted the gift of knowledge, not that the Lord imparted secret information. [...] I'm\n",
      "afraid that I cannot find this portrayal in _EH_. I don't see anywhere in 3:32:7-8 where Eusebius mentions\n",
      "that certain gnostics had the wrong gnosis. The closest is when Eusebius summarizes Hegesippus' statements, \"...whilst if there\n",
      "were any at all, that attempted to pervert the sound doctrine of the saving gospel, they were yet\n",
      "skulking in dark retreats...\" \"Favorably interpreted?\" Just in looking at two of the four references that you gave\n",
      "(I have the _EH_ handy, Irenaeus and the _Clemetine Recognitions_ I will have to look for) I see\n",
      "no room for such 'interpretations.' And any such 'interpretation' still falls short of an equivalence to the Temple\n",
      "Ceremonies. The links for Jay's using _EH_ for support are: \"imparting the gift of knowledge\" = \"imparted secret\n",
      "information\" = \"being given secret signs and tokens to gain entrance to heaven.\" But there is not enough\n",
      "equivalence between the the ideas for us to be able to call this \"favorable interpretation.\" It appears to\n",
      "be closer to \"fabrication.\"\n",
      "\n",
      "\u001b[34mSample nb 2\u001b[0m\n",
      "\u001b[34m===========\u001b[0m\n",
      "\n",
      "\u001b[31mOriginal instance - \u001b[0m \u001b[31mLabel: sci.electronics - \u001b[0m \u001b[31mPrediction: sci.electronics\u001b[0m\n",
      "Bzzzzzt! Wrong answer. The UK tone dialling is identical to the US system. The different settings on your\n",
      "modem are so that it uses CCITT V21 & V22 tones for data transmission, rather than Bell 103\n",
      "& Bell 121 tones, which are used only in the USA and canada AFAIK. As most people now\n",
      "use at least V22bis, this is largely irrelevant. Tony\n",
      "\n",
      "\u001b[31m1st most similar instance - \u001b[0m \u001b[31mLabel: sci.electronics - \u001b[0m \u001b[31mPrediction: sci.electronics\u001b[0m\n",
      "I'm wondering if I can tote my American touch tone phone around with me to Sweden and Germany.\n",
      "It's DC powered, and I can buy a special adapter for that in Europe. The question is if\n",
      "the general electronics work the same. I can buy a different wall plug and refit it (I'm sure\n",
      "I'd have to), but would that do the trick?\n",
      "\n",
      "\u001b[31m2nd most similar instance - \u001b[0m \u001b[31mLabel: sci.electronics - \u001b[0m \u001b[31mPrediction: sci.electronics\u001b[0m\n",
      "Yes, it is possible. I'm making a 7 stepper controller board, with 7 digital inputs, and (up to)\n",
      "18 digital outputs from the // port. One main thing that will tell you whether the // port\n",
      "is bi-directional or not is the bus tranceiver on it. Look for a chip numbered 74LS245. If you\n",
      "don't have this, then it's probably a 74LS244, which will do you NO good for reading in. Now,\n",
      "if you do have the '245 then do the following: First, find the address of the port, (decimal)\n",
      "either 888, or 632. In pascal, you would \"Write(Port[xxx]);\" where xxx is the address in either hex or\n",
      "decimal. The status lines, pins 14, 16, 17, as well as the strobe, pin 1, are bi-directional lines,\n",
      "and are read by base address +2, so for 888, to read from status, then read from 890.\n",
      "You can also output to these lines in the same fashion as to the data lines. In pascal,\n",
      "do \"Port[xxx]:=value \". Hope this helps. Let me know if you need more help. _________________________________________________ Inspiration | ___\n",
      "| comes to | \\ o baden@sys6626.bison.mb.ca | those who | ( ^ ) baden@inqmind.bison.mb.ca | seek the\n",
      "| /-\\ =] Baden de Bari [= | unknown. | |\n",
      "\n",
      "\u001b[31m3rd most similar instance - \u001b[0m \u001b[31mLabel: sci.electronics - \u001b[0m \u001b[31mPrediction: sci.electronics\u001b[0m\n",
      "currently I am using the 8051 microcontroller with external eprom.. In order to drive the dc motor (with\n",
      "direction) I use the Pulse width modultion thru software control(Assembly language programming). However I am afraid that they\n",
      "will be overheads and thus alter the pulse timing. My question is is the software pwm control reliable?.\n",
      "I understand that port 0 is a latch and so I vary the duty cycle by setting it\n",
      "high first and at the desire\n",
      "\n"
     ]
    }
   ],
   "source": [
    "for sample_nb in range(3):\n",
    "    title = f\"Sample nb {sample_nb}\"\n",
    "    print(colored(title, 'blue'))\n",
    "    print(colored(f\"{len(title) * '='}\", 'blue'))\n",
    "    print('')\n",
    "    \n",
    "    print(colored(\"Original instance - \", 'red'), \n",
    "          colored(f\"Label: {target_names[ds[sample_nb]['y']]} - \", 'red'), \n",
    "          colored(f\"Prediction: {target_names[ds[sample_nb]['pred']]}\", 'red'))\n",
    "    print(break_doc_in_lines(f\"{ds[sample_nb]['x']}\"))\n",
    "    print('')\n",
    "    \n",
    "    for i in range(3):\n",
    "        print(colored(f\"{i+1}{appendInt(i+1)} most similar instance - \", 'red'), \n",
    "              colored(f\"Label: {target_names[ds[sample_nb]['y_sim'][i]]} - \", 'red'), \n",
    "              colored(f\"Prediction: {target_names[ds[sample_nb]['preds_sim'][i]]}\", 'red'))\n",
    "        print(break_doc_in_lines(f\"{ds[sample_nb]['x_sim'][i]}\"))\n",
    "        print('')"
   ]
  },
  {
   "cell_type": "markdown",
   "id": "163b164b",
   "metadata": {},
   "source": [
    "### Most similar labels distributions "
   ]
  },
  {
   "cell_type": "markdown",
   "id": "3c0ad45a",
   "metadata": {},
   "source": [
    "Showing the average similarity scores for each group of instances in the reference set belonging to the same true class and to the same predicted class. "
   ]
  },
  {
   "cell_type": "code",
   "execution_count": 86,
   "id": "a14ecc40",
   "metadata": {},
   "outputs": [],
   "source": [
    "def plot_distributions(ds, expls, target_names, figsize=(20, 5)):\n",
    "\n",
    "    for i in range(len(ds)):\n",
    "        fig, axes = plt.subplots(1, 2, figsize=figsize, sharex=False)\n",
    "        d = ds[i]\n",
    "\n",
    "        y_sim = d['y_sim']\n",
    "        preds_sim = d['preds_sim']\n",
    "        y = d['y']\n",
    "        pred = d['pred']\n",
    "        df_ditribution = pd.DataFrame({'y_sim': y_sim, \n",
    "                                       'preds_sim': preds_sim, \n",
    "                                       'scores': expls.data['scores'][i]})\n",
    "        title = f\"Sample nb {i}\"\n",
    "        print(colored(title, 'blue'))\n",
    "        print(colored(f\"{len(title) * '='}\", 'blue'))\n",
    "        print('')\n",
    "\n",
    "        print(colored(\"Original instance\", 'red'))\n",
    "        print(colored(f\"Label: section {d['y']}, {target_names[d['y']]}\", 'red')) \n",
    "        print(colored(f\"Prediction: section {d['pred']}, {target_names[d['pred']]}\", 'red'))\n",
    "        print(break_doc_in_lines(f\"{d['x']}\"))\n",
    "        \n",
    "        df_y = df_ditribution.groupby('y_sim')['scores'].mean()\n",
    "        df_y.index = target_names\n",
    "        df_y.sort_values(ascending=True).plot(kind='barh', ax=axes[0])\n",
    "        axes[0].set_title(\"Averaged scores for each true class in reference set \\n\")\n",
    "        \n",
    "        df_preds = df_ditribution.groupby('preds_sim')['scores'].mean()\n",
    "        df_preds.index = target_names\n",
    "        df_preds.sort_values(ascending=True).plot(kind='barh', ax=axes[1])\n",
    "        axes[1].set_title(\"Averaged scores for each predicted class in reference set \\n\")\n",
    "        fig.tight_layout()\n",
    "        plt.show()"
   ]
  },
  {
   "cell_type": "code",
   "execution_count": 87,
   "id": "21cbd8a6",
   "metadata": {
    "scrolled": false
   },
   "outputs": [
    {
     "name": "stdout",
     "output_type": "stream",
     "text": [
      "\u001b[34mSample nb 0\u001b[0m\n",
      "\u001b[34m===========\u001b[0m\n",
      "\n",
      "\u001b[31mOriginal instance\u001b[0m\n",
      "\u001b[31mLabel: section 6, misc.forsale\u001b[0m\n",
      "\u001b[31mPrediction: section 6, misc.forsale\u001b[0m\n",
      "I have a Powerbook 170 4/40 that is over 1 year old with no warranty but, in perfect\n",
      "condition (with original Apple fax/modem), that I would consider selling you for around a $1000. Get back to\n",
      "me with what you think would be equitable arrangements (sp?). Have all manuals and system disks, some software\n",
      "in boxes and loaded, but threw out the Mac packaging. -ts- --- * Origin: hp NEMESIS ph (23:303/1)\n",
      "\n"
     ]
    },
    {
     "data": {
      "image/png": "[encoded data removed]",
      "text/plain": [
       "<Figure size 1440x360 with 2 Axes>"
      ]
     },
     "metadata": {
      "needs_background": "light"
     },
     "output_type": "display_data"
    },
    {
     "name": "stdout",
     "output_type": "stream",
     "text": [
      "\u001b[34mSample nb 1\u001b[0m\n",
      "\u001b[34m===========\u001b[0m\n",
      "\n",
      "\u001b[31mOriginal instance\u001b[0m\n",
      "\u001b[31mLabel: section 15, soc.religion.christian\u001b[0m\n",
      "\u001b[31mPrediction: section 15, soc.religion.christian\u001b[0m\n",
      "Does anyone know of an English language edition that does not show the verse (or even chapter) numbers.\n",
      "I have always thought that such an edition would be very useful - although hard to navigate around.\n",
      "I have a Scots NT that doesn't show verse numbers, and it is great to read, particularly longer\n",
      "narrative passages, but my Scots isn't quite up to doing proper study from this edition - I tend\n",
      "to use it to get a \"feel\" for a story, particularly in the gospels, and then use an\n",
      "English edition to look for details. Alison\n"
     ]
    },
    {
     "data": {
      "image/png": "[encoded data removed]",
      "text/plain": [
       "<Figure size 1440x360 with 2 Axes>"
      ]
     },
     "metadata": {
      "needs_background": "light"
     },
     "output_type": "display_data"
    },
    {
     "name": "stdout",
     "output_type": "stream",
     "text": [
      "\u001b[34mSample nb 2\u001b[0m\n",
      "\u001b[34m===========\u001b[0m\n",
      "\n",
      "\u001b[31mOriginal instance\u001b[0m\n",
      "\u001b[31mLabel: section 12, sci.electronics\u001b[0m\n",
      "\u001b[31mPrediction: section 12, sci.electronics\u001b[0m\n",
      "Bzzzzzt! Wrong answer. The UK tone dialling is identical to the US system. The different settings on your\n",
      "modem are so that it uses CCITT V21 & V22 tones for data transmission, rather than Bell 103\n",
      "& Bell 121 tones, which are used only in the USA and canada AFAIK. As most people now\n",
      "use at least V22bis, this is largely irrelevant. Tony\n"
     ]
    },
    {
     "data": {
      "image/png": "[encoded data removed]",
      "text/plain": [
       "<Figure size 1440x360 with 2 Axes>"
      ]
     },
     "metadata": {
      "needs_background": "light"
     },
     "output_type": "display_data"
    }
   ],
   "source": [
    "plot_distributions(ds, expls, target_names)"
   ]
  },
  {
   "cell_type": "markdown",
   "id": "084ff80a",
   "metadata": {},
   "source": [
    "The plots show how the instances belonging to the same class (and the instances classified by the model as belonging to the same class) of the instance of interest  have on average higher similarity scores, as expected. "
   ]
  }
 ],
 "metadata": {
  "kernelspec": {
   "display_name": "Python 3",
   "language": "python",
   "name": "python3"
  },
  "language_info": {
   "codemirror_mode": {
    "name": "ipython",
    "version": 3
   },
   "file_extension": ".py",
   "mimetype": "text/x-python",
   "name": "python",
   "nbconvert_exporter": "python",
   "pygments_lexer": "ipython3",
   "version": "3.7.4"
  }
 },
 "nbformat": 4,
 "nbformat_minor": 5
}
