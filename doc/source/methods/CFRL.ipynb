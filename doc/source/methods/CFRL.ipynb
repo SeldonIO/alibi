{
 "cells": [
  {
   "cell_type": "markdown",
   "metadata": {},
   "source": [
    "[[source]](../api/alibi.explainers.cfrl_base.rst)"
   ]
  },
  {
   "cell_type": "markdown",
   "metadata": {},
   "source": [
    "# Counterfactuals with Reinforcement Learning"
   ]
  },
  {
   "cell_type": "markdown",
   "metadata": {},
   "source": [
    "## Overview"
   ]
  },
  {
   "cell_type": "markdown",
   "metadata": {},
   "source": [
    "The counterfactual with reinforcement learning is based on the [Model-agnostic and Scalable Counterfactual Explanations via Reinforcement Learning](https://arxiv.org/pdf/2106.02597.pdf) which proposes a fast, model agnostic method to generate batches of counterfactual explanations by replacing the usual optimization procedure with a learnable process. The method **does not** assume model differentiability, relies only on the feedback from the model predictions, allows for target-conditional counterfactual instances and flexible feature range constraints for numerical and categorical features, including the immutability of protected features (e.g, *gender*, *race*). Furthermore, it is easily extendable to multiple data modalities (e.g., images, tabular data). \n",
    "\n",
    "Counterfactual instances (a.k.a. counterfactual explanations, counterfactuals) are a powerful tool to obtain insight into the underlying decision process exhibited by a black-box model, describing the necessary minimal changes in the input space to alter the prediction towards the desired target. To be of practical use, a counterfactual should be sparse—close (using some distance measure) to the original instance—and indistinguishable from real instances, that is, it should be in-distribution. Thus, for a loan application system that currently outputs a rejection for a given individual, a counterfactual explanation should suggest plausible minimal changes in the feature values that the applicant could perform to get the loan accepted leading to actionable recourse.\n",
    "\n",
    "A desirable property of a method for generating counterfactuals is to allow feature conditioning. Real-world datasets usually include immutable features such as *gender* or *race*, which should remain unchanged throughout the counterfactual search procedure. A natural extension of immutability is to restrict a feature to a subset or an interval of values. Thus, following the same loan application example, a customer might be willing to improve their education level from a *High-school graduate* to *Bachelor’s* or *Master’s*, but not further. Similarly, a numerical feature such as *age* should only increase for a counterfactual to be actionable. To enable such feature conditioning, we propose to use a conditioning vector to guide the generation process.\n",
    "\n",
    "A counterfactual explanation of a given instance represents a sparse, in-distribution example that alters the model prediction towards a specified target. Let $x$ be the original instance, $M$ a black-box model, $y_M = M(x)$ the model prediction on $x$ and $y_T$ the target prediction. The goal is to produce a counterfactual instance $x_{CF} = x + \\delta_{CF}$ where $\\delta_{CF}$ represents a sparse perturbation vector such that $y_T = M(x_{CF})$. Instead of solving an optimization problem for each input instance, we train a generative model which models the counterfactual instances $x_{CF}$ directly and allows for feature level constraints via an optional conditioning vector $c$. A conditional counterfactual explanation $x_{CF}$ therefore depends on the tuple $s = (x, y_M, y_T, c)$.\n",
    "\n",
    "The method **does not** assume the model $M$ to be differentiable and it trains the counterfactual generator using reinforcement learning, namely [Deep Deterministic Policy Gradient (DDPG)](https://arxiv.org/abs/1509.02971). DDPG interleaves a state-action function approximator called critic ($Q$), with learning an approximator called actor($\\mu$) to predict the optimal action, which is equivalent to predicting the optimal counterfactual. The method assumes that the critic is differentiable with respect to the action argument, thus allowing to optimize the actor's parameters efficiently through gradient-based methods.\n",
    "\n",
    "This model-agnostic training pipeline is compatible with various data modalities and only uses sparse model prediction feedback as a reward. For a classification model returning the predicted class label the reward can be defined by an indicator function, $R = 1(M(x_{CF}) = y_{T})$. The reward for a regression model, on the other hand is proportional to the proximity of $M(x_{CF})$ to the regression target $y_T$.\n",
    "\n",
    "Instead of directly modeling the perturbation vector $\\delta_{CF}$ in the potentially high-dimensional input space, we first train an [autoencoder](https://en.wikipedia.org/wiki/Autoencoder). The weights of the autoencoder are frozen and $\\mu$ applies the counterfactual perturbations in the latent space of the encoder. The pre-trained decoder maps the counterfactual embedding back to the input feature space. Since $\\mu$ operates in the continuous latent space we use the sample efficient DDPG method. We denote by $enc$ and $dec$ the encoder and the decoder networks, respectively. Given the encoded representation of the input instance $z = enc(x)$, the model prediction $y_M$, the target prediction $y_T$ and the conditioning vector $c$, the actor outputs the counterfactual’s latent representation $z_{CF} = \\mu(z, y_M, y_T, c)$. The decoder then projects the embedding $z_{CF}$ back to the original input space, followed by optional post-processing.\n",
    "\n",
    "The training step consists of simultaneously optimizing the actor and critic networks. The critic regresses on the reward $R$ determined by the model prediction, while the actor maximizes the critic’s output for the given instance through $L_{max}$. The actor also minimizes two objectives to encourage the generation of sparse, in-distribution counterfactuals. The sparsity loss $L_{sparsity}$ operates on the decoded counterfactual $x_{CF}$ and combines the $L_1$ loss over the standardized numerical features and the $L_0$ loss over the categorical ones. The consistency loss $L_{consist}$ aims to encode the counterfactual $x_{CF}$ back to the same latent representation where it was decoded from and helps to produce in-distribution counterfactual instances. Formally, the actor's loss can be written as:  $L_{actor} = L_{max} + \\lambda_{1}L_{sparsity} + \\lambda_{2}L_{consistency}$"
   ]
  },
  {
   "cell_type": "markdown",
   "metadata": {},
   "source": [
    "### Tabular"
   ]
  },
  {
   "cell_type": "markdown",
   "metadata": {},
   "source": [
    "<img src=\"cfrl_adult_example.png\" alt=\"CFRL_adult_example\" style=\"width: 550px;\"/>\n",
    "\n",
    "Samoilescu RF et al., *Model-agnostic and Scalable Counterfactual Explanations via Reinforcement Learning*, 2021"
   ]
  },
  {
   "cell_type": "markdown",
   "metadata": {},
   "source": [
    "In many real-world applications, some of the input features are immutable, have restricted feature ranges, or are constrained to a subset of all possible feature values. These constraints need to be taken into account when generating actionable counterfactual instances. For instance, *age* and *marital status* could be features in the loan application example. An actionable counterfactual should however only be able to increase the numerical *age* feature and keep the categorical *marital status* feature unchanged. To achieve this we condition the counterfactual generator on a conditioning vector $c$.\n",
    "\n",
    "Following the decoding phase, as part of post-processing (denoted by a function $pp$), the numerical values are clipped within the desired range, and categorical values are conditionally sampled according to their masking vector. This step ensures that the generated counterfactual respects the desired feature conditioning before passing it to the model. Note that CFRL is flexible and allows non-differentiable post-processing such as casting features to their original data types (e.g., converting a decoded floating-point *age* to an integer: 40 = int(40.3)) and categorical mapping (e.g., *marital status* distribution/one-hot encoding to the married value) since we rely solely on the sparse model prediction reward."
   ]
  },
  {
   "cell_type": "markdown",
   "metadata": {},
   "source": [
    "<img src=\"cfrl_adult_diversity.png\" alt=\"CFRL_adult_diversity\" style=\"width: 900px;\"/>\n",
    "\n",
    "Samoilescu RF et al., *Model-agnostic and Scalable Counterfactual Explanations via Reinforcement Learning*, 2021"
   ]
  },
  {
   "cell_type": "markdown",
   "metadata": {},
   "source": [
    "Counterfactual diversity is important since it allows the user to take an informed action subject to personal preferences. CFRL can be extended to generate diverse counterfactuals too. Note that the deterministic decoding phase ensures consistency over repeated queries but limits the output to a single possible counterfactual per instance. To increase the diversity, we can sample the conditional vector subject to the user-defined feature constraints. Thus, for unconstrained features, we follow the same sampling procedure applied during training, while for constrained ones, we sample a subset of their restricted values which ensures the feasibility of the counterfactual."
   ]
  },
  {
   "cell_type": "markdown",
   "metadata": {},
   "source": [
    "### Images"
   ]
  },
  {
   "cell_type": "markdown",
   "metadata": {},
   "source": [
    "<img src=\"cfrl_mnist_example.png\" alt=\"CFRL_mnist_example\" style=\"width: 600px;\"/>\n",
    "\n",
    "Samoilescu RF et al., *Model-agnostic and Scalable Counterfactual Explanations via Reinforcement Learning*, 2021"
   ]
  },
  {
   "cell_type": "markdown",
   "metadata": {},
   "source": [
    "CFRL is a flexible method and can be easily extendable to other data modalities, such as images. The training pipeline remains unchanged and only requires a pre-trained autoencoder for each dataset. The method can generate valid, in-distribution counterfactuals even for high-dimensional data."
   ]
  },
  {
   "cell_type": "markdown",
   "metadata": {},
   "source": [
    "## Usage"
   ]
  },
  {
   "cell_type": "markdown",
   "metadata": {},
   "source": [
    "CFRL provides a base class specifically designed to be easily adaptable to multiple data modalities. CFRL achieves this flexibility by allowing the user to input custom functions as:\n",
    "\n",
    "* `reward_func` - element-wise reward function.\n",
    "\n",
    "* `conditional_func` -  generates a conditional vector given a input instance.\n",
    "\n",
    "* `postprocessing_funcs` - post-processing list of functions. Non-differentiable post-processing can be applied. \n",
    "\n",
    "For more details, see the documentation [here](../api/alibi.explainers.cfrl_base.rst#alibi.explainers.cfrl_base.DEFAULT_BASE_PARAMS)."
   ]
  },
  {
   "cell_type": "markdown",
   "metadata": {},
   "source": [
    "### Image"
   ]
  },
  {
   "cell_type": "markdown",
   "metadata": {},
   "source": [
    "We first introduce the image dataset scenario due to ease of usage."
   ]
  },
  {
   "cell_type": "markdown",
   "metadata": {},
   "source": [
    "#### Predictor\n",
    "\n",
    "Since CFRL works on black-box models, only access to a predict function is needed. The model below is a simple convolutional neural network(CNN) trained on the MNIST dataset:\n",
    "\n",
    "```python\n",
    "predictor = lambda x: cnn(x)\n",
    "```\n",
    "\n",
    "Note that for the classification task the CFRL expects the output of the predictor to be a **2D array**, where the second dimension matches the **number of classes**. The output can be either soft-label distribution (actual probabilities/logits for each class) or hard-label distribution (one-hot encoding). Regardless of the output prediction (logits, probabilities, one-hot encoding), for the classification task the CFRL applies the `argmax` operator on the output. "
   ]
  },
  {
   "cell_type": "markdown",
   "metadata": {},
   "source": [
    "#### Autoencoder\n",
    "\n",
    "CFRL models the perturbation vector $\\delta_{CF}$ in embedding space, thus a pre-trained autoencoder, `ae`, is required. The autoencoder is a CNN trained on the MNIST dataset, and for simplicity of notation we assume that the model can be factored out in two components, `ae.encoder` and `ae.decoder`, corresponding to the encoder component and decoder component, respectively."
   ]
  },
  {
   "cell_type": "markdown",
   "metadata": {},
   "source": [
    "#### Initialization\n",
    "\n",
    "```python\n",
    "explainer = CounterfactualRL(predictor=predictor,\n",
    "                             encoder=ae.encoder,\n",
    "                             decoder=ae.decoder,\n",
    "                             coeff_sparsity=COEFF_SPARSITY,\n",
    "                             coeff_consistency=COEFF_CONSISTENCY,\n",
    "                             latent_dim=LATENT_DIM,\n",
    "                             train_steps=300000,\n",
    "                             batch_size=100,\n",
    "                             backend=\"tensorflow\")\n",
    "```\n",
    "where:\n",
    "\n",
    "* `predictor` - black-box model.\n",
    "\n",
    "* `encoder` - pre-trained encoder.\n",
    "\n",
    "* `decoder` - pre-trained decoder.\n",
    "\n",
    "* `latent_dim` - embedding/latent dimension.\n",
    "\n",
    "* `coeff_sparsity` - sparsity loss coefficient.\n",
    "\n",
    "* `coeff_consistency` - consistency loss coefficient.\n",
    "\n",
    "* `train_steps` - number of training steps.\n",
    "\n",
    "* `batch_size` - batch size dimension to be used.\n",
    "\n",
    "* `backend` - backend to be used. Possible values: `tensorflow`|`pytorch`.\n",
    "\n",
    "We previously mentioned the CFRL base class can be easily adaptable to multiple data modalities, by allowing the user to specify custom functions. By default, the customizable functions are defined as:\n",
    "\n",
    "* `reward_func` - by default, checks if the counterfactual prediction label matches the target label. \n",
    "\n",
    "* `conditional_func` - by default, the function returns `None` which is equivalent to no conditioning.\n",
    "\n",
    "* `postprocessing_funcs` - by default is an empty list which is equivalent to no post-processing."
   ]
  },
  {
   "cell_type": "markdown",
   "metadata": {},
   "source": [
    "#### Fit\n",
    "\n",
    "Fitting is straightforward, just passing the training set:\n",
    "```python\n",
    "explainer.fit(X=X_train)\n",
    "```"
   ]
  },
  {
   "cell_type": "markdown",
   "metadata": {},
   "source": [
    "#### Explanation\n",
    "\n",
    "We can now explain the instance:\n",
    "\n",
    "```python\n",
    "explanation = explainer.explain(X=X_test, \n",
    "                                Y_t=np.array([1]), \n",
    "                                batch_size=100)\n",
    "```\n",
    "\n",
    "where:\n",
    "\n",
    "* `X` - test instances to be explained.\n",
    "\n",
    "* `Y_t` - target class. This array can contain either a single entrance that is applied for all test instances or multiple entrances, one for each test instance.\n",
    "\n",
    "* `batch_size` - batch size to be used at prediction time.\n",
    "\n",
    "The explain method returns an `Explanation` object with the following attributes:\n",
    "\n",
    "* `\"orig\"` - a dictionary containing the following key-value pairs:\n",
    "    * `\"X\"` - original input instances.\n",
    "    * `\"class\"` - classification labels of the input instances.\n",
    "    \n",
    "* `\"cf\"` -  a dictionary containing the following key-value pairs:\n",
    "    * `\"X\"` - counterfactual instances.\n",
    "    * `\"class\"` - classification labels of the counterfactual instance.\n",
    "    \n",
    "* `\"target\"` - target labels.\n",
    "\n",
    "* `\"condition\"` - counterfactual conditioning."
   ]
  },
  {
   "cell_type": "markdown",
   "metadata": {},
   "source": [
    "### Tabular"
   ]
  },
  {
   "cell_type": "markdown",
   "metadata": {},
   "source": [
    "The tabular scenario follows closely the details provided for the image one, by replacing the custom functions to match the CFRL original implementation. "
   ]
  },
  {
   "cell_type": "markdown",
   "metadata": {},
   "source": [
    "#### Predictor\n",
    "\n",
    "As previously mentioned, CFRL operates in the black-box scenario and thus it can be applied to any model (from differentiable models as neural networks to highly non-differentiable models such as Decision Tree, Random Forest, XGBoost, etc.). The predictor can be defined as:\n",
    "\n",
    "```python\n",
    "predictor = lambda x: black_box.predict_proba(x)\n",
    "```\n",
    "\n",
    "For classification, the output has to respect the same conventions as described in the *Image* section, namely to be a **2D array** having the second dimension match the **number of classes**. \n",
    "\n",
    "Note that for models that do not support `predict_proba` which outputs the distribution over the classes, one can write a custom function that returns a one-hot encoding representation of the label class without affecting the performance since CFRL applies the `argmax` operator over the output distribution."
   ]
  },
  {
   "cell_type": "markdown",
   "metadata": {},
   "source": [
    "#### Heterogeneous autoencoder\n",
    "\n",
    "For the heterogeneous autoencoder, `heae`, we use the same naming convention as for *Image* datasets and assume that the autoencoder can be factored into two independent components, `heae.encoder` and `heae.decoder`, representing the encoder and decoder modules. For the tabular scenarios, both the encoder and decoder networks can be fully connected networks. \n",
    "\n",
    "Since we are dealing with a heterogeneous dataset, that has to be reflected in the output of the decoder. Thus, the convention is that the decoder must be a multiheaded network which implies that the output must be a list of tensors. The first head models all the numerical features (if exist), while the rest of the heads model the categorical ones (one head for each categorical feature). \n",
    "\n",
    "Heterogeneous datasets require special treatment. In this work, we modeled the numerical features by normal distributions with constant standard deviation and categorical features by categorical distributions. Due to the choice of feature modeling, some numerical features can end up having different types than the original numerical features. For example, a feature like `Age` having the type of `int` can become a `float` due to the autoencoder reconstruction (e.g., `Age=26 -> Age=26.3`). This behavior can be undesirable. Thus we performed a casting when processing the output of the autoencoder (decoder component).\n",
    "\n",
    "We can specify the datatype of each numerical feature by defining:\n",
    "\n",
    "```python\n",
    "feature_types = {\"Age\": int, \"Capital Gain\": int, \"Capital Loss\": int, \"Hours per week\": int}\n",
    "```\n",
    "\n",
    "(by default each numerical feature is considered to be `float`, thus it can be omitted from the `feature_types` dictionary).\n",
    "\n",
    "Then we can obtain a heterogeneous autoencoder pre-processor(`heae_preprocessor`) which standardizes the numerical features and transforms the categorical one into a one-hot encoding. The pre-processor is accompanied by an inverse pre-preprocessor(`heae_inv_preprocessor`), designed to map the raw output of the decoder back to the original input space. The inverse pre-processor includes type casting specified in the `feature_types`. \n",
    "\n",
    "We can obtain the pre-processing pair by:\n",
    "\n",
    "```python\n",
    "from alibi.explainers.backends.cfrl_tabular import get_he_preprocessor\n",
    "heae_preprocessor, heae_inv_preprocessor = get_he_preprocessor(X=X_train,\n",
    "                                                               feature_names=adult.feature_names,\n",
    "                                                               category_map=adult.category_map,\n",
    "                                                               feature_types=feature_types)\n",
    "```"
   ]
  },
  {
   "cell_type": "markdown",
   "metadata": {},
   "source": [
    "#### Constraints\n",
    "\n",
    "A desirable property of a method for generating counterfactuals is to allow feature conditioning. Real-world datasets usually include immutable features such as *gender* or *race*, which should remain unchanged throughout the counterfactual search procedure. Similarly, a numerical feature such as *age* should only increase for a counterfactual to be actionable. \n",
    "\n",
    "We define the immutable features as:\n",
    "\n",
    "```python\n",
    "immutable_features = ['Marital Status', 'Relationship', 'Race', 'Sex']\n",
    "```\n",
    "\n",
    "and ranges for numerical attributes as:\n",
    "\n",
    "```python\n",
    "ranges = {'Age': [0.0, 1.0], 'Hours per week': [-1.0, 0.0], \"Capital Gain\": [-1.0, 1.0]}\n",
    "```\n",
    "\n",
    "The encoding for ranges has the following meaning:\n",
    "\n",
    "* `\"Age\"` - can only increase.\n",
    "\n",
    "* `\"Hours per week\"` - can only decrease.\n",
    "\n",
    "* `\"Capital Gain\"` -  can increase or decrease. It is equivalent of saying that there are no constraints, and therefore can be omitted.\n",
    "\n",
    "Note that the value `0` must be contained in the specified interval. For more details, see the documentation [here](../api/alibi.explainers.cfrl_tabular.rst#alibi.explainers.cfrl_tabular.CounterfactualRLTabular)."
   ]
  },
  {
   "cell_type": "markdown",
   "metadata": {},
   "source": [
    "#### Initialization\n",
    "\n",
    "```python\n",
    "explainer = CounterfactualRLTabular(predictor=predictor,\n",
    "                                    encoder=heae.encoder,\n",
    "                                    decoder=heae.decoder,\n",
    "                                    latent_dim=LATENT_DIM,\n",
    "                                    encoder_preprocessor=heae_preprocessor,\n",
    "                                    decoder_inv_preprocessor=heae_inv_preprocessor,\n",
    "                                    coeff_sparsity=COEFF_SPARSITY,\n",
    "                                    coeff_consistency=COEFF_CONSISTENCY,\n",
    "                                    feature_names=adult.feature_names,\n",
    "                                    category_map=adult.category_map,\n",
    "                                    immutable_features=immutable_features,\n",
    "                                    ranges=ranges,\n",
    "                                    train_steps=100000,\n",
    "                                    batch_size=100,\n",
    "                                    backend=\"tensorflow\")\n",
    "```\n",
    "\n",
    "where:\n",
    "\n",
    "* decoder - heterogeneous decoder network. The output of the decoder **must be a list of tensors**.\n",
    "\n",
    "* encoder_preprocessor - heterogeneous autoencoder/encoder pre-processor.\n",
    "\n",
    "* decoder_inv_preprocessor - heterogeneous autencoder/decoder inverse pre-processor.\n",
    "\n",
    "* category_map - dataset category mapping. Keys are feature indexes and values are list feature values. Provided by the alibi dataset.\n",
    "\n",
    "* feature_names - list of feature names. Provided by the alibi dataset.\n",
    "\n",
    "* ranges - numerical feature ranges, described in the previous section.\n",
    "\n",
    "* immutable_features - list of immutable features, described in the previous section.\n",
    "\n",
    "The rest of the arguments were previously described in the *Image* section."
   ]
  },
  {
   "cell_type": "markdown",
   "metadata": {},
   "source": [
    "#### Fit\n",
    "\n",
    "Similar to the *Image* section, fitting is straight-forward, just passing the training set:\n",
    "\n",
    "```python\n",
    "explainer.fit(X=X_train)\n",
    "```"
   ]
  },
  {
   "cell_type": "markdown",
   "metadata": {},
   "source": [
    "#### Explanation\n",
    "\n",
    "Before asking for an explanation, we can define some conditioning:\n",
    "\n",
    "```python\n",
    "C = [{\"Age\": [0, 20], \"Workclass\": [\"State-gov\", \"?\", \"Local-gov\"]}]\n",
    "```\n",
    "\n",
    "The above condition is equivalent to say that the `Age` is allowed to increase up to `20` years and that the \n",
    "`Workclass` can change to either `\"State-gov\"`, `\"?\"`, `\"Local-gov\"` or remain the same. Note that the conditioning is expressed as a $\\delta$ change from the input and the original feature value will be included by default.\n",
    "\n",
    "We can generate an explanation by calling the `explain` method as follows:\n",
    "\n",
    "```python\n",
    "explanation = explainer.explain(X=X_test, \n",
    "                                Y_t=np.array([1]), \n",
    "                                C=C,\n",
    "                                batch_size=BATCH_SIZE)\n",
    "```\n",
    "\n",
    "where:\n",
    "\n",
    "* `C` - conditioning. The list can contain either a single entrance that is applied for all test instances or multiple entrances, one for each test instance.\n",
    "\n",
    "The rest of the arguments were previously described in the *Image* section.\n",
    "\n",
    "The explain method returns an `Explanation` object described as well in the *Image* section."
   ]
  },
  {
   "cell_type": "markdown",
   "metadata": {},
   "source": [
    "#### Diversity\n",
    "\n",
    "We can generate a diverse counterfactual set for a single instance by calling the `explain` method and by setting the `diversity=True`:\n",
    "\n",
    "```python\n",
    "explanation = explainer.explain(X=X_test[0:1], \n",
    "                                Y_t=np.array([1]), \n",
    "                                C=C, \n",
    "                                diversity=True, \n",
    "                                num_samples=NUM_SAMPLES, \n",
    "                                batch_size=BATCH_SIZE)\n",
    "```\n",
    "where:\n",
    "\n",
    "* `diversity` - diversity flag.\n",
    "\n",
    "* `num_samples` - number of distinct counterfactual instances to be generated.\n",
    "\n",
    "The rest of the arguments were previously described in the *Image* section."
   ]
  },
  {
   "cell_type": "markdown",
   "metadata": {},
   "source": [
    "#### Possible corner case\n",
    "\n",
    "As we previously mention, tabular scenario requires a heterogeneous decoder. That is a decoder which outputs a list of tensors, one for all numerical features, and one tensor for each of the categorical features. For homogeneous dataset (e.g., all numerical features) the output of the decoder **must be a list that contains one tensor**. One possible workaround is to wrap the decoder as follows:\n",
    "\n",
    "```python\n",
    "class DecoderList(tf.keras.Model):\n",
    "    def __init__(self, decoder: tf.keras.Model, **kwargs):\n",
    "        super().__init__(**kwargs)\n",
    "        self.decoder = decoder\n",
    "\n",
    "    def call(self, input: Union[tf.Tensor, List[tf.Tensor]], **kwargs):\n",
    "        return [self.decoder(input, **kwargs)]\n",
    "    \n",
    "decoder = DecoderList(decoder)\n",
    "```"
   ]
  },
  {
   "cell_type": "markdown",
   "metadata": {},
   "source": [
    "### Logging\n",
    "\n",
    "Logging is clearly important when dealing with deep learning models. Thus, we provide an interface to write custom callbacks for logging purposes after each training step which we defined [here](../api/alibi.explainers.cfrl_base.rst#alibi.explainers.cfrl_base.Callback). In the following section we provide links to notebooks that exemplify how to log using **Weights and Biases**.\n",
    "\n",
    "Having defined the callbacks, we can define a new explainer that will include logging.\n",
    "\n",
    "```python\n",
    "import wandb\n",
    "\n",
    "# Initialize wandb.\n",
    "wandb_project = \"Adult Census Counterfactual with Reinforcement Learning\"\n",
    "wandb.init(project=wandb_project)\n",
    "\n",
    "# Define explainer as before and include callbacks.\n",
    "explainer = CounterfactualRLTabular(...,\n",
    "                                    callbacks=[LossCallback(), RewardCallback(), TablesCallback()])\n",
    "\n",
    "# Fit the explainers.\n",
    "explainer = explainer.fit(X=X_train)\n",
    "\n",
    "# Close wandb.\n",
    "wandb.finish()\n",
    "```\n",
    "\n",
    "#### MNIST Logs\n",
    "\n",
    "<img src=\"cfrl_mnist_logging.png\" alt=\"CFRL_mnist_logging\" style=\"width: 1000px;\"/>\n",
    "\n",
    "\n",
    "#### Adult Census Logs\n",
    "\n",
    "<img src=\"cfrl_adult_logging.png\" alt=\"CFRL_adult_logging\" style=\"width: 1000px;\"/>\n"
   ]
  },
  {
   "cell_type": "markdown",
   "metadata": {},
   "source": [
    "## Examples\n",
    "\n",
    "[Counterfactuals with Reinforcement Learning on MNIST](../examples/cfrl_mnist.ipynb)\n",
    "\n",
    "[Counterfactuals with Reinforcement Learning on Adult Census](../examples/cfrl_adult.ipynb)"
   ]
  }
 ],
 "metadata": {
  "kernelspec": {
   "display_name": "Python 3",
   "language": "python",
   "name": "python3"
  },
  "language_info": {
   "codemirror_mode": {
    "name": "ipython",
    "version": 3
   },
   "file_extension": ".py",
   "mimetype": "text/x-python",
   "name": "python",
   "nbconvert_exporter": "python",
   "pygments_lexer": "ipython3",
   "version": "3.8.5"
  }
 },
 "nbformat": 4,
 "nbformat_minor": 2
}
