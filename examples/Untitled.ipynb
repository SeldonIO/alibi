{
 "cells": [
  {
   "cell_type": "code",
   "execution_count": 32,
   "metadata": {},
   "outputs": [],
   "source": [
    "import xgboost as xgb\n",
    "import numpy as np\n",
    "import pandas as pd\n",
    "import shap\n",
    "\n",
    "from alibi.datasets import fetch_adult\n",
    "\n",
    "from shap import TreeExplainer\n",
    "from sklearn.compose import ColumnTransformer\n",
    "from sklearn.impute import SimpleImputer\n",
    "from sklearn.metrics import accuracy_score, confusion_matrix\n",
    "from sklearn.pipeline import Pipeline\n",
    "from sklearn.preprocessing import StandardScaler, OneHotEncoder\n",
    "from sklearn.utils import resample\n",
    "\n",
    "import matplotlib.pyplot as plt\n",
    "\n",
    "from itertools import product\n"
   ]
  },
  {
   "cell_type": "code",
   "execution_count": 33,
   "metadata": {},
   "outputs": [],
   "source": [
    "adult = fetch_adult()\n",
    "adult.keys()\n",
    "\n",
    "data = adult.data\n",
    "target = adult.target\n",
    "target_names = adult.target_names\n",
    "feature_names = adult.feature_names\n",
    "category_map = adult.category_map\n",
    "\n",
    "\n",
    "np.random.seed(0)\n",
    "data_perm = np.random.permutation(np.c_[data, target])\n",
    "data = data_perm[:,:-1]\n",
    "target = data_perm[:,-1]\n",
    "\n",
    "idx = 30000\n",
    "X_train,y_train = data[:idx,:], target[:idx]\n",
    "X_test, y_test = data[idx+1:,:], target[idx+1:]"
   ]
  },
  {
   "cell_type": "code",
   "execution_count": 34,
   "metadata": {},
   "outputs": [
    {
     "name": "stdout",
     "output_type": "stream",
     "text": [
      "Number of training examples in <=50K class: 22771\n",
      "Number of training examples in >50K class: 7229\n",
      "\n",
      "Number of testing examples in <=50K class: 1948\n",
      "Number of testing examples in >50K class: 612\n",
      "Feature order:\n",
      "['Age', 'Capital Gain', 'Capital Loss', 'Hours per week', 'Workclass', 'Education', 'Marital Status', 'Occupation', 'Relationship', 'Race', 'Sex', 'Country']\n"
     ]
    }
   ],
   "source": [
    "ordinal_features = [x for x in range(len(feature_names)) if x not in list(category_map.keys())]\n",
    "ordinal_transformer = Pipeline(steps=[('imputer', SimpleImputer(strategy='median'))])\n",
    "\n",
    "categorical_features = list(category_map.keys())\n",
    "categorical_transformer = Pipeline(steps=[('imputer', SimpleImputer(strategy='median'))])\n",
    "\n",
    "\n",
    "preprocessor = ColumnTransformer(transformers=[('num', ordinal_transformer, ordinal_features),\n",
    "                                               ('cat', categorical_transformer, categorical_features)])\n",
    "preprocessor.fit(X_train)\n",
    "\n",
    "\n",
    "\n",
    "X_train_proc = preprocessor.transform(X_train)\n",
    "X_test_proc = preprocessor.transform(X_test)\n",
    "\n",
    "print(\"Number of training examples in {} class: {}\".format(target_names[0], len(y_train) - y_train.sum()))\n",
    "print(\"Number of training examples in {} class: {}\".format(target_names[1], y_train.sum()))\n",
    "print(\"\\nNumber of testing examples in {} class: {}\".format(target_names[0], len(y_test) - y_test.sum()))\n",
    "print(\"Number of testing examples in {} class: {}\".format(target_names[1], y_test.sum()))\n",
    "      \n",
    "\n",
    "numerical_feats_idx  = preprocessor.transformers_[0][2]\n",
    "categorical_feats_idx  = preprocessor.transformers_[1][2]\n",
    "num_feats_names = [feature_names[i] for i in numerical_feats_idx]\n",
    "cat_feats_names = [feature_names[i] for i in categorical_feats_idx]\n",
    "feat_names = num_feats_names + cat_feats_names\n",
    "print(\"Feature order:\")\n",
    "print(feat_names)"
   ]
  },
  {
   "cell_type": "code",
   "execution_count": 35,
   "metadata": {},
   "outputs": [],
   "source": [
    "def wrap(arr):\n",
    "    return np.ascontiguousarray(arr)\n",
    "\n",
    "dtrain = xgb.DMatrix(\n",
    "    wrap(X_train_proc), \n",
    "    label=wrap(y_train), \n",
    "    feature_names=feat_names, \n",
    ")\n",
    "\n",
    "dtest = xgb.DMatrix(wrap(X_test_proc), label=wrap(y_test), feature_names=feat_names)"
   ]
  },
  {
   "cell_type": "code",
   "execution_count": 36,
   "metadata": {},
   "outputs": [],
   "source": [
    "import shap"
   ]
  },
  {
   "cell_type": "code",
   "execution_count": 37,
   "metadata": {},
   "outputs": [
    {
     "data": {
      "text/plain": [
       "shap.explainers.deep.DeepExplainer"
      ]
     },
     "execution_count": 37,
     "metadata": {},
     "output_type": "execute_result"
    }
   ],
   "source": [
    "shap.DeepExplainer"
   ]
  },
  {
   "cell_type": "code",
   "execution_count": 38,
   "metadata": {},
   "outputs": [
    {
     "name": "stdout",
     "output_type": "stream",
     "text": [
      "[0]\tTrain-auc:0.85583\tTrain-logloss:0.57391\tTest-auc:0.86238\tTest-logloss:0.57150\n",
      "[1]\tTrain-auc:0.86776\tTrain-logloss:0.50820\tTest-auc:0.86981\tTest-logloss:0.50651\n",
      "[2]\tTrain-auc:0.87293\tTrain-logloss:0.46635\tTest-auc:0.87645\tTest-logloss:0.46376\n",
      "[3]\tTrain-auc:0.88608\tTrain-logloss:0.43817\tTest-auc:0.88777\tTest-logloss:0.43724\n",
      "[4]\tTrain-auc:0.89097\tTrain-logloss:0.41784\tTest-auc:0.89187\tTest-logloss:0.41729\n",
      "[5]\tTrain-auc:0.89587\tTrain-logloss:0.39990\tTest-auc:0.89655\tTest-logloss:0.39890\n",
      "[6]\tTrain-auc:0.89975\tTrain-logloss:0.38574\tTest-auc:0.90116\tTest-logloss:0.38520\n",
      "[7]\tTrain-auc:0.90348\tTrain-logloss:0.37559\tTest-auc:0.90578\tTest-logloss:0.37432\n",
      "[8]\tTrain-auc:0.90417\tTrain-logloss:0.36679\tTest-auc:0.90628\tTest-logloss:0.36514\n",
      "[9]\tTrain-auc:0.90722\tTrain-logloss:0.35943\tTest-auc:0.91048\tTest-logloss:0.35752\n",
      "[10]\tTrain-auc:0.90799\tTrain-logloss:0.35458\tTest-auc:0.91160\tTest-logloss:0.35264\n",
      "[11]\tTrain-auc:0.90900\tTrain-logloss:0.34953\tTest-auc:0.91212\tTest-logloss:0.34784\n",
      "[12]\tTrain-auc:0.91071\tTrain-logloss:0.34392\tTest-auc:0.91440\tTest-logloss:0.34197\n",
      "[13]\tTrain-auc:0.91097\tTrain-logloss:0.34131\tTest-auc:0.91472\tTest-logloss:0.33938\n",
      "[14]\tTrain-auc:0.91220\tTrain-logloss:0.33854\tTest-auc:0.91663\tTest-logloss:0.33639\n",
      "[15]\tTrain-auc:0.91335\tTrain-logloss:0.33563\tTest-auc:0.91705\tTest-logloss:0.33400\n",
      "[16]\tTrain-auc:0.91422\tTrain-logloss:0.33284\tTest-auc:0.91708\tTest-logloss:0.33172\n",
      "[17]\tTrain-auc:0.91509\tTrain-logloss:0.33104\tTest-auc:0.91798\tTest-logloss:0.32972\n",
      "[18]\tTrain-auc:0.91520\tTrain-logloss:0.32985\tTest-auc:0.91809\tTest-logloss:0.32876\n",
      "[19]\tTrain-auc:0.91705\tTrain-logloss:0.32669\tTest-auc:0.91936\tTest-logloss:0.32632\n",
      "[20]\tTrain-auc:0.91782\tTrain-logloss:0.32538\tTest-auc:0.92063\tTest-logloss:0.32490\n",
      "[21]\tTrain-auc:0.91835\tTrain-logloss:0.32416\tTest-auc:0.92155\tTest-logloss:0.32335\n",
      "[22]\tTrain-auc:0.91990\tTrain-logloss:0.32162\tTest-auc:0.92289\tTest-logloss:0.32139\n",
      "[23]\tTrain-auc:0.92054\tTrain-logloss:0.32031\tTest-auc:0.92344\tTest-logloss:0.32025\n",
      "[24]\tTrain-auc:0.92105\tTrain-logloss:0.31897\tTest-auc:0.92368\tTest-logloss:0.31904\n",
      "[25]\tTrain-auc:0.92141\tTrain-logloss:0.31818\tTest-auc:0.92438\tTest-logloss:0.31850\n",
      "[26]\tTrain-auc:0.92229\tTrain-logloss:0.31632\tTest-auc:0.92495\tTest-logloss:0.31695\n",
      "[27]\tTrain-auc:0.92253\tTrain-logloss:0.31574\tTest-auc:0.92506\tTest-logloss:0.31644\n",
      "[28]\tTrain-auc:0.92260\tTrain-logloss:0.31516\tTest-auc:0.92500\tTest-logloss:0.31611\n",
      "[29]\tTrain-auc:0.92330\tTrain-logloss:0.31369\tTest-auc:0.92563\tTest-logloss:0.31503\n",
      "[30]\tTrain-auc:0.92374\tTrain-logloss:0.31282\tTest-auc:0.92603\tTest-logloss:0.31414\n",
      "[31]\tTrain-auc:0.92401\tTrain-logloss:0.31227\tTest-auc:0.92630\tTest-logloss:0.31350\n",
      "[32]\tTrain-auc:0.92456\tTrain-logloss:0.31101\tTest-auc:0.92661\tTest-logloss:0.31246\n",
      "[33]\tTrain-auc:0.92472\tTrain-logloss:0.31065\tTest-auc:0.92692\tTest-logloss:0.31209\n",
      "[34]\tTrain-auc:0.92516\tTrain-logloss:0.30970\tTest-auc:0.92724\tTest-logloss:0.31164\n",
      "[35]\tTrain-auc:0.92536\tTrain-logloss:0.30907\tTest-auc:0.92734\tTest-logloss:0.31101\n",
      "[36]\tTrain-auc:0.92554\tTrain-logloss:0.30859\tTest-auc:0.92751\tTest-logloss:0.31044\n",
      "[37]\tTrain-auc:0.92574\tTrain-logloss:0.30804\tTest-auc:0.92774\tTest-logloss:0.30988\n",
      "[38]\tTrain-auc:0.92594\tTrain-logloss:0.30749\tTest-auc:0.92809\tTest-logloss:0.30918\n",
      "[39]\tTrain-auc:0.92632\tTrain-logloss:0.30686\tTest-auc:0.92854\tTest-logloss:0.30864\n",
      "[40]\tTrain-auc:0.92676\tTrain-logloss:0.30604\tTest-auc:0.92852\tTest-logloss:0.30830\n",
      "[41]\tTrain-auc:0.92692\tTrain-logloss:0.30560\tTest-auc:0.92874\tTest-logloss:0.30783\n",
      "[42]\tTrain-auc:0.92761\tTrain-logloss:0.30430\tTest-auc:0.92939\tTest-logloss:0.30674\n",
      "[43]\tTrain-auc:0.92793\tTrain-logloss:0.30365\tTest-auc:0.92973\tTest-logloss:0.30610\n",
      "[44]\tTrain-auc:0.92800\tTrain-logloss:0.30334\tTest-auc:0.92972\tTest-logloss:0.30587\n",
      "[45]\tTrain-auc:0.92831\tTrain-logloss:0.30276\tTest-auc:0.92995\tTest-logloss:0.30550\n",
      "[46]\tTrain-auc:0.92844\tTrain-logloss:0.30250\tTest-auc:0.93010\tTest-logloss:0.30535\n",
      "[47]\tTrain-auc:0.92853\tTrain-logloss:0.30225\tTest-auc:0.93010\tTest-logloss:0.30543\n",
      "[48]\tTrain-auc:0.92888\tTrain-logloss:0.30148\tTest-auc:0.93057\tTest-logloss:0.30462\n",
      "[49]\tTrain-auc:0.92904\tTrain-logloss:0.30112\tTest-auc:0.93074\tTest-logloss:0.30442\n",
      "[50]\tTrain-auc:0.92916\tTrain-logloss:0.30082\tTest-auc:0.93034\tTest-logloss:0.30475\n",
      "[51]\tTrain-auc:0.92924\tTrain-logloss:0.30068\tTest-auc:0.93040\tTest-logloss:0.30473\n",
      "[52]\tTrain-auc:0.92937\tTrain-logloss:0.30033\tTest-auc:0.93074\tTest-logloss:0.30394\n",
      "[53]\tTrain-auc:0.92951\tTrain-logloss:0.30002\tTest-auc:0.93088\tTest-logloss:0.30387\n",
      "[54]\tTrain-auc:0.92957\tTrain-logloss:0.29976\tTest-auc:0.93089\tTest-logloss:0.30382\n",
      "[55]\tTrain-auc:0.92982\tTrain-logloss:0.29910\tTest-auc:0.93095\tTest-logloss:0.30336\n",
      "[56]\tTrain-auc:0.92992\tTrain-logloss:0.29885\tTest-auc:0.93082\tTest-logloss:0.30339\n",
      "[57]\tTrain-auc:0.93001\tTrain-logloss:0.29841\tTest-auc:0.93088\tTest-logloss:0.30312\n",
      "[58]\tTrain-auc:0.93022\tTrain-logloss:0.29799\tTest-auc:0.93117\tTest-logloss:0.30262\n",
      "[59]\tTrain-auc:0.93038\tTrain-logloss:0.29769\tTest-auc:0.93122\tTest-logloss:0.30250\n",
      "[60]\tTrain-auc:0.93052\tTrain-logloss:0.29742\tTest-auc:0.93127\tTest-logloss:0.30250\n",
      "[61]\tTrain-auc:0.93072\tTrain-logloss:0.29695\tTest-auc:0.93139\tTest-logloss:0.30227\n",
      "[62]\tTrain-auc:0.93081\tTrain-logloss:0.29668\tTest-auc:0.93154\tTest-logloss:0.30192\n",
      "[63]\tTrain-auc:0.93095\tTrain-logloss:0.29635\tTest-auc:0.93179\tTest-logloss:0.30146\n",
      "[64]\tTrain-auc:0.93099\tTrain-logloss:0.29628\tTest-auc:0.93183\tTest-logloss:0.30137\n",
      "[65]\tTrain-auc:0.93115\tTrain-logloss:0.29586\tTest-auc:0.93202\tTest-logloss:0.30112\n",
      "[66]\tTrain-auc:0.93131\tTrain-logloss:0.29549\tTest-auc:0.93210\tTest-logloss:0.30101\n",
      "[67]\tTrain-auc:0.93151\tTrain-logloss:0.29522\tTest-auc:0.93219\tTest-logloss:0.30095\n",
      "[68]\tTrain-auc:0.93161\tTrain-logloss:0.29499\tTest-auc:0.93217\tTest-logloss:0.30088\n",
      "[69]\tTrain-auc:0.93176\tTrain-logloss:0.29469\tTest-auc:0.93224\tTest-logloss:0.30073\n",
      "[70]\tTrain-auc:0.93190\tTrain-logloss:0.29445\tTest-auc:0.93246\tTest-logloss:0.30040\n",
      "[71]\tTrain-auc:0.93202\tTrain-logloss:0.29420\tTest-auc:0.93239\tTest-logloss:0.30048\n",
      "[72]\tTrain-auc:0.93216\tTrain-logloss:0.29389\tTest-auc:0.93252\tTest-logloss:0.30018\n",
      "[73]\tTrain-auc:0.93226\tTrain-logloss:0.29367\tTest-auc:0.93258\tTest-logloss:0.29992\n",
      "[74]\tTrain-auc:0.93240\tTrain-logloss:0.29334\tTest-auc:0.93272\tTest-logloss:0.29966\n",
      "[75]\tTrain-auc:0.93240\tTrain-logloss:0.29326\tTest-auc:0.93275\tTest-logloss:0.29946\n",
      "[76]\tTrain-auc:0.93254\tTrain-logloss:0.29296\tTest-auc:0.93267\tTest-logloss:0.29944\n",
      "[77]\tTrain-auc:0.93267\tTrain-logloss:0.29273\tTest-auc:0.93268\tTest-logloss:0.29937\n",
      "[78]\tTrain-auc:0.93275\tTrain-logloss:0.29259\tTest-auc:0.93273\tTest-logloss:0.29930\n",
      "[79]\tTrain-auc:0.93280\tTrain-logloss:0.29247\tTest-auc:0.93281\tTest-logloss:0.29910\n",
      "[80]\tTrain-auc:0.93290\tTrain-logloss:0.29222\tTest-auc:0.93277\tTest-logloss:0.29912\n",
      "[81]\tTrain-auc:0.93299\tTrain-logloss:0.29206\tTest-auc:0.93283\tTest-logloss:0.29912\n",
      "[82]\tTrain-auc:0.93303\tTrain-logloss:0.29190\tTest-auc:0.93283\tTest-logloss:0.29915\n",
      "[83]\tTrain-auc:0.93313\tTrain-logloss:0.29168\tTest-auc:0.93283\tTest-logloss:0.29926\n",
      "[84]\tTrain-auc:0.93321\tTrain-logloss:0.29153\tTest-auc:0.93290\tTest-logloss:0.29919\n",
      "[85]\tTrain-auc:0.93331\tTrain-logloss:0.29135\tTest-auc:0.93302\tTest-logloss:0.29898\n",
      "[86]\tTrain-auc:0.93337\tTrain-logloss:0.29114\tTest-auc:0.93314\tTest-logloss:0.29868\n",
      "[87]\tTrain-auc:0.93352\tTrain-logloss:0.29083\tTest-auc:0.93296\tTest-logloss:0.29870\n",
      "[88]\tTrain-auc:0.93360\tTrain-logloss:0.29068\tTest-auc:0.93300\tTest-logloss:0.29847\n",
      "[89]\tTrain-auc:0.93361\tTrain-logloss:0.29063\tTest-auc:0.93307\tTest-logloss:0.29841\n",
      "[90]\tTrain-auc:0.93366\tTrain-logloss:0.29055\tTest-auc:0.93302\tTest-logloss:0.29863\n",
      "[91]\tTrain-auc:0.93372\tTrain-logloss:0.29044\tTest-auc:0.93294\tTest-logloss:0.29880\n",
      "[92]\tTrain-auc:0.93379\tTrain-logloss:0.29032\tTest-auc:0.93293\tTest-logloss:0.29877\n",
      "[93]\tTrain-auc:0.93382\tTrain-logloss:0.29020\tTest-auc:0.93293\tTest-logloss:0.29880\n",
      "[94]\tTrain-auc:0.93391\tTrain-logloss:0.29000\tTest-auc:0.93302\tTest-logloss:0.29866\n",
      "[95]\tTrain-auc:0.93399\tTrain-logloss:0.28977\tTest-auc:0.93310\tTest-logloss:0.29840\n",
      "[96]\tTrain-auc:0.93409\tTrain-logloss:0.28961\tTest-auc:0.93307\tTest-logloss:0.29843\n",
      "[97]\tTrain-auc:0.93415\tTrain-logloss:0.28952\tTest-auc:0.93308\tTest-logloss:0.29848\n",
      "[98]\tTrain-auc:0.93417\tTrain-logloss:0.28948\tTest-auc:0.93312\tTest-logloss:0.29844\n"
     ]
    },
    {
     "name": "stdout",
     "output_type": "stream",
     "text": [
      "[99]\tTrain-auc:0.93430\tTrain-logloss:0.28919\tTest-auc:0.93330\tTest-logloss:0.29822\n",
      "[100]\tTrain-auc:0.93437\tTrain-logloss:0.28903\tTest-auc:0.93336\tTest-logloss:0.29806\n",
      "[101]\tTrain-auc:0.93443\tTrain-logloss:0.28891\tTest-auc:0.93339\tTest-logloss:0.29801\n",
      "[102]\tTrain-auc:0.93446\tTrain-logloss:0.28881\tTest-auc:0.93339\tTest-logloss:0.29805\n",
      "[103]\tTrain-auc:0.93454\tTrain-logloss:0.28856\tTest-auc:0.93342\tTest-logloss:0.29804\n",
      "[104]\tTrain-auc:0.93464\tTrain-logloss:0.28834\tTest-auc:0.93330\tTest-logloss:0.29833\n",
      "[105]\tTrain-auc:0.93472\tTrain-logloss:0.28815\tTest-auc:0.93339\tTest-logloss:0.29821\n",
      "[106]\tTrain-auc:0.93479\tTrain-logloss:0.28800\tTest-auc:0.93349\tTest-logloss:0.29802\n",
      "[107]\tTrain-auc:0.93489\tTrain-logloss:0.28776\tTest-auc:0.93354\tTest-logloss:0.29786\n",
      "[108]\tTrain-auc:0.93494\tTrain-logloss:0.28763\tTest-auc:0.93358\tTest-logloss:0.29776\n",
      "[109]\tTrain-auc:0.93506\tTrain-logloss:0.28740\tTest-auc:0.93342\tTest-logloss:0.29795\n",
      "[110]\tTrain-auc:0.93512\tTrain-logloss:0.28729\tTest-auc:0.93349\tTest-logloss:0.29783\n",
      "[111]\tTrain-auc:0.93517\tTrain-logloss:0.28720\tTest-auc:0.93352\tTest-logloss:0.29776\n",
      "[112]\tTrain-auc:0.93530\tTrain-logloss:0.28699\tTest-auc:0.93367\tTest-logloss:0.29747\n",
      "[113]\tTrain-auc:0.93534\tTrain-logloss:0.28689\tTest-auc:0.93374\tTest-logloss:0.29735\n",
      "[114]\tTrain-auc:0.93540\tTrain-logloss:0.28673\tTest-auc:0.93379\tTest-logloss:0.29717\n",
      "[115]\tTrain-auc:0.93545\tTrain-logloss:0.28658\tTest-auc:0.93384\tTest-logloss:0.29718\n",
      "[116]\tTrain-auc:0.93548\tTrain-logloss:0.28643\tTest-auc:0.93390\tTest-logloss:0.29704\n",
      "[117]\tTrain-auc:0.93556\tTrain-logloss:0.28632\tTest-auc:0.93391\tTest-logloss:0.29709\n",
      "[118]\tTrain-auc:0.93562\tTrain-logloss:0.28620\tTest-auc:0.93383\tTest-logloss:0.29731\n",
      "[119]\tTrain-auc:0.93568\tTrain-logloss:0.28607\tTest-auc:0.93385\tTest-logloss:0.29727\n",
      "[120]\tTrain-auc:0.93573\tTrain-logloss:0.28596\tTest-auc:0.93392\tTest-logloss:0.29712\n",
      "[121]\tTrain-auc:0.93579\tTrain-logloss:0.28582\tTest-auc:0.93399\tTest-logloss:0.29704\n",
      "[122]\tTrain-auc:0.93586\tTrain-logloss:0.28561\tTest-auc:0.93400\tTest-logloss:0.29690\n",
      "[123]\tTrain-auc:0.93590\tTrain-logloss:0.28553\tTest-auc:0.93409\tTest-logloss:0.29675\n",
      "[124]\tTrain-auc:0.93601\tTrain-logloss:0.28535\tTest-auc:0.93422\tTest-logloss:0.29655\n",
      "[125]\tTrain-auc:0.93602\tTrain-logloss:0.28532\tTest-auc:0.93424\tTest-logloss:0.29649\n",
      "[126]\tTrain-auc:0.93612\tTrain-logloss:0.28515\tTest-auc:0.93435\tTest-logloss:0.29639\n",
      "[127]\tTrain-auc:0.93617\tTrain-logloss:0.28499\tTest-auc:0.93436\tTest-logloss:0.29634\n",
      "[128]\tTrain-auc:0.93619\tTrain-logloss:0.28491\tTest-auc:0.93436\tTest-logloss:0.29626\n",
      "[129]\tTrain-auc:0.93620\tTrain-logloss:0.28486\tTest-auc:0.93437\tTest-logloss:0.29621\n",
      "[130]\tTrain-auc:0.93624\tTrain-logloss:0.28479\tTest-auc:0.93441\tTest-logloss:0.29618\n",
      "[131]\tTrain-auc:0.93631\tTrain-logloss:0.28467\tTest-auc:0.93440\tTest-logloss:0.29627\n",
      "[132]\tTrain-auc:0.93640\tTrain-logloss:0.28451\tTest-auc:0.93454\tTest-logloss:0.29592\n",
      "[133]\tTrain-auc:0.93645\tTrain-logloss:0.28435\tTest-auc:0.93465\tTest-logloss:0.29565\n",
      "[134]\tTrain-auc:0.93652\tTrain-logloss:0.28421\tTest-auc:0.93479\tTest-logloss:0.29541\n",
      "[135]\tTrain-auc:0.93655\tTrain-logloss:0.28415\tTest-auc:0.93477\tTest-logloss:0.29541\n",
      "[136]\tTrain-auc:0.93661\tTrain-logloss:0.28400\tTest-auc:0.93475\tTest-logloss:0.29537\n",
      "[137]\tTrain-auc:0.93661\tTrain-logloss:0.28398\tTest-auc:0.93475\tTest-logloss:0.29537\n",
      "[138]\tTrain-auc:0.93663\tTrain-logloss:0.28394\tTest-auc:0.93475\tTest-logloss:0.29539\n",
      "[139]\tTrain-auc:0.93671\tTrain-logloss:0.28378\tTest-auc:0.93478\tTest-logloss:0.29535\n",
      "[140]\tTrain-auc:0.93677\tTrain-logloss:0.28364\tTest-auc:0.93493\tTest-logloss:0.29501\n",
      "[141]\tTrain-auc:0.93688\tTrain-logloss:0.28346\tTest-auc:0.93491\tTest-logloss:0.29499\n",
      "[142]\tTrain-auc:0.93691\tTrain-logloss:0.28339\tTest-auc:0.93489\tTest-logloss:0.29506\n",
      "[143]\tTrain-auc:0.93698\tTrain-logloss:0.28323\tTest-auc:0.93498\tTest-logloss:0.29482\n",
      "[144]\tTrain-auc:0.93700\tTrain-logloss:0.28318\tTest-auc:0.93497\tTest-logloss:0.29488\n",
      "[145]\tTrain-auc:0.93708\tTrain-logloss:0.28305\tTest-auc:0.93505\tTest-logloss:0.29474\n",
      "[146]\tTrain-auc:0.93714\tTrain-logloss:0.28295\tTest-auc:0.93499\tTest-logloss:0.29480\n",
      "[147]\tTrain-auc:0.93718\tTrain-logloss:0.28289\tTest-auc:0.93504\tTest-logloss:0.29472\n",
      "[148]\tTrain-auc:0.93724\tTrain-logloss:0.28279\tTest-auc:0.93497\tTest-logloss:0.29492\n",
      "[149]\tTrain-auc:0.93727\tTrain-logloss:0.28273\tTest-auc:0.93483\tTest-logloss:0.29505\n",
      "[150]\tTrain-auc:0.93727\tTrain-logloss:0.28271\tTest-auc:0.93483\tTest-logloss:0.29511\n",
      "[151]\tTrain-auc:0.93728\tTrain-logloss:0.28267\tTest-auc:0.93483\tTest-logloss:0.29516\n",
      "[152]\tTrain-auc:0.93731\tTrain-logloss:0.28263\tTest-auc:0.93480\tTest-logloss:0.29521\n",
      "[153]\tTrain-auc:0.93733\tTrain-logloss:0.28258\tTest-auc:0.93477\tTest-logloss:0.29525\n",
      "[154]\tTrain-auc:0.93741\tTrain-logloss:0.28242\tTest-auc:0.93456\tTest-logloss:0.29550\n",
      "[155]\tTrain-auc:0.93746\tTrain-logloss:0.28228\tTest-auc:0.93461\tTest-logloss:0.29539\n",
      "[156]\tTrain-auc:0.93754\tTrain-logloss:0.28212\tTest-auc:0.93464\tTest-logloss:0.29523\n",
      "[157]\tTrain-auc:0.93758\tTrain-logloss:0.28203\tTest-auc:0.93470\tTest-logloss:0.29512\n",
      "[158]\tTrain-auc:0.93764\tTrain-logloss:0.28191\tTest-auc:0.93475\tTest-logloss:0.29510\n",
      "[159]\tTrain-auc:0.93772\tTrain-logloss:0.28176\tTest-auc:0.93473\tTest-logloss:0.29503\n",
      "[160]\tTrain-auc:0.93778\tTrain-logloss:0.28164\tTest-auc:0.93472\tTest-logloss:0.29509\n",
      "[161]\tTrain-auc:0.93781\tTrain-logloss:0.28153\tTest-auc:0.93479\tTest-logloss:0.29495\n",
      "[162]\tTrain-auc:0.93785\tTrain-logloss:0.28143\tTest-auc:0.93483\tTest-logloss:0.29492\n",
      "[163]\tTrain-auc:0.93787\tTrain-logloss:0.28138\tTest-auc:0.93483\tTest-logloss:0.29486\n",
      "[164]\tTrain-auc:0.93789\tTrain-logloss:0.28133\tTest-auc:0.93483\tTest-logloss:0.29481\n",
      "[165]\tTrain-auc:0.93797\tTrain-logloss:0.28120\tTest-auc:0.93481\tTest-logloss:0.29483\n",
      "[166]\tTrain-auc:0.93801\tTrain-logloss:0.28113\tTest-auc:0.93471\tTest-logloss:0.29498\n",
      "[167]\tTrain-auc:0.93803\tTrain-logloss:0.28106\tTest-auc:0.93473\tTest-logloss:0.29497\n",
      "[168]\tTrain-auc:0.93806\tTrain-logloss:0.28099\tTest-auc:0.93473\tTest-logloss:0.29498\n",
      "[169]\tTrain-auc:0.93807\tTrain-logloss:0.28097\tTest-auc:0.93473\tTest-logloss:0.29497\n",
      "[170]\tTrain-auc:0.93812\tTrain-logloss:0.28088\tTest-auc:0.93471\tTest-logloss:0.29503\n",
      "[171]\tTrain-auc:0.93814\tTrain-logloss:0.28082\tTest-auc:0.93469\tTest-logloss:0.29501\n",
      "[172]\tTrain-auc:0.93823\tTrain-logloss:0.28067\tTest-auc:0.93479\tTest-logloss:0.29492\n",
      "[173]\tTrain-auc:0.93825\tTrain-logloss:0.28062\tTest-auc:0.93487\tTest-logloss:0.29478\n",
      "[174]\tTrain-auc:0.93827\tTrain-logloss:0.28055\tTest-auc:0.93490\tTest-logloss:0.29468\n",
      "[175]\tTrain-auc:0.93829\tTrain-logloss:0.28050\tTest-auc:0.93491\tTest-logloss:0.29469\n",
      "[176]\tTrain-auc:0.93830\tTrain-logloss:0.28047\tTest-auc:0.93491\tTest-logloss:0.29474\n",
      "[177]\tTrain-auc:0.93831\tTrain-logloss:0.28041\tTest-auc:0.93493\tTest-logloss:0.29474\n",
      "[178]\tTrain-auc:0.93832\tTrain-logloss:0.28039\tTest-auc:0.93493\tTest-logloss:0.29474\n",
      "[179]\tTrain-auc:0.93834\tTrain-logloss:0.28031\tTest-auc:0.93495\tTest-logloss:0.29467\n",
      "[180]\tTrain-auc:0.93835\tTrain-logloss:0.28029\tTest-auc:0.93495\tTest-logloss:0.29467\n",
      "[181]\tTrain-auc:0.93841\tTrain-logloss:0.28018\tTest-auc:0.93500\tTest-logloss:0.29467\n",
      "[182]\tTrain-auc:0.93842\tTrain-logloss:0.28016\tTest-auc:0.93499\tTest-logloss:0.29469\n",
      "[183]\tTrain-auc:0.93845\tTrain-logloss:0.28008\tTest-auc:0.93494\tTest-logloss:0.29479\n",
      "[184]\tTrain-auc:0.93848\tTrain-logloss:0.28002\tTest-auc:0.93492\tTest-logloss:0.29484\n",
      "[185]\tTrain-auc:0.93852\tTrain-logloss:0.27995\tTest-auc:0.93490\tTest-logloss:0.29486\n",
      "[186]\tTrain-auc:0.93857\tTrain-logloss:0.27983\tTest-auc:0.93494\tTest-logloss:0.29479\n",
      "[187]\tTrain-auc:0.93858\tTrain-logloss:0.27978\tTest-auc:0.93494\tTest-logloss:0.29479\n",
      "[188]\tTrain-auc:0.93858\tTrain-logloss:0.27975\tTest-auc:0.93495\tTest-logloss:0.29473\n",
      "[189]\tTrain-auc:0.93863\tTrain-logloss:0.27965\tTest-auc:0.93484\tTest-logloss:0.29486\n",
      "[190]\tTrain-auc:0.93863\tTrain-logloss:0.27965\tTest-auc:0.93483\tTest-logloss:0.29486\n",
      "[191]\tTrain-auc:0.93865\tTrain-logloss:0.27959\tTest-auc:0.93488\tTest-logloss:0.29479\n",
      "[192]\tTrain-auc:0.93868\tTrain-logloss:0.27953\tTest-auc:0.93489\tTest-logloss:0.29470\n",
      "[193]\tTrain-auc:0.93869\tTrain-logloss:0.27948\tTest-auc:0.93490\tTest-logloss:0.29467\n",
      "[194]\tTrain-auc:0.93870\tTrain-logloss:0.27945\tTest-auc:0.93490\tTest-logloss:0.29459\n",
      "[195]\tTrain-auc:0.93871\tTrain-logloss:0.27939\tTest-auc:0.93492\tTest-logloss:0.29458\n",
      "[196]\tTrain-auc:0.93873\tTrain-logloss:0.27935\tTest-auc:0.93491\tTest-logloss:0.29458\n"
     ]
    },
    {
     "name": "stdout",
     "output_type": "stream",
     "text": [
      "[197]\tTrain-auc:0.93874\tTrain-logloss:0.27933\tTest-auc:0.93491\tTest-logloss:0.29458\n",
      "[198]\tTrain-auc:0.93878\tTrain-logloss:0.27923\tTest-auc:0.93488\tTest-logloss:0.29467\n",
      "[199]\tTrain-auc:0.93879\tTrain-logloss:0.27919\tTest-auc:0.93490\tTest-logloss:0.29463\n",
      "[200]\tTrain-auc:0.93884\tTrain-logloss:0.27907\tTest-auc:0.93497\tTest-logloss:0.29447\n",
      "[201]\tTrain-auc:0.93890\tTrain-logloss:0.27893\tTest-auc:0.93502\tTest-logloss:0.29421\n",
      "[202]\tTrain-auc:0.93900\tTrain-logloss:0.27876\tTest-auc:0.93509\tTest-logloss:0.29417\n",
      "[203]\tTrain-auc:0.93907\tTrain-logloss:0.27865\tTest-auc:0.93493\tTest-logloss:0.29444\n",
      "[204]\tTrain-auc:0.93911\tTrain-logloss:0.27856\tTest-auc:0.93497\tTest-logloss:0.29438\n",
      "[205]\tTrain-auc:0.93917\tTrain-logloss:0.27844\tTest-auc:0.93494\tTest-logloss:0.29442\n",
      "[206]\tTrain-auc:0.93924\tTrain-logloss:0.27835\tTest-auc:0.93496\tTest-logloss:0.29438\n",
      "[207]\tTrain-auc:0.93927\tTrain-logloss:0.27825\tTest-auc:0.93500\tTest-logloss:0.29429\n",
      "[208]\tTrain-auc:0.93928\tTrain-logloss:0.27823\tTest-auc:0.93500\tTest-logloss:0.29429\n",
      "[209]\tTrain-auc:0.93933\tTrain-logloss:0.27814\tTest-auc:0.93481\tTest-logloss:0.29457\n",
      "[210]\tTrain-auc:0.93939\tTrain-logloss:0.27802\tTest-auc:0.93480\tTest-logloss:0.29462\n",
      "[211]\tTrain-auc:0.93941\tTrain-logloss:0.27795\tTest-auc:0.93481\tTest-logloss:0.29456\n",
      "[212]\tTrain-auc:0.93950\tTrain-logloss:0.27780\tTest-auc:0.93480\tTest-logloss:0.29457\n",
      "[213]\tTrain-auc:0.93955\tTrain-logloss:0.27768\tTest-auc:0.93488\tTest-logloss:0.29440\n",
      "[214]\tTrain-auc:0.93959\tTrain-logloss:0.27760\tTest-auc:0.93499\tTest-logloss:0.29428\n",
      "[215]\tTrain-auc:0.93964\tTrain-logloss:0.27751\tTest-auc:0.93500\tTest-logloss:0.29424\n",
      "[216]\tTrain-auc:0.93966\tTrain-logloss:0.27745\tTest-auc:0.93502\tTest-logloss:0.29420\n",
      "[217]\tTrain-auc:0.93969\tTrain-logloss:0.27738\tTest-auc:0.93501\tTest-logloss:0.29415\n",
      "[218]\tTrain-auc:0.93975\tTrain-logloss:0.27729\tTest-auc:0.93512\tTest-logloss:0.29403\n",
      "[219]\tTrain-auc:0.93981\tTrain-logloss:0.27720\tTest-auc:0.93508\tTest-logloss:0.29401\n",
      "[220]\tTrain-auc:0.93983\tTrain-logloss:0.27714\tTest-auc:0.93512\tTest-logloss:0.29390\n",
      "[221]\tTrain-auc:0.93985\tTrain-logloss:0.27711\tTest-auc:0.93513\tTest-logloss:0.29385\n",
      "[222]\tTrain-auc:0.93985\tTrain-logloss:0.27708\tTest-auc:0.93514\tTest-logloss:0.29384\n",
      "[223]\tTrain-auc:0.93988\tTrain-logloss:0.27697\tTest-auc:0.93515\tTest-logloss:0.29376\n",
      "[224]\tTrain-auc:0.93990\tTrain-logloss:0.27691\tTest-auc:0.93520\tTest-logloss:0.29365\n",
      "[225]\tTrain-auc:0.93990\tTrain-logloss:0.27689\tTest-auc:0.93520\tTest-logloss:0.29367\n",
      "[226]\tTrain-auc:0.93991\tTrain-logloss:0.27687\tTest-auc:0.93520\tTest-logloss:0.29365\n",
      "[227]\tTrain-auc:0.93993\tTrain-logloss:0.27680\tTest-auc:0.93529\tTest-logloss:0.29350\n",
      "[228]\tTrain-auc:0.93996\tTrain-logloss:0.27674\tTest-auc:0.93529\tTest-logloss:0.29351\n",
      "[229]\tTrain-auc:0.93998\tTrain-logloss:0.27670\tTest-auc:0.93528\tTest-logloss:0.29352\n",
      "[230]\tTrain-auc:0.93998\tTrain-logloss:0.27669\tTest-auc:0.93528\tTest-logloss:0.29357\n",
      "[231]\tTrain-auc:0.94003\tTrain-logloss:0.27659\tTest-auc:0.93530\tTest-logloss:0.29346\n",
      "[232]\tTrain-auc:0.94010\tTrain-logloss:0.27647\tTest-auc:0.93522\tTest-logloss:0.29357\n",
      "[233]\tTrain-auc:0.94014\tTrain-logloss:0.27640\tTest-auc:0.93513\tTest-logloss:0.29365\n",
      "[234]\tTrain-auc:0.94015\tTrain-logloss:0.27636\tTest-auc:0.93512\tTest-logloss:0.29367\n",
      "[235]\tTrain-auc:0.94017\tTrain-logloss:0.27634\tTest-auc:0.93512\tTest-logloss:0.29368\n",
      "[236]\tTrain-auc:0.94017\tTrain-logloss:0.27633\tTest-auc:0.93515\tTest-logloss:0.29366\n",
      "[237]\tTrain-auc:0.94020\tTrain-logloss:0.27625\tTest-auc:0.93523\tTest-logloss:0.29353\n",
      "[238]\tTrain-auc:0.94024\tTrain-logloss:0.27618\tTest-auc:0.93511\tTest-logloss:0.29381\n",
      "[239]\tTrain-auc:0.94030\tTrain-logloss:0.27607\tTest-auc:0.93511\tTest-logloss:0.29375\n",
      "[240]\tTrain-auc:0.94033\tTrain-logloss:0.27601\tTest-auc:0.93508\tTest-logloss:0.29378\n",
      "[241]\tTrain-auc:0.94034\tTrain-logloss:0.27598\tTest-auc:0.93510\tTest-logloss:0.29372\n",
      "[242]\tTrain-auc:0.94036\tTrain-logloss:0.27591\tTest-auc:0.93516\tTest-logloss:0.29358\n",
      "[243]\tTrain-auc:0.94036\tTrain-logloss:0.27591\tTest-auc:0.93516\tTest-logloss:0.29358\n",
      "[244]\tTrain-auc:0.94037\tTrain-logloss:0.27589\tTest-auc:0.93515\tTest-logloss:0.29364\n",
      "[245]\tTrain-auc:0.94038\tTrain-logloss:0.27584\tTest-auc:0.93516\tTest-logloss:0.29364\n",
      "[246]\tTrain-auc:0.94039\tTrain-logloss:0.27581\tTest-auc:0.93517\tTest-logloss:0.29362\n",
      "[247]\tTrain-auc:0.94040\tTrain-logloss:0.27579\tTest-auc:0.93518\tTest-logloss:0.29360\n",
      "[248]\tTrain-auc:0.94044\tTrain-logloss:0.27570\tTest-auc:0.93527\tTest-logloss:0.29346\n",
      "[249]\tTrain-auc:0.94045\tTrain-logloss:0.27569\tTest-auc:0.93527\tTest-logloss:0.29351\n",
      "[250]\tTrain-auc:0.94045\tTrain-logloss:0.27567\tTest-auc:0.93528\tTest-logloss:0.29354\n",
      "[251]\tTrain-auc:0.94046\tTrain-logloss:0.27564\tTest-auc:0.93524\tTest-logloss:0.29359\n",
      "[252]\tTrain-auc:0.94048\tTrain-logloss:0.27554\tTest-auc:0.93524\tTest-logloss:0.29357\n",
      "[253]\tTrain-auc:0.94049\tTrain-logloss:0.27552\tTest-auc:0.93525\tTest-logloss:0.29355\n",
      "[254]\tTrain-auc:0.94049\tTrain-logloss:0.27548\tTest-auc:0.93528\tTest-logloss:0.29350\n",
      "[255]\tTrain-auc:0.94049\tTrain-logloss:0.27547\tTest-auc:0.93528\tTest-logloss:0.29345\n",
      "[256]\tTrain-auc:0.94050\tTrain-logloss:0.27545\tTest-auc:0.93527\tTest-logloss:0.29347\n",
      "[257]\tTrain-auc:0.94053\tTrain-logloss:0.27539\tTest-auc:0.93533\tTest-logloss:0.29342\n",
      "[258]\tTrain-auc:0.94059\tTrain-logloss:0.27528\tTest-auc:0.93534\tTest-logloss:0.29344\n",
      "[259]\tTrain-auc:0.94063\tTrain-logloss:0.27522\tTest-auc:0.93539\tTest-logloss:0.29342\n",
      "[260]\tTrain-auc:0.94064\tTrain-logloss:0.27518\tTest-auc:0.93540\tTest-logloss:0.29342\n",
      "[261]\tTrain-auc:0.94070\tTrain-logloss:0.27507\tTest-auc:0.93539\tTest-logloss:0.29335\n",
      "[262]\tTrain-auc:0.94073\tTrain-logloss:0.27501\tTest-auc:0.93537\tTest-logloss:0.29337\n",
      "[263]\tTrain-auc:0.94076\tTrain-logloss:0.27495\tTest-auc:0.93536\tTest-logloss:0.29341\n",
      "[264]\tTrain-auc:0.94083\tTrain-logloss:0.27482\tTest-auc:0.93542\tTest-logloss:0.29333\n",
      "[265]\tTrain-auc:0.94085\tTrain-logloss:0.27476\tTest-auc:0.93536\tTest-logloss:0.29339\n",
      "[266]\tTrain-auc:0.94089\tTrain-logloss:0.27471\tTest-auc:0.93528\tTest-logloss:0.29350\n",
      "[267]\tTrain-auc:0.94090\tTrain-logloss:0.27469\tTest-auc:0.93527\tTest-logloss:0.29354\n",
      "[268]\tTrain-auc:0.94090\tTrain-logloss:0.27466\tTest-auc:0.93527\tTest-logloss:0.29354\n",
      "[269]\tTrain-auc:0.94096\tTrain-logloss:0.27458\tTest-auc:0.93531\tTest-logloss:0.29354\n",
      "[270]\tTrain-auc:0.94100\tTrain-logloss:0.27450\tTest-auc:0.93532\tTest-logloss:0.29353\n",
      "[271]\tTrain-auc:0.94101\tTrain-logloss:0.27446\tTest-auc:0.93537\tTest-logloss:0.29347\n",
      "[272]\tTrain-auc:0.94105\tTrain-logloss:0.27436\tTest-auc:0.93539\tTest-logloss:0.29333\n",
      "[273]\tTrain-auc:0.94112\tTrain-logloss:0.27425\tTest-auc:0.93535\tTest-logloss:0.29337\n",
      "[274]\tTrain-auc:0.94115\tTrain-logloss:0.27418\tTest-auc:0.93537\tTest-logloss:0.29330\n",
      "[275]\tTrain-auc:0.94115\tTrain-logloss:0.27409\tTest-auc:0.93537\tTest-logloss:0.29326\n",
      "[276]\tTrain-auc:0.94118\tTrain-logloss:0.27403\tTest-auc:0.93535\tTest-logloss:0.29329\n",
      "[277]\tTrain-auc:0.94121\tTrain-logloss:0.27396\tTest-auc:0.93542\tTest-logloss:0.29320\n",
      "[278]\tTrain-auc:0.94123\tTrain-logloss:0.27391\tTest-auc:0.93545\tTest-logloss:0.29316\n",
      "[279]\tTrain-auc:0.94126\tTrain-logloss:0.27387\tTest-auc:0.93543\tTest-logloss:0.29321\n",
      "[280]\tTrain-auc:0.94126\tTrain-logloss:0.27386\tTest-auc:0.93543\tTest-logloss:0.29321\n",
      "[281]\tTrain-auc:0.94127\tTrain-logloss:0.27385\tTest-auc:0.93543\tTest-logloss:0.29321\n",
      "[282]\tTrain-auc:0.94130\tTrain-logloss:0.27378\tTest-auc:0.93540\tTest-logloss:0.29318\n",
      "[283]\tTrain-auc:0.94136\tTrain-logloss:0.27368\tTest-auc:0.93535\tTest-logloss:0.29329\n",
      "[284]\tTrain-auc:0.94141\tTrain-logloss:0.27360\tTest-auc:0.93525\tTest-logloss:0.29348\n",
      "[285]\tTrain-auc:0.94141\tTrain-logloss:0.27360\tTest-auc:0.93525\tTest-logloss:0.29348\n",
      "[286]\tTrain-auc:0.94145\tTrain-logloss:0.27352\tTest-auc:0.93541\tTest-logloss:0.29325\n",
      "[287]\tTrain-auc:0.94150\tTrain-logloss:0.27345\tTest-auc:0.93542\tTest-logloss:0.29322\n",
      "[288]\tTrain-auc:0.94151\tTrain-logloss:0.27342\tTest-auc:0.93542\tTest-logloss:0.29318\n",
      "[289]\tTrain-auc:0.94151\tTrain-logloss:0.27341\tTest-auc:0.93542\tTest-logloss:0.29322\n",
      "[290]\tTrain-auc:0.94152\tTrain-logloss:0.27340\tTest-auc:0.93542\tTest-logloss:0.29324\n",
      "[291]\tTrain-auc:0.94152\tTrain-logloss:0.27339\tTest-auc:0.93541\tTest-logloss:0.29324\n",
      "[292]\tTrain-auc:0.94153\tTrain-logloss:0.27335\tTest-auc:0.93539\tTest-logloss:0.29326\n",
      "[293]\tTrain-auc:0.94153\tTrain-logloss:0.27333\tTest-auc:0.93539\tTest-logloss:0.29326\n",
      "[294]\tTrain-auc:0.94158\tTrain-logloss:0.27324\tTest-auc:0.93541\tTest-logloss:0.29322\n"
     ]
    },
    {
     "name": "stdout",
     "output_type": "stream",
     "text": [
      "[295]\tTrain-auc:0.94164\tTrain-logloss:0.27314\tTest-auc:0.93547\tTest-logloss:0.29311\n",
      "[296]\tTrain-auc:0.94168\tTrain-logloss:0.27307\tTest-auc:0.93551\tTest-logloss:0.29307\n",
      "[297]\tTrain-auc:0.94169\tTrain-logloss:0.27303\tTest-auc:0.93549\tTest-logloss:0.29303\n",
      "[298]\tTrain-auc:0.94175\tTrain-logloss:0.27291\tTest-auc:0.93566\tTest-logloss:0.29274\n",
      "[299]\tTrain-auc:0.94178\tTrain-logloss:0.27283\tTest-auc:0.93566\tTest-logloss:0.29275\n",
      "[300]\tTrain-auc:0.94181\tTrain-logloss:0.27277\tTest-auc:0.93564\tTest-logloss:0.29280\n",
      "[301]\tTrain-auc:0.94185\tTrain-logloss:0.27268\tTest-auc:0.93548\tTest-logloss:0.29298\n",
      "[302]\tTrain-auc:0.94191\tTrain-logloss:0.27259\tTest-auc:0.93544\tTest-logloss:0.29304\n",
      "[303]\tTrain-auc:0.94191\tTrain-logloss:0.27257\tTest-auc:0.93546\tTest-logloss:0.29302\n",
      "[304]\tTrain-auc:0.94193\tTrain-logloss:0.27252\tTest-auc:0.93542\tTest-logloss:0.29310\n",
      "[305]\tTrain-auc:0.94196\tTrain-logloss:0.27243\tTest-auc:0.93547\tTest-logloss:0.29301\n",
      "[306]\tTrain-auc:0.94200\tTrain-logloss:0.27236\tTest-auc:0.93536\tTest-logloss:0.29321\n",
      "[307]\tTrain-auc:0.94201\tTrain-logloss:0.27232\tTest-auc:0.93535\tTest-logloss:0.29326\n",
      "[308]\tTrain-auc:0.94206\tTrain-logloss:0.27223\tTest-auc:0.93549\tTest-logloss:0.29305\n",
      "[309]\tTrain-auc:0.94210\tTrain-logloss:0.27215\tTest-auc:0.93546\tTest-logloss:0.29307\n",
      "[310]\tTrain-auc:0.94212\tTrain-logloss:0.27211\tTest-auc:0.93547\tTest-logloss:0.29305\n",
      "[311]\tTrain-auc:0.94213\tTrain-logloss:0.27209\tTest-auc:0.93548\tTest-logloss:0.29306\n",
      "[312]\tTrain-auc:0.94215\tTrain-logloss:0.27205\tTest-auc:0.93542\tTest-logloss:0.29310\n",
      "[313]\tTrain-auc:0.94215\tTrain-logloss:0.27204\tTest-auc:0.93542\tTest-logloss:0.29314\n",
      "[314]\tTrain-auc:0.94217\tTrain-logloss:0.27199\tTest-auc:0.93543\tTest-logloss:0.29315\n",
      "[315]\tTrain-auc:0.94223\tTrain-logloss:0.27189\tTest-auc:0.93544\tTest-logloss:0.29304\n",
      "[316]\tTrain-auc:0.94226\tTrain-logloss:0.27184\tTest-auc:0.93548\tTest-logloss:0.29297\n",
      "[317]\tTrain-auc:0.94232\tTrain-logloss:0.27174\tTest-auc:0.93547\tTest-logloss:0.29298\n",
      "[318]\tTrain-auc:0.94233\tTrain-logloss:0.27171\tTest-auc:0.93548\tTest-logloss:0.29295\n",
      "[319]\tTrain-auc:0.94236\tTrain-logloss:0.27164\tTest-auc:0.93543\tTest-logloss:0.29303\n",
      "[320]\tTrain-auc:0.94240\tTrain-logloss:0.27157\tTest-auc:0.93534\tTest-logloss:0.29313\n",
      "[321]\tTrain-auc:0.94242\tTrain-logloss:0.27150\tTest-auc:0.93552\tTest-logloss:0.29280\n",
      "[322]\tTrain-auc:0.94245\tTrain-logloss:0.27139\tTest-auc:0.93546\tTest-logloss:0.29297\n",
      "[323]\tTrain-auc:0.94250\tTrain-logloss:0.27132\tTest-auc:0.93555\tTest-logloss:0.29284\n",
      "[324]\tTrain-auc:0.94255\tTrain-logloss:0.27124\tTest-auc:0.93560\tTest-logloss:0.29275\n",
      "[325]\tTrain-auc:0.94257\tTrain-logloss:0.27118\tTest-auc:0.93563\tTest-logloss:0.29271\n",
      "[326]\tTrain-auc:0.94258\tTrain-logloss:0.27116\tTest-auc:0.93564\tTest-logloss:0.29269\n",
      "[327]\tTrain-auc:0.94259\tTrain-logloss:0.27112\tTest-auc:0.93564\tTest-logloss:0.29266\n",
      "[328]\tTrain-auc:0.94260\tTrain-logloss:0.27110\tTest-auc:0.93569\tTest-logloss:0.29257\n",
      "[329]\tTrain-auc:0.94261\tTrain-logloss:0.27108\tTest-auc:0.93569\tTest-logloss:0.29254\n",
      "[330]\tTrain-auc:0.94264\tTrain-logloss:0.27102\tTest-auc:0.93578\tTest-logloss:0.29244\n",
      "[331]\tTrain-auc:0.94267\tTrain-logloss:0.27094\tTest-auc:0.93579\tTest-logloss:0.29234\n",
      "[332]\tTrain-auc:0.94268\tTrain-logloss:0.27093\tTest-auc:0.93573\tTest-logloss:0.29240\n",
      "[333]\tTrain-auc:0.94268\tTrain-logloss:0.27090\tTest-auc:0.93573\tTest-logloss:0.29239\n",
      "[334]\tTrain-auc:0.94268\tTrain-logloss:0.27088\tTest-auc:0.93574\tTest-logloss:0.29240\n",
      "[335]\tTrain-auc:0.94269\tTrain-logloss:0.27087\tTest-auc:0.93573\tTest-logloss:0.29239\n",
      "[336]\tTrain-auc:0.94269\tTrain-logloss:0.27086\tTest-auc:0.93573\tTest-logloss:0.29240\n",
      "[337]\tTrain-auc:0.94270\tTrain-logloss:0.27085\tTest-auc:0.93571\tTest-logloss:0.29247\n",
      "[338]\tTrain-auc:0.94275\tTrain-logloss:0.27076\tTest-auc:0.93571\tTest-logloss:0.29248\n",
      "[339]\tTrain-auc:0.94278\tTrain-logloss:0.27070\tTest-auc:0.93569\tTest-logloss:0.29250\n",
      "[340]\tTrain-auc:0.94281\tTrain-logloss:0.27065\tTest-auc:0.93574\tTest-logloss:0.29246\n",
      "[341]\tTrain-auc:0.94286\tTrain-logloss:0.27056\tTest-auc:0.93563\tTest-logloss:0.29265\n",
      "[342]\tTrain-auc:0.94288\tTrain-logloss:0.27050\tTest-auc:0.93570\tTest-logloss:0.29255\n",
      "[343]\tTrain-auc:0.94289\tTrain-logloss:0.27046\tTest-auc:0.93563\tTest-logloss:0.29267\n",
      "[344]\tTrain-auc:0.94293\tTrain-logloss:0.27037\tTest-auc:0.93568\tTest-logloss:0.29258\n",
      "[345]\tTrain-auc:0.94296\tTrain-logloss:0.27030\tTest-auc:0.93566\tTest-logloss:0.29257\n",
      "[346]\tTrain-auc:0.94300\tTrain-logloss:0.27022\tTest-auc:0.93562\tTest-logloss:0.29261\n",
      "[347]\tTrain-auc:0.94303\tTrain-logloss:0.27018\tTest-auc:0.93559\tTest-logloss:0.29265\n",
      "[348]\tTrain-auc:0.94304\tTrain-logloss:0.27015\tTest-auc:0.93558\tTest-logloss:0.29265\n",
      "[349]\tTrain-auc:0.94307\tTrain-logloss:0.27010\tTest-auc:0.93559\tTest-logloss:0.29274\n",
      "[350]\tTrain-auc:0.94311\tTrain-logloss:0.27002\tTest-auc:0.93553\tTest-logloss:0.29280\n",
      "[351]\tTrain-auc:0.94313\tTrain-logloss:0.26998\tTest-auc:0.93554\tTest-logloss:0.29278\n",
      "[352]\tTrain-auc:0.94316\tTrain-logloss:0.26991\tTest-auc:0.93547\tTest-logloss:0.29286\n",
      "[353]\tTrain-auc:0.94319\tTrain-logloss:0.26987\tTest-auc:0.93547\tTest-logloss:0.29287\n",
      "[354]\tTrain-auc:0.94323\tTrain-logloss:0.26980\tTest-auc:0.93540\tTest-logloss:0.29305\n",
      "[355]\tTrain-auc:0.94326\tTrain-logloss:0.26976\tTest-auc:0.93534\tTest-logloss:0.29312\n",
      "[356]\tTrain-auc:0.94331\tTrain-logloss:0.26965\tTest-auc:0.93533\tTest-logloss:0.29312\n",
      "[357]\tTrain-auc:0.94334\tTrain-logloss:0.26958\tTest-auc:0.93530\tTest-logloss:0.29322\n",
      "[358]\tTrain-auc:0.94338\tTrain-logloss:0.26949\tTest-auc:0.93527\tTest-logloss:0.29324\n",
      "[359]\tTrain-auc:0.94340\tTrain-logloss:0.26945\tTest-auc:0.93529\tTest-logloss:0.29316\n",
      "[360]\tTrain-auc:0.94341\tTrain-logloss:0.26942\tTest-auc:0.93539\tTest-logloss:0.29295\n",
      "[361]\tTrain-auc:0.94343\tTrain-logloss:0.26938\tTest-auc:0.93536\tTest-logloss:0.29301\n",
      "[362]\tTrain-auc:0.94346\tTrain-logloss:0.26930\tTest-auc:0.93538\tTest-logloss:0.29307\n",
      "[363]\tTrain-auc:0.94349\tTrain-logloss:0.26925\tTest-auc:0.93540\tTest-logloss:0.29297\n",
      "[364]\tTrain-auc:0.94349\tTrain-logloss:0.26924\tTest-auc:0.93537\tTest-logloss:0.29305\n",
      "[365]\tTrain-auc:0.94349\tTrain-logloss:0.26923\tTest-auc:0.93538\tTest-logloss:0.29306\n",
      "[366]\tTrain-auc:0.94349\tTrain-logloss:0.26922\tTest-auc:0.93539\tTest-logloss:0.29304\n",
      "[367]\tTrain-auc:0.94349\tTrain-logloss:0.26921\tTest-auc:0.93539\tTest-logloss:0.29305\n",
      "[368]\tTrain-auc:0.94353\tTrain-logloss:0.26915\tTest-auc:0.93535\tTest-logloss:0.29311\n",
      "[369]\tTrain-auc:0.94356\tTrain-logloss:0.26911\tTest-auc:0.93534\tTest-logloss:0.29310\n",
      "[370]\tTrain-auc:0.94356\tTrain-logloss:0.26911\tTest-auc:0.93533\tTest-logloss:0.29317\n",
      "[371]\tTrain-auc:0.94360\tTrain-logloss:0.26903\tTest-auc:0.93532\tTest-logloss:0.29315\n",
      "[372]\tTrain-auc:0.94362\tTrain-logloss:0.26897\tTest-auc:0.93532\tTest-logloss:0.29308\n",
      "[373]\tTrain-auc:0.94363\tTrain-logloss:0.26891\tTest-auc:0.93532\tTest-logloss:0.29306\n",
      "[374]\tTrain-auc:0.94365\tTrain-logloss:0.26888\tTest-auc:0.93530\tTest-logloss:0.29315\n",
      "[375]\tTrain-auc:0.94365\tTrain-logloss:0.26884\tTest-auc:0.93531\tTest-logloss:0.29311\n",
      "[376]\tTrain-auc:0.94366\tTrain-logloss:0.26881\tTest-auc:0.93533\tTest-logloss:0.29309\n",
      "[377]\tTrain-auc:0.94366\tTrain-logloss:0.26880\tTest-auc:0.93533\tTest-logloss:0.29310\n",
      "[378]\tTrain-auc:0.94367\tTrain-logloss:0.26879\tTest-auc:0.93533\tTest-logloss:0.29311\n",
      "[379]\tTrain-auc:0.94369\tTrain-logloss:0.26870\tTest-auc:0.93534\tTest-logloss:0.29314\n",
      "[380]\tTrain-auc:0.94371\tTrain-logloss:0.26866\tTest-auc:0.93530\tTest-logloss:0.29331\n",
      "[381]\tTrain-auc:0.94375\tTrain-logloss:0.26861\tTest-auc:0.93527\tTest-logloss:0.29332\n",
      "[382]\tTrain-auc:0.94376\tTrain-logloss:0.26858\tTest-auc:0.93531\tTest-logloss:0.29333\n",
      "[383]\tTrain-auc:0.94379\tTrain-logloss:0.26850\tTest-auc:0.93534\tTest-logloss:0.29324\n",
      "[384]\tTrain-auc:0.94382\tTrain-logloss:0.26845\tTest-auc:0.93538\tTest-logloss:0.29319\n",
      "[385]\tTrain-auc:0.94383\tTrain-logloss:0.26841\tTest-auc:0.93541\tTest-logloss:0.29316\n",
      "[386]\tTrain-auc:0.94385\tTrain-logloss:0.26838\tTest-auc:0.93540\tTest-logloss:0.29317\n",
      "[387]\tTrain-auc:0.94386\tTrain-logloss:0.26835\tTest-auc:0.93541\tTest-logloss:0.29314\n",
      "[388]\tTrain-auc:0.94389\tTrain-logloss:0.26830\tTest-auc:0.93534\tTest-logloss:0.29321\n",
      "[389]\tTrain-auc:0.94390\tTrain-logloss:0.26828\tTest-auc:0.93535\tTest-logloss:0.29319\n",
      "[390]\tTrain-auc:0.94390\tTrain-logloss:0.26826\tTest-auc:0.93535\tTest-logloss:0.29319\n",
      "[391]\tTrain-auc:0.94393\tTrain-logloss:0.26821\tTest-auc:0.93535\tTest-logloss:0.29318\n",
      "[392]\tTrain-auc:0.94393\tTrain-logloss:0.26820\tTest-auc:0.93535\tTest-logloss:0.29318\n"
     ]
    },
    {
     "name": "stdout",
     "output_type": "stream",
     "text": [
      "[393]\tTrain-auc:0.94397\tTrain-logloss:0.26813\tTest-auc:0.93543\tTest-logloss:0.29309\n",
      "[394]\tTrain-auc:0.94399\tTrain-logloss:0.26809\tTest-auc:0.93542\tTest-logloss:0.29310\n",
      "[395]\tTrain-auc:0.94402\tTrain-logloss:0.26804\tTest-auc:0.93526\tTest-logloss:0.29335\n",
      "[396]\tTrain-auc:0.94406\tTrain-logloss:0.26796\tTest-auc:0.93519\tTest-logloss:0.29356\n",
      "[397]\tTrain-auc:0.94408\tTrain-logloss:0.26791\tTest-auc:0.93518\tTest-logloss:0.29353\n",
      "[398]\tTrain-auc:0.94408\tTrain-logloss:0.26790\tTest-auc:0.93518\tTest-logloss:0.29356\n",
      "[399]\tTrain-auc:0.94409\tTrain-logloss:0.26786\tTest-auc:0.93516\tTest-logloss:0.29358\n",
      "[400]\tTrain-auc:0.94411\tTrain-logloss:0.26781\tTest-auc:0.93516\tTest-logloss:0.29361\n",
      "[401]\tTrain-auc:0.94412\tTrain-logloss:0.26777\tTest-auc:0.93522\tTest-logloss:0.29352\n",
      "[402]\tTrain-auc:0.94415\tTrain-logloss:0.26773\tTest-auc:0.93514\tTest-logloss:0.29369\n",
      "[403]\tTrain-auc:0.94415\tTrain-logloss:0.26771\tTest-auc:0.93512\tTest-logloss:0.29371\n",
      "[404]\tTrain-auc:0.94418\tTrain-logloss:0.26766\tTest-auc:0.93514\tTest-logloss:0.29361\n",
      "[405]\tTrain-auc:0.94421\tTrain-logloss:0.26762\tTest-auc:0.93512\tTest-logloss:0.29364\n",
      "[406]\tTrain-auc:0.94422\tTrain-logloss:0.26760\tTest-auc:0.93513\tTest-logloss:0.29363\n",
      "[407]\tTrain-auc:0.94422\tTrain-logloss:0.26759\tTest-auc:0.93513\tTest-logloss:0.29363\n",
      "[408]\tTrain-auc:0.94422\tTrain-logloss:0.26756\tTest-auc:0.93515\tTest-logloss:0.29347\n",
      "[409]\tTrain-auc:0.94423\tTrain-logloss:0.26753\tTest-auc:0.93515\tTest-logloss:0.29350\n",
      "[410]\tTrain-auc:0.94423\tTrain-logloss:0.26752\tTest-auc:0.93515\tTest-logloss:0.29352\n",
      "[411]\tTrain-auc:0.94423\tTrain-logloss:0.26751\tTest-auc:0.93515\tTest-logloss:0.29356\n",
      "[412]\tTrain-auc:0.94423\tTrain-logloss:0.26750\tTest-auc:0.93516\tTest-logloss:0.29360\n",
      "[413]\tTrain-auc:0.94427\tTrain-logloss:0.26744\tTest-auc:0.93518\tTest-logloss:0.29357\n",
      "[414]\tTrain-auc:0.94429\tTrain-logloss:0.26740\tTest-auc:0.93520\tTest-logloss:0.29357\n",
      "[415]\tTrain-auc:0.94429\tTrain-logloss:0.26739\tTest-auc:0.93519\tTest-logloss:0.29362\n",
      "[416]\tTrain-auc:0.94429\tTrain-logloss:0.26736\tTest-auc:0.93519\tTest-logloss:0.29358\n",
      "[417]\tTrain-auc:0.94430\tTrain-logloss:0.26735\tTest-auc:0.93519\tTest-logloss:0.29359\n",
      "[418]\tTrain-auc:0.94434\tTrain-logloss:0.26728\tTest-auc:0.93519\tTest-logloss:0.29363\n",
      "[419]\tTrain-auc:0.94436\tTrain-logloss:0.26724\tTest-auc:0.93521\tTest-logloss:0.29362\n",
      "[420]\tTrain-auc:0.94437\tTrain-logloss:0.26721\tTest-auc:0.93522\tTest-logloss:0.29363\n",
      "[421]\tTrain-auc:0.94437\tTrain-logloss:0.26720\tTest-auc:0.93522\tTest-logloss:0.29366\n",
      "[422]\tTrain-auc:0.94439\tTrain-logloss:0.26716\tTest-auc:0.93518\tTest-logloss:0.29371\n",
      "[423]\tTrain-auc:0.94440\tTrain-logloss:0.26713\tTest-auc:0.93521\tTest-logloss:0.29366\n",
      "[424]\tTrain-auc:0.94442\tTrain-logloss:0.26710\tTest-auc:0.93527\tTest-logloss:0.29354\n",
      "[425]\tTrain-auc:0.94442\tTrain-logloss:0.26710\tTest-auc:0.93527\tTest-logloss:0.29358\n",
      "[426]\tTrain-auc:0.94442\tTrain-logloss:0.26709\tTest-auc:0.93525\tTest-logloss:0.29365\n",
      "[427]\tTrain-auc:0.94442\tTrain-logloss:0.26709\tTest-auc:0.93525\tTest-logloss:0.29368\n",
      "[428]\tTrain-auc:0.94442\tTrain-logloss:0.26708\tTest-auc:0.93525\tTest-logloss:0.29371\n",
      "[429]\tTrain-auc:0.94446\tTrain-logloss:0.26703\tTest-auc:0.93525\tTest-logloss:0.29372\n",
      "[430]\tTrain-auc:0.94447\tTrain-logloss:0.26698\tTest-auc:0.93524\tTest-logloss:0.29374\n",
      "[431]\tTrain-auc:0.94452\tTrain-logloss:0.26689\tTest-auc:0.93523\tTest-logloss:0.29378\n",
      "[432]\tTrain-auc:0.94454\tTrain-logloss:0.26684\tTest-auc:0.93525\tTest-logloss:0.29374\n",
      "[433]\tTrain-auc:0.94458\tTrain-logloss:0.26678\tTest-auc:0.93512\tTest-logloss:0.29386\n",
      "[434]\tTrain-auc:0.94461\tTrain-logloss:0.26673\tTest-auc:0.93506\tTest-logloss:0.29395\n",
      "[435]\tTrain-auc:0.94464\tTrain-logloss:0.26667\tTest-auc:0.93496\tTest-logloss:0.29410\n",
      "[436]\tTrain-auc:0.94467\tTrain-logloss:0.26663\tTest-auc:0.93497\tTest-logloss:0.29406\n",
      "[437]\tTrain-auc:0.94470\tTrain-logloss:0.26657\tTest-auc:0.93503\tTest-logloss:0.29391\n",
      "[438]\tTrain-auc:0.94470\tTrain-logloss:0.26656\tTest-auc:0.93504\tTest-logloss:0.29393\n",
      "[439]\tTrain-auc:0.94474\tTrain-logloss:0.26649\tTest-auc:0.93510\tTest-logloss:0.29376\n",
      "[440]\tTrain-auc:0.94477\tTrain-logloss:0.26644\tTest-auc:0.93506\tTest-logloss:0.29387\n",
      "[441]\tTrain-auc:0.94481\tTrain-logloss:0.26637\tTest-auc:0.93509\tTest-logloss:0.29382\n",
      "[442]\tTrain-auc:0.94482\tTrain-logloss:0.26633\tTest-auc:0.93507\tTest-logloss:0.29383\n",
      "[443]\tTrain-auc:0.94484\tTrain-logloss:0.26629\tTest-auc:0.93509\tTest-logloss:0.29381\n",
      "[444]\tTrain-auc:0.94487\tTrain-logloss:0.26624\tTest-auc:0.93509\tTest-logloss:0.29381\n",
      "[445]\tTrain-auc:0.94492\tTrain-logloss:0.26614\tTest-auc:0.93511\tTest-logloss:0.29372\n",
      "[446]\tTrain-auc:0.94494\tTrain-logloss:0.26610\tTest-auc:0.93504\tTest-logloss:0.29389\n",
      "[447]\tTrain-auc:0.94495\tTrain-logloss:0.26607\tTest-auc:0.93506\tTest-logloss:0.29386\n",
      "[448]\tTrain-auc:0.94497\tTrain-logloss:0.26603\tTest-auc:0.93505\tTest-logloss:0.29385\n",
      "[449]\tTrain-auc:0.94500\tTrain-logloss:0.26598\tTest-auc:0.93506\tTest-logloss:0.29382\n",
      "[450]\tTrain-auc:0.94503\tTrain-logloss:0.26591\tTest-auc:0.93516\tTest-logloss:0.29367\n",
      "[451]\tTrain-auc:0.94504\tTrain-logloss:0.26588\tTest-auc:0.93518\tTest-logloss:0.29362\n",
      "[452]\tTrain-auc:0.94506\tTrain-logloss:0.26584\tTest-auc:0.93516\tTest-logloss:0.29362\n",
      "[453]\tTrain-auc:0.94508\tTrain-logloss:0.26580\tTest-auc:0.93520\tTest-logloss:0.29368\n",
      "[454]\tTrain-auc:0.94512\tTrain-logloss:0.26574\tTest-auc:0.93528\tTest-logloss:0.29355\n",
      "[455]\tTrain-auc:0.94514\tTrain-logloss:0.26569\tTest-auc:0.93524\tTest-logloss:0.29356\n",
      "[456]\tTrain-auc:0.94515\tTrain-logloss:0.26565\tTest-auc:0.93525\tTest-logloss:0.29355\n",
      "[457]\tTrain-auc:0.94518\tTrain-logloss:0.26559\tTest-auc:0.93519\tTest-logloss:0.29364\n",
      "[458]\tTrain-auc:0.94519\tTrain-logloss:0.26557\tTest-auc:0.93519\tTest-logloss:0.29364\n",
      "[459]\tTrain-auc:0.94521\tTrain-logloss:0.26553\tTest-auc:0.93516\tTest-logloss:0.29369\n",
      "[460]\tTrain-auc:0.94522\tTrain-logloss:0.26550\tTest-auc:0.93512\tTest-logloss:0.29379\n",
      "[461]\tTrain-auc:0.94524\tTrain-logloss:0.26545\tTest-auc:0.93510\tTest-logloss:0.29380\n",
      "[462]\tTrain-auc:0.94528\tTrain-logloss:0.26538\tTest-auc:0.93507\tTest-logloss:0.29385\n",
      "[463]\tTrain-auc:0.94531\tTrain-logloss:0.26532\tTest-auc:0.93505\tTest-logloss:0.29387\n",
      "[464]\tTrain-auc:0.94534\tTrain-logloss:0.26527\tTest-auc:0.93503\tTest-logloss:0.29398\n",
      "[465]\tTrain-auc:0.94536\tTrain-logloss:0.26524\tTest-auc:0.93504\tTest-logloss:0.29393\n",
      "[466]\tTrain-auc:0.94536\tTrain-logloss:0.26521\tTest-auc:0.93501\tTest-logloss:0.29407\n",
      "[467]\tTrain-auc:0.94538\tTrain-logloss:0.26517\tTest-auc:0.93500\tTest-logloss:0.29412\n",
      "[468]\tTrain-auc:0.94541\tTrain-logloss:0.26510\tTest-auc:0.93502\tTest-logloss:0.29405\n",
      "[469]\tTrain-auc:0.94542\tTrain-logloss:0.26510\tTest-auc:0.93502\tTest-logloss:0.29404\n",
      "[470]\tTrain-auc:0.94544\tTrain-logloss:0.26506\tTest-auc:0.93499\tTest-logloss:0.29412\n",
      "[471]\tTrain-auc:0.94545\tTrain-logloss:0.26504\tTest-auc:0.93502\tTest-logloss:0.29405\n",
      "[472]\tTrain-auc:0.94547\tTrain-logloss:0.26498\tTest-auc:0.93497\tTest-logloss:0.29414\n",
      "[473]\tTrain-auc:0.94550\tTrain-logloss:0.26493\tTest-auc:0.93492\tTest-logloss:0.29421\n",
      "[474]\tTrain-auc:0.94555\tTrain-logloss:0.26485\tTest-auc:0.93491\tTest-logloss:0.29423\n",
      "[475]\tTrain-auc:0.94555\tTrain-logloss:0.26483\tTest-auc:0.93491\tTest-logloss:0.29423\n",
      "[476]\tTrain-auc:0.94557\tTrain-logloss:0.26480\tTest-auc:0.93494\tTest-logloss:0.29418\n",
      "[477]\tTrain-auc:0.94561\tTrain-logloss:0.26472\tTest-auc:0.93494\tTest-logloss:0.29414\n",
      "[478]\tTrain-auc:0.94562\tTrain-logloss:0.26469\tTest-auc:0.93496\tTest-logloss:0.29415\n",
      "[479]\tTrain-auc:0.94566\tTrain-logloss:0.26464\tTest-auc:0.93481\tTest-logloss:0.29437\n",
      "[480]\tTrain-auc:0.94567\tTrain-logloss:0.26457\tTest-auc:0.93478\tTest-logloss:0.29443\n",
      "[481]\tTrain-auc:0.94569\tTrain-logloss:0.26454\tTest-auc:0.93482\tTest-logloss:0.29435\n",
      "[482]\tTrain-auc:0.94571\tTrain-logloss:0.26445\tTest-auc:0.93492\tTest-logloss:0.29428\n",
      "[483]\tTrain-auc:0.94575\tTrain-logloss:0.26439\tTest-auc:0.93491\tTest-logloss:0.29431\n",
      "[484]\tTrain-auc:0.94578\tTrain-logloss:0.26433\tTest-auc:0.93475\tTest-logloss:0.29459\n",
      "[485]\tTrain-auc:0.94580\tTrain-logloss:0.26429\tTest-auc:0.93479\tTest-logloss:0.29453\n",
      "[486]\tTrain-auc:0.94581\tTrain-logloss:0.26427\tTest-auc:0.93484\tTest-logloss:0.29444\n",
      "[487]\tTrain-auc:0.94586\tTrain-logloss:0.26417\tTest-auc:0.93476\tTest-logloss:0.29457\n",
      "[488]\tTrain-auc:0.94588\tTrain-logloss:0.26412\tTest-auc:0.93471\tTest-logloss:0.29467\n",
      "[489]\tTrain-auc:0.94590\tTrain-logloss:0.26408\tTest-auc:0.93479\tTest-logloss:0.29456\n",
      "[490]\tTrain-auc:0.94596\tTrain-logloss:0.26397\tTest-auc:0.93477\tTest-logloss:0.29449\n"
     ]
    },
    {
     "name": "stdout",
     "output_type": "stream",
     "text": [
      "[491]\tTrain-auc:0.94597\tTrain-logloss:0.26392\tTest-auc:0.93487\tTest-logloss:0.29432\n",
      "[492]\tTrain-auc:0.94599\tTrain-logloss:0.26388\tTest-auc:0.93488\tTest-logloss:0.29431\n",
      "[493]\tTrain-auc:0.94601\tTrain-logloss:0.26384\tTest-auc:0.93493\tTest-logloss:0.29417\n",
      "[494]\tTrain-auc:0.94601\tTrain-logloss:0.26383\tTest-auc:0.93494\tTest-logloss:0.29416\n",
      "[495]\tTrain-auc:0.94605\tTrain-logloss:0.26376\tTest-auc:0.93489\tTest-logloss:0.29419\n",
      "[496]\tTrain-auc:0.94607\tTrain-logloss:0.26371\tTest-auc:0.93494\tTest-logloss:0.29418\n",
      "[497]\tTrain-auc:0.94609\tTrain-logloss:0.26366\tTest-auc:0.93497\tTest-logloss:0.29415\n",
      "[498]\tTrain-auc:0.94612\tTrain-logloss:0.26361\tTest-auc:0.93493\tTest-logloss:0.29410\n",
      "[499]\tTrain-auc:0.94614\tTrain-logloss:0.26357\tTest-auc:0.93493\tTest-logloss:0.29412\n",
      "[500]\tTrain-auc:0.94615\tTrain-logloss:0.26356\tTest-auc:0.93493\tTest-logloss:0.29411\n",
      "[501]\tTrain-auc:0.94618\tTrain-logloss:0.26351\tTest-auc:0.93496\tTest-logloss:0.29402\n",
      "[502]\tTrain-auc:0.94618\tTrain-logloss:0.26348\tTest-auc:0.93497\tTest-logloss:0.29388\n",
      "[503]\tTrain-auc:0.94619\tTrain-logloss:0.26346\tTest-auc:0.93496\tTest-logloss:0.29391\n",
      "[504]\tTrain-auc:0.94619\tTrain-logloss:0.26345\tTest-auc:0.93496\tTest-logloss:0.29391\n",
      "[505]\tTrain-auc:0.94619\tTrain-logloss:0.26344\tTest-auc:0.93497\tTest-logloss:0.29393\n",
      "[506]\tTrain-auc:0.94619\tTrain-logloss:0.26343\tTest-auc:0.93497\tTest-logloss:0.29397\n",
      "[507]\tTrain-auc:0.94619\tTrain-logloss:0.26342\tTest-auc:0.93497\tTest-logloss:0.29400\n",
      "[508]\tTrain-auc:0.94620\tTrain-logloss:0.26342\tTest-auc:0.93498\tTest-logloss:0.29398\n",
      "[509]\tTrain-auc:0.94620\tTrain-logloss:0.26341\tTest-auc:0.93498\tTest-logloss:0.29397\n",
      "[510]\tTrain-auc:0.94622\tTrain-logloss:0.26336\tTest-auc:0.93501\tTest-logloss:0.29393\n",
      "[511]\tTrain-auc:0.94624\tTrain-logloss:0.26331\tTest-auc:0.93504\tTest-logloss:0.29389\n",
      "[512]\tTrain-auc:0.94629\tTrain-logloss:0.26325\tTest-auc:0.93503\tTest-logloss:0.29386\n",
      "[513]\tTrain-auc:0.94631\tTrain-logloss:0.26318\tTest-auc:0.93510\tTest-logloss:0.29370\n",
      "[514]\tTrain-auc:0.94634\tTrain-logloss:0.26311\tTest-auc:0.93512\tTest-logloss:0.29371\n",
      "[515]\tTrain-auc:0.94634\tTrain-logloss:0.26310\tTest-auc:0.93512\tTest-logloss:0.29369\n",
      "[516]\tTrain-auc:0.94634\tTrain-logloss:0.26309\tTest-auc:0.93512\tTest-logloss:0.29372\n",
      "[517]\tTrain-auc:0.94637\tTrain-logloss:0.26302\tTest-auc:0.93510\tTest-logloss:0.29372\n",
      "[518]\tTrain-auc:0.94638\tTrain-logloss:0.26300\tTest-auc:0.93511\tTest-logloss:0.29371\n",
      "[519]\tTrain-auc:0.94638\tTrain-logloss:0.26298\tTest-auc:0.93510\tTest-logloss:0.29373\n",
      "[520]\tTrain-auc:0.94640\tTrain-logloss:0.26293\tTest-auc:0.93515\tTest-logloss:0.29364\n",
      "[521]\tTrain-auc:0.94643\tTrain-logloss:0.26287\tTest-auc:0.93524\tTest-logloss:0.29350\n",
      "[522]\tTrain-auc:0.94647\tTrain-logloss:0.26280\tTest-auc:0.93524\tTest-logloss:0.29346\n",
      "[523]\tTrain-auc:0.94647\tTrain-logloss:0.26278\tTest-auc:0.93523\tTest-logloss:0.29347\n",
      "[524]\tTrain-auc:0.94648\tTrain-logloss:0.26276\tTest-auc:0.93523\tTest-logloss:0.29349\n",
      "[525]\tTrain-auc:0.94649\tTrain-logloss:0.26274\tTest-auc:0.93525\tTest-logloss:0.29345\n",
      "[526]\tTrain-auc:0.94650\tTrain-logloss:0.26273\tTest-auc:0.93528\tTest-logloss:0.29339\n",
      "[527]\tTrain-auc:0.94650\tTrain-logloss:0.26272\tTest-auc:0.93528\tTest-logloss:0.29338\n",
      "[528]\tTrain-auc:0.94650\tTrain-logloss:0.26271\tTest-auc:0.93528\tTest-logloss:0.29338\n",
      "[529]\tTrain-auc:0.94653\tTrain-logloss:0.26265\tTest-auc:0.93528\tTest-logloss:0.29336\n",
      "[530]\tTrain-auc:0.94653\tTrain-logloss:0.26263\tTest-auc:0.93529\tTest-logloss:0.29332\n",
      "[531]\tTrain-auc:0.94657\tTrain-logloss:0.26257\tTest-auc:0.93521\tTest-logloss:0.29345\n",
      "[532]\tTrain-auc:0.94659\tTrain-logloss:0.26253\tTest-auc:0.93526\tTest-logloss:0.29338\n",
      "[533]\tTrain-auc:0.94661\tTrain-logloss:0.26248\tTest-auc:0.93528\tTest-logloss:0.29334\n",
      "[534]\tTrain-auc:0.94664\tTrain-logloss:0.26242\tTest-auc:0.93529\tTest-logloss:0.29326\n",
      "[535]\tTrain-auc:0.94665\tTrain-logloss:0.26240\tTest-auc:0.93527\tTest-logloss:0.29331\n",
      "[536]\tTrain-auc:0.94665\tTrain-logloss:0.26239\tTest-auc:0.93527\tTest-logloss:0.29332\n",
      "[537]\tTrain-auc:0.94666\tTrain-logloss:0.26239\tTest-auc:0.93528\tTest-logloss:0.29331\n",
      "[538]\tTrain-auc:0.94670\tTrain-logloss:0.26227\tTest-auc:0.93516\tTest-logloss:0.29350\n",
      "[539]\tTrain-auc:0.94673\tTrain-logloss:0.26222\tTest-auc:0.93509\tTest-logloss:0.29359\n",
      "[540]\tTrain-auc:0.94675\tTrain-logloss:0.26219\tTest-auc:0.93505\tTest-logloss:0.29365\n"
     ]
    }
   ],
   "source": [
    "learning_params = {\n",
    "    'objective':'binary:logistic',\n",
    "    'seed': 42,\n",
    "    'eval_metric': ['auc', 'logloss'] # metrics computed for specified dataset\n",
    "}\n",
    "\n",
    "\n",
    "params = { \n",
    "    'scale_pos_weight': 2,\n",
    "    'min_child_weight': 0.1,\n",
    "    'max_depth': 3,\n",
    "    'gamma': 0.01, \n",
    "    'boost_rounds': 541,\n",
    "}\n",
    "\n",
    "params.update(learning_params)\n",
    "\n",
    "if 'boost_rounds' in params:\n",
    "    boost_rounds = params.pop('boost_rounds')\n",
    "\n",
    "model = xgb.train(\n",
    "    params,\n",
    "    dtrain,\n",
    "    num_boost_round=boost_rounds,\n",
    "    evals=[(dtrain, \"Train\"), (dtest, \"Test\")],\n",
    ")"
   ]
  },
  {
   "cell_type": "code",
   "execution_count": 39,
   "metadata": {},
   "outputs": [],
   "source": [
    "def plot_conf_matrix(y_test, y_pred, class_names):\n",
    "    \"\"\"\n",
    "    Plots confusion matrix. Taken from:\n",
    "    http://queirozf.com/entries/visualizing-machine-learning-models-examples-with-scikit-learn-and-matplotlib\n",
    "    \"\"\"\n",
    "    \n",
    "    matrix = confusion_matrix(y_test,y_pred)\n",
    "\n",
    "\n",
    "    # place labels at the top\n",
    "    plt.gca().xaxis.tick_top()\n",
    "    plt.gca().xaxis.set_label_position('top')\n",
    "\n",
    "    # plot the matrix per se\n",
    "    plt.imshow(matrix, interpolation='nearest', cmap=plt.cm.Blues)\n",
    "\n",
    "    # plot colorbar to the right\n",
    "    plt.colorbar()\n",
    "\n",
    "    fmt = 'd'\n",
    "\n",
    "    # write the number of predictions in each bucket\n",
    "    thresh = matrix.max() / 2.\n",
    "    for i, j in product(range(matrix.shape[0]), range(matrix.shape[1])):\n",
    "\n",
    "        # if background is dark, use a white number, and vice-versa\n",
    "        plt.text(j, i, format(matrix[i, j], fmt),\n",
    "             horizontalalignment=\"center\",\n",
    "             color=\"white\" if matrix[i, j] > thresh else \"black\")\n",
    "\n",
    "    tick_marks = np.arange(len(class_names))\n",
    "    plt.xticks(tick_marks, class_names, rotation=45)\n",
    "    plt.yticks(tick_marks, class_names)\n",
    "    plt.tight_layout()\n",
    "    plt.ylabel('True label',size=14)\n",
    "    plt.xlabel('Predicted label',size=14)\n",
    "    plt.show()\n"
   ]
  },
  {
   "cell_type": "code",
   "execution_count": 40,
   "metadata": {},
   "outputs": [],
   "source": [
    "y_test_pred = (model.predict(dtest) > 0.5).astype(int)"
   ]
  },
  {
   "cell_type": "code",
   "execution_count": 41,
   "metadata": {},
   "outputs": [
    {
     "data": {
      "image/png": "[encoded data removed]",
      "text/plain": [
       "<Figure size 432x288 with 2 Axes>"
      ]
     },
     "metadata": {
      "needs_background": "light"
     },
     "output_type": "display_data"
    }
   ],
   "source": [
    "plot_conf_matrix(y_test, y_test_pred, target_names)"
   ]
  },
  {
   "cell_type": "code",
   "execution_count": 42,
   "metadata": {},
   "outputs": [
    {
     "data": {
      "text/plain": [
       "(2560, 12)"
      ]
     },
     "execution_count": 42,
     "metadata": {},
     "output_type": "execute_result"
    }
   ],
   "source": [
    "X_test_proc.shape"
   ]
  },
  {
   "cell_type": "code",
   "execution_count": 43,
   "metadata": {},
   "outputs": [],
   "source": [
    "background_dataset = pd.DataFrame(X_train_proc[:100, :], columns=feat_names)"
   ]
  },
  {
   "cell_type": "code",
   "execution_count": 44,
   "metadata": {},
   "outputs": [],
   "source": [
    "explainer = TreeExplainer(model, data=background_dataset, model_output='probability')"
   ]
  },
  {
   "cell_type": "code",
   "execution_count": 47,
   "metadata": {},
   "outputs": [
    {
     "data": {
      "text/plain": [
       "1"
      ]
     },
     "execution_count": 47,
     "metadata": {},
     "output_type": "execute_result"
    }
   ],
   "source": [
    "explainer.model.num_outputs"
   ]
  },
  {
   "cell_type": "code",
   "execution_count": 106,
   "metadata": {},
   "outputs": [
    {
     "name": "stderr",
     "output_type": "stream",
     "text": [
      "Setting feature_perturbation = \"tree_path_dependent\" because no background data was given.\n"
     ]
    }
   ],
   "source": [
    "pos_idx = y_train[:100] == 1\n",
    "neg_idx = y_train[:100] == 0\n",
    "background_pos = pd.DataFrame(X_train_proc[:100, :][pos_idx], columns=feat_names)\n",
    "background_neg = pd.DataFrame(X_train_proc[:100, :][neg_idx], columns=feat_names)\n",
    "pred_pos = model.predict(xgb.DMatrix(background_pos))\n",
    "pred_neg = model.predict(xgb.DMatrix(background_neg))\n",
    "pred_all = model.predict(xgb.DMatrix(background_dataset))\n",
    "exp_doubled = TreeExplainer(model, data=background_dataset, model_output='probability_doubled')\n",
    "exp_interv = TreeExplainer(model)"
   ]
  },
  {
   "cell_type": "code",
   "execution_count": 109,
   "metadata": {},
   "outputs": [],
   "source": [
    "shap_inter = exp_interv.shap_interaction_values(xgb.DMatrix(X_test_proc, feature_names=feat_names))"
   ]
  },
  {
   "cell_type": "code",
   "execution_count": 112,
   "metadata": {},
   "outputs": [],
   "source": [
    "shap_derived =  shap_inter.sum(axis=2)"
   ]
  },
  {
   "cell_type": "code",
   "execution_count": 113,
   "metadata": {},
   "outputs": [],
   "source": [
    "shap_vals = exp_interv.shap_values(xgb.DMatrix(X_test_proc, feature_names=feat_names))"
   ]
  },
  {
   "cell_type": "code",
   "execution_count": 115,
   "metadata": {},
   "outputs": [
    {
     "data": {
      "text/plain": [
       "1.9073486e-06"
      ]
     },
     "execution_count": 115,
     "metadata": {},
     "output_type": "execute_result"
    }
   ],
   "source": [
    "np.max(shap_derived - shap_vals)"
   ]
  },
  {
   "cell_type": "code",
   "execution_count": 117,
   "metadata": {},
   "outputs": [
    {
     "data": {
      "text/plain": [
       "(2560,)"
      ]
     },
     "execution_count": 117,
     "metadata": {},
     "output_type": "execute_result"
    }
   ],
   "source": [
    "exp_interv.model.predict(X_test_proc).shape"
   ]
  },
  {
   "cell_type": "code",
   "execution_count": 96,
   "metadata": {},
   "outputs": [
    {
     "name": "stdout",
     "output_type": "stream",
     "text": [
      "Expected value 0.32489235555618945\n",
      "Average over pos class 0.72594464\n",
      "Average over neg class 0.18398213\n",
      "Average over all examples 0.3248924\n"
     ]
    }
   ],
   "source": [
    "print(\"Expected value\", explainer.expected_value)\n",
    "print(\"Average over pos class\", pred_pos.mean())\n",
    "print(\"Average over neg class\", pred_neg.mean())\n",
    "print(\"Average over all examples\", np.concatenate([pred_pos, pred_neg], axis=0).mean())"
   ]
  },
  {
   "cell_type": "code",
   "execution_count": 97,
   "metadata": {},
   "outputs": [
    {
     "name": "stderr",
     "output_type": "stream",
     "text": [
      " 99%|===================| 2524/2560 [00:19<00:00]        "
     ]
    }
   ],
   "source": [
    "prob_doubled = explainer.shap_values(X_test_proc)"
   ]
  },
  {
   "cell_type": "code",
   "execution_count": 98,
   "metadata": {},
   "outputs": [
    {
     "data": {
      "text/plain": [
       "True"
      ]
     },
     "execution_count": 98,
     "metadata": {},
     "output_type": "execute_result"
    }
   ],
   "source": [
    "isinstance(explainer.expected_value, float)"
   ]
  },
  {
   "cell_type": "code",
   "execution_count": 100,
   "metadata": {},
   "outputs": [
    {
     "data": {
      "text/plain": [
       "list"
      ]
     },
     "execution_count": 100,
     "metadata": {},
     "output_type": "execute_result"
    }
   ],
   "source": [
    "type(exp_doubled.expected_value)"
   ]
  },
  {
   "cell_type": "code",
   "execution_count": 104,
   "metadata": {},
   "outputs": [
    {
     "data": {
      "text/html": [
       "['Age', 'Capital Gain', 'Capital Loss', 'Hours per week', 'Workclass', 'Education', 'Marital Status', 'Occupation', 'Relationship', 'Race', 'Sex', 'Country']"
      ],
      "text/plain": [
       "['Age',\n",
       " 'Capital Gain',\n",
       " 'Capital Loss',\n",
       " 'Hours per week',\n",
       " 'Workclass',\n",
       " 'Education',\n",
       " 'Marital Status',\n",
       " 'Occupation',\n",
       " 'Relationship',\n",
       " 'Race',\n",
       " 'Sex',\n",
       " 'Country']"
      ]
     },
     "execution_count": 104,
     "metadata": {},
     "output_type": "execute_result"
    }
   ],
   "source": [
    "list(background_dataset.columns)"
   ]
  },
  {
   "cell_type": "code",
   "execution_count": 105,
   "metadata": {},
   "outputs": [
    {
     "data": {
      "text/plain": [
       "Index(['Age', 'Capital Gain', 'Capital Loss', 'Hours per week', 'Workclass',\n",
       "       'Education', 'Marital Status', 'Occupation', 'Relationship', 'Race',\n",
       "       'Sex', 'Country'],\n",
       "      dtype='object')"
      ]
     },
     "execution_count": 105,
     "metadata": {},
     "output_type": "execute_result"
    }
   ],
   "source": [
    "background_dataset.columns"
   ]
  },
  {
   "cell_type": "code",
   "execution_count": 59,
   "metadata": {},
   "outputs": [],
   "source": [
    "Z = np.array(background_dataset)"
   ]
  },
  {
   "cell_type": "code",
   "execution_count": 61,
   "metadata": {},
   "outputs": [],
   "source": [
    "import catboost"
   ]
  },
  {
   "cell_type": "code",
   "execution_count": 64,
   "metadata": {},
   "outputs": [],
   "source": [
    "pl = catboost.Pool(Z)"
   ]
  },
  {
   "cell_type": "code",
   "execution_count": 69,
   "metadata": {},
   "outputs": [
    {
     "data": {
      "text/plain": [
       "array([[27.,  0.,  0., ...,  4.,  0.,  9.],\n",
       "       [27.,  0.,  0., ...,  4.,  0.,  9.],\n",
       "       [25.,  0.,  0., ...,  4.,  1.,  9.],\n",
       "       ...,\n",
       "       [31.,  0.,  0., ...,  4.,  1.,  9.],\n",
       "       [57.,  0.,  0., ...,  4.,  1.,  9.],\n",
       "       [22.,  0.,  0., ...,  4.,  1.,  9.]], dtype=float32)"
      ]
     },
     "execution_count": 69,
     "metadata": {},
     "output_type": "execute_result"
    }
   ],
   "source": [
    "pl.get_features()"
   ]
  },
  {
   "cell_type": "code",
   "execution_count": 70,
   "metadata": {},
   "outputs": [
    {
     "data": {
      "text/plain": [
       "array([3.42833335e-03, 5.54711488e-02, 3.12010648e-01, 5.73125580e-01,\n",
       "       9.66411966e-01, 4.79909013e-01, 3.81166293e-02, 1.33474357e-01,\n",
       "       5.00852259e-01, 4.64463309e-05, 1.07020216e-05, 2.91508711e-01,\n",
       "       9.51830913e-01, 1.77768923e-02, 3.36934267e-01, 6.49071022e-01,\n",
       "       5.57813292e-01, 6.91843255e-01, 3.67084590e-04, 1.27683275e-01,\n",
       "       1.75642168e-02, 9.99707597e-01, 7.83284781e-01, 7.90709675e-03,\n",
       "       9.33810726e-01, 9.44246181e-01, 5.79854131e-01, 2.97462489e-02,\n",
       "       3.87990818e-05, 3.57215169e-03, 7.12693383e-02, 8.66931058e-06,\n",
       "       1.05054184e-02, 1.75670255e-03, 9.99580532e-01, 1.85699431e-02,\n",
       "       3.07889967e-01, 1.86477996e-01, 2.77499321e-02, 8.21063817e-01,\n",
       "       4.96803090e-01, 9.47418057e-01, 9.99972889e-01, 3.10299824e-01,\n",
       "       1.57287975e-01, 6.20875280e-04, 3.49599398e-01, 1.04844761e-01,\n",
       "       4.84734785e-01, 1.05422918e-01, 1.31391786e-02, 9.47099432e-03,\n",
       "       7.45626260e-01, 8.06507399e-03, 9.09867346e-01, 4.59497105e-02,\n",
       "       1.10576889e-01, 8.53814921e-05, 2.86711429e-03, 5.56444022e-03,\n",
       "       6.00002012e-01, 2.15325684e-04, 2.85851183e-02, 6.46522881e-01,\n",
       "       3.60304214e-02, 7.31231007e-04, 2.54214556e-01, 1.55130041e-02,\n",
       "       7.73999163e-01, 1.03482617e-02, 2.54639537e-02, 5.84920148e-01,\n",
       "       9.53807993e-01, 5.70198932e-04, 1.29615997e-02, 7.97436825e-02,\n",
       "       8.05269818e-01, 3.83714410e-01, 5.02058705e-04, 4.46093890e-01,\n",
       "       6.00622103e-01, 3.98836907e-04, 5.35572175e-01, 3.09221563e-01,\n",
       "       7.00227002e-01, 3.80244675e-01, 9.99969198e-01, 5.43257505e-03,\n",
       "       5.84040142e-01, 1.03048092e-02, 2.71689799e-02, 6.04614360e-01,\n",
       "       5.06578890e-01, 6.13459279e-01, 8.39131605e-03, 3.53784779e-03,\n",
       "       4.11114953e-01, 7.80364457e-01, 5.02368742e-01, 5.88692218e-03])"
      ]
     },
     "execution_count": 70,
     "metadata": {},
     "output_type": "execute_result"
    }
   ],
   "source": [
    "explainer.model.predict(pl.get_features())"
   ]
  },
  {
   "cell_type": "code",
   "execution_count": 13,
   "metadata": {},
   "outputs": [
    {
     "name": "stderr",
     "output_type": "stream",
     "text": [
      " 95%|=================== | 2430/2560 [00:15<00:00]       "
     ]
    },
    {
     "data": {
      "text/plain": [
       "array([[ 0.96074681, -0.14581612, -0.13440961, ..., -0.27761659,\n",
       "        -0.60182713,  0.05546092],\n",
       "       [-3.39373757, -0.16872362, -0.13342329, ...,  0.06002688,\n",
       "         0.36732215, -0.04778408],\n",
       "       [ 0.83143794, -0.15911954, -0.12190125, ..., -0.3915471 ,\n",
       "        -0.67096624,  0.04624121],\n",
       "       ...,\n",
       "       [-2.07073544, -0.19562366, -0.13616455, ...,  0.05749016,\n",
       "        -0.32162634,  0.01712751],\n",
       "       [ 1.03098262,  7.75232225, -0.08608491, ...,  0.03902876,\n",
       "         0.23099037,  0.00986146],\n",
       "       [-0.94469989, -4.65823403, -0.11188141, ...,  0.03069548,\n",
       "         0.20961124,  0.01509398]])"
      ]
     },
     "execution_count": 13,
     "metadata": {},
     "output_type": "execute_result"
    }
   ],
   "source": [
    "explainer.shap_values(pd.DataFrame(X_test_proc, columns=feat_names))"
   ]
  },
  {
   "cell_type": "code",
   "execution_count": 14,
   "metadata": {},
   "outputs": [],
   "source": [
    "tst = pd.DataFrame(X_test_proc, columns=feat_names)"
   ]
  },
  {
   "cell_type": "code",
   "execution_count": null,
   "metadata": {},
   "outputs": [],
   "source": [
    "explainer"
   ]
  },
  {
   "cell_type": "code",
   "execution_count": null,
   "metadata": {},
   "outputs": [],
   "source": [
    "explainer_path = TreeExplainer(model, model_output='probability')"
   ]
  },
  {
   "cell_type": "code",
   "execution_count": null,
   "metadata": {},
   "outputs": [],
   "source": [
    "explainer_int = TreeExplainer(model, X_train_proc, model_output='probability')"
   ]
  },
  {
   "cell_type": "code",
   "execution_count": null,
   "metadata": {},
   "outputs": [],
   "source": [
    "explainer_path = TreeExplainer(model)"
   ]
  },
  {
   "cell_type": "code",
   "execution_count": null,
   "metadata": {},
   "outputs": [],
   "source": [
    "explainer_path.model.objective"
   ]
  },
  {
   "cell_type": "code",
   "execution_count": null,
   "metadata": {},
   "outputs": [],
   "source": [
    "explainer_path.model.tree_output"
   ]
  },
  {
   "cell_type": "code",
   "execution_count": null,
   "metadata": {},
   "outputs": [],
   "source": [
    "exp = explainer_path.shap_values(X_test_proc)"
   ]
  },
  {
   "cell_type": "code",
   "execution_count": null,
   "metadata": {},
   "outputs": [],
   "source": [
    "exp.sum(1) - model.predict(dtest) - explainer_path.expected_value"
   ]
  },
  {
   "cell_type": "code",
   "execution_count": null,
   "metadata": {},
   "outputs": [],
   "source": [
    "explainer_path.expected_value"
   ]
  },
  {
   "cell_type": "code",
   "execution_count": null,
   "metadata": {},
   "outputs": [],
   "source": [
    "explainer_path_2 = TreeExplainer(model, model_output='predict')"
   ]
  },
  {
   "cell_type": "code",
   "execution_count": null,
   "metadata": {},
   "outputs": [],
   "source": [
    "background_dataset"
   ]
  },
  {
   "cell_type": "code",
   "execution_count": null,
   "metadata": {},
   "outputs": [],
   "source": [
    "print(np.all(model.predict(dtest) <= 1.0))\n",
    "print(np.all(model.predict(dtest) >= 0.0))\n",
    "print(background_dataset.shape)\n",
    "print(X_test_proc.shape)"
   ]
  },
  {
   "cell_type": "code",
   "execution_count": null,
   "metadata": {},
   "outputs": [],
   "source": [
    "explainer_interv = TreeExplainer(model, data=background_dataset, model_output='probability')"
   ]
  },
  {
   "cell_type": "code",
   "execution_count": null,
   "metadata": {},
   "outputs": [],
   "source": [
    "explainer_interv.expected_value"
   ]
  },
  {
   "cell_type": "code",
   "execution_count": null,
   "metadata": {},
   "outputs": [],
   "source": [
    "model.predict(xgb.DMatrix(background_dataset)).mean()"
   ]
  },
  {
   "cell_type": "code",
   "execution_count": null,
   "metadata": {},
   "outputs": [],
   "source": [
    "sv_interv = explainer_interv.shap_values(X_test_proc)"
   ]
  },
  {
   "cell_type": "code",
   "execution_count": null,
   "metadata": {},
   "outputs": [],
   "source": [
    "check = sv_interv.sum(1) - model.predict(dtest) + explainer_interv.expected_value"
   ]
  },
  {
   "cell_type": "code",
   "execution_count": null,
   "metadata": {},
   "outputs": [],
   "source": [
    "np.max(check)"
   ]
  },
  {
   "cell_type": "code",
   "execution_count": null,
   "metadata": {},
   "outputs": [],
   "source": [
    "np.min(check)"
   ]
  },
  {
   "cell_type": "code",
   "execution_count": null,
   "metadata": {},
   "outputs": [],
   "source": [
    "np.min(model.predict(dtest))"
   ]
  },
  {
   "cell_type": "markdown",
   "metadata": {},
   "source": [
    "## Check output "
   ]
  },
  {
   "cell_type": "code",
   "execution_count": 19,
   "metadata": {},
   "outputs": [],
   "source": [
    "import json"
   ]
  },
  {
   "cell_type": "code",
   "execution_count": 18,
   "metadata": {},
   "outputs": [
    {
     "name": "stdout",
     "output_type": "stream",
     "text": [
      "{\"learner\":{\"generic_param\":{\"enable_experimental_json_serialization\":\"0\",\"gpu_id\":\"-1\",\"gpu_page_size\":\"0\",\"n_gpus\":\"0\",\"n_jobs\":\"0\",\"nthread\":\"0\",\"random_state\":\"42\",\"seed\":\"42\",\"seed_per_iteration\":\"0\",\"validate_features\":\"0\",\"validate_parameters\":\"0\"},\"gradient_booster\":{\"gbtree_train_param\":{\"num_parallel_tree\":\"1\",\"predictor\":\"auto\",\"process_type\":\"default\",\"tree_method\":\"exact\",\"updater\":\"grow_colmaker,prune\",\"updater_seq\":\"grow_colmaker,prune\"},\"name\":\"gbtree\",\"specified_updater\":false,\"updater\":{\"grow_colmaker\":{\"colmaker_train_param\":{\"opt_dense_col\":\"1\"},\"train_param\":{\"alpha\":\"0\",\"cache_opt\":\"1\",\"colsample_bylevel\":\"1\",\"colsample_bynode\":\"1\",\"colsample_bytree\":\"1\",\"default_direction\":\"learn\",\"enable_feature_grouping\":\"0\",\"eta\":\"0.300000012\",\"gamma\":\"0.00999999978\",\"grow_policy\":\"depthwise\",\"interaction_constraints\":\"\",\"lambda\":\"1\",\"learning_rate\":\"0.300000012\",\"max_bin\":\"256\",\"max_conflict_rate\":\"0\",\"max_delta_step\":\"0\",\"max_depth\":\"3\",\"max_leaves\":\"0\",\"max_search_group\":\"100\",\"min_child_weight\":\"0.100000001\",\"min_split_loss\":\"0.00999999978\",\"monotone_constraints\":\"()\",\"refresh_leaf\":\"1\",\"reg_alpha\":\"0\",\"reg_lambda\":\"1\",\"sketch_eps\":\"0.0299999993\",\"sketch_ratio\":\"2\",\"sparse_threshold\":\"0.20000000000000001\",\"split_evaluator\":\"elastic_net,monotonic\",\"subsample\":\"1\"}},\"prune\":{\"train_param\":{\"alpha\":\"0\",\"cache_opt\":\"1\",\"colsample_bylevel\":\"1\",\"colsample_bynode\":\"1\",\"colsample_bytree\":\"1\",\"default_direction\":\"learn\",\"enable_feature_grouping\":\"0\",\"eta\":\"0.300000012\",\"gamma\":\"0.00999999978\",\"grow_policy\":\"depthwise\",\"interaction_constraints\":\"\",\"lambda\":\"1\",\"learning_rate\":\"0.300000012\",\"max_bin\":\"256\",\"max_conflict_rate\":\"0\",\"max_delta_step\":\"0\",\"max_depth\":\"3\",\"max_leaves\":\"0\",\"max_search_group\":\"100\",\"min_child_weight\":\"0.100000001\",\"min_split_loss\":\"0.00999999978\",\"monotone_constraints\":\"()\",\"refresh_leaf\":\"1\",\"reg_alpha\":\"0\",\"reg_lambda\":\"1\",\"sketch_eps\":\"0.0299999993\",\"sketch_ratio\":\"2\",\"sparse_threshold\":\"0.20000000000000001\",\"split_evaluator\":\"elastic_net,monotonic\",\"subsample\":\"1\"}}}},\"learner_model_param\":{\"base_score\":\"0.500000\",\"num_class\":\"0\",\"num_feature\":\"12\"},\"learner_train_param\":{\"booster\":\"gbtree\",\"disable_default_eval_metric\":\"0\",\"dsplit\":\"auto\",\"objective\":\"binary:logitraw\"},\"metrics\":[\"auc\",\"logloss\"],\"objective\":{\"name\":\"binary:logitraw\",\"reg_loss_param\":{\"scale_pos_weight\":\"2\"}}},\"version\":[1,0,2]}\n"
     ]
    }
   ],
   "source": [
    "print(json.loads(model.save_config()))"
   ]
  },
  {
   "cell_type": "code",
   "execution_count": null,
   "metadata": {},
   "outputs": [],
   "source": [
    "explainer_interv_raw = TreeExplainer(model, data=background_dataset, model_output='raw')"
   ]
  },
  {
   "cell_type": "code",
   "execution_count": null,
   "metadata": {},
   "outputs": [],
   "source": [
    "model.predict(xgb.DMatrix(background_dataset)).mean() + 0.5"
   ]
  },
  {
   "cell_type": "code",
   "execution_count": null,
   "metadata": {},
   "outputs": [],
   "source": [
    "explainer_interv_raw.expected_value\n"
   ]
  },
  {
   "cell_type": "code",
   "execution_count": null,
   "metadata": {},
   "outputs": [],
   "source": [
    "sv_interv_raw = explainer_interv_raw.shap_values(X_test_proc)"
   ]
  },
  {
   "cell_type": "code",
   "execution_count": null,
   "metadata": {},
   "outputs": [],
   "source": [
    "actual = sv_interv_raw.sum(1) \n",
    "expected =  model.predict(dtest) - explainer_interv_raw.expected_value\n",
    "check = actual - expected"
   ]
  },
  {
   "cell_type": "code",
   "execution_count": null,
   "metadata": {},
   "outputs": [],
   "source": [
    "check.min()"
   ]
  },
  {
   "cell_type": "code",
   "execution_count": null,
   "metadata": {},
   "outputs": [],
   "source": [
    "explainer_interv = TreeExplainer(model, data=background_dataset, model_output='predict')"
   ]
  },
  {
   "cell_type": "code",
   "execution_count": null,
   "metadata": {},
   "outputs": [],
   "source": [
    "model.predict"
   ]
  },
  {
   "cell_type": "code",
   "execution_count": 71,
   "metadata": {},
   "outputs": [
    {
     "name": "stdout",
     "output_type": "stream",
     "text": [
      "\n",
      "==========================================\n",
      "IsolationForest example\n",
      "==========================================\n",
      "\n",
      "An example using :class:`sklearn.ensemble.IsolationForest` for anomaly\n",
      "detection.\n",
      "\n",
      "The IsolationForest 'isolates' observations by randomly selecting a feature\n",
      "and then randomly selecting a split value between the maximum and minimum\n",
      "values of the selected feature.\n",
      "\n",
      "Since recursive partitioning can be represented by a tree structure, the\n",
      "number of splittings required to isolate a sample is equivalent to the path\n",
      "length from the root node to the terminating node.\n",
      "\n",
      "This path length, averaged over a forest of such random trees, is a measure\n",
      "of normality and our decision function.\n",
      "\n",
      "Random partitioning produces noticeable shorter paths for anomalies.\n",
      "Hence, when a forest of random trees collectively produce shorter path lengths\n",
      "for particular samples, they are highly likely to be anomalies.\n",
      "\n",
      "\n"
     ]
    },
    {
     "data": {
      "image/png": "[encoded data removed]",
      "text/plain": [
       "<Figure size 432x288 with 1 Axes>"
      ]
     },
     "metadata": {
      "needs_background": "light"
     },
     "output_type": "display_data"
    }
   ],
   "source": [
    "\"\"\"\n",
    "==========================================\n",
    "IsolationForest example\n",
    "==========================================\n",
    "\n",
    "An example using :class:`sklearn.ensemble.IsolationForest` for anomaly\n",
    "detection.\n",
    "\n",
    "The IsolationForest 'isolates' observations by randomly selecting a feature\n",
    "and then randomly selecting a split value between the maximum and minimum\n",
    "values of the selected feature.\n",
    "\n",
    "Since recursive partitioning can be represented by a tree structure, the\n",
    "number of splittings required to isolate a sample is equivalent to the path\n",
    "length from the root node to the terminating node.\n",
    "\n",
    "This path length, averaged over a forest of such random trees, is a measure\n",
    "of normality and our decision function.\n",
    "\n",
    "Random partitioning produces noticeable shorter paths for anomalies.\n",
    "Hence, when a forest of random trees collectively produce shorter path lengths\n",
    "for particular samples, they are highly likely to be anomalies.\n",
    "\n",
    "\"\"\"\n",
    "print(__doc__)\n",
    "\n",
    "import numpy as np\n",
    "import matplotlib.pyplot as plt\n",
    "from sklearn.ensemble import IsolationForest\n",
    "\n",
    "rng = np.random.RandomState(42)\n",
    "\n",
    "# Generate train data\n",
    "X = 0.3 * rng.randn(100, 2)\n",
    "X_train = np.r_[X + 2, X - 2]\n",
    "# Generate some regular novel observations\n",
    "X = 0.3 * rng.randn(20, 2)\n",
    "X_test = np.r_[X + 2, X - 2]\n",
    "# Generate some abnormal novel observations\n",
    "X_outliers = rng.uniform(low=-4, high=4, size=(20, 2))\n",
    "\n",
    "# fit the model\n",
    "clf = IsolationForest(max_samples=100, random_state=rng)\n",
    "clf.fit(X_train)\n",
    "y_pred_train = clf.predict(X_train)\n",
    "y_pred_test = clf.predict(X_test)\n",
    "y_pred_outliers = clf.predict(X_outliers)\n",
    "\n",
    "# plot the line, the samples, and the nearest vectors to the plane\n",
    "xx, yy = np.meshgrid(np.linspace(-5, 5, 50), np.linspace(-5, 5, 50))\n",
    "Z = clf.decision_function(np.c_[xx.ravel(), yy.ravel()])\n",
    "Z = Z.reshape(xx.shape)\n",
    "\n",
    "plt.title(\"IsolationForest\")\n",
    "plt.contourf(xx, yy, Z, cmap=plt.cm.Blues_r)\n",
    "\n",
    "b1 = plt.scatter(X_train[:, 0], X_train[:, 1], c='white',\n",
    "                 s=20, edgecolor='k')\n",
    "b2 = plt.scatter(X_test[:, 0], X_test[:, 1], c='green',\n",
    "                 s=20, edgecolor='k')\n",
    "c = plt.scatter(X_outliers[:, 0], X_outliers[:, 1], c='red',\n",
    "                s=20, edgecolor='k')\n",
    "plt.axis('tight')\n",
    "plt.xlim((-5, 5))\n",
    "plt.ylim((-5, 5))\n",
    "plt.legend([b1, b2, c],\n",
    "           [\"training observations\",\n",
    "            \"new regular observations\", \"new abnormal observations\"],\n",
    "           loc=\"upper left\")\n",
    "plt.show()\n"
   ]
  },
  {
   "cell_type": "code",
   "execution_count": 73,
   "metadata": {},
   "outputs": [
    {
     "data": {
      "text/plain": [
       "{'behaviour': 'deprecated',\n",
       " 'bootstrap': False,\n",
       " 'contamination': 'auto',\n",
       " 'max_features': 1.0,\n",
       " 'max_samples': 100,\n",
       " 'n_estimators': 100,\n",
       " 'n_jobs': None,\n",
       " 'random_state': RandomState(MT19937) at 0x7F5459511490,\n",
       " 'verbose': 0,\n",
       " 'warm_start': False}"
      ]
     },
     "execution_count": 73,
     "metadata": {},
     "output_type": "execute_result"
    }
   ],
   "source": [
    "clf.get_params()"
   ]
  },
  {
   "cell_type": "code",
   "execution_count": 74,
   "metadata": {},
   "outputs": [
    {
     "data": {
      "text/plain": [
       "ExtraTreeRegressor(ccp_alpha=0.0, criterion='mse', max_depth=7, max_features=1,\n",
       "                   max_leaf_nodes=None, min_impurity_decrease=0.0,\n",
       "                   min_impurity_split=None, min_samples_leaf=1,\n",
       "                   min_samples_split=2, min_weight_fraction_leaf=0.0,\n",
       "                   random_state=RandomState(MT19937) at 0x7F5459511490,\n",
       "                   splitter='random')"
      ]
     },
     "execution_count": 74,
     "metadata": {},
     "output_type": "execute_result"
    }
   ],
   "source": [
    "clf.base_estimator"
   ]
  },
  {
   "cell_type": "code",
   "execution_count": 75,
   "metadata": {},
   "outputs": [
    {
     "data": {
      "text/plain": [
       "{'ccp_alpha': 0.0,\n",
       " 'criterion': 'mse',\n",
       " 'max_depth': 7,\n",
       " 'max_features': 1,\n",
       " 'max_leaf_nodes': None,\n",
       " 'min_impurity_decrease': 0.0,\n",
       " 'min_impurity_split': None,\n",
       " 'min_samples_leaf': 1,\n",
       " 'min_samples_split': 2,\n",
       " 'min_weight_fraction_leaf': 0.0,\n",
       " 'random_state': RandomState(MT19937) at 0x7F5459511490,\n",
       " 'splitter': 'random'}"
      ]
     },
     "execution_count": 75,
     "metadata": {},
     "output_type": "execute_result"
    }
   ],
   "source": [
    "clf.base_estimator.get_params()"
   ]
  },
  {
   "cell_type": "code",
   "execution_count": 77,
   "metadata": {},
   "outputs": [
    {
     "data": {
      "text/html": [
       "[ExtraTreeRegressor(ccp_alpha=0.0, criterion='mse', max_depth=7, max_features=1,\n",
       "                   max_leaf_nodes=None, min_impurity_decrease=0.0,\n",
       "                   min_impurity_split=None, min_samples_leaf=1,\n",
       "                   min_samples_split=2, min_weight_fraction_leaf=0.0,\n",
       "                   random_state=351940553, splitter='random'), ExtraTreeRegressor(ccp_alpha=0.0, criterion='mse', max_depth=7, max_features=1,\n",
       "                   max_leaf_nodes=None, min_impurity_decrease=0.0,\n",
       "                   min_impurity_split=None, min_samples_leaf=1,\n",
       "                   min_samples_split=2, min_weight_fraction_leaf=0.0,\n",
       "                   random_state=572528720, splitter='random'), ExtraTreeRegressor(ccp_alpha=0.0, criterion='mse', max_depth=7, max_features=1,\n",
       "                   max_leaf_nodes=None, min_impurity_decrease=0.0,\n",
       "                   min_impurity_split=None, min_samples_leaf=1,\n",
       "                   min_samples_split=2, min_weight_fraction_leaf=0.0,\n",
       "                   random_state=451592010, splitter='random'), ExtraTreeRegressor(ccp_alpha=0.0, criterion='mse', max_depth=7, max_features=1,\n",
       "                   max_leaf_nodes=None, min_impurity_decrease=0.0,\n",
       "                   min_impurity_split=None, min_samples_leaf=1,\n",
       "                   min_samples_split=2, min_weight_fraction_leaf=0.0,\n",
       "                   random_state=1465941821, splitter='random'), ExtraTreeRegressor(ccp_alpha=0.0, criterion='mse', max_depth=7, max_features=1,\n",
       "                   max_leaf_nodes=None, min_impurity_decrease=0.0,\n",
       "                   min_impurity_split=None, min_samples_leaf=1,\n",
       "                   min_samples_split=2, min_weight_fraction_leaf=0.0,\n",
       "                   random_state=945938538, splitter='random'), ExtraTreeRegressor(ccp_alpha=0.0, criterion='mse', max_depth=7, max_features=1,\n",
       "                   max_leaf_nodes=None, min_impurity_decrease=0.0,\n",
       "                   min_impurity_split=None, min_samples_leaf=1,\n",
       "                   min_samples_split=2, min_weight_fraction_leaf=0.0,\n",
       "                   random_state=739850793, splitter='random'), ExtraTreeRegressor(ccp_alpha=0.0, criterion='mse', max_depth=7, max_features=1,\n",
       "                   max_leaf_nodes=None, min_impurity_decrease=0.0,\n",
       "                   min_impurity_split=None, min_samples_leaf=1,\n",
       "                   min_samples_split=2, min_weight_fraction_leaf=0.0,\n",
       "                   random_state=1003930884, splitter='random'), ExtraTreeRegressor(ccp_alpha=0.0, criterion='mse', max_depth=7, max_features=1,\n",
       "                   max_leaf_nodes=None, min_impurity_decrease=0.0,\n",
       "                   min_impurity_split=None, min_samples_leaf=1,\n",
       "                   min_samples_split=2, min_weight_fraction_leaf=0.0,\n",
       "                   random_state=922791370, splitter='random'), ExtraTreeRegressor(ccp_alpha=0.0, criterion='mse', max_depth=7, max_features=1,\n",
       "                   max_leaf_nodes=None, min_impurity_decrease=0.0,\n",
       "                   min_impurity_split=None, min_samples_leaf=1,\n",
       "                   min_samples_split=2, min_weight_fraction_leaf=0.0,\n",
       "                   random_state=828315239, splitter='random'), ExtraTreeRegressor(ccp_alpha=0.0, criterion='mse', max_depth=7, max_features=1,\n",
       "                   max_leaf_nodes=None, min_impurity_decrease=0.0,\n",
       "                   min_impurity_split=None, min_samples_leaf=1,\n",
       "                   min_samples_split=2, min_weight_fraction_leaf=0.0,\n",
       "                   random_state=217340943, splitter='random'), ExtraTreeRegressor(ccp_alpha=0.0, criterion='mse', max_depth=7, max_features=1,\n",
       "                   max_leaf_nodes=None, min_impurity_decrease=0.0,\n",
       "                   min_impurity_split=None, min_samples_leaf=1,\n",
       "                   min_samples_split=2, min_weight_fraction_leaf=0.0,\n",
       "                   random_state=688496641, splitter='random'), ExtraTreeRegressor(ccp_alpha=0.0, criterion='mse', max_depth=7, max_features=1,\n",
       "                   max_leaf_nodes=None, min_impurity_decrease=0.0,\n",
       "                   min_impurity_split=None, min_samples_leaf=1,\n",
       "                   min_samples_split=2, min_weight_fraction_leaf=0.0,\n",
       "                   random_state=983669726, splitter='random'), ExtraTreeRegressor(ccp_alpha=0.0, criterion='mse', max_depth=7, max_features=1,\n",
       "                   max_leaf_nodes=None, min_impurity_decrease=0.0,\n",
       "                   min_impurity_split=None, min_samples_leaf=1,\n",
       "                   min_samples_split=2, min_weight_fraction_leaf=0.0,\n",
       "                   random_state=558699661, splitter='random'), ExtraTreeRegressor(ccp_alpha=0.0, criterion='mse', max_depth=7, max_features=1,\n",
       "                   max_leaf_nodes=None, min_impurity_decrease=0.0,\n",
       "                   min_impurity_split=None, min_samples_leaf=1,\n",
       "                   min_samples_split=2, min_weight_fraction_leaf=0.0,\n",
       "                   random_state=1252140089, splitter='random'), ExtraTreeRegressor(ccp_alpha=0.0, criterion='mse', max_depth=7, max_features=1,\n",
       "                   max_leaf_nodes=None, min_impurity_decrease=0.0,\n",
       "                   min_impurity_split=None, min_samples_leaf=1,\n",
       "                   min_samples_split=2, min_weight_fraction_leaf=0.0,\n",
       "                   random_state=809181611, splitter='random'), ExtraTreeRegressor(ccp_alpha=0.0, criterion='mse', max_depth=7, max_features=1,\n",
       "                   max_leaf_nodes=None, min_impurity_decrease=0.0,\n",
       "                   min_impurity_split=None, min_samples_leaf=1,\n",
       "                   min_samples_split=2, min_weight_fraction_leaf=0.0,\n",
       "                   random_state=1567384956, splitter='random'), ExtraTreeRegressor(ccp_alpha=0.0, criterion='mse', max_depth=7, max_features=1,\n",
       "                   max_leaf_nodes=None, min_impurity_decrease=0.0,\n",
       "                   min_impurity_split=None, min_samples_leaf=1,\n",
       "                   min_samples_split=2, min_weight_fraction_leaf=0.0,\n",
       "                   random_state=268447631, splitter='random'), ExtraTreeRegressor(ccp_alpha=0.0, criterion='mse', max_depth=7, max_features=1,\n",
       "                   max_leaf_nodes=None, min_impurity_decrease=0.0,\n",
       "                   min_impurity_split=None, min_samples_leaf=1,\n",
       "                   min_samples_split=2, min_weight_fraction_leaf=0.0,\n",
       "                   random_state=1855106914, splitter='random'), ExtraTreeRegressor(ccp_alpha=0.0, criterion='mse', max_depth=7, max_features=1,\n",
       "                   max_leaf_nodes=None, min_impurity_decrease=0.0,\n",
       "                   min_impurity_split=None, min_samples_leaf=1,\n",
       "                   min_samples_split=2, min_weight_fraction_leaf=0.0,\n",
       "                   random_state=1029729814, splitter='random'), ExtraTreeRegressor(ccp_alpha=0.0, criterion='mse', max_depth=7, max_features=1,\n",
       "                   max_leaf_nodes=None, min_impurity_decrease=0.0,\n",
       "                   min_impurity_split=None, min_samples_leaf=1,\n",
       "                   min_samples_split=2, min_weight_fraction_leaf=0.0,\n",
       "                   random_state=1467783630, splitter='random'), ExtraTreeRegressor(ccp_alpha=0.0, criterion='mse', max_depth=7, max_features=1,\n",
       "                   max_leaf_nodes=None, min_impurity_decrease=0.0,\n",
       "                   min_impurity_split=None, min_samples_leaf=1,\n",
       "                   min_samples_split=2, min_weight_fraction_leaf=0.0,\n",
       "                   random_state=2010599531, splitter='random'), ExtraTreeRegressor(ccp_alpha=0.0, criterion='mse', max_depth=7, max_features=1,\n",
       "                   max_leaf_nodes=None, min_impurity_decrease=0.0,\n",
       "                   min_impurity_split=None, min_samples_leaf=1,\n",
       "                   min_samples_split=2, min_weight_fraction_leaf=0.0,\n",
       "                   random_state=1527496860, splitter='random'), ExtraTreeRegressor(ccp_alpha=0.0, criterion='mse', max_depth=7, max_features=1,\n",
       "                   max_leaf_nodes=None, min_impurity_decrease=0.0,\n",
       "                   min_impurity_split=None, min_samples_leaf=1,\n",
       "                   min_samples_split=2, min_weight_fraction_leaf=0.0,\n",
       "                   random_state=893397803, splitter='random'), ExtraTreeRegressor(ccp_alpha=0.0, criterion='mse', max_depth=7, max_features=1,\n",
       "                   max_leaf_nodes=None, min_impurity_decrease=0.0,\n",
       "                   min_impurity_split=None, min_samples_leaf=1,\n",
       "                   min_samples_split=2, min_weight_fraction_leaf=0.0,\n",
       "                   random_state=1524195212, splitter='random'), ExtraTreeRegressor(ccp_alpha=0.0, criterion='mse', max_depth=7, max_features=1,\n",
       "                   max_leaf_nodes=None, min_impurity_decrease=0.0,\n",
       "                   min_impurity_split=None, min_samples_leaf=1,\n",
       "                   min_samples_split=2, min_weight_fraction_leaf=0.0,\n",
       "                   random_state=154320955, splitter='random'), ExtraTreeRegressor(ccp_alpha=0.0, criterion='mse', max_depth=7, max_features=1,\n",
       "                   max_leaf_nodes=None, min_impurity_decrease=0.0,\n",
       "                   min_impurity_split=None, min_samples_leaf=1,\n",
       "                   min_samples_split=2, min_weight_fraction_leaf=0.0,\n",
       "                   random_state=951523612, splitter='random'), ExtraTreeRegressor(ccp_alpha=0.0, criterion='mse', max_depth=7, max_features=1,\n",
       "                   max_leaf_nodes=None, min_impurity_decrease=0.0,\n",
       "                   min_impurity_split=None, min_samples_leaf=1,\n",
       "                   min_samples_split=2, min_weight_fraction_leaf=0.0,\n",
       "                   random_state=31030056, splitter='random'), ExtraTreeRegressor(ccp_alpha=0.0, criterion='mse', max_depth=7, max_features=1,\n",
       "                   max_leaf_nodes=None, min_impurity_decrease=0.0,\n",
       "                   min_impurity_split=None, min_samples_leaf=1,\n",
       "                   min_samples_split=2, min_weight_fraction_leaf=0.0,\n",
       "                   random_state=150729776, splitter='random'), ExtraTreeRegressor(ccp_alpha=0.0, criterion='mse', max_depth=7, max_features=1,\n",
       "                   max_leaf_nodes=None, min_impurity_decrease=0.0,\n",
       "                   min_impurity_split=None, min_samples_leaf=1,\n",
       "                   min_samples_split=2, min_weight_fraction_leaf=0.0,\n",
       "                   random_state=208884779, splitter='random'), ExtraTreeRegressor(ccp_alpha=0.0, criterion='mse', max_depth=7, max_features=1,\n",
       "                   max_leaf_nodes=None, min_impurity_decrease=0.0,\n",
       "                   min_impurity_split=None, min_samples_leaf=1,\n",
       "                   min_samples_split=2, min_weight_fraction_leaf=0.0,\n",
       "                   random_state=1092588091, splitter='random'), ExtraTreeRegressor(ccp_alpha=0.0, criterion='mse', max_depth=7, max_features=1,\n",
       "                   max_leaf_nodes=None, min_impurity_decrease=0.0,\n",
       "                   min_impurity_split=None, min_samples_leaf=1,\n",
       "                   min_samples_split=2, min_weight_fraction_leaf=0.0,\n",
       "                   random_state=1657209879, splitter='random'), ExtraTreeRegressor(ccp_alpha=0.0, criterion='mse', max_depth=7, max_features=1,\n",
       "                   max_leaf_nodes=None, min_impurity_decrease=0.0,\n",
       "                   min_impurity_split=None, min_samples_leaf=1,\n",
       "                   min_samples_split=2, min_weight_fraction_leaf=0.0,\n",
       "                   random_state=1016220454, splitter='random'), ExtraTreeRegressor(ccp_alpha=0.0, criterion='mse', max_depth=7, max_features=1,\n",
       "                   max_leaf_nodes=None, min_impurity_decrease=0.0,\n",
       "                   min_impurity_split=None, min_samples_leaf=1,\n",
       "                   min_samples_split=2, min_weight_fraction_leaf=0.0,\n",
       "                   random_state=1853569540, splitter='random'), ExtraTreeRegressor(ccp_alpha=0.0, criterion='mse', max_depth=7, max_features=1,\n",
       "                   max_leaf_nodes=None, min_impurity_decrease=0.0,\n",
       "                   min_impurity_split=None, min_samples_leaf=1,\n",
       "                   min_samples_split=2, min_weight_fraction_leaf=0.0,\n",
       "                   random_state=1929339075, splitter='random'), ExtraTreeRegressor(ccp_alpha=0.0, criterion='mse', max_depth=7, max_features=1,\n",
       "                   max_leaf_nodes=None, min_impurity_decrease=0.0,\n",
       "                   min_impurity_split=None, min_samples_leaf=1,\n",
       "                   min_samples_split=2, min_weight_fraction_leaf=0.0,\n",
       "                   random_state=894979728, splitter='random'), ExtraTreeRegressor(ccp_alpha=0.0, criterion='mse', max_depth=7, max_features=1,\n",
       "                   max_leaf_nodes=None, min_impurity_decrease=0.0,\n",
       "                   min_impurity_split=None, min_samples_leaf=1,\n",
       "                   min_samples_split=2, min_weight_fraction_leaf=0.0,\n",
       "                   random_state=180215884, splitter='random'), ExtraTreeRegressor(ccp_alpha=0.0, criterion='mse', max_depth=7, max_features=1,\n",
       "                   max_leaf_nodes=None, min_impurity_decrease=0.0,\n",
       "                   min_impurity_split=None, min_samples_leaf=1,\n",
       "                   min_samples_split=2, min_weight_fraction_leaf=0.0,\n",
       "                   random_state=1137966124, splitter='random'), ExtraTreeRegressor(ccp_alpha=0.0, criterion='mse', max_depth=7, max_features=1,\n",
       "                   max_leaf_nodes=None, min_impurity_decrease=0.0,\n",
       "                   min_impurity_split=None, min_samples_leaf=1,\n",
       "                   min_samples_split=2, min_weight_fraction_leaf=0.0,\n",
       "                   random_state=499236449, splitter='random'), ExtraTreeRegressor(ccp_alpha=0.0, criterion='mse', max_depth=7, max_features=1,\n",
       "                   max_leaf_nodes=None, min_impurity_decrease=0.0,\n",
       "                   min_impurity_split=None, min_samples_leaf=1,\n",
       "                   min_samples_split=2, min_weight_fraction_leaf=0.0,\n",
       "                   random_state=1647548397, splitter='random'), ExtraTreeRegressor(ccp_alpha=0.0, criterion='mse', max_depth=7, max_features=1,\n",
       "                   max_leaf_nodes=None, min_impurity_decrease=0.0,\n",
       "                   min_impurity_split=None, min_samples_leaf=1,\n",
       "                   min_samples_split=2, min_weight_fraction_leaf=0.0,\n",
       "                   random_state=798932958, splitter='random'), ExtraTreeRegressor(ccp_alpha=0.0, criterion='mse', max_depth=7, max_features=1,\n",
       "                   max_leaf_nodes=None, min_impurity_decrease=0.0,\n",
       "                   min_impurity_split=None, min_samples_leaf=1,\n",
       "                   min_samples_split=2, min_weight_fraction_leaf=0.0,\n",
       "                   random_state=1763465800, splitter='random'), ExtraTreeRegressor(ccp_alpha=0.0, criterion='mse', max_depth=7, max_features=1,\n",
       "                   max_leaf_nodes=None, min_impurity_decrease=0.0,\n",
       "                   min_impurity_split=None, min_samples_leaf=1,\n",
       "                   min_samples_split=2, min_weight_fraction_leaf=0.0,\n",
       "                   random_state=1123818596, splitter='random'), ExtraTreeRegressor(ccp_alpha=0.0, criterion='mse', max_depth=7, max_features=1,\n",
       "                   max_leaf_nodes=None, min_impurity_decrease=0.0,\n",
       "                   min_impurity_split=None, min_samples_leaf=1,\n",
       "                   min_samples_split=2, min_weight_fraction_leaf=0.0,\n",
       "                   random_state=756265135, splitter='random'), ExtraTreeRegressor(ccp_alpha=0.0, criterion='mse', max_depth=7, max_features=1,\n",
       "                   max_leaf_nodes=None, min_impurity_decrease=0.0,\n",
       "                   min_impurity_split=None, min_samples_leaf=1,\n",
       "                   min_samples_split=2, min_weight_fraction_leaf=0.0,\n",
       "                   random_state=802108166, splitter='random'), ExtraTreeRegressor(ccp_alpha=0.0, criterion='mse', max_depth=7, max_features=1,\n",
       "                   max_leaf_nodes=None, min_impurity_decrease=0.0,\n",
       "                   min_impurity_split=None, min_samples_leaf=1,\n",
       "                   min_samples_split=2, min_weight_fraction_leaf=0.0,\n",
       "                   random_state=850207185, splitter='random'), ExtraTreeRegressor(ccp_alpha=0.0, criterion='mse', max_depth=7, max_features=1,\n",
       "                   max_leaf_nodes=None, min_impurity_decrease=0.0,\n",
       "                   min_impurity_split=None, min_samples_leaf=1,\n",
       "                   min_samples_split=2, min_weight_fraction_leaf=0.0,\n",
       "                   random_state=2013036870, splitter='random'), ExtraTreeRegressor(ccp_alpha=0.0, criterion='mse', max_depth=7, max_features=1,\n",
       "                   max_leaf_nodes=None, min_impurity_decrease=0.0,\n",
       "                   min_impurity_split=None, min_samples_leaf=1,\n",
       "                   min_samples_split=2, min_weight_fraction_leaf=0.0,\n",
       "                   random_state=735456231, splitter='random'), ExtraTreeRegressor(ccp_alpha=0.0, criterion='mse', max_depth=7, max_features=1,\n",
       "                   max_leaf_nodes=None, min_impurity_decrease=0.0,\n",
       "                   min_impurity_split=None, min_samples_leaf=1,\n",
       "                   min_samples_split=2, min_weight_fraction_leaf=0.0,\n",
       "                   random_state=314227199, splitter='random'), ExtraTreeRegressor(ccp_alpha=0.0, criterion='mse', max_depth=7, max_features=1,\n",
       "                   max_leaf_nodes=None, min_impurity_decrease=0.0,\n",
       "                   min_impurity_split=None, min_samples_leaf=1,\n",
       "                   min_samples_split=2, min_weight_fraction_leaf=0.0,\n",
       "                   random_state=843971422, splitter='random'), ExtraTreeRegressor(ccp_alpha=0.0, criterion='mse', max_depth=7, max_features=1,\n",
       "                   max_leaf_nodes=None, min_impurity_decrease=0.0,\n",
       "                   min_impurity_split=None, min_samples_leaf=1,\n",
       "                   min_samples_split=2, min_weight_fraction_leaf=0.0,\n",
       "                   random_state=1253068960, splitter='random'), ExtraTreeRegressor(ccp_alpha=0.0, criterion='mse', max_depth=7, max_features=1,\n",
       "                   max_leaf_nodes=None, min_impurity_decrease=0.0,\n",
       "                   min_impurity_split=None, min_samples_leaf=1,\n",
       "                   min_samples_split=2, min_weight_fraction_leaf=0.0,\n",
       "                   random_state=678325118, splitter='random'), ExtraTreeRegressor(ccp_alpha=0.0, criterion='mse', max_depth=7, max_features=1,\n",
       "                   max_leaf_nodes=None, min_impurity_decrease=0.0,\n",
       "                   min_impurity_split=None, min_samples_leaf=1,\n",
       "                   min_samples_split=2, min_weight_fraction_leaf=0.0,\n",
       "                   random_state=323444777, splitter='random'), ExtraTreeRegressor(ccp_alpha=0.0, criterion='mse', max_depth=7, max_features=1,\n",
       "                   max_leaf_nodes=None, min_impurity_decrease=0.0,\n",
       "                   min_impurity_split=None, min_samples_leaf=1,\n",
       "                   min_samples_split=2, min_weight_fraction_leaf=0.0,\n",
       "                   random_state=1507698401, splitter='random'), ExtraTreeRegressor(ccp_alpha=0.0, criterion='mse', max_depth=7, max_features=1,\n",
       "                   max_leaf_nodes=None, min_impurity_decrease=0.0,\n",
       "                   min_impurity_split=None, min_samples_leaf=1,\n",
       "                   min_samples_split=2, min_weight_fraction_leaf=0.0,\n",
       "                   random_state=303674596, splitter='random'), ExtraTreeRegressor(ccp_alpha=0.0, criterion='mse', max_depth=7, max_features=1,\n",
       "                   max_leaf_nodes=None, min_impurity_decrease=0.0,\n",
       "                   min_impurity_split=None, min_samples_leaf=1,\n",
       "                   min_samples_split=2, min_weight_fraction_leaf=0.0,\n",
       "                   random_state=884653339, splitter='random'), ExtraTreeRegressor(ccp_alpha=0.0, criterion='mse', max_depth=7, max_features=1,\n",
       "                   max_leaf_nodes=None, min_impurity_decrease=0.0,\n",
       "                   min_impurity_split=None, min_samples_leaf=1,\n",
       "                   min_samples_split=2, min_weight_fraction_leaf=0.0,\n",
       "                   random_state=178943021, splitter='random'), ExtraTreeRegressor(ccp_alpha=0.0, criterion='mse', max_depth=7, max_features=1,\n",
       "                   max_leaf_nodes=None, min_impurity_decrease=0.0,\n",
       "                   min_impurity_split=None, min_samples_leaf=1,\n",
       "                   min_samples_split=2, min_weight_fraction_leaf=0.0,\n",
       "                   random_state=1499883132, splitter='random'), ExtraTreeRegressor(ccp_alpha=0.0, criterion='mse', max_depth=7, max_features=1,\n",
       "                   max_leaf_nodes=None, min_impurity_decrease=0.0,\n",
       "                   min_impurity_split=None, min_samples_leaf=1,\n",
       "                   min_samples_split=2, min_weight_fraction_leaf=0.0,\n",
       "                   random_state=2114812608, splitter='random'), ExtraTreeRegressor(ccp_alpha=0.0, criterion='mse', max_depth=7, max_features=1,\n",
       "                   max_leaf_nodes=None, min_impurity_decrease=0.0,\n",
       "                   min_impurity_split=None, min_samples_leaf=1,\n",
       "                   min_samples_split=2, min_weight_fraction_leaf=0.0,\n",
       "                   random_state=2035875619, splitter='random'), ExtraTreeRegressor(ccp_alpha=0.0, criterion='mse', max_depth=7, max_features=1,\n",
       "                   max_leaf_nodes=None, min_impurity_decrease=0.0,\n",
       "                   min_impurity_split=None, min_samples_leaf=1,\n",
       "                   min_samples_split=2, min_weight_fraction_leaf=0.0,\n",
       "                   random_state=1800514633, splitter='random'), ExtraTreeRegressor(ccp_alpha=0.0, criterion='mse', max_depth=7, max_features=1,\n",
       "                   max_leaf_nodes=None, min_impurity_decrease=0.0,\n",
       "                   min_impurity_split=None, min_samples_leaf=1,\n",
       "                   min_samples_split=2, min_weight_fraction_leaf=0.0,\n",
       "                   random_state=422954024, splitter='random'), ExtraTreeRegressor(ccp_alpha=0.0, criterion='mse', max_depth=7, max_features=1,\n",
       "                   max_leaf_nodes=None, min_impurity_decrease=0.0,\n",
       "                   min_impurity_split=None, min_samples_leaf=1,\n",
       "                   min_samples_split=2, min_weight_fraction_leaf=0.0,\n",
       "                   random_state=27833679, splitter='random'), ExtraTreeRegressor(ccp_alpha=0.0, criterion='mse', max_depth=7, max_features=1,\n",
       "                   max_leaf_nodes=None, min_impurity_decrease=0.0,\n",
       "                   min_impurity_split=None, min_samples_leaf=1,\n",
       "                   min_samples_split=2, min_weight_fraction_leaf=0.0,\n",
       "                   random_state=1816437933, splitter='random'), ExtraTreeRegressor(ccp_alpha=0.0, criterion='mse', max_depth=7, max_features=1,\n",
       "                   max_leaf_nodes=None, min_impurity_decrease=0.0,\n",
       "                   min_impurity_split=None, min_samples_leaf=1,\n",
       "                   min_samples_split=2, min_weight_fraction_leaf=0.0,\n",
       "                   random_state=414638625, splitter='random'), ExtraTreeRegressor(ccp_alpha=0.0, criterion='mse', max_depth=7, max_features=1,\n",
       "                   max_leaf_nodes=None, min_impurity_decrease=0.0,\n",
       "                   min_impurity_split=None, min_samples_leaf=1,\n",
       "                   min_samples_split=2, min_weight_fraction_leaf=0.0,\n",
       "                   random_state=142876350, splitter='random'), ExtraTreeRegressor(ccp_alpha=0.0, criterion='mse', max_depth=7, max_features=1,\n",
       "                   max_leaf_nodes=None, min_impurity_decrease=0.0,\n",
       "                   min_impurity_split=None, min_samples_leaf=1,\n",
       "                   min_samples_split=2, min_weight_fraction_leaf=0.0,\n",
       "                   random_state=1709559767, splitter='random'), ExtraTreeRegressor(ccp_alpha=0.0, criterion='mse', max_depth=7, max_features=1,\n",
       "                   max_leaf_nodes=None, min_impurity_decrease=0.0,\n",
       "                   min_impurity_split=None, min_samples_leaf=1,\n",
       "                   min_samples_split=2, min_weight_fraction_leaf=0.0,\n",
       "                   random_state=66961480, splitter='random'), ExtraTreeRegressor(ccp_alpha=0.0, criterion='mse', max_depth=7, max_features=1,\n",
       "                   max_leaf_nodes=None, min_impurity_decrease=0.0,\n",
       "                   min_impurity_split=None, min_samples_leaf=1,\n",
       "                   min_samples_split=2, min_weight_fraction_leaf=0.0,\n",
       "                   random_state=1554954519, splitter='random'), ExtraTreeRegressor(ccp_alpha=0.0, criterion='mse', max_depth=7, max_features=1,\n",
       "                   max_leaf_nodes=None, min_impurity_decrease=0.0,\n",
       "                   min_impurity_split=None, min_samples_leaf=1,\n",
       "                   min_samples_split=2, min_weight_fraction_leaf=0.0,\n",
       "                   random_state=821258914, splitter='random'), ExtraTreeRegressor(ccp_alpha=0.0, criterion='mse', max_depth=7, max_features=1,\n",
       "                   max_leaf_nodes=None, min_impurity_decrease=0.0,\n",
       "                   min_impurity_split=None, min_samples_leaf=1,\n",
       "                   min_samples_split=2, min_weight_fraction_leaf=0.0,\n",
       "                   random_state=2047754900, splitter='random'), ExtraTreeRegressor(ccp_alpha=0.0, criterion='mse', max_depth=7, max_features=1,\n",
       "                   max_leaf_nodes=None, min_impurity_decrease=0.0,\n",
       "                   min_impurity_split=None, min_samples_leaf=1,\n",
       "                   min_samples_split=2, min_weight_fraction_leaf=0.0,\n",
       "                   random_state=227119677, splitter='random'), ExtraTreeRegressor(ccp_alpha=0.0, criterion='mse', max_depth=7, max_features=1,\n",
       "                   max_leaf_nodes=None, min_impurity_decrease=0.0,\n",
       "                   min_impurity_split=None, min_samples_leaf=1,\n",
       "                   min_samples_split=2, min_weight_fraction_leaf=0.0,\n",
       "                   random_state=211952582, splitter='random'), ExtraTreeRegressor(ccp_alpha=0.0, criterion='mse', max_depth=7, max_features=1,\n",
       "                   max_leaf_nodes=None, min_impurity_decrease=0.0,\n",
       "                   min_impurity_split=None, min_samples_leaf=1,\n",
       "                   min_samples_split=2, min_weight_fraction_leaf=0.0,\n",
       "                   random_state=546914574, splitter='random'), ExtraTreeRegressor(ccp_alpha=0.0, criterion='mse', max_depth=7, max_features=1,\n",
       "                   max_leaf_nodes=None, min_impurity_decrease=0.0,\n",
       "                   min_impurity_split=None, min_samples_leaf=1,\n",
       "                   min_samples_split=2, min_weight_fraction_leaf=0.0,\n",
       "                   random_state=1780221403, splitter='random'), ExtraTreeRegressor(ccp_alpha=0.0, criterion='mse', max_depth=7, max_features=1,\n",
       "                   max_leaf_nodes=None, min_impurity_decrease=0.0,\n",
       "                   min_impurity_split=None, min_samples_leaf=1,\n",
       "                   min_samples_split=2, min_weight_fraction_leaf=0.0,\n",
       "                   random_state=1169752278, splitter='random'), ExtraTreeRegressor(ccp_alpha=0.0, criterion='mse', max_depth=7, max_features=1,\n",
       "                   max_leaf_nodes=None, min_impurity_decrease=0.0,\n",
       "                   min_impurity_split=None, min_samples_leaf=1,\n",
       "                   min_samples_split=2, min_weight_fraction_leaf=0.0,\n",
       "                   random_state=1262047097, splitter='random'), ExtraTreeRegressor(ccp_alpha=0.0, criterion='mse', max_depth=7, max_features=1,\n",
       "                   max_leaf_nodes=None, min_impurity_decrease=0.0,\n",
       "                   min_impurity_split=None, min_samples_leaf=1,\n",
       "                   min_samples_split=2, min_weight_fraction_leaf=0.0,\n",
       "                   random_state=871411400, splitter='random'), ExtraTreeRegressor(ccp_alpha=0.0, criterion='mse', max_depth=7, max_features=1,\n",
       "                   max_leaf_nodes=None, min_impurity_decrease=0.0,\n",
       "                   min_impurity_split=None, min_samples_leaf=1,\n",
       "                   min_samples_split=2, min_weight_fraction_leaf=0.0,\n",
       "                   random_state=1763787678, splitter='random'), ExtraTreeRegressor(ccp_alpha=0.0, criterion='mse', max_depth=7, max_features=1,\n",
       "                   max_leaf_nodes=None, min_impurity_decrease=0.0,\n",
       "                   min_impurity_split=None, min_samples_leaf=1,\n",
       "                   min_samples_split=2, min_weight_fraction_leaf=0.0,\n",
       "                   random_state=1964729254, splitter='random'), ExtraTreeRegressor(ccp_alpha=0.0, criterion='mse', max_depth=7, max_features=1,\n",
       "                   max_leaf_nodes=None, min_impurity_decrease=0.0,\n",
       "                   min_impurity_split=None, min_samples_leaf=1,\n",
       "                   min_samples_split=2, min_weight_fraction_leaf=0.0,\n",
       "                   random_state=400825228, splitter='random'), ExtraTreeRegressor(ccp_alpha=0.0, criterion='mse', max_depth=7, max_features=1,\n",
       "                   max_leaf_nodes=None, min_impurity_decrease=0.0,\n",
       "                   min_impurity_split=None, min_samples_leaf=1,\n",
       "                   min_samples_split=2, min_weight_fraction_leaf=0.0,\n",
       "                   random_state=1995903141, splitter='random'), ExtraTreeRegressor(ccp_alpha=0.0, criterion='mse', max_depth=7, max_features=1,\n",
       "                   max_leaf_nodes=None, min_impurity_decrease=0.0,\n",
       "                   min_impurity_split=None, min_samples_leaf=1,\n",
       "                   min_samples_split=2, min_weight_fraction_leaf=0.0,\n",
       "                   random_state=551725847, splitter='random'), ExtraTreeRegressor(ccp_alpha=0.0, criterion='mse', max_depth=7, max_features=1,\n",
       "                   max_leaf_nodes=None, min_impurity_decrease=0.0,\n",
       "                   min_impurity_split=None, min_samples_leaf=1,\n",
       "                   min_samples_split=2, min_weight_fraction_leaf=0.0,\n",
       "                   random_state=1690794025, splitter='random'), ExtraTreeRegressor(ccp_alpha=0.0, criterion='mse', max_depth=7, max_features=1,\n",
       "                   max_leaf_nodes=None, min_impurity_decrease=0.0,\n",
       "                   min_impurity_split=None, min_samples_leaf=1,\n",
       "                   min_samples_split=2, min_weight_fraction_leaf=0.0,\n",
       "                   random_state=290028370, splitter='random'), ExtraTreeRegressor(ccp_alpha=0.0, criterion='mse', max_depth=7, max_features=1,\n",
       "                   max_leaf_nodes=None, min_impurity_decrease=0.0,\n",
       "                   min_impurity_split=None, min_samples_leaf=1,\n",
       "                   min_samples_split=2, min_weight_fraction_leaf=0.0,\n",
       "                   random_state=1176513095, splitter='random'), ExtraTreeRegressor(ccp_alpha=0.0, criterion='mse', max_depth=7, max_features=1,\n",
       "                   max_leaf_nodes=None, min_impurity_decrease=0.0,\n",
       "                   min_impurity_split=None, min_samples_leaf=1,\n",
       "                   min_samples_split=2, min_weight_fraction_leaf=0.0,\n",
       "                   random_state=1072351452, splitter='random'), ExtraTreeRegressor(ccp_alpha=0.0, criterion='mse', max_depth=7, max_features=1,\n",
       "                   max_leaf_nodes=None, min_impurity_decrease=0.0,\n",
       "                   min_impurity_split=None, min_samples_leaf=1,\n",
       "                   min_samples_split=2, min_weight_fraction_leaf=0.0,\n",
       "                   random_state=2021249050, splitter='random'), ExtraTreeRegressor(ccp_alpha=0.0, criterion='mse', max_depth=7, max_features=1,\n",
       "                   max_leaf_nodes=None, min_impurity_decrease=0.0,\n",
       "                   min_impurity_split=None, min_samples_leaf=1,\n",
       "                   min_samples_split=2, min_weight_fraction_leaf=0.0,\n",
       "                   random_state=866179807, splitter='random'), ExtraTreeRegressor(ccp_alpha=0.0, criterion='mse', max_depth=7, max_features=1,\n",
       "                   max_leaf_nodes=None, min_impurity_decrease=0.0,\n",
       "                   min_impurity_split=None, min_samples_leaf=1,\n",
       "                   min_samples_split=2, min_weight_fraction_leaf=0.0,\n",
       "                   random_state=792793404, splitter='random'), ExtraTreeRegressor(ccp_alpha=0.0, criterion='mse', max_depth=7, max_features=1,\n",
       "                   max_leaf_nodes=None, min_impurity_decrease=0.0,\n",
       "                   min_impurity_split=None, min_samples_leaf=1,\n",
       "                   min_samples_split=2, min_weight_fraction_leaf=0.0,\n",
       "                   random_state=371849264, splitter='random'), ExtraTreeRegressor(ccp_alpha=0.0, criterion='mse', max_depth=7, max_features=1,\n",
       "                   max_leaf_nodes=None, min_impurity_decrease=0.0,\n",
       "                   min_impurity_split=None, min_samples_leaf=1,\n",
       "                   min_samples_split=2, min_weight_fraction_leaf=0.0,\n",
       "                   random_state=839092761, splitter='random'), ExtraTreeRegressor(ccp_alpha=0.0, criterion='mse', max_depth=7, max_features=1,\n",
       "                   max_leaf_nodes=None, min_impurity_decrease=0.0,\n",
       "                   min_impurity_split=None, min_samples_leaf=1,\n",
       "                   min_samples_split=2, min_weight_fraction_leaf=0.0,\n",
       "                   random_state=1900562423, splitter='random'), ExtraTreeRegressor(ccp_alpha=0.0, criterion='mse', max_depth=7, max_features=1,\n",
       "                   max_leaf_nodes=None, min_impurity_decrease=0.0,\n",
       "                   min_impurity_split=None, min_samples_leaf=1,\n",
       "                   min_samples_split=2, min_weight_fraction_leaf=0.0,\n",
       "                   random_state=1010835184, splitter='random'), ExtraTreeRegressor(ccp_alpha=0.0, criterion='mse', max_depth=7, max_features=1,\n",
       "                   max_leaf_nodes=None, min_impurity_decrease=0.0,\n",
       "                   min_impurity_split=None, min_samples_leaf=1,\n",
       "                   min_samples_split=2, min_weight_fraction_leaf=0.0,\n",
       "                   random_state=2017228948, splitter='random'), ExtraTreeRegressor(ccp_alpha=0.0, criterion='mse', max_depth=7, max_features=1,\n",
       "                   max_leaf_nodes=None, min_impurity_decrease=0.0,\n",
       "                   min_impurity_split=None, min_samples_leaf=1,\n",
       "                   min_samples_split=2, min_weight_fraction_leaf=0.0,\n",
       "                   random_state=579361675, splitter='random'), ExtraTreeRegressor(ccp_alpha=0.0, criterion='mse', max_depth=7, max_features=1,\n",
       "                   max_leaf_nodes=None, min_impurity_decrease=0.0,\n",
       "                   min_impurity_split=None, min_samples_leaf=1,\n",
       "                   min_samples_split=2, min_weight_fraction_leaf=0.0,\n",
       "                   random_state=225395087, splitter='random'), ExtraTreeRegressor(ccp_alpha=0.0, criterion='mse', max_depth=7, max_features=1,\n",
       "                   max_leaf_nodes=None, min_impurity_decrease=0.0,\n",
       "                   min_impurity_split=None, min_samples_leaf=1,\n",
       "                   min_samples_split=2, min_weight_fraction_leaf=0.0,\n",
       "                   random_state=1027187489, splitter='random'), ExtraTreeRegressor(ccp_alpha=0.0, criterion='mse', max_depth=7, max_features=1,\n",
       "                   max_leaf_nodes=None, min_impurity_decrease=0.0,\n",
       "                   min_impurity_split=None, min_samples_leaf=1,\n",
       "                   min_samples_split=2, min_weight_fraction_leaf=0.0,\n",
       "                   random_state=1057613479, splitter='random'), ExtraTreeRegressor(ccp_alpha=0.0, criterion='mse', max_depth=7, max_features=1,\n",
       "                   max_leaf_nodes=None, min_impurity_decrease=0.0,\n",
       "                   min_impurity_split=None, min_samples_leaf=1,\n",
       "                   min_samples_split=2, min_weight_fraction_leaf=0.0,\n",
       "                   random_state=589061005, splitter='random'), ExtraTreeRegressor(ccp_alpha=0.0, criterion='mse', max_depth=7, max_features=1,\n",
       "                   max_leaf_nodes=None, min_impurity_decrease=0.0,\n",
       "                   min_impurity_split=None, min_samples_leaf=1,\n",
       "                   min_samples_split=2, min_weight_fraction_leaf=0.0,\n",
       "                   random_state=882408741, splitter='random')]"
      ],
      "text/plain": [
       "[ExtraTreeRegressor(ccp_alpha=0.0, criterion='mse', max_depth=7, max_features=1,\n",
       "                    max_leaf_nodes=None, min_impurity_decrease=0.0,\n",
       "                    min_impurity_split=None, min_samples_leaf=1,\n",
       "                    min_samples_split=2, min_weight_fraction_leaf=0.0,\n",
       "                    random_state=351940553, splitter='random'),\n",
       " ExtraTreeRegressor(ccp_alpha=0.0, criterion='mse', max_depth=7, max_features=1,\n",
       "                    max_leaf_nodes=None, min_impurity_decrease=0.0,\n",
       "                    min_impurity_split=None, min_samples_leaf=1,\n",
       "                    min_samples_split=2, min_weight_fraction_leaf=0.0,\n",
       "                    random_state=572528720, splitter='random'),\n",
       " ExtraTreeRegressor(ccp_alpha=0.0, criterion='mse', max_depth=7, max_features=1,\n",
       "                    max_leaf_nodes=None, min_impurity_decrease=0.0,\n",
       "                    min_impurity_split=None, min_samples_leaf=1,\n",
       "                    min_samples_split=2, min_weight_fraction_leaf=0.0,\n",
       "                    random_state=451592010, splitter='random'),\n",
       " ExtraTreeRegressor(ccp_alpha=0.0, criterion='mse', max_depth=7, max_features=1,\n",
       "                    max_leaf_nodes=None, min_impurity_decrease=0.0,\n",
       "                    min_impurity_split=None, min_samples_leaf=1,\n",
       "                    min_samples_split=2, min_weight_fraction_leaf=0.0,\n",
       "                    random_state=1465941821, splitter='random'),\n",
       " ExtraTreeRegressor(ccp_alpha=0.0, criterion='mse', max_depth=7, max_features=1,\n",
       "                    max_leaf_nodes=None, min_impurity_decrease=0.0,\n",
       "                    min_impurity_split=None, min_samples_leaf=1,\n",
       "                    min_samples_split=2, min_weight_fraction_leaf=0.0,\n",
       "                    random_state=945938538, splitter='random'),\n",
       " ExtraTreeRegressor(ccp_alpha=0.0, criterion='mse', max_depth=7, max_features=1,\n",
       "                    max_leaf_nodes=None, min_impurity_decrease=0.0,\n",
       "                    min_impurity_split=None, min_samples_leaf=1,\n",
       "                    min_samples_split=2, min_weight_fraction_leaf=0.0,\n",
       "                    random_state=739850793, splitter='random'),\n",
       " ExtraTreeRegressor(ccp_alpha=0.0, criterion='mse', max_depth=7, max_features=1,\n",
       "                    max_leaf_nodes=None, min_impurity_decrease=0.0,\n",
       "                    min_impurity_split=None, min_samples_leaf=1,\n",
       "                    min_samples_split=2, min_weight_fraction_leaf=0.0,\n",
       "                    random_state=1003930884, splitter='random'),\n",
       " ExtraTreeRegressor(ccp_alpha=0.0, criterion='mse', max_depth=7, max_features=1,\n",
       "                    max_leaf_nodes=None, min_impurity_decrease=0.0,\n",
       "                    min_impurity_split=None, min_samples_leaf=1,\n",
       "                    min_samples_split=2, min_weight_fraction_leaf=0.0,\n",
       "                    random_state=922791370, splitter='random'),\n",
       " ExtraTreeRegressor(ccp_alpha=0.0, criterion='mse', max_depth=7, max_features=1,\n",
       "                    max_leaf_nodes=None, min_impurity_decrease=0.0,\n",
       "                    min_impurity_split=None, min_samples_leaf=1,\n",
       "                    min_samples_split=2, min_weight_fraction_leaf=0.0,\n",
       "                    random_state=828315239, splitter='random'),\n",
       " ExtraTreeRegressor(ccp_alpha=0.0, criterion='mse', max_depth=7, max_features=1,\n",
       "                    max_leaf_nodes=None, min_impurity_decrease=0.0,\n",
       "                    min_impurity_split=None, min_samples_leaf=1,\n",
       "                    min_samples_split=2, min_weight_fraction_leaf=0.0,\n",
       "                    random_state=217340943, splitter='random'),\n",
       " ExtraTreeRegressor(ccp_alpha=0.0, criterion='mse', max_depth=7, max_features=1,\n",
       "                    max_leaf_nodes=None, min_impurity_decrease=0.0,\n",
       "                    min_impurity_split=None, min_samples_leaf=1,\n",
       "                    min_samples_split=2, min_weight_fraction_leaf=0.0,\n",
       "                    random_state=688496641, splitter='random'),\n",
       " ExtraTreeRegressor(ccp_alpha=0.0, criterion='mse', max_depth=7, max_features=1,\n",
       "                    max_leaf_nodes=None, min_impurity_decrease=0.0,\n",
       "                    min_impurity_split=None, min_samples_leaf=1,\n",
       "                    min_samples_split=2, min_weight_fraction_leaf=0.0,\n",
       "                    random_state=983669726, splitter='random'),\n",
       " ExtraTreeRegressor(ccp_alpha=0.0, criterion='mse', max_depth=7, max_features=1,\n",
       "                    max_leaf_nodes=None, min_impurity_decrease=0.0,\n",
       "                    min_impurity_split=None, min_samples_leaf=1,\n",
       "                    min_samples_split=2, min_weight_fraction_leaf=0.0,\n",
       "                    random_state=558699661, splitter='random'),\n",
       " ExtraTreeRegressor(ccp_alpha=0.0, criterion='mse', max_depth=7, max_features=1,\n",
       "                    max_leaf_nodes=None, min_impurity_decrease=0.0,\n",
       "                    min_impurity_split=None, min_samples_leaf=1,\n",
       "                    min_samples_split=2, min_weight_fraction_leaf=0.0,\n",
       "                    random_state=1252140089, splitter='random'),\n",
       " ExtraTreeRegressor(ccp_alpha=0.0, criterion='mse', max_depth=7, max_features=1,\n",
       "                    max_leaf_nodes=None, min_impurity_decrease=0.0,\n",
       "                    min_impurity_split=None, min_samples_leaf=1,\n",
       "                    min_samples_split=2, min_weight_fraction_leaf=0.0,\n",
       "                    random_state=809181611, splitter='random'),\n",
       " ExtraTreeRegressor(ccp_alpha=0.0, criterion='mse', max_depth=7, max_features=1,\n",
       "                    max_leaf_nodes=None, min_impurity_decrease=0.0,\n",
       "                    min_impurity_split=None, min_samples_leaf=1,\n",
       "                    min_samples_split=2, min_weight_fraction_leaf=0.0,\n",
       "                    random_state=1567384956, splitter='random'),\n",
       " ExtraTreeRegressor(ccp_alpha=0.0, criterion='mse', max_depth=7, max_features=1,\n",
       "                    max_leaf_nodes=None, min_impurity_decrease=0.0,\n",
       "                    min_impurity_split=None, min_samples_leaf=1,\n",
       "                    min_samples_split=2, min_weight_fraction_leaf=0.0,\n",
       "                    random_state=268447631, splitter='random'),\n",
       " ExtraTreeRegressor(ccp_alpha=0.0, criterion='mse', max_depth=7, max_features=1,\n",
       "                    max_leaf_nodes=None, min_impurity_decrease=0.0,\n",
       "                    min_impurity_split=None, min_samples_leaf=1,\n",
       "                    min_samples_split=2, min_weight_fraction_leaf=0.0,\n",
       "                    random_state=1855106914, splitter='random'),\n",
       " ExtraTreeRegressor(ccp_alpha=0.0, criterion='mse', max_depth=7, max_features=1,\n",
       "                    max_leaf_nodes=None, min_impurity_decrease=0.0,\n",
       "                    min_impurity_split=None, min_samples_leaf=1,\n",
       "                    min_samples_split=2, min_weight_fraction_leaf=0.0,\n",
       "                    random_state=1029729814, splitter='random'),\n",
       " ExtraTreeRegressor(ccp_alpha=0.0, criterion='mse', max_depth=7, max_features=1,\n",
       "                    max_leaf_nodes=None, min_impurity_decrease=0.0,\n",
       "                    min_impurity_split=None, min_samples_leaf=1,\n",
       "                    min_samples_split=2, min_weight_fraction_leaf=0.0,\n",
       "                    random_state=1467783630, splitter='random'),\n",
       " ExtraTreeRegressor(ccp_alpha=0.0, criterion='mse', max_depth=7, max_features=1,\n",
       "                    max_leaf_nodes=None, min_impurity_decrease=0.0,\n",
       "                    min_impurity_split=None, min_samples_leaf=1,\n",
       "                    min_samples_split=2, min_weight_fraction_leaf=0.0,\n",
       "                    random_state=2010599531, splitter='random'),\n",
       " ExtraTreeRegressor(ccp_alpha=0.0, criterion='mse', max_depth=7, max_features=1,\n",
       "                    max_leaf_nodes=None, min_impurity_decrease=0.0,\n",
       "                    min_impurity_split=None, min_samples_leaf=1,\n",
       "                    min_samples_split=2, min_weight_fraction_leaf=0.0,\n",
       "                    random_state=1527496860, splitter='random'),\n",
       " ExtraTreeRegressor(ccp_alpha=0.0, criterion='mse', max_depth=7, max_features=1,\n",
       "                    max_leaf_nodes=None, min_impurity_decrease=0.0,\n",
       "                    min_impurity_split=None, min_samples_leaf=1,\n",
       "                    min_samples_split=2, min_weight_fraction_leaf=0.0,\n",
       "                    random_state=893397803, splitter='random'),\n",
       " ExtraTreeRegressor(ccp_alpha=0.0, criterion='mse', max_depth=7, max_features=1,\n",
       "                    max_leaf_nodes=None, min_impurity_decrease=0.0,\n",
       "                    min_impurity_split=None, min_samples_leaf=1,\n",
       "                    min_samples_split=2, min_weight_fraction_leaf=0.0,\n",
       "                    random_state=1524195212, splitter='random'),\n",
       " ExtraTreeRegressor(ccp_alpha=0.0, criterion='mse', max_depth=7, max_features=1,\n",
       "                    max_leaf_nodes=None, min_impurity_decrease=0.0,\n",
       "                    min_impurity_split=None, min_samples_leaf=1,\n",
       "                    min_samples_split=2, min_weight_fraction_leaf=0.0,\n",
       "                    random_state=154320955, splitter='random'),\n",
       " ExtraTreeRegressor(ccp_alpha=0.0, criterion='mse', max_depth=7, max_features=1,\n",
       "                    max_leaf_nodes=None, min_impurity_decrease=0.0,\n",
       "                    min_impurity_split=None, min_samples_leaf=1,\n",
       "                    min_samples_split=2, min_weight_fraction_leaf=0.0,\n",
       "                    random_state=951523612, splitter='random'),\n",
       " ExtraTreeRegressor(ccp_alpha=0.0, criterion='mse', max_depth=7, max_features=1,\n",
       "                    max_leaf_nodes=None, min_impurity_decrease=0.0,\n",
       "                    min_impurity_split=None, min_samples_leaf=1,\n",
       "                    min_samples_split=2, min_weight_fraction_leaf=0.0,\n",
       "                    random_state=31030056, splitter='random'),\n",
       " ExtraTreeRegressor(ccp_alpha=0.0, criterion='mse', max_depth=7, max_features=1,\n",
       "                    max_leaf_nodes=None, min_impurity_decrease=0.0,\n",
       "                    min_impurity_split=None, min_samples_leaf=1,\n",
       "                    min_samples_split=2, min_weight_fraction_leaf=0.0,\n",
       "                    random_state=150729776, splitter='random'),\n",
       " ExtraTreeRegressor(ccp_alpha=0.0, criterion='mse', max_depth=7, max_features=1,\n",
       "                    max_leaf_nodes=None, min_impurity_decrease=0.0,\n",
       "                    min_impurity_split=None, min_samples_leaf=1,\n",
       "                    min_samples_split=2, min_weight_fraction_leaf=0.0,\n",
       "                    random_state=208884779, splitter='random'),\n",
       " ExtraTreeRegressor(ccp_alpha=0.0, criterion='mse', max_depth=7, max_features=1,\n",
       "                    max_leaf_nodes=None, min_impurity_decrease=0.0,\n",
       "                    min_impurity_split=None, min_samples_leaf=1,\n",
       "                    min_samples_split=2, min_weight_fraction_leaf=0.0,\n",
       "                    random_state=1092588091, splitter='random'),\n",
       " ExtraTreeRegressor(ccp_alpha=0.0, criterion='mse', max_depth=7, max_features=1,\n",
       "                    max_leaf_nodes=None, min_impurity_decrease=0.0,\n",
       "                    min_impurity_split=None, min_samples_leaf=1,\n",
       "                    min_samples_split=2, min_weight_fraction_leaf=0.0,\n",
       "                    random_state=1657209879, splitter='random'),\n",
       " ExtraTreeRegressor(ccp_alpha=0.0, criterion='mse', max_depth=7, max_features=1,\n",
       "                    max_leaf_nodes=None, min_impurity_decrease=0.0,\n",
       "                    min_impurity_split=None, min_samples_leaf=1,\n",
       "                    min_samples_split=2, min_weight_fraction_leaf=0.0,\n",
       "                    random_state=1016220454, splitter='random'),\n",
       " ExtraTreeRegressor(ccp_alpha=0.0, criterion='mse', max_depth=7, max_features=1,\n",
       "                    max_leaf_nodes=None, min_impurity_decrease=0.0,\n",
       "                    min_impurity_split=None, min_samples_leaf=1,\n",
       "                    min_samples_split=2, min_weight_fraction_leaf=0.0,\n",
       "                    random_state=1853569540, splitter='random'),\n",
       " ExtraTreeRegressor(ccp_alpha=0.0, criterion='mse', max_depth=7, max_features=1,\n",
       "                    max_leaf_nodes=None, min_impurity_decrease=0.0,\n",
       "                    min_impurity_split=None, min_samples_leaf=1,\n",
       "                    min_samples_split=2, min_weight_fraction_leaf=0.0,\n",
       "                    random_state=1929339075, splitter='random'),\n",
       " ExtraTreeRegressor(ccp_alpha=0.0, criterion='mse', max_depth=7, max_features=1,\n",
       "                    max_leaf_nodes=None, min_impurity_decrease=0.0,\n",
       "                    min_impurity_split=None, min_samples_leaf=1,\n",
       "                    min_samples_split=2, min_weight_fraction_leaf=0.0,\n",
       "                    random_state=894979728, splitter='random'),\n",
       " ExtraTreeRegressor(ccp_alpha=0.0, criterion='mse', max_depth=7, max_features=1,\n",
       "                    max_leaf_nodes=None, min_impurity_decrease=0.0,\n",
       "                    min_impurity_split=None, min_samples_leaf=1,\n",
       "                    min_samples_split=2, min_weight_fraction_leaf=0.0,\n",
       "                    random_state=180215884, splitter='random'),\n",
       " ExtraTreeRegressor(ccp_alpha=0.0, criterion='mse', max_depth=7, max_features=1,\n",
       "                    max_leaf_nodes=None, min_impurity_decrease=0.0,\n",
       "                    min_impurity_split=None, min_samples_leaf=1,\n",
       "                    min_samples_split=2, min_weight_fraction_leaf=0.0,\n",
       "                    random_state=1137966124, splitter='random'),\n",
       " ExtraTreeRegressor(ccp_alpha=0.0, criterion='mse', max_depth=7, max_features=1,\n",
       "                    max_leaf_nodes=None, min_impurity_decrease=0.0,\n",
       "                    min_impurity_split=None, min_samples_leaf=1,\n",
       "                    min_samples_split=2, min_weight_fraction_leaf=0.0,\n",
       "                    random_state=499236449, splitter='random'),\n",
       " ExtraTreeRegressor(ccp_alpha=0.0, criterion='mse', max_depth=7, max_features=1,\n",
       "                    max_leaf_nodes=None, min_impurity_decrease=0.0,\n",
       "                    min_impurity_split=None, min_samples_leaf=1,\n",
       "                    min_samples_split=2, min_weight_fraction_leaf=0.0,\n",
       "                    random_state=1647548397, splitter='random'),\n",
       " ExtraTreeRegressor(ccp_alpha=0.0, criterion='mse', max_depth=7, max_features=1,\n",
       "                    max_leaf_nodes=None, min_impurity_decrease=0.0,\n",
       "                    min_impurity_split=None, min_samples_leaf=1,\n",
       "                    min_samples_split=2, min_weight_fraction_leaf=0.0,\n",
       "                    random_state=798932958, splitter='random'),\n",
       " ExtraTreeRegressor(ccp_alpha=0.0, criterion='mse', max_depth=7, max_features=1,\n",
       "                    max_leaf_nodes=None, min_impurity_decrease=0.0,\n",
       "                    min_impurity_split=None, min_samples_leaf=1,\n",
       "                    min_samples_split=2, min_weight_fraction_leaf=0.0,\n",
       "                    random_state=1763465800, splitter='random'),\n",
       " ExtraTreeRegressor(ccp_alpha=0.0, criterion='mse', max_depth=7, max_features=1,\n",
       "                    max_leaf_nodes=None, min_impurity_decrease=0.0,\n",
       "                    min_impurity_split=None, min_samples_leaf=1,\n",
       "                    min_samples_split=2, min_weight_fraction_leaf=0.0,\n",
       "                    random_state=1123818596, splitter='random'),\n",
       " ExtraTreeRegressor(ccp_alpha=0.0, criterion='mse', max_depth=7, max_features=1,\n",
       "                    max_leaf_nodes=None, min_impurity_decrease=0.0,\n",
       "                    min_impurity_split=None, min_samples_leaf=1,\n",
       "                    min_samples_split=2, min_weight_fraction_leaf=0.0,\n",
       "                    random_state=756265135, splitter='random'),\n",
       " ExtraTreeRegressor(ccp_alpha=0.0, criterion='mse', max_depth=7, max_features=1,\n",
       "                    max_leaf_nodes=None, min_impurity_decrease=0.0,\n",
       "                    min_impurity_split=None, min_samples_leaf=1,\n",
       "                    min_samples_split=2, min_weight_fraction_leaf=0.0,\n",
       "                    random_state=802108166, splitter='random'),\n",
       " ExtraTreeRegressor(ccp_alpha=0.0, criterion='mse', max_depth=7, max_features=1,\n",
       "                    max_leaf_nodes=None, min_impurity_decrease=0.0,\n",
       "                    min_impurity_split=None, min_samples_leaf=1,\n",
       "                    min_samples_split=2, min_weight_fraction_leaf=0.0,\n",
       "                    random_state=850207185, splitter='random'),\n",
       " ExtraTreeRegressor(ccp_alpha=0.0, criterion='mse', max_depth=7, max_features=1,\n",
       "                    max_leaf_nodes=None, min_impurity_decrease=0.0,\n",
       "                    min_impurity_split=None, min_samples_leaf=1,\n",
       "                    min_samples_split=2, min_weight_fraction_leaf=0.0,\n",
       "                    random_state=2013036870, splitter='random'),\n",
       " ExtraTreeRegressor(ccp_alpha=0.0, criterion='mse', max_depth=7, max_features=1,\n",
       "                    max_leaf_nodes=None, min_impurity_decrease=0.0,\n",
       "                    min_impurity_split=None, min_samples_leaf=1,\n",
       "                    min_samples_split=2, min_weight_fraction_leaf=0.0,\n",
       "                    random_state=735456231, splitter='random'),\n",
       " ExtraTreeRegressor(ccp_alpha=0.0, criterion='mse', max_depth=7, max_features=1,\n",
       "                    max_leaf_nodes=None, min_impurity_decrease=0.0,\n",
       "                    min_impurity_split=None, min_samples_leaf=1,\n",
       "                    min_samples_split=2, min_weight_fraction_leaf=0.0,\n",
       "                    random_state=314227199, splitter='random'),\n",
       " ExtraTreeRegressor(ccp_alpha=0.0, criterion='mse', max_depth=7, max_features=1,\n",
       "                    max_leaf_nodes=None, min_impurity_decrease=0.0,\n",
       "                    min_impurity_split=None, min_samples_leaf=1,\n",
       "                    min_samples_split=2, min_weight_fraction_leaf=0.0,\n",
       "                    random_state=843971422, splitter='random'),\n",
       " ExtraTreeRegressor(ccp_alpha=0.0, criterion='mse', max_depth=7, max_features=1,\n",
       "                    max_leaf_nodes=None, min_impurity_decrease=0.0,\n",
       "                    min_impurity_split=None, min_samples_leaf=1,\n",
       "                    min_samples_split=2, min_weight_fraction_leaf=0.0,\n",
       "                    random_state=1253068960, splitter='random'),\n",
       " ExtraTreeRegressor(ccp_alpha=0.0, criterion='mse', max_depth=7, max_features=1,\n",
       "                    max_leaf_nodes=None, min_impurity_decrease=0.0,\n",
       "                    min_impurity_split=None, min_samples_leaf=1,\n",
       "                    min_samples_split=2, min_weight_fraction_leaf=0.0,\n",
       "                    random_state=678325118, splitter='random'),\n",
       " ExtraTreeRegressor(ccp_alpha=0.0, criterion='mse', max_depth=7, max_features=1,\n",
       "                    max_leaf_nodes=None, min_impurity_decrease=0.0,\n",
       "                    min_impurity_split=None, min_samples_leaf=1,\n",
       "                    min_samples_split=2, min_weight_fraction_leaf=0.0,\n",
       "                    random_state=323444777, splitter='random'),\n",
       " ExtraTreeRegressor(ccp_alpha=0.0, criterion='mse', max_depth=7, max_features=1,\n",
       "                    max_leaf_nodes=None, min_impurity_decrease=0.0,\n",
       "                    min_impurity_split=None, min_samples_leaf=1,\n",
       "                    min_samples_split=2, min_weight_fraction_leaf=0.0,\n",
       "                    random_state=1507698401, splitter='random'),\n",
       " ExtraTreeRegressor(ccp_alpha=0.0, criterion='mse', max_depth=7, max_features=1,\n",
       "                    max_leaf_nodes=None, min_impurity_decrease=0.0,\n",
       "                    min_impurity_split=None, min_samples_leaf=1,\n",
       "                    min_samples_split=2, min_weight_fraction_leaf=0.0,\n",
       "                    random_state=303674596, splitter='random'),\n",
       " ExtraTreeRegressor(ccp_alpha=0.0, criterion='mse', max_depth=7, max_features=1,\n",
       "                    max_leaf_nodes=None, min_impurity_decrease=0.0,\n",
       "                    min_impurity_split=None, min_samples_leaf=1,\n",
       "                    min_samples_split=2, min_weight_fraction_leaf=0.0,\n",
       "                    random_state=884653339, splitter='random'),\n",
       " ExtraTreeRegressor(ccp_alpha=0.0, criterion='mse', max_depth=7, max_features=1,\n",
       "                    max_leaf_nodes=None, min_impurity_decrease=0.0,\n",
       "                    min_impurity_split=None, min_samples_leaf=1,\n",
       "                    min_samples_split=2, min_weight_fraction_leaf=0.0,\n",
       "                    random_state=178943021, splitter='random'),\n",
       " ExtraTreeRegressor(ccp_alpha=0.0, criterion='mse', max_depth=7, max_features=1,\n",
       "                    max_leaf_nodes=None, min_impurity_decrease=0.0,\n",
       "                    min_impurity_split=None, min_samples_leaf=1,\n",
       "                    min_samples_split=2, min_weight_fraction_leaf=0.0,\n",
       "                    random_state=1499883132, splitter='random'),\n",
       " ExtraTreeRegressor(ccp_alpha=0.0, criterion='mse', max_depth=7, max_features=1,\n",
       "                    max_leaf_nodes=None, min_impurity_decrease=0.0,\n",
       "                    min_impurity_split=None, min_samples_leaf=1,\n",
       "                    min_samples_split=2, min_weight_fraction_leaf=0.0,\n",
       "                    random_state=2114812608, splitter='random'),\n",
       " ExtraTreeRegressor(ccp_alpha=0.0, criterion='mse', max_depth=7, max_features=1,\n",
       "                    max_leaf_nodes=None, min_impurity_decrease=0.0,\n",
       "                    min_impurity_split=None, min_samples_leaf=1,\n",
       "                    min_samples_split=2, min_weight_fraction_leaf=0.0,\n",
       "                    random_state=2035875619, splitter='random'),\n",
       " ExtraTreeRegressor(ccp_alpha=0.0, criterion='mse', max_depth=7, max_features=1,\n",
       "                    max_leaf_nodes=None, min_impurity_decrease=0.0,\n",
       "                    min_impurity_split=None, min_samples_leaf=1,\n",
       "                    min_samples_split=2, min_weight_fraction_leaf=0.0,\n",
       "                    random_state=1800514633, splitter='random'),\n",
       " ExtraTreeRegressor(ccp_alpha=0.0, criterion='mse', max_depth=7, max_features=1,\n",
       "                    max_leaf_nodes=None, min_impurity_decrease=0.0,\n",
       "                    min_impurity_split=None, min_samples_leaf=1,\n",
       "                    min_samples_split=2, min_weight_fraction_leaf=0.0,\n",
       "                    random_state=422954024, splitter='random'),\n",
       " ExtraTreeRegressor(ccp_alpha=0.0, criterion='mse', max_depth=7, max_features=1,\n",
       "                    max_leaf_nodes=None, min_impurity_decrease=0.0,\n",
       "                    min_impurity_split=None, min_samples_leaf=1,\n",
       "                    min_samples_split=2, min_weight_fraction_leaf=0.0,\n",
       "                    random_state=27833679, splitter='random'),\n",
       " ExtraTreeRegressor(ccp_alpha=0.0, criterion='mse', max_depth=7, max_features=1,\n",
       "                    max_leaf_nodes=None, min_impurity_decrease=0.0,\n",
       "                    min_impurity_split=None, min_samples_leaf=1,\n",
       "                    min_samples_split=2, min_weight_fraction_leaf=0.0,\n",
       "                    random_state=1816437933, splitter='random'),\n",
       " ExtraTreeRegressor(ccp_alpha=0.0, criterion='mse', max_depth=7, max_features=1,\n",
       "                    max_leaf_nodes=None, min_impurity_decrease=0.0,\n",
       "                    min_impurity_split=None, min_samples_leaf=1,\n",
       "                    min_samples_split=2, min_weight_fraction_leaf=0.0,\n",
       "                    random_state=414638625, splitter='random'),\n",
       " ExtraTreeRegressor(ccp_alpha=0.0, criterion='mse', max_depth=7, max_features=1,\n",
       "                    max_leaf_nodes=None, min_impurity_decrease=0.0,\n",
       "                    min_impurity_split=None, min_samples_leaf=1,\n",
       "                    min_samples_split=2, min_weight_fraction_leaf=0.0,\n",
       "                    random_state=142876350, splitter='random'),\n",
       " ExtraTreeRegressor(ccp_alpha=0.0, criterion='mse', max_depth=7, max_features=1,\n",
       "                    max_leaf_nodes=None, min_impurity_decrease=0.0,\n",
       "                    min_impurity_split=None, min_samples_leaf=1,\n",
       "                    min_samples_split=2, min_weight_fraction_leaf=0.0,\n",
       "                    random_state=1709559767, splitter='random'),\n",
       " ExtraTreeRegressor(ccp_alpha=0.0, criterion='mse', max_depth=7, max_features=1,\n",
       "                    max_leaf_nodes=None, min_impurity_decrease=0.0,\n",
       "                    min_impurity_split=None, min_samples_leaf=1,\n",
       "                    min_samples_split=2, min_weight_fraction_leaf=0.0,\n",
       "                    random_state=66961480, splitter='random'),\n",
       " ExtraTreeRegressor(ccp_alpha=0.0, criterion='mse', max_depth=7, max_features=1,\n",
       "                    max_leaf_nodes=None, min_impurity_decrease=0.0,\n",
       "                    min_impurity_split=None, min_samples_leaf=1,\n",
       "                    min_samples_split=2, min_weight_fraction_leaf=0.0,\n",
       "                    random_state=1554954519, splitter='random'),\n",
       " ExtraTreeRegressor(ccp_alpha=0.0, criterion='mse', max_depth=7, max_features=1,\n",
       "                    max_leaf_nodes=None, min_impurity_decrease=0.0,\n",
       "                    min_impurity_split=None, min_samples_leaf=1,\n",
       "                    min_samples_split=2, min_weight_fraction_leaf=0.0,\n",
       "                    random_state=821258914, splitter='random'),\n",
       " ExtraTreeRegressor(ccp_alpha=0.0, criterion='mse', max_depth=7, max_features=1,\n",
       "                    max_leaf_nodes=None, min_impurity_decrease=0.0,\n",
       "                    min_impurity_split=None, min_samples_leaf=1,\n",
       "                    min_samples_split=2, min_weight_fraction_leaf=0.0,\n",
       "                    random_state=2047754900, splitter='random'),\n",
       " ExtraTreeRegressor(ccp_alpha=0.0, criterion='mse', max_depth=7, max_features=1,\n",
       "                    max_leaf_nodes=None, min_impurity_decrease=0.0,\n",
       "                    min_impurity_split=None, min_samples_leaf=1,\n",
       "                    min_samples_split=2, min_weight_fraction_leaf=0.0,\n",
       "                    random_state=227119677, splitter='random'),\n",
       " ExtraTreeRegressor(ccp_alpha=0.0, criterion='mse', max_depth=7, max_features=1,\n",
       "                    max_leaf_nodes=None, min_impurity_decrease=0.0,\n",
       "                    min_impurity_split=None, min_samples_leaf=1,\n",
       "                    min_samples_split=2, min_weight_fraction_leaf=0.0,\n",
       "                    random_state=211952582, splitter='random'),\n",
       " ExtraTreeRegressor(ccp_alpha=0.0, criterion='mse', max_depth=7, max_features=1,\n",
       "                    max_leaf_nodes=None, min_impurity_decrease=0.0,\n",
       "                    min_impurity_split=None, min_samples_leaf=1,\n",
       "                    min_samples_split=2, min_weight_fraction_leaf=0.0,\n",
       "                    random_state=546914574, splitter='random'),\n",
       " ExtraTreeRegressor(ccp_alpha=0.0, criterion='mse', max_depth=7, max_features=1,\n",
       "                    max_leaf_nodes=None, min_impurity_decrease=0.0,\n",
       "                    min_impurity_split=None, min_samples_leaf=1,\n",
       "                    min_samples_split=2, min_weight_fraction_leaf=0.0,\n",
       "                    random_state=1780221403, splitter='random'),\n",
       " ExtraTreeRegressor(ccp_alpha=0.0, criterion='mse', max_depth=7, max_features=1,\n",
       "                    max_leaf_nodes=None, min_impurity_decrease=0.0,\n",
       "                    min_impurity_split=None, min_samples_leaf=1,\n",
       "                    min_samples_split=2, min_weight_fraction_leaf=0.0,\n",
       "                    random_state=1169752278, splitter='random'),\n",
       " ExtraTreeRegressor(ccp_alpha=0.0, criterion='mse', max_depth=7, max_features=1,\n",
       "                    max_leaf_nodes=None, min_impurity_decrease=0.0,\n",
       "                    min_impurity_split=None, min_samples_leaf=1,\n",
       "                    min_samples_split=2, min_weight_fraction_leaf=0.0,\n",
       "                    random_state=1262047097, splitter='random'),\n",
       " ExtraTreeRegressor(ccp_alpha=0.0, criterion='mse', max_depth=7, max_features=1,\n",
       "                    max_leaf_nodes=None, min_impurity_decrease=0.0,\n",
       "                    min_impurity_split=None, min_samples_leaf=1,\n",
       "                    min_samples_split=2, min_weight_fraction_leaf=0.0,\n",
       "                    random_state=871411400, splitter='random'),\n",
       " ExtraTreeRegressor(ccp_alpha=0.0, criterion='mse', max_depth=7, max_features=1,\n",
       "                    max_leaf_nodes=None, min_impurity_decrease=0.0,\n",
       "                    min_impurity_split=None, min_samples_leaf=1,\n",
       "                    min_samples_split=2, min_weight_fraction_leaf=0.0,\n",
       "                    random_state=1763787678, splitter='random'),\n",
       " ExtraTreeRegressor(ccp_alpha=0.0, criterion='mse', max_depth=7, max_features=1,\n",
       "                    max_leaf_nodes=None, min_impurity_decrease=0.0,\n",
       "                    min_impurity_split=None, min_samples_leaf=1,\n",
       "                    min_samples_split=2, min_weight_fraction_leaf=0.0,\n",
       "                    random_state=1964729254, splitter='random'),\n",
       " ExtraTreeRegressor(ccp_alpha=0.0, criterion='mse', max_depth=7, max_features=1,\n",
       "                    max_leaf_nodes=None, min_impurity_decrease=0.0,\n",
       "                    min_impurity_split=None, min_samples_leaf=1,\n",
       "                    min_samples_split=2, min_weight_fraction_leaf=0.0,\n",
       "                    random_state=400825228, splitter='random'),\n",
       " ExtraTreeRegressor(ccp_alpha=0.0, criterion='mse', max_depth=7, max_features=1,\n",
       "                    max_leaf_nodes=None, min_impurity_decrease=0.0,\n",
       "                    min_impurity_split=None, min_samples_leaf=1,\n",
       "                    min_samples_split=2, min_weight_fraction_leaf=0.0,\n",
       "                    random_state=1995903141, splitter='random'),\n",
       " ExtraTreeRegressor(ccp_alpha=0.0, criterion='mse', max_depth=7, max_features=1,\n",
       "                    max_leaf_nodes=None, min_impurity_decrease=0.0,\n",
       "                    min_impurity_split=None, min_samples_leaf=1,\n",
       "                    min_samples_split=2, min_weight_fraction_leaf=0.0,\n",
       "                    random_state=551725847, splitter='random'),\n",
       " ExtraTreeRegressor(ccp_alpha=0.0, criterion='mse', max_depth=7, max_features=1,\n",
       "                    max_leaf_nodes=None, min_impurity_decrease=0.0,\n",
       "                    min_impurity_split=None, min_samples_leaf=1,\n",
       "                    min_samples_split=2, min_weight_fraction_leaf=0.0,\n",
       "                    random_state=1690794025, splitter='random'),\n",
       " ExtraTreeRegressor(ccp_alpha=0.0, criterion='mse', max_depth=7, max_features=1,\n",
       "                    max_leaf_nodes=None, min_impurity_decrease=0.0,\n",
       "                    min_impurity_split=None, min_samples_leaf=1,\n",
       "                    min_samples_split=2, min_weight_fraction_leaf=0.0,\n",
       "                    random_state=290028370, splitter='random'),\n",
       " ExtraTreeRegressor(ccp_alpha=0.0, criterion='mse', max_depth=7, max_features=1,\n",
       "                    max_leaf_nodes=None, min_impurity_decrease=0.0,\n",
       "                    min_impurity_split=None, min_samples_leaf=1,\n",
       "                    min_samples_split=2, min_weight_fraction_leaf=0.0,\n",
       "                    random_state=1176513095, splitter='random'),\n",
       " ExtraTreeRegressor(ccp_alpha=0.0, criterion='mse', max_depth=7, max_features=1,\n",
       "                    max_leaf_nodes=None, min_impurity_decrease=0.0,\n",
       "                    min_impurity_split=None, min_samples_leaf=1,\n",
       "                    min_samples_split=2, min_weight_fraction_leaf=0.0,\n",
       "                    random_state=1072351452, splitter='random'),\n",
       " ExtraTreeRegressor(ccp_alpha=0.0, criterion='mse', max_depth=7, max_features=1,\n",
       "                    max_leaf_nodes=None, min_impurity_decrease=0.0,\n",
       "                    min_impurity_split=None, min_samples_leaf=1,\n",
       "                    min_samples_split=2, min_weight_fraction_leaf=0.0,\n",
       "                    random_state=2021249050, splitter='random'),\n",
       " ExtraTreeRegressor(ccp_alpha=0.0, criterion='mse', max_depth=7, max_features=1,\n",
       "                    max_leaf_nodes=None, min_impurity_decrease=0.0,\n",
       "                    min_impurity_split=None, min_samples_leaf=1,\n",
       "                    min_samples_split=2, min_weight_fraction_leaf=0.0,\n",
       "                    random_state=866179807, splitter='random'),\n",
       " ExtraTreeRegressor(ccp_alpha=0.0, criterion='mse', max_depth=7, max_features=1,\n",
       "                    max_leaf_nodes=None, min_impurity_decrease=0.0,\n",
       "                    min_impurity_split=None, min_samples_leaf=1,\n",
       "                    min_samples_split=2, min_weight_fraction_leaf=0.0,\n",
       "                    random_state=792793404, splitter='random'),\n",
       " ExtraTreeRegressor(ccp_alpha=0.0, criterion='mse', max_depth=7, max_features=1,\n",
       "                    max_leaf_nodes=None, min_impurity_decrease=0.0,\n",
       "                    min_impurity_split=None, min_samples_leaf=1,\n",
       "                    min_samples_split=2, min_weight_fraction_leaf=0.0,\n",
       "                    random_state=371849264, splitter='random'),\n",
       " ExtraTreeRegressor(ccp_alpha=0.0, criterion='mse', max_depth=7, max_features=1,\n",
       "                    max_leaf_nodes=None, min_impurity_decrease=0.0,\n",
       "                    min_impurity_split=None, min_samples_leaf=1,\n",
       "                    min_samples_split=2, min_weight_fraction_leaf=0.0,\n",
       "                    random_state=839092761, splitter='random'),\n",
       " ExtraTreeRegressor(ccp_alpha=0.0, criterion='mse', max_depth=7, max_features=1,\n",
       "                    max_leaf_nodes=None, min_impurity_decrease=0.0,\n",
       "                    min_impurity_split=None, min_samples_leaf=1,\n",
       "                    min_samples_split=2, min_weight_fraction_leaf=0.0,\n",
       "                    random_state=1900562423, splitter='random'),\n",
       " ExtraTreeRegressor(ccp_alpha=0.0, criterion='mse', max_depth=7, max_features=1,\n",
       "                    max_leaf_nodes=None, min_impurity_decrease=0.0,\n",
       "                    min_impurity_split=None, min_samples_leaf=1,\n",
       "                    min_samples_split=2, min_weight_fraction_leaf=0.0,\n",
       "                    random_state=1010835184, splitter='random'),\n",
       " ExtraTreeRegressor(ccp_alpha=0.0, criterion='mse', max_depth=7, max_features=1,\n",
       "                    max_leaf_nodes=None, min_impurity_decrease=0.0,\n",
       "                    min_impurity_split=None, min_samples_leaf=1,\n",
       "                    min_samples_split=2, min_weight_fraction_leaf=0.0,\n",
       "                    random_state=2017228948, splitter='random'),\n",
       " ExtraTreeRegressor(ccp_alpha=0.0, criterion='mse', max_depth=7, max_features=1,\n",
       "                    max_leaf_nodes=None, min_impurity_decrease=0.0,\n",
       "                    min_impurity_split=None, min_samples_leaf=1,\n",
       "                    min_samples_split=2, min_weight_fraction_leaf=0.0,\n",
       "                    random_state=579361675, splitter='random'),\n",
       " ExtraTreeRegressor(ccp_alpha=0.0, criterion='mse', max_depth=7, max_features=1,\n",
       "                    max_leaf_nodes=None, min_impurity_decrease=0.0,\n",
       "                    min_impurity_split=None, min_samples_leaf=1,\n",
       "                    min_samples_split=2, min_weight_fraction_leaf=0.0,\n",
       "                    random_state=225395087, splitter='random'),\n",
       " ExtraTreeRegressor(ccp_alpha=0.0, criterion='mse', max_depth=7, max_features=1,\n",
       "                    max_leaf_nodes=None, min_impurity_decrease=0.0,\n",
       "                    min_impurity_split=None, min_samples_leaf=1,\n",
       "                    min_samples_split=2, min_weight_fraction_leaf=0.0,\n",
       "                    random_state=1027187489, splitter='random'),\n",
       " ExtraTreeRegressor(ccp_alpha=0.0, criterion='mse', max_depth=7, max_features=1,\n",
       "                    max_leaf_nodes=None, min_impurity_decrease=0.0,\n",
       "                    min_impurity_split=None, min_samples_leaf=1,\n",
       "                    min_samples_split=2, min_weight_fraction_leaf=0.0,\n",
       "                    random_state=1057613479, splitter='random'),\n",
       " ExtraTreeRegressor(ccp_alpha=0.0, criterion='mse', max_depth=7, max_features=1,\n",
       "                    max_leaf_nodes=None, min_impurity_decrease=0.0,\n",
       "                    min_impurity_split=None, min_samples_leaf=1,\n",
       "                    min_samples_split=2, min_weight_fraction_leaf=0.0,\n",
       "                    random_state=589061005, splitter='random'),\n",
       " ExtraTreeRegressor(ccp_alpha=0.0, criterion='mse', max_depth=7, max_features=1,\n",
       "                    max_leaf_nodes=None, min_impurity_decrease=0.0,\n",
       "                    min_impurity_split=None, min_samples_leaf=1,\n",
       "                    min_samples_split=2, min_weight_fraction_leaf=0.0,\n",
       "                    random_state=882408741, splitter='random')]"
      ]
     },
     "execution_count": 77,
     "metadata": {},
     "output_type": "execute_result"
    }
   ],
   "source": [
    "clf.estimators_"
   ]
  },
  {
   "cell_type": "code",
   "execution_count": 78,
   "metadata": {},
   "outputs": [
    {
     "data": {
      "text/plain": [
       "sklearn.ensemble._iforest.IsolationForest"
      ]
     },
     "execution_count": 78,
     "metadata": {},
     "output_type": "execute_result"
    }
   ],
   "source": [
    "type(clf)"
   ]
  },
  {
   "cell_type": "code",
   "execution_count": 79,
   "metadata": {},
   "outputs": [
    {
     "ename": "AttributeError",
     "evalue": "'IsolationForest' object has no attribute 'tree_'",
     "output_type": "error",
     "traceback": [
      "\u001b[0;31m---------------------------------------------------------------------------\u001b[0m",
      "\u001b[0;31mAttributeError\u001b[0m                            Traceback (most recent call last)",
      "\u001b[0;32m<ipython-input-79-1779e9a2b2f5>\u001b[0m in \u001b[0;36m<module>\u001b[0;34m\u001b[0m\n\u001b[0;32m----> 1\u001b[0;31m \u001b[0mclf\u001b[0m\u001b[0;34m.\u001b[0m\u001b[0mtree_\u001b[0m\u001b[0;34m\u001b[0m\u001b[0;34m\u001b[0m\u001b[0m\n\u001b[0m",
      "\u001b[0;31mAttributeError\u001b[0m: 'IsolationForest' object has no attribute 'tree_'"
     ]
    }
   ],
   "source": [
    "clf.tree_"
   ]
  },
  {
   "cell_type": "code",
   "execution_count": 85,
   "metadata": {},
   "outputs": [
    {
     "data": {
      "text/plain": [
       "(95, 1, 1)"
      ]
     },
     "execution_count": 85,
     "metadata": {},
     "output_type": "execute_result"
    }
   ],
   "source": [
    "clf.estimators_[1].tree_.value.shape"
   ]
  },
  {
   "cell_type": "code",
   "execution_count": 89,
   "metadata": {},
   "outputs": [
    {
     "data": {
      "text/plain": [
       "95"
      ]
     },
     "execution_count": 89,
     "metadata": {},
     "output_type": "execute_result"
    }
   ],
   "source": [
    "clf.estimators_[1].tree_.node_count"
   ]
  },
  {
   "cell_type": "code",
   "execution_count": 90,
   "metadata": {},
   "outputs": [
    {
     "data": {
      "text/plain": [
       "<sklearn.tree._tree.Tree at 0x7f545964b180>"
      ]
     },
     "execution_count": 90,
     "metadata": {},
     "output_type": "execute_result"
    }
   ],
   "source": [
    "clf.estimators_[1].tree_.node_count"
   ]
  },
  {
   "cell_type": "code",
   "execution_count": 91,
   "metadata": {},
   "outputs": [
    {
     "data": {
      "text/html": [
       "[0.6751076444438106, 0.32489235555618945]"
      ],
      "text/plain": [
       "[0.6751076444438106, 0.32489235555618945]"
      ]
     },
     "execution_count": 91,
     "metadata": {},
     "output_type": "execute_result"
    }
   ],
   "source": [
    "explainer.expected_value"
   ]
  },
  {
   "cell_type": "code",
   "execution_count": 1,
   "metadata": {},
   "outputs": [],
   "source": [
    "import numpy as np\n",
    "from typing import Sequence"
   ]
  },
  {
   "cell_type": "code",
   "execution_count": 2,
   "metadata": {},
   "outputs": [],
   "source": [
    "n_feats = 60\n",
    "n_records = 500\n",
    "siv = np.random.random((n_records, n_feats, n_feats))"
   ]
  },
  {
   "cell_type": "code",
   "execution_count": 3,
   "metadata": {},
   "outputs": [],
   "source": [
    "cat_feat_start_ind = [2, 23 , 29 , 44, 55]\n",
    "cat_feat_enc_dim = [6, 3, 8, 4, 3]"
   ]
  },
  {
   "cell_type": "code",
   "execution_count": 14,
   "metadata": {},
   "outputs": [
    {
     "data": {
      "text/plain": [
       "array([0., 0., 0., 0., 0., 0., 0., 0., 0., 0., 0., 0., 0., 0., 0., 0., 0.,\n",
       "       0., 0., 0., 0., 0., 0., 0., 0., 0., 0., 0., 0., 0., 0., 0., 0., 0.,\n",
       "       0., 0., 0., 0., 0., 0., 0., 0., 0., 0., 0., 0., 0., 0., 0., 0.])"
      ]
     },
     "execution_count": 14,
     "metadata": {},
     "output_type": "execute_result"
    }
   ],
   "source": [
    "x[:, 3, ...] - x[:, 3]"
   ]
  },
  {
   "cell_type": "code",
   "execution_count": 25,
   "metadata": {},
   "outputs": [
    {
     "data": {
      "text/plain": [
       "array([[4.09173963, 4.41417926, 6.02400764, 5.48809516, 5.87259496],\n",
       "       [5.33389516, 4.59409602, 3.97343222, 4.04665008, 6.13346701],\n",
       "       [6.41139638, 5.52782821, 3.34452716, 5.57472239, 3.93758688],\n",
       "       [4.52439509, 6.05244749, 6.29082862, 5.11518657, 5.87012858],\n",
       "       [5.9387843 , 4.97311894, 4.937284  , 4.97589633, 4.12215946],\n",
       "       [6.64157314, 3.76173863, 4.8123201 , 3.88942553, 5.93111351],\n",
       "       [4.85518323, 2.94798228, 5.32590265, 6.24051448, 4.82468084],\n",
       "       [5.49531852, 5.7940391 , 5.42390052, 5.227326  , 4.97825793],\n",
       "       [5.59836022, 5.06734663, 5.05568536, 4.71265931, 3.99133226],\n",
       "       [6.27169768, 4.35544355, 5.7084528 , 4.53285266, 4.39290002],\n",
       "       [6.27327607, 4.72100568, 5.36698286, 5.22286541, 5.86791326],\n",
       "       [5.9128265 , 3.06018466, 4.88872742, 5.49337671, 4.55234769],\n",
       "       [4.65549257, 5.58180966, 5.86428456, 4.36565156, 5.28386661],\n",
       "       [7.56555368, 4.64849226, 5.53051857, 3.9218158 , 4.35608228],\n",
       "       [4.9843633 , 5.28572411, 5.41341656, 4.33389146, 4.73024971],\n",
       "       [6.12615964, 4.79164972, 5.93093597, 4.29290195, 5.85638693],\n",
       "       [4.43388759, 5.44328459, 6.99617926, 5.41228347, 4.96727111],\n",
       "       [5.08503865, 4.90594867, 4.58782708, 6.1404987 , 5.17447392],\n",
       "       [5.57759889, 3.5280266 , 4.62277294, 5.41370641, 3.86423254],\n",
       "       [5.70653514, 4.20847408, 5.01450063, 4.20043704, 6.03734785],\n",
       "       [5.15188909, 4.65005519, 4.56190217, 3.67940782, 5.35720205],\n",
       "       [6.92209164, 3.95236263, 4.39326802, 4.94199065, 4.56681422],\n",
       "       [4.4587838 , 5.55523321, 5.63039198, 5.17210616, 3.05562384],\n",
       "       [3.36112967, 5.52986933, 4.90299206, 5.93310873, 5.19427736],\n",
       "       [5.64744098, 5.95795647, 7.27577807, 5.3140641 , 4.26047131],\n",
       "       [6.8192999 , 5.39715963, 4.15487627, 4.09920783, 5.35740593],\n",
       "       [3.57620911, 4.19266125, 5.30346903, 5.84424456, 6.69063479],\n",
       "       [5.89477393, 2.89468178, 4.780504  , 5.40569393, 6.61346034],\n",
       "       [5.50069207, 7.2638589 , 4.21339334, 4.58323154, 5.95137134],\n",
       "       [3.74933669, 5.04641429, 5.964712  , 6.41933244, 4.57314049],\n",
       "       [5.5059806 , 4.17123216, 5.27046334, 3.78091475, 4.27084242],\n",
       "       [5.09878534, 5.00420327, 4.11451824, 6.5882999 , 5.30843295],\n",
       "       [6.56296103, 4.40302798, 3.02085889, 4.72654042, 6.73663842],\n",
       "       [6.14987948, 6.71243036, 2.97618222, 5.82164716, 3.72813944],\n",
       "       [4.52261825, 4.66387194, 5.51378058, 5.169212  , 5.04480129],\n",
       "       [4.81244068, 4.4177937 , 3.37960391, 4.56973797, 5.99708368],\n",
       "       [4.90340679, 4.31734229, 4.40213247, 4.07278684, 4.55231584],\n",
       "       [5.80885544, 6.16527124, 5.45518742, 4.89533747, 3.63378603],\n",
       "       [4.233213  , 5.1587866 , 2.51265876, 4.53180552, 3.64627689],\n",
       "       [5.1225418 , 4.95511777, 6.14329308, 5.09666523, 4.73736753],\n",
       "       [5.76796241, 3.29457579, 5.89078669, 6.4682053 , 5.22931022],\n",
       "       [4.39051477, 4.77882174, 3.90659729, 4.42129716, 4.73364589],\n",
       "       [4.90279139, 4.18099648, 3.86410183, 3.95686373, 4.90472925],\n",
       "       [3.96568999, 6.34673139, 4.88803261, 5.2305578 , 4.61892559],\n",
       "       [5.01086997, 5.09693994, 4.58872913, 3.56653152, 5.74673374],\n",
       "       [5.46221971, 6.67590444, 3.82923013, 4.79801465, 4.73360472],\n",
       "       [3.71543988, 5.80581325, 6.49370011, 6.14362908, 5.30124783],\n",
       "       [6.29134293, 5.38660561, 4.27623717, 5.84624727, 5.62322228],\n",
       "       [5.1297304 , 5.31774873, 3.64107127, 5.83510061, 6.57144275],\n",
       "       [4.68874602, 4.18052558, 4.93502179, 5.44768075, 3.87643472]])"
      ]
     },
     "execution_count": 25,
     "metadata": {},
     "output_type": "execute_result"
    }
   ],
   "source": [
    "np.sum(x[..., 1:6], axis=1)"
   ]
  },
  {
   "cell_type": "code",
   "execution_count": 17,
   "metadata": {},
   "outputs": [
    {
     "data": {
      "text/plain": [
       "50"
      ]
     },
     "execution_count": 17,
     "metadata": {},
     "output_type": "execute_result"
    }
   ],
   "source": [
    "x.shape[0]"
   ]
  },
  {
   "cell_type": "code",
   "execution_count": 28,
   "metadata": {},
   "outputs": [
    {
     "data": {
      "text/plain": [
       "array([[0.64881579, 0.66122656],\n",
       "       [0.62726873, 0.59496189],\n",
       "       [0.31036755, 0.47910748],\n",
       "       [0.94445598, 0.59319475],\n",
       "       [0.92876202, 0.05809379],\n",
       "       [0.51305421, 0.51450576],\n",
       "       [0.13870281, 0.50998617],\n",
       "       [0.46798715, 0.5373956 ],\n",
       "       [0.49432769, 0.14680765],\n",
       "       [0.26015322, 0.49881636]])"
      ]
     },
     "execution_count": 28,
     "metadata": {},
     "output_type": "execute_result"
    }
   ],
   "source": [
    "x[1][...,1:3]"
   ]
  },
  {
   "cell_type": "code",
   "execution_count": 41,
   "metadata": {},
   "outputs": [
    {
     "data": {
      "text/plain": [
       "(50, 2)"
      ]
     },
     "execution_count": 41,
     "metadata": {},
     "output_type": "execute_result"
    }
   ],
   "source": [
    "(x[..., 1:3]).sum(1).shape"
   ]
  },
  {
   "cell_type": "code",
   "execution_count": 38,
   "metadata": {},
   "outputs": [
    {
     "data": {
      "text/plain": [
       "(50, 10, 2)"
      ]
     },
     "execution_count": 38,
     "metadata": {},
     "output_type": "execute_result"
    }
   ],
   "source": [
    "x[..., 1:3].shape"
   ]
  },
  {
   "cell_type": "code",
   "execution_count": 46,
   "metadata": {},
   "outputs": [
    {
     "data": {
      "text/plain": [
       "(50, 10)"
      ]
     },
     "execution_count": 46,
     "metadata": {},
     "output_type": "execute_result"
    }
   ],
   "source": [
    "(x[..., 1:3]).sum(2).shape"
   ]
  },
  {
   "cell_type": "code",
   "execution_count": 48,
   "metadata": {},
   "outputs": [
    {
     "data": {
      "text/plain": [
       "array([ True,  True, False,  True, False, False])"
      ]
     },
     "execution_count": 48,
     "metadata": {},
     "output_type": "execute_result"
    }
   ],
   "source": [
    "I = np.array([0, 0, 1, 0, 2, 1])\n",
    "\n",
    "I == 0"
   ]
  },
  {
   "cell_type": "code",
   "execution_count": 49,
   "metadata": {},
   "outputs": [],
   "source": [
    "I = np.array([0, 0, 0, 0, 1, 1, 1, 1, 2, 2, 2])"
   ]
  },
  {
   "cell_type": "code",
   "execution_count": 50,
   "metadata": {},
   "outputs": [
    {
     "data": {
      "text/plain": [
       "array([ 0,  1,  2,  3,  4,  5,  6,  7,  8,  9, 10])"
      ]
     },
     "execution_count": 50,
     "metadata": {},
     "output_type": "execute_result"
    }
   ],
   "source": [
    "np.argsort(I)"
   ]
  },
  {
   "cell_type": "code",
   "execution_count": 69,
   "metadata": {},
   "outputs": [],
   "source": [
    "X = np.random.random((70, 50))"
   ]
  },
  {
   "cell_type": "code",
   "execution_count": 70,
   "metadata": {},
   "outputs": [
    {
     "data": {
      "text/plain": [
       "(70, 50)"
      ]
     },
     "execution_count": 70,
     "metadata": {},
     "output_type": "execute_result"
    }
   ],
   "source": [
    "X.shape"
   ]
  },
  {
   "cell_type": "code",
   "execution_count": 81,
   "metadata": {},
   "outputs": [],
   "source": [
    "red_X = np.add.reduceat(X, [0, 3, 6, 12])"
   ]
  },
  {
   "cell_type": "code",
   "execution_count": 82,
   "metadata": {},
   "outputs": [],
   "source": [
    "red_X_2  = np.add.reduceat(X, [0, 3], 1)"
   ]
  },
  {
   "cell_type": "code",
   "execution_count": 83,
   "metadata": {},
   "outputs": [
    {
     "data": {
      "text/plain": [
       "(70, 2)"
      ]
     },
     "execution_count": 83,
     "metadata": {},
     "output_type": "execute_result"
    }
   ],
   "source": [
    "red_X_2.shape"
   ]
  },
  {
   "cell_type": "code",
   "execution_count": 84,
   "metadata": {},
   "outputs": [
    {
     "data": {
      "text/plain": [
       "array([ 0.00000000e+00,  0.00000000e+00,  0.00000000e+00,  0.00000000e+00,\n",
       "        0.00000000e+00,  0.00000000e+00,  0.00000000e+00,  0.00000000e+00,\n",
       "        0.00000000e+00,  0.00000000e+00,  0.00000000e+00,  0.00000000e+00,\n",
       "        0.00000000e+00,  0.00000000e+00,  0.00000000e+00,  0.00000000e+00,\n",
       "        0.00000000e+00,  4.44089210e-16,  0.00000000e+00,  0.00000000e+00,\n",
       "        0.00000000e+00, -4.44089210e-16,  0.00000000e+00,  0.00000000e+00,\n",
       "        0.00000000e+00,  0.00000000e+00,  0.00000000e+00,  0.00000000e+00,\n",
       "        0.00000000e+00, -2.22044605e-16,  0.00000000e+00,  0.00000000e+00,\n",
       "        0.00000000e+00,  0.00000000e+00,  0.00000000e+00,  0.00000000e+00,\n",
       "        0.00000000e+00,  0.00000000e+00,  0.00000000e+00,  0.00000000e+00,\n",
       "        0.00000000e+00,  0.00000000e+00,  0.00000000e+00,  0.00000000e+00,\n",
       "        0.00000000e+00,  0.00000000e+00,  0.00000000e+00,  0.00000000e+00,\n",
       "        0.00000000e+00,  0.00000000e+00,  0.00000000e+00,  0.00000000e+00,\n",
       "        0.00000000e+00,  0.00000000e+00,  0.00000000e+00, -4.44089210e-16,\n",
       "        0.00000000e+00, -2.22044605e-16,  0.00000000e+00,  0.00000000e+00,\n",
       "        0.00000000e+00,  0.00000000e+00, -4.44089210e-16,  0.00000000e+00,\n",
       "        0.00000000e+00,  0.00000000e+00,  0.00000000e+00,  0.00000000e+00,\n",
       "       -2.22044605e-16,  0.00000000e+00])"
      ]
     },
     "execution_count": 84,
     "metadata": {},
     "output_type": "execute_result"
    }
   ],
   "source": [
    "red_X_2[:, 0] - np.sum(X[:, 0:3], 1)"
   ]
  },
  {
   "cell_type": "code",
   "execution_count": null,
   "metadata": {},
   "outputs": [],
   "source": []
  },
  {
   "cell_type": "code",
   "execution_count": 97,
   "metadata": {},
   "outputs": [],
   "source": [
    "x = np.linspace(0, 15, 16).reshape(4,4)\n",
    "y = np.concatenate([x, x, x], axis=1)\n"
   ]
  },
  {
   "cell_type": "code",
   "execution_count": null,
   "metadata": {},
   "outputs": [],
   "source": []
  },
  {
   "cell_type": "code",
   "execution_count": 101,
   "metadata": {},
   "outputs": [
    {
     "data": {
      "text/plain": [
       "array([[ 0.,  1.,  2.,  3.,  0.,  1.,  2.,  3.,  0.,  1.,  2.,  3.],\n",
       "       [ 4.,  5.,  6.,  7.,  4.,  5.,  6.,  7.,  4.,  5.,  6.,  7.],\n",
       "       [ 8.,  9., 10., 11.,  8.,  9., 10., 11.,  8.,  9., 10., 11.],\n",
       "       [12., 13., 14., 15., 12., 13., 14., 15., 12., 13., 14., 15.]])"
      ]
     },
     "execution_count": 101,
     "metadata": {},
     "output_type": "execute_result"
    }
   ],
   "source": [
    "y"
   ]
  },
  {
   "cell_type": "code",
   "execution_count": 139,
   "metadata": {},
   "outputs": [
    {
     "data": {
      "text/plain": [
       "array([[ 3.,  3.,  0.,  1.,  5.,  1.,  2.,  3.],\n",
       "       [15.,  7.,  4.,  5., 17.,  5.,  6.,  7.],\n",
       "       [27., 11.,  8.,  9., 29.,  9., 10., 11.],\n",
       "       [39., 15., 12., 13., 41., 13., 14., 15.]])"
      ]
     },
     "execution_count": 139,
     "metadata": {},
     "output_type": "execute_result"
    }
   ],
   "source": [
    "np.add.reduceat(y, indices=[0, 3, 4, 5, 6, 9, 10, 11], axis=1)"
   ]
  },
  {
   "cell_type": "code",
   "execution_count": 104,
   "metadata": {},
   "outputs": [],
   "source": [
    "z = np.stack([y]*3)\n"
   ]
  },
  {
   "cell_type": "code",
   "execution_count": 105,
   "metadata": {},
   "outputs": [
    {
     "data": {
      "text/plain": [
       "array([[[ 0.,  1.,  2.,  3.,  0.,  1.,  2.,  3.,  0.,  1.,  2.,  3.],\n",
       "        [ 4.,  5.,  6.,  7.,  4.,  5.,  6.,  7.,  4.,  5.,  6.,  7.],\n",
       "        [ 8.,  9., 10., 11.,  8.,  9., 10., 11.,  8.,  9., 10., 11.],\n",
       "        [12., 13., 14., 15., 12., 13., 14., 15., 12., 13., 14., 15.]],\n",
       "\n",
       "       [[ 0.,  1.,  2.,  3.,  0.,  1.,  2.,  3.,  0.,  1.,  2.,  3.],\n",
       "        [ 4.,  5.,  6.,  7.,  4.,  5.,  6.,  7.,  4.,  5.,  6.,  7.],\n",
       "        [ 8.,  9., 10., 11.,  8.,  9., 10., 11.,  8.,  9., 10., 11.],\n",
       "        [12., 13., 14., 15., 12., 13., 14., 15., 12., 13., 14., 15.]],\n",
       "\n",
       "       [[ 0.,  1.,  2.,  3.,  0.,  1.,  2.,  3.,  0.,  1.,  2.,  3.],\n",
       "        [ 4.,  5.,  6.,  7.,  4.,  5.,  6.,  7.,  4.,  5.,  6.,  7.],\n",
       "        [ 8.,  9., 10., 11.,  8.,  9., 10., 11.,  8.,  9., 10., 11.],\n",
       "        [12., 13., 14., 15., 12., 13., 14., 15., 12., 13., 14., 15.]]])"
      ]
     },
     "execution_count": 105,
     "metadata": {},
     "output_type": "execute_result"
    }
   ],
   "source": [
    "z"
   ]
  },
  {
   "cell_type": "code",
   "execution_count": 114,
   "metadata": {},
   "outputs": [],
   "source": [
    "t = np.add.reduceat(z, [0, 3, 4, 5, 6, 9, 10, 11], 2)"
   ]
  },
  {
   "cell_type": "code",
   "execution_count": 122,
   "metadata": {},
   "outputs": [],
   "source": [
    "k = np.concatenate([y]*3, axis=0)"
   ]
  },
  {
   "cell_type": "code",
   "execution_count": 124,
   "metadata": {},
   "outputs": [],
   "source": [
    "l = np.stack([k]*10)"
   ]
  },
  {
   "cell_type": "code",
   "execution_count": 145,
   "metadata": {},
   "outputs": [],
   "source": [
    "from functools import partial\n",
    "idx  = [0, 3, 4, 5, 6, 9, 10, 11]\n",
    "\n",
    "func = lambda arr, axis, indices=idx: np.add.reduceat(arr, indices, axis)\n",
    "# func = partial(np.add.reduceat, indices=idx)"
   ]
  },
  {
   "cell_type": "code",
   "execution_count": 146,
   "metadata": {},
   "outputs": [],
   "source": [
    "m = np.apply_over_axes(func, l, axes=[2, 1])"
   ]
  },
  {
   "cell_type": "code",
   "execution_count": 152,
   "metadata": {},
   "outputs": [
    {
     "data": {
      "text/plain": [
       "(3, 4, 12)"
      ]
     },
     "execution_count": 152,
     "metadata": {},
     "output_type": "execute_result"
    }
   ],
   "source": [
    "z.shape"
   ]
  },
  {
   "cell_type": "code",
   "execution_count": 153,
   "metadata": {},
   "outputs": [
    {
     "data": {
      "text/plain": [
       "(3, 4, 8)"
      ]
     },
     "execution_count": 153,
     "metadata": {},
     "output_type": "execute_result"
    }
   ],
   "source": [
    "t.shape"
   ]
  },
  {
   "cell_type": "code",
   "execution_count": 150,
   "metadata": {},
   "outputs": [
    {
     "data": {
      "text/plain": [
       "(10, 12, 12)"
      ]
     },
     "execution_count": 150,
     "metadata": {},
     "output_type": "execute_result"
    }
   ],
   "source": [
    "l.shape"
   ]
  },
  {
   "cell_type": "code",
   "execution_count": 149,
   "metadata": {},
   "outputs": [
    {
     "data": {
      "text/plain": [
       "(10, 8, 8)"
      ]
     },
     "execution_count": 149,
     "metadata": {},
     "output_type": "execute_result"
    }
   ],
   "source": [
    "m.shape"
   ]
  },
  {
   "cell_type": "code",
   "execution_count": 136,
   "metadata": {},
   "outputs": [
    {
     "data": {
      "text/plain": [
       "(10, 12, 8)"
      ]
     },
     "execution_count": 136,
     "metadata": {},
     "output_type": "execute_result"
    }
   ],
   "source": [
    "func(l, axis=2).shape"
   ]
  },
  {
   "cell_type": "code",
   "execution_count": 128,
   "metadata": {},
   "outputs": [
    {
     "data": {
      "text/plain": [
       "array([[[ 0.,  1.,  2., ...,  1.,  2.,  3.],\n",
       "        [ 4.,  5.,  6., ...,  5.,  6.,  7.],\n",
       "        [ 8.,  9., 10., ...,  9., 10., 11.],\n",
       "        ...,\n",
       "        [ 4.,  5.,  6., ...,  5.,  6.,  7.],\n",
       "        [ 8.,  9., 10., ...,  9., 10., 11.],\n",
       "        [12., 13., 14., ..., 13., 14., 15.]],\n",
       "\n",
       "       [[ 0.,  1.,  2., ...,  1.,  2.,  3.],\n",
       "        [ 4.,  5.,  6., ...,  5.,  6.,  7.],\n",
       "        [ 8.,  9., 10., ...,  9., 10., 11.],\n",
       "        ...,\n",
       "        [ 4.,  5.,  6., ...,  5.,  6.,  7.],\n",
       "        [ 8.,  9., 10., ...,  9., 10., 11.],\n",
       "        [12., 13., 14., ..., 13., 14., 15.]],\n",
       "\n",
       "       [[ 0.,  1.,  2., ...,  1.,  2.,  3.],\n",
       "        [ 4.,  5.,  6., ...,  5.,  6.,  7.],\n",
       "        [ 8.,  9., 10., ...,  9., 10., 11.],\n",
       "        ...,\n",
       "        [ 4.,  5.,  6., ...,  5.,  6.,  7.],\n",
       "        [ 8.,  9., 10., ...,  9., 10., 11.],\n",
       "        [12., 13., 14., ..., 13., 14., 15.]],\n",
       "\n",
       "       ...,\n",
       "\n",
       "       [[ 0.,  1.,  2., ...,  1.,  2.,  3.],\n",
       "        [ 4.,  5.,  6., ...,  5.,  6.,  7.],\n",
       "        [ 8.,  9., 10., ...,  9., 10., 11.],\n",
       "        ...,\n",
       "        [ 4.,  5.,  6., ...,  5.,  6.,  7.],\n",
       "        [ 8.,  9., 10., ...,  9., 10., 11.],\n",
       "        [12., 13., 14., ..., 13., 14., 15.]],\n",
       "\n",
       "       [[ 0.,  1.,  2., ...,  1.,  2.,  3.],\n",
       "        [ 4.,  5.,  6., ...,  5.,  6.,  7.],\n",
       "        [ 8.,  9., 10., ...,  9., 10., 11.],\n",
       "        ...,\n",
       "        [ 4.,  5.,  6., ...,  5.,  6.,  7.],\n",
       "        [ 8.,  9., 10., ...,  9., 10., 11.],\n",
       "        [12., 13., 14., ..., 13., 14., 15.]],\n",
       "\n",
       "       [[ 0.,  1.,  2., ...,  1.,  2.,  3.],\n",
       "        [ 4.,  5.,  6., ...,  5.,  6.,  7.],\n",
       "        [ 8.,  9., 10., ...,  9., 10., 11.],\n",
       "        ...,\n",
       "        [ 4.,  5.,  6., ...,  5.,  6.,  7.],\n",
       "        [ 8.,  9., 10., ...,  9., 10., 11.],\n",
       "        [12., 13., 14., ..., 13., 14., 15.]]])"
      ]
     },
     "execution_count": 128,
     "metadata": {},
     "output_type": "execute_result"
    }
   ],
   "source": [
    "l"
   ]
  },
  {
   "cell_type": "code",
   "execution_count": 154,
   "metadata": {},
   "outputs": [],
   "source": [
    "mmm = []"
   ]
  },
  {
   "cell_type": "code",
   "execution_count": 155,
   "metadata": {},
   "outputs": [],
   "source": [
    "mmm.extend([3, 4])"
   ]
  },
  {
   "cell_type": "code",
   "execution_count": 156,
   "metadata": {},
   "outputs": [
    {
     "data": {
      "text/plain": [
       "[3, 4]"
      ]
     },
     "execution_count": 156,
     "metadata": {},
     "output_type": "execute_result"
    }
   ],
   "source": [
    "mmm"
   ]
  },
  {
   "cell_type": "code",
   "execution_count": 157,
   "metadata": {},
   "outputs": [],
   "source": [
    "mmm.extend((6,7,8))"
   ]
  },
  {
   "cell_type": "code",
   "execution_count": 158,
   "metadata": {},
   "outputs": [
    {
     "data": {
      "text/plain": [
       "[3, 4, 6, 7, 8]"
      ]
     },
     "execution_count": 158,
     "metadata": {},
     "output_type": "execute_result"
    }
   ],
   "source": [
    "mmm"
   ]
  },
  {
   "cell_type": "code",
   "execution_count": 160,
   "metadata": {},
   "outputs": [
    {
     "data": {
      "text/plain": [
       "(4, 4)"
      ]
     },
     "execution_count": 160,
     "metadata": {},
     "output_type": "execute_result"
    }
   ],
   "source": [
    "x.shape"
   ]
  },
  {
   "cell_type": "code",
   "execution_count": 161,
   "metadata": {},
   "outputs": [
    {
     "data": {
      "text/plain": [
       "array([[ 0.,  1.,  2.,  3.],\n",
       "       [ 4.,  5.,  6.,  7.],\n",
       "       [ 8.,  9., 10., 11.],\n",
       "       [12., 13., 14., 15.]])"
      ]
     },
     "execution_count": 161,
     "metadata": {},
     "output_type": "execute_result"
    }
   ],
   "source": [
    "x"
   ]
  },
  {
   "cell_type": "code",
   "execution_count": 168,
   "metadata": {},
   "outputs": [
    {
     "data": {
      "text/plain": [
       "array([[ 0.,  1.,  5.],\n",
       "       [ 4.,  5., 13.],\n",
       "       [ 8.,  9., 21.],\n",
       "       [12., 13., 29.]])"
      ]
     },
     "execution_count": 168,
     "metadata": {},
     "output_type": "execute_result"
    }
   ],
   "source": [
    "np.add.reduceat(x, [0, 1, 2], axis=1)"
   ]
  },
  {
   "cell_type": "code",
   "execution_count": 2,
   "metadata": {},
   "outputs": [],
   "source": [
    "import numpy as np\n",
    "from typing import List, Sequence, Union, Tuple\n",
    "from functools import partial"
   ]
  },
  {
   "cell_type": "code",
   "execution_count": 9,
   "metadata": {},
   "outputs": [],
   "source": [
    "def _slice_array(start, dim, arr_trailing_dim):\n",
    "    \n",
    "    idx = []\n",
    "    if start[0] > 0:\n",
    "        idx.extend(tuple(range(start[0])))\n",
    "    idx.extend([start[0], start[0] + dim [0]])\n",
    "    for s_idx, d in zip(start[1:], dim[1:]):\n",
    "        last_idx = idx[-1]\n",
    "        while last_idx < s_idx - 1:\n",
    "            last_idx += 1\n",
    "            idx.append(last_idx)\n",
    "        if s_idx == last_idx:\n",
    "            idx.append(s_idx +d)\n",
    "        else:\n",
    "            idx.extend((s_idx, s_idx + d))\n",
    "        \n",
    "        \n",
    "    if start[-1] + dim[-1] == arr_trailing_dim:\n",
    "        idx.pop()\n",
    "        return idx\n",
    "    \n",
    "    last_idx = idx[-1]\n",
    "    if last_idx < arr_trailing_dim:\n",
    "        while last_idx < arr_trailing_dim - 1:\n",
    "            last_idx += 1\n",
    "            idx.append(last_idx)\n",
    "        \n",
    "    return idx\n",
    "\n",
    "def _get_slices_simple(start: Tuple, dim: Tuple, arr_trailing_dim: int) -> List[int]:\n",
    "    \"\"\"\n",
    "    Given start indices, encoding dimensions and the array trailing shape, this function returns\n",
    "    an array where contiguous numbers are slices. This array is used to reduce along an axis\n",
    "    only the slices `slice(start[i], start[i]+dim[i], 1)` from a tensor and leave all other slices\n",
    "    unchanged.\n",
    "    \"\"\"\n",
    "\n",
    "    idx = []  # type: List[int]\n",
    "    pos = 0 \n",
    "    # first columns may not be reduced\n",
    "    if start[0] > 0:\n",
    "        idx.extend(tuple(range(start[0])))\n",
    "\n",
    "    # add all slices to reduce\n",
    "    idx.extend([start[0], start[0] + dim[0]])\n",
    "    pos = len(idx)\n",
    "    for s_idx, d in zip(start[1:], dim[1:]):\n",
    "        last_idx = idx[-1]\n",
    "        # some columns might not be reduced\n",
    "        idx.extend(tuple(range(pos, s_idx)))\n",
    "        if s_idx == last_idx:\n",
    "            idx.append(s_idx + d)\n",
    "        else:\n",
    "            idx.extend((s_idx, s_idx + d))\n",
    "        pos += (s_idx - pos + d)\n",
    "\n",
    "    if pos < arr_trailing_dim:\n",
    "        idx.extend(tuple(range(pos, arr_trailing_dim)))\n",
    "\n",
    "    # avoid index error\n",
    "    if start[-1] + dim[-1] == arr_trailing_dim:\n",
    "        idx.pop()\n",
    "        return idx\n",
    "\n",
    "    return idx\n",
    "\n"
   ]
  },
  {
   "cell_type": "code",
   "execution_count": 23,
   "metadata": {},
   "outputs": [],
   "source": [
    "def sum_categories(values: np.ndarray, \n",
    "                   start_idx: Union[List[int], Tuple[int]], \n",
    "                   enc_feat_dim: Union[List[int], Tuple[int]]):\n",
    "    \"\"\"\n",
    "    For each entry in start_idx, the function sums the following k columns where k is the\n",
    "    corresponding entry in the enc_feat_dim sequence. The columns whose indices are not in\n",
    "    start_idx are left unchanged.\n",
    "\n",
    "    Parameters\n",
    "    ----------\n",
    "    values\n",
    "        The array whose columns will be summed.\n",
    "    start_idx\n",
    "        The start indices of the columns to be summed.\n",
    "    enc_feat_dim\n",
    "        The number of columns to be summed, one for each start index.\n",
    "\n",
    "    Returns\n",
    "    -------\n",
    "    new_values\n",
    "        An array whose columns have been summed according to the entries in start_idx and enc_feat_dim.\n",
    "    \"\"\"\n",
    "    \n",
    "    if start_idx is None or enc_feat_dim is None:\n",
    "        raise ValueError(\"Both the start indices or the encoding dimension need to be specified!\")\n",
    "\n",
    "    if not len(enc_feat_dim) == len(start_idx):\n",
    "        raise ValueError(\"The lengths of the sequences of start indices and encodings must be equal!\")\n",
    "\n",
    "    n_encoded_levels = sum(enc_feat_dim)\n",
    "    if n_encoded_levels > values.shape[-1]:\n",
    "        raise ValueError(\"The sum of the encoded features dimensions exceeds data dimension!\")\n",
    "        \n",
    "    \n",
    "    def _get_slices(start: List[int], dim: List[int], arr_trailing_dim: int):\n",
    "        \"\"\"\n",
    "        Given start indices, encoding dimensions and the array trailing shape,\n",
    "        this function returns an array where contiguous numbers are slices, \n",
    "        This array is used to reduce along an axis only the slices \n",
    "        `slice(start[i], start[i]+dim[i], None)` from a tensor and leave all o\n",
    "        ther slices unchanged. \n",
    "        \"\"\"\n",
    "        \n",
    "        idx = []\n",
    "        # first columns do not change\n",
    "        if start[0] > 0:\n",
    "            idx.extend(tuple(range(start[0])))\n",
    "        \n",
    "        # add all slices\n",
    "        idx.extend([start[0], start[0] + dim [0]])\n",
    "        for s_idx, d in zip(start[1:], dim[1:]):\n",
    "            last_idx = idx[-1]\n",
    "            # some columns might remain the same\n",
    "            while last_idx < s_idx - 1:\n",
    "                last_idx += 1\n",
    "                idx.append(last_idx)\n",
    "            if s_idx == last_idx:\n",
    "                idx.append(s_idx +d)\n",
    "            else:\n",
    "                idx.extend((s_idx, s_idx + d))\n",
    "\n",
    "        # avoid index error\n",
    "        if start[-1] + dim[-1] == arr_trailing_dim:\n",
    "            idx.pop()\n",
    "            return idx\n",
    "        \n",
    "        # last few columns might remain the same \n",
    "        last_idx = idx[-1]\n",
    "        if last_idx < arr_trailing_dim:\n",
    "            while last_idx < arr_trailing_dim - 1:\n",
    "                last_idx += 1\n",
    "                idx.append(last_idx)\n",
    "        \n",
    "        return idx\n",
    "    \n",
    "    def _reduction(arr, axis, indices=None):\n",
    "        return np.add.reduceat(arr, indices, axis)\n",
    "    \n",
    "    \n",
    "    # create array of slices to be reduced\n",
    "    slices = _get_slices(start_idx, enc_feat_dim, values.shape[-1])\n",
    "    if len(values.shape) == 3:\n",
    "        reduction = partial(_reduction, indices=slices)\n",
    "        return np.apply_over_axes(reduction, values, axes=(2, 1))\n",
    "    return np.add.reduceat(values, slices , axis=1)\n",
    "\n",
    "\n",
    "\n",
    "def sum_categories_new(values: np.ndarray, \n",
    "                       start_idx: Union[List[int], Tuple[int]], \n",
    "                       enc_feat_dim: Union[List[int], Tuple[int]]):\n",
    "    \"\"\"\n",
    "    For each entry in start_idx, the function sums the following k columns where k is the\n",
    "    corresponding entry in the enc_feat_dim sequence. The columns whose indices are not in\n",
    "    start_idx are left unchanged.\n",
    "\n",
    "    Parameters\n",
    "    ----------\n",
    "    values\n",
    "        The array whose columns will be summed.\n",
    "    start_idx\n",
    "        The start indices of the columns to be summed.\n",
    "    enc_feat_dim\n",
    "        The number of columns to be summed, one for each start index.\n",
    "\n",
    "    Returns\n",
    "    -------\n",
    "    new_values\n",
    "        An array whose columns have been summed according to the entries in start_idx and enc_feat_dim.\n",
    "    \"\"\"\n",
    "    \n",
    "    if start_idx is None or enc_feat_dim is None:\n",
    "        raise ValueError(\"Both the start indices or the encoding dimension need to be specified!\")\n",
    "\n",
    "    if not len(enc_feat_dim) == len(start_idx):\n",
    "        raise ValueError(\"The lengths of the sequences of start indices and encodings must be equal!\")\n",
    "\n",
    "    n_encoded_levels = sum(enc_feat_dim)\n",
    "    if n_encoded_levels > values.shape[-1]:\n",
    "        raise ValueError(\"The sum of the encoded features dimensions exceeds data dimension!\")\n",
    "        \n",
    "    \n",
    "    def _get_slice_simple(start: Tuple, dim: Tuple, arr_trailing_dim: int) -> List[int]:\n",
    "        \"\"\"\n",
    "        Given start indices, encoding dimensions and the array trailing shape, this function returns\n",
    "        an array where contiguous numbers are slices. This array is used to reduce along an axis\n",
    "        only the slices `slice(start[i], start[i]+dim[i], 1)` from a tensor and leave all other slices\n",
    "        unchanged.\n",
    "        \"\"\"\n",
    "\n",
    "        slices = []  # type: List[int]\n",
    "        idx = 0\n",
    "\n",
    "        for s, nelem in zip(start, dim):\n",
    "            slices.extend(tuple(range(idx, s)))\n",
    "            if slices[-1]  == s:\n",
    "                slices.append(s + nelem)\n",
    "            else:\n",
    "                slices.extend((s, s + nelem))\n",
    "            idx += (s - idx + nelem)\n",
    "        if idx < arr_trailing_dim:\n",
    "            slices.extend(tuple(range(idx, arr_trailing_dim)))\n",
    "\n",
    "        # avoid index error\n",
    "        if start[-1] + dim[-1] == arr_trailing_dim:\n",
    "            slices.pop()\n",
    "\n",
    "        return slices\n",
    "\n",
    "    def _reduction(arr, axis, indices=None):\n",
    "        return np.add.reduceat(arr, indices, axis)\n",
    "    \n",
    "    \n",
    "    # create array of slices to be reduced\n",
    "    slices = _get_slice_simple(start_idx, enc_feat_dim, values.shape[-1])\n",
    "    if len(values.shape) == 3:\n",
    "        reduction = partial(_reduction, indices=slices)\n",
    "        return np.apply_over_axes(reduction, values, axes=(2, 1))\n",
    "    return np.add.reduceat(values, slices , axis=1)\n",
    "\n",
    "\n",
    "    \n",
    "def sum_categories_2D(values: np.ndarray, \n",
    "                      start_idx: Union[List[int], Tuple[int]], \n",
    "                      enc_feat_dim: Union[List[int], Tuple[int]]):\n",
    "    \"\"\"\n",
    "    For each entry in start_idx, the function sums the following k columns where k is the\n",
    "    corresponding entry in the enc_feat_dim sequence. The columns whose indices are not in\n",
    "    start_idx are left unchanged.\n",
    "\n",
    "    Parameters\n",
    "    ----------\n",
    "    values\n",
    "        The array whose columns will be summed.\n",
    "    start_idx\n",
    "        The start indices of the columns to be summed.\n",
    "    enc_feat_dim\n",
    "        The number of columns to be summed, one for each start index.\n",
    "\n",
    "    Returns\n",
    "    -------\n",
    "    new_values\n",
    "        An array whose columns have been summed according to the entries in start_idx and enc_feat_dim.\n",
    "    \"\"\"\n",
    "\n",
    "    if start_idx is None or enc_feat_dim is None:\n",
    "        raise ValueError(\"Both the start indices or the encoding dimension need to be specified!\")\n",
    "\n",
    "    if not len(enc_feat_dim) == len(start_idx):\n",
    "        raise ValueError(\"The lengths of the sequences of start indices and encodings must be equal!\")\n",
    "\n",
    "    n_encoded_levels = sum(enc_feat_dim)\n",
    "    if n_encoded_levels > values.shape[1]:\n",
    "        raise ValueError(\"The sum of the encoded features dimensions exceeds data dimension!\")\n",
    "\n",
    "    new_values = np.zeros((values.shape[0], values.shape[1] - n_encoded_levels + len(enc_feat_dim)))\n",
    "\n",
    "    # find all the other indices of categorical columns other than those specified\n",
    "    cat_cols = []\n",
    "    for start, feat_dim in zip(start_idx, enc_feat_dim):\n",
    "        for i in range(1, feat_dim):\n",
    "            cat_cols.append(start + i)\n",
    "\n",
    "    # sum the columns corresponding to a categorical variable\n",
    "    enc_idx, new_vals_idx = 0, 0\n",
    "    for idx in range(values.shape[1]):\n",
    "        if idx in start_idx:\n",
    "            feat_dim = enc_feat_dim[enc_idx]\n",
    "            enc_idx += 1\n",
    "            stop_idx = idx + feat_dim\n",
    "            new_values[:, new_vals_idx] = np.sum(values[:, idx:stop_idx], axis=1)\n",
    "        elif idx in cat_cols:\n",
    "            continue\n",
    "        else:\n",
    "            new_values[:, new_vals_idx] = values[:, idx]\n",
    "        new_vals_idx += 1\n",
    "\n",
    "    return new_values\n",
    "\n",
    "\n",
    "    \n",
    "def sum_categories_2D(values: np.ndarray, \n",
    "                      start_idx: Union[List[int], Tuple[int]], \n",
    "                      enc_feat_dim: Union[List[int], Tuple[int]]):\n",
    "    \"\"\"\n",
    "    For each entry in start_idx, the function sums the following k columns where k is the\n",
    "    corresponding entry in the enc_feat_dim sequence. The columns whose indices are not in\n",
    "    start_idx are left unchanged.\n",
    "\n",
    "    Parameters\n",
    "    ----------\n",
    "    values\n",
    "        The array whose columns will be summed.\n",
    "    start_idx\n",
    "        The start indices of the columns to be summed.\n",
    "    enc_feat_dim\n",
    "        The number of columns to be summed, one for each start index.\n",
    "\n",
    "    Returns\n",
    "    -------\n",
    "    new_values\n",
    "        An array whose columns have been summed according to the entries in start_idx and enc_feat_dim.\n",
    "    \"\"\"\n",
    "\n",
    "    if start_idx is None or enc_feat_dim is None:\n",
    "        raise ValueError(\"Both the start indices or the encoding dimension need to be specified!\")\n",
    "\n",
    "    if not len(enc_feat_dim) == len(start_idx):\n",
    "        raise ValueError(\"The lengths of the sequences of start indices and encodings must be equal!\")\n",
    "\n",
    "    n_encoded_levels = sum(enc_feat_dim)\n",
    "    if n_encoded_levels > values.shape[1]:\n",
    "        raise ValueError(\"The sum of the encoded features dimensions exceeds data dimension!\")\n",
    "\n",
    "    new_values = np.zeros((values.shape[0], values.shape[1] - n_encoded_levels + len(enc_feat_dim)))\n",
    "\n",
    "    # find all the other indices of categorical columns other than those specified\n",
    "    cat_cols = []\n",
    "    for start, feat_dim in zip(start_idx, enc_feat_dim):\n",
    "        for i in range(1, feat_dim):\n",
    "            cat_cols.append(start + i)\n",
    "\n",
    "    # sum the columns corresponding to a categorical variable\n",
    "    enc_idx, new_vals_idx = 0, 0\n",
    "    for idx in range(values.shape[1]):\n",
    "        if idx in start_idx:\n",
    "            feat_dim = enc_feat_dim[enc_idx]\n",
    "            enc_idx += 1\n",
    "            stop_idx = idx + feat_dim\n",
    "            new_values[:, new_vals_idx] = np.sum(values[:, idx:stop_idx], axis=1)\n",
    "        elif idx in cat_cols:\n",
    "            continue\n",
    "        else:\n",
    "            new_values[:, new_vals_idx] = values[:, idx]\n",
    "        new_vals_idx += 1\n",
    "\n",
    "    return new_values\n",
    "\n",
    "\n",
    "    "
   ]
  },
  {
   "cell_type": "code",
   "execution_count": 17,
   "metadata": {},
   "outputs": [],
   "source": [
    "X = np.ones((10, 50), dtype=int)\n",
    "start = [3, 11, 20, 30]\n",
    "dim = [5, 2, 4, 7]\n",
    "old = sum_categories_2D(X, start, dim)\n",
    "v1 = sum_categories(X, start, dim)\n",
    "new = sum_categories_new(X, start, dim)"
   ]
  },
  {
   "cell_type": "code",
   "execution_count": 18,
   "metadata": {},
   "outputs": [
    {
     "data": {
      "text/plain": [
       "(10, 36)"
      ]
     },
     "execution_count": 18,
     "metadata": {},
     "output_type": "execute_result"
    }
   ],
   "source": [
    "v1.shape"
   ]
  },
  {
   "cell_type": "code",
   "execution_count": 19,
   "metadata": {},
   "outputs": [
    {
     "data": {
      "text/plain": [
       "False"
      ]
     },
     "execution_count": 19,
     "metadata": {},
     "output_type": "execute_result"
    }
   ],
   "source": [
    "old.shape == new.shape == v1.shape"
   ]
  },
  {
   "cell_type": "code",
   "execution_count": 43,
   "metadata": {},
   "outputs": [
    {
     "data": {
      "text/plain": [
       "array([[0., 0., 0., 0., 0., 0., 0., 0., 0., 0., 0., 0., 0., 0., 0., 0.,\n",
       "        0., 0., 0., 0., 0., 0., 0., 0., 0., 0., 0., 0., 0., 0., 0., 0.,\n",
       "        0., 0., 0., 0.],\n",
       "       [0., 0., 0., 0., 0., 0., 0., 0., 0., 0., 0., 0., 0., 0., 0., 0.,\n",
       "        0., 0., 0., 0., 0., 0., 0., 0., 0., 0., 0., 0., 0., 0., 0., 0.,\n",
       "        0., 0., 0., 0.],\n",
       "       [0., 0., 0., 0., 0., 0., 0., 0., 0., 0., 0., 0., 0., 0., 0., 0.,\n",
       "        0., 0., 0., 0., 0., 0., 0., 0., 0., 0., 0., 0., 0., 0., 0., 0.,\n",
       "        0., 0., 0., 0.],\n",
       "       [0., 0., 0., 0., 0., 0., 0., 0., 0., 0., 0., 0., 0., 0., 0., 0.,\n",
       "        0., 0., 0., 0., 0., 0., 0., 0., 0., 0., 0., 0., 0., 0., 0., 0.,\n",
       "        0., 0., 0., 0.],\n",
       "       [0., 0., 0., 0., 0., 0., 0., 0., 0., 0., 0., 0., 0., 0., 0., 0.,\n",
       "        0., 0., 0., 0., 0., 0., 0., 0., 0., 0., 0., 0., 0., 0., 0., 0.,\n",
       "        0., 0., 0., 0.],\n",
       "       [0., 0., 0., 0., 0., 0., 0., 0., 0., 0., 0., 0., 0., 0., 0., 0.,\n",
       "        0., 0., 0., 0., 0., 0., 0., 0., 0., 0., 0., 0., 0., 0., 0., 0.,\n",
       "        0., 0., 0., 0.],\n",
       "       [0., 0., 0., 0., 0., 0., 0., 0., 0., 0., 0., 0., 0., 0., 0., 0.,\n",
       "        0., 0., 0., 0., 0., 0., 0., 0., 0., 0., 0., 0., 0., 0., 0., 0.,\n",
       "        0., 0., 0., 0.],\n",
       "       [0., 0., 0., 0., 0., 0., 0., 0., 0., 0., 0., 0., 0., 0., 0., 0.,\n",
       "        0., 0., 0., 0., 0., 0., 0., 0., 0., 0., 0., 0., 0., 0., 0., 0.,\n",
       "        0., 0., 0., 0.],\n",
       "       [0., 0., 0., 0., 0., 0., 0., 0., 0., 0., 0., 0., 0., 0., 0., 0.,\n",
       "        0., 0., 0., 0., 0., 0., 0., 0., 0., 0., 0., 0., 0., 0., 0., 0.,\n",
       "        0., 0., 0., 0.],\n",
       "       [0., 0., 0., 0., 0., 0., 0., 0., 0., 0., 0., 0., 0., 0., 0., 0.,\n",
       "        0., 0., 0., 0., 0., 0., 0., 0., 0., 0., 0., 0., 0., 0., 0., 0.,\n",
       "        0., 0., 0., 0.]])"
      ]
     },
     "execution_count": 43,
     "metadata": {},
     "output_type": "execute_result"
    }
   ],
   "source": [
    "old - new"
   ]
  },
  {
   "cell_type": "code",
   "execution_count": 44,
   "metadata": {},
   "outputs": [],
   "source": [
    "x = np.ones((5, 20, 20))"
   ]
  },
  {
   "cell_type": "code",
   "execution_count": 45,
   "metadata": {},
   "outputs": [],
   "source": [
    "start = [0, 6, 14]\n",
    "dim = [3, 4, 6]"
   ]
  },
  {
   "cell_type": "code",
   "execution_count": 46,
   "metadata": {},
   "outputs": [],
   "source": [
    "test = sum_categories_new(x, start, dim)"
   ]
  },
  {
   "cell_type": "code",
   "execution_count": 49,
   "metadata": {},
   "outputs": [
    {
     "data": {
      "text/plain": [
       "array([[[ 9.,  3.,  3.,  3., 12.,  3.,  3.,  3.,  3., 18.],\n",
       "        [ 3.,  1.,  1.,  1.,  4.,  1.,  1.,  1.,  1.,  6.],\n",
       "        [ 3.,  1.,  1.,  1.,  4.,  1.,  1.,  1.,  1.,  6.],\n",
       "        [ 3.,  1.,  1.,  1.,  4.,  1.,  1.,  1.,  1.,  6.],\n",
       "        [12.,  4.,  4.,  4., 16.,  4.,  4.,  4.,  4., 24.],\n",
       "        [ 3.,  1.,  1.,  1.,  4.,  1.,  1.,  1.,  1.,  6.],\n",
       "        [ 3.,  1.,  1.,  1.,  4.,  1.,  1.,  1.,  1.,  6.],\n",
       "        [ 3.,  1.,  1.,  1.,  4.,  1.,  1.,  1.,  1.,  6.],\n",
       "        [ 3.,  1.,  1.,  1.,  4.,  1.,  1.,  1.,  1.,  6.],\n",
       "        [18.,  6.,  6.,  6., 24.,  6.,  6.,  6.,  6., 36.]],\n",
       "\n",
       "       [[ 9.,  3.,  3.,  3., 12.,  3.,  3.,  3.,  3., 18.],\n",
       "        [ 3.,  1.,  1.,  1.,  4.,  1.,  1.,  1.,  1.,  6.],\n",
       "        [ 3.,  1.,  1.,  1.,  4.,  1.,  1.,  1.,  1.,  6.],\n",
       "        [ 3.,  1.,  1.,  1.,  4.,  1.,  1.,  1.,  1.,  6.],\n",
       "        [12.,  4.,  4.,  4., 16.,  4.,  4.,  4.,  4., 24.],\n",
       "        [ 3.,  1.,  1.,  1.,  4.,  1.,  1.,  1.,  1.,  6.],\n",
       "        [ 3.,  1.,  1.,  1.,  4.,  1.,  1.,  1.,  1.,  6.],\n",
       "        [ 3.,  1.,  1.,  1.,  4.,  1.,  1.,  1.,  1.,  6.],\n",
       "        [ 3.,  1.,  1.,  1.,  4.,  1.,  1.,  1.,  1.,  6.],\n",
       "        [18.,  6.,  6.,  6., 24.,  6.,  6.,  6.,  6., 36.]],\n",
       "\n",
       "       [[ 9.,  3.,  3.,  3., 12.,  3.,  3.,  3.,  3., 18.],\n",
       "        [ 3.,  1.,  1.,  1.,  4.,  1.,  1.,  1.,  1.,  6.],\n",
       "        [ 3.,  1.,  1.,  1.,  4.,  1.,  1.,  1.,  1.,  6.],\n",
       "        [ 3.,  1.,  1.,  1.,  4.,  1.,  1.,  1.,  1.,  6.],\n",
       "        [12.,  4.,  4.,  4., 16.,  4.,  4.,  4.,  4., 24.],\n",
       "        [ 3.,  1.,  1.,  1.,  4.,  1.,  1.,  1.,  1.,  6.],\n",
       "        [ 3.,  1.,  1.,  1.,  4.,  1.,  1.,  1.,  1.,  6.],\n",
       "        [ 3.,  1.,  1.,  1.,  4.,  1.,  1.,  1.,  1.,  6.],\n",
       "        [ 3.,  1.,  1.,  1.,  4.,  1.,  1.,  1.,  1.,  6.],\n",
       "        [18.,  6.,  6.,  6., 24.,  6.,  6.,  6.,  6., 36.]],\n",
       "\n",
       "       [[ 9.,  3.,  3.,  3., 12.,  3.,  3.,  3.,  3., 18.],\n",
       "        [ 3.,  1.,  1.,  1.,  4.,  1.,  1.,  1.,  1.,  6.],\n",
       "        [ 3.,  1.,  1.,  1.,  4.,  1.,  1.,  1.,  1.,  6.],\n",
       "        [ 3.,  1.,  1.,  1.,  4.,  1.,  1.,  1.,  1.,  6.],\n",
       "        [12.,  4.,  4.,  4., 16.,  4.,  4.,  4.,  4., 24.],\n",
       "        [ 3.,  1.,  1.,  1.,  4.,  1.,  1.,  1.,  1.,  6.],\n",
       "        [ 3.,  1.,  1.,  1.,  4.,  1.,  1.,  1.,  1.,  6.],\n",
       "        [ 3.,  1.,  1.,  1.,  4.,  1.,  1.,  1.,  1.,  6.],\n",
       "        [ 3.,  1.,  1.,  1.,  4.,  1.,  1.,  1.,  1.,  6.],\n",
       "        [18.,  6.,  6.,  6., 24.,  6.,  6.,  6.,  6., 36.]],\n",
       "\n",
       "       [[ 9.,  3.,  3.,  3., 12.,  3.,  3.,  3.,  3., 18.],\n",
       "        [ 3.,  1.,  1.,  1.,  4.,  1.,  1.,  1.,  1.,  6.],\n",
       "        [ 3.,  1.,  1.,  1.,  4.,  1.,  1.,  1.,  1.,  6.],\n",
       "        [ 3.,  1.,  1.,  1.,  4.,  1.,  1.,  1.,  1.,  6.],\n",
       "        [12.,  4.,  4.,  4., 16.,  4.,  4.,  4.,  4., 24.],\n",
       "        [ 3.,  1.,  1.,  1.,  4.,  1.,  1.,  1.,  1.,  6.],\n",
       "        [ 3.,  1.,  1.,  1.,  4.,  1.,  1.,  1.,  1.,  6.],\n",
       "        [ 3.,  1.,  1.,  1.,  4.,  1.,  1.,  1.,  1.,  6.],\n",
       "        [ 3.,  1.,  1.,  1.,  4.,  1.,  1.,  1.,  1.,  6.],\n",
       "        [18.,  6.,  6.,  6., 24.,  6.,  6.,  6.,  6., 36.]]])"
      ]
     },
     "execution_count": 49,
     "metadata": {},
     "output_type": "execute_result"
    }
   ],
   "source": [
    "test"
   ]
  },
  {
   "cell_type": "code",
   "execution_count": 47,
   "metadata": {},
   "outputs": [
    {
     "data": {
      "text/plain": [
       "(5, 10, 10)"
      ]
     },
     "execution_count": 47,
     "metadata": {},
     "output_type": "execute_result"
    }
   ],
   "source": [
    "test.shape"
   ]
  },
  {
   "cell_type": "code",
   "execution_count": 14,
   "metadata": {},
   "outputs": [
    {
     "data": {
      "text/plain": [
       "[]"
      ]
     },
     "execution_count": 14,
     "metadata": {},
     "output_type": "execute_result"
    }
   ],
   "source": [
    "list(range(2, 2))"
   ]
  },
  {
   "cell_type": "code",
   "execution_count": 10,
   "metadata": {},
   "outputs": [],
   "source": [
    "start = [0, 2]\n",
    "dim = [2, 3]\n",
    "arr_trailing_dim = 8"
   ]
  },
  {
   "cell_type": "code",
   "execution_count": 11,
   "metadata": {},
   "outputs": [
    {
     "name": "stdout",
     "output_type": "stream",
     "text": [
      "[0, 2, 5, 6, 7]\n",
      "[0, 2, 5, 5, 6, 7]\n"
     ]
    }
   ],
   "source": [
    "test_idx = _slice_array(start, dim , arr_trailing_dim)\n",
    "print(test_idx)\n",
    "print(_get_slices_simple(start, dim, arr_trailing_dim))"
   ]
  },
  {
   "cell_type": "code",
   "execution_count": 30,
   "metadata": {},
   "outputs": [
    {
     "data": {
      "text/plain": [
       "array([[ 1,  9,  5,  6,  7],\n",
       "       [17, 33, 13, 14, 15]])"
      ]
     },
     "execution_count": 30,
     "metadata": {},
     "output_type": "execute_result"
    }
   ],
   "source": [
    "np.add.reduceat(X, test_idx, 1)"
   ]
  },
  {
   "cell_type": "code",
   "execution_count": 31,
   "metadata": {},
   "outputs": [],
   "source": [
    "start = [5]\n",
    "dim = [3]\n",
    "arr_trailing_dim = 8"
   ]
  },
  {
   "cell_type": "code",
   "execution_count": 32,
   "metadata": {},
   "outputs": [
    {
     "name": "stdout",
     "output_type": "stream",
     "text": [
      "[0, 1, 2, 3, 4, 5]\n"
     ]
    }
   ],
   "source": [
    "test_idx = _slice_array(start, dim , arr_trailing_dim)\n",
    "print(test_idx)"
   ]
  },
  {
   "cell_type": "code",
   "execution_count": 33,
   "metadata": {},
   "outputs": [
    {
     "data": {
      "text/plain": [
       "array([[ 0,  1,  2,  3,  4,  5,  6,  7],\n",
       "       [ 8,  9, 10, 11, 12, 13, 14, 15]])"
      ]
     },
     "execution_count": 33,
     "metadata": {},
     "output_type": "execute_result"
    }
   ],
   "source": [
    "X"
   ]
  },
  {
   "cell_type": "code",
   "execution_count": 34,
   "metadata": {},
   "outputs": [
    {
     "data": {
      "text/plain": [
       "array([[ 0,  1,  2,  3,  4, 18],\n",
       "       [ 8,  9, 10, 11, 12, 42]])"
      ]
     },
     "execution_count": 34,
     "metadata": {},
     "output_type": "execute_result"
    }
   ],
   "source": [
    "np.add.reduceat(X, test_idx, 1)"
   ]
  },
  {
   "cell_type": "code",
   "execution_count": 35,
   "metadata": {},
   "outputs": [],
   "source": [
    "start = [0, 5]\n",
    "dim = [2, 3]"
   ]
  },
  {
   "cell_type": "code",
   "execution_count": 36,
   "metadata": {},
   "outputs": [
    {
     "data": {
      "text/plain": [
       "array([[ 0,  1,  2,  3,  4,  5,  6,  7],\n",
       "       [ 8,  9, 10, 11, 12, 13, 14, 15]])"
      ]
     },
     "execution_count": 36,
     "metadata": {},
     "output_type": "execute_result"
    }
   ],
   "source": [
    "X"
   ]
  },
  {
   "cell_type": "code",
   "execution_count": 37,
   "metadata": {},
   "outputs": [
    {
     "name": "stdout",
     "output_type": "stream",
     "text": [
      "[0, 2, 3, 4, 5]\n"
     ]
    }
   ],
   "source": [
    "test_idx = _slice_array(start, dim, arr_trailing_dim)\n",
    "print(test_idx)"
   ]
  },
  {
   "cell_type": "code",
   "execution_count": 38,
   "metadata": {},
   "outputs": [
    {
     "data": {
      "text/plain": [
       "array([[ 1,  2,  3,  4, 18],\n",
       "       [17, 10, 11, 12, 42]])"
      ]
     },
     "execution_count": 38,
     "metadata": {},
     "output_type": "execute_result"
    }
   ],
   "source": [
    "np.add.reduceat(X, test_idx , 1)"
   ]
  },
  {
   "cell_type": "code",
   "execution_count": 39,
   "metadata": {},
   "outputs": [],
   "source": [
    "start = [3, 5]\n",
    "dim = [2, 3]"
   ]
  },
  {
   "cell_type": "code",
   "execution_count": 40,
   "metadata": {},
   "outputs": [
    {
     "data": {
      "text/plain": [
       "array([[ 0,  1,  2,  3,  4,  5,  6,  7],\n",
       "       [ 8,  9, 10, 11, 12, 13, 14, 15]])"
      ]
     },
     "execution_count": 40,
     "metadata": {},
     "output_type": "execute_result"
    }
   ],
   "source": [
    "X"
   ]
  },
  {
   "cell_type": "code",
   "execution_count": 41,
   "metadata": {},
   "outputs": [
    {
     "data": {
      "text/plain": [
       "array([[ 0,  1,  2,  7, 18],\n",
       "       [ 8,  9, 10, 23, 42]])"
      ]
     },
     "execution_count": 41,
     "metadata": {},
     "output_type": "execute_result"
    }
   ],
   "source": [
    "np.add.reduceat(X, _slice_array(start, dim, arr_trailing_dim), 1)"
   ]
  },
  {
   "cell_type": "code",
   "execution_count": 42,
   "metadata": {},
   "outputs": [],
   "source": [
    "start = [3]\n",
    "dim = [2]"
   ]
  },
  {
   "cell_type": "code",
   "execution_count": 43,
   "metadata": {},
   "outputs": [
    {
     "data": {
      "text/plain": [
       "array([[ 0,  1,  2,  3,  4,  5,  6,  7],\n",
       "       [ 8,  9, 10, 11, 12, 13, 14, 15]])"
      ]
     },
     "execution_count": 43,
     "metadata": {},
     "output_type": "execute_result"
    }
   ],
   "source": [
    "X"
   ]
  },
  {
   "cell_type": "code",
   "execution_count": 44,
   "metadata": {},
   "outputs": [
    {
     "data": {
      "text/plain": [
       "array([[ 0,  1,  2,  7,  5,  6,  7],\n",
       "       [ 8,  9, 10, 23, 13, 14, 15]])"
      ]
     },
     "execution_count": 44,
     "metadata": {},
     "output_type": "execute_result"
    }
   ],
   "source": [
    "np.add.reduceat(X, _slice_array(start, dim, arr_trailing_dim), 1)"
   ]
  },
  {
   "cell_type": "code",
   "execution_count": 50,
   "metadata": {},
   "outputs": [],
   "source": [
    "X = np.arange(40).reshape(10, 2, 2)"
   ]
  },
  {
   "cell_type": "code",
   "execution_count": 51,
   "metadata": {},
   "outputs": [
    {
     "data": {
      "text/plain": [
       "array([[[ 0,  1],\n",
       "        [ 2,  3]],\n",
       "\n",
       "       [[ 4,  5],\n",
       "        [ 6,  7]],\n",
       "\n",
       "       [[ 8,  9],\n",
       "        [10, 11]],\n",
       "\n",
       "       [[12, 13],\n",
       "        [14, 15]],\n",
       "\n",
       "       [[16, 17],\n",
       "        [18, 19]],\n",
       "\n",
       "       [[20, 21],\n",
       "        [22, 23]],\n",
       "\n",
       "       [[24, 25],\n",
       "        [26, 27]],\n",
       "\n",
       "       [[28, 29],\n",
       "        [30, 31]],\n",
       "\n",
       "       [[32, 33],\n",
       "        [34, 35]],\n",
       "\n",
       "       [[36, 37],\n",
       "        [38, 39]]])"
      ]
     },
     "execution_count": 51,
     "metadata": {},
     "output_type": "execute_result"
    }
   ],
   "source": [
    "X"
   ]
  },
  {
   "cell_type": "code",
   "execution_count": 54,
   "metadata": {},
   "outputs": [
    {
     "data": {
      "text/plain": [
       "(10, 2)"
      ]
     },
     "execution_count": 54,
     "metadata": {},
     "output_type": "execute_result"
    }
   ],
   "source": [
    "X[..., 1].shape"
   ]
  },
  {
   "cell_type": "code",
   "execution_count": 55,
   "metadata": {},
   "outputs": [],
   "source": [
    "x = np.array(np.arange(10))"
   ]
  },
  {
   "cell_type": "code",
   "execution_count": 56,
   "metadata": {},
   "outputs": [
    {
     "data": {
      "text/plain": [
       "array([0, 1, 2, 3, 4, 5, 6, 7, 8, 9])"
      ]
     },
     "execution_count": 56,
     "metadata": {},
     "output_type": "execute_result"
    }
   ],
   "source": [
    "x"
   ]
  },
  {
   "cell_type": "code",
   "execution_count": 63,
   "metadata": {},
   "outputs": [],
   "source": [
    "y =  np.concatenate((x[:4], np.array([np.sum(x[4:7])]), x[7:]))"
   ]
  },
  {
   "cell_type": "code",
   "execution_count": 64,
   "metadata": {},
   "outputs": [
    {
     "data": {
      "text/plain": [
       "array([7, 8, 9])"
      ]
     },
     "execution_count": 64,
     "metadata": {},
     "output_type": "execute_result"
    }
   ],
   "source": [
    "x[7:]"
   ]
  },
  {
   "cell_type": "code",
   "execution_count": 65,
   "metadata": {},
   "outputs": [
    {
     "data": {
      "text/plain": [
       "array([ 0,  1,  2,  3, 15,  7,  8,  9])"
      ]
     },
     "execution_count": 65,
     "metadata": {},
     "output_type": "execute_result"
    }
   ],
   "source": [
    "y"
   ]
  },
  {
   "cell_type": "code",
   "execution_count": 66,
   "metadata": {},
   "outputs": [],
   "source": [
    "x = [np.array([2, 3, 4]), np.array([3, 4, 6])]"
   ]
  },
  {
   "cell_type": "code",
   "execution_count": 67,
   "metadata": {},
   "outputs": [
    {
     "data": {
      "text/plain": [
       "array([[2, 3, 4],\n",
       "       [3, 4, 6]])"
      ]
     },
     "execution_count": 67,
     "metadata": {},
     "output_type": "execute_result"
    }
   ],
   "source": [
    "np.stack(x)"
   ]
  },
  {
   "cell_type": "code",
   "execution_count": 70,
   "metadata": {},
   "outputs": [],
   "source": [
    "start_idx = [0, 6, 12, 21]\n",
    "feat_enc_dim = [3, 2, 4, 6]"
   ]
  },
  {
   "cell_type": "code",
   "execution_count": 72,
   "metadata": {},
   "outputs": [],
   "source": [
    "slice_indices = []\n",
    "for slice_s, nelem in zip(start_idx, feat_enc_dim):\n",
    "    slice_indices.extend(tuple(range(slice_s, slice_s + nelem)))\n",
    "                    "
   ]
  },
  {
   "cell_type": "code",
   "execution_count": 73,
   "metadata": {},
   "outputs": [
    {
     "data": {
      "text/plain": [
       "[0, 1, 2, 6, 7, 12, 13, 14, 15, 21, 22, 23, 24, 25, 26]"
      ]
     },
     "execution_count": 73,
     "metadata": {},
     "output_type": "execute_result"
    }
   ],
   "source": [
    "slice_indices"
   ]
  },
  {
   "cell_type": "code",
   "execution_count": 74,
   "metadata": {},
   "outputs": [
    {
     "data": {
      "text/plain": [
       "slice(0, 2, 1)"
      ]
     },
     "execution_count": 74,
     "metadata": {},
     "output_type": "execute_result"
    }
   ],
   "source": [
    "slice(0, 2, 1)"
   ]
  },
  {
   "cell_type": "code",
   "execution_count": 75,
   "metadata": {},
   "outputs": [],
   "source": [
    "x = slice(0, 2, 1)"
   ]
  },
  {
   "cell_type": "code",
   "execution_count": 76,
   "metadata": {},
   "outputs": [
    {
     "ename": "TypeError",
     "evalue": "argument of type 'slice' is not iterable",
     "output_type": "error",
     "traceback": [
      "\u001b[0;31m---------------------------------------------------------------------------\u001b[0m",
      "\u001b[0;31mTypeError\u001b[0m                                 Traceback (most recent call last)",
      "\u001b[0;32m<ipython-input-76-e359895588e6>\u001b[0m in \u001b[0;36m<module>\u001b[0;34m\u001b[0m\n\u001b[0;32m----> 1\u001b[0;31m \u001b[0;36m1\u001b[0m \u001b[0;32min\u001b[0m \u001b[0mx\u001b[0m\u001b[0;34m\u001b[0m\u001b[0;34m\u001b[0m\u001b[0m\n\u001b[0m",
      "\u001b[0;31mTypeError\u001b[0m: argument of type 'slice' is not iterable"
     ]
    }
   ],
   "source": [
    "1 in x"
   ]
  },
  {
   "cell_type": "code",
   "execution_count": 77,
   "metadata": {},
   "outputs": [
    {
     "data": {
      "text/plain": [
       "slice(None, range(0, 5), None)"
      ]
     },
     "execution_count": 77,
     "metadata": {},
     "output_type": "execute_result"
    }
   ],
   "source": [
    "slice(range(5))"
   ]
  },
  {
   "cell_type": "code",
   "execution_count": 78,
   "metadata": {},
   "outputs": [],
   "source": [
    "x = np.array([0, 1, 2, 3, 4, 5, 6, 7, 8])"
   ]
  },
  {
   "cell_type": "code",
   "execution_count": 79,
   "metadata": {},
   "outputs": [
    {
     "ename": "TypeError",
     "evalue": "slice indices must be integers or None or have an __index__ method",
     "output_type": "error",
     "traceback": [
      "\u001b[0;31m---------------------------------------------------------------------------\u001b[0m",
      "\u001b[0;31mTypeError\u001b[0m                                 Traceback (most recent call last)",
      "\u001b[0;32m<ipython-input-79-9edb62c9b868>\u001b[0m in \u001b[0;36m<module>\u001b[0;34m\u001b[0m\n\u001b[0;32m----> 1\u001b[0;31m \u001b[0mx\u001b[0m\u001b[0;34m[\u001b[0m\u001b[0mslice\u001b[0m\u001b[0;34m(\u001b[0m\u001b[0mrange\u001b[0m\u001b[0;34m(\u001b[0m\u001b[0;36m5\u001b[0m\u001b[0;34m)\u001b[0m\u001b[0;34m)\u001b[0m\u001b[0;34m]\u001b[0m\u001b[0;34m\u001b[0m\u001b[0;34m\u001b[0m\u001b[0m\n\u001b[0m",
      "\u001b[0;31mTypeError\u001b[0m: slice indices must be integers or None or have an __index__ method"
     ]
    }
   ],
   "source": [
    "x[slice(range(5))]"
   ]
  },
  {
   "cell_type": "code",
   "execution_count": 80,
   "metadata": {},
   "outputs": [
    {
     "data": {
      "text/plain": [
       "array([0, 1, 2, 3, 4, 5, 6, 7, 8])"
      ]
     },
     "execution_count": 80,
     "metadata": {},
     "output_type": "execute_result"
    }
   ],
   "source": [
    "x"
   ]
  },
  {
   "cell_type": "code",
   "execution_count": 81,
   "metadata": {},
   "outputs": [
    {
     "data": {
      "text/plain": [
       "array([0, 1, 2, 3, 4])"
      ]
     },
     "execution_count": 81,
     "metadata": {},
     "output_type": "execute_result"
    }
   ],
   "source": [
    "x[range(5)]"
   ]
  },
  {
   "cell_type": "code",
   "execution_count": 82,
   "metadata": {},
   "outputs": [
    {
     "data": {
      "text/plain": [
       "array([2, 3, 4])"
      ]
     },
     "execution_count": 82,
     "metadata": {},
     "output_type": "execute_result"
    }
   ],
   "source": [
    "x[range(2,5)]"
   ]
  },
  {
   "cell_type": "code",
   "execution_count": 83,
   "metadata": {},
   "outputs": [
    {
     "data": {
      "text/plain": [
       "range(2, 5)"
      ]
     },
     "execution_count": 83,
     "metadata": {},
     "output_type": "execute_result"
    }
   ],
   "source": [
    "range(2, 5)"
   ]
  },
  {
   "cell_type": "code",
   "execution_count": 84,
   "metadata": {},
   "outputs": [
    {
     "data": {
      "text/plain": [
       "3"
      ]
     },
     "execution_count": 84,
     "metadata": {},
     "output_type": "execute_result"
    }
   ],
   "source": [
    "len(range(2, 5))"
   ]
  },
  {
   "cell_type": "code",
   "execution_count": 85,
   "metadata": {},
   "outputs": [
    {
     "data": {
      "text/plain": [
       "array([0, 1, 2, 3, 4, 5, 6, 7, 8])"
      ]
     },
     "execution_count": 85,
     "metadata": {},
     "output_type": "execute_result"
    }
   ],
   "source": [
    "x"
   ]
  },
  {
   "cell_type": "code",
   "execution_count": 86,
   "metadata": {},
   "outputs": [
    {
     "data": {
      "text/plain": [
       "(9,)"
      ]
     },
     "execution_count": 86,
     "metadata": {},
     "output_type": "execute_result"
    }
   ],
   "source": [
    "x.shape"
   ]
  },
  {
   "cell_type": "code",
   "execution_count": 87,
   "metadata": {},
   "outputs": [
    {
     "data": {
      "text/plain": [
       "array([], dtype=int64)"
      ]
     },
     "execution_count": 87,
     "metadata": {},
     "output_type": "execute_result"
    }
   ],
   "source": [
    "x[30:]"
   ]
  },
  {
   "cell_type": "code",
   "execution_count": 88,
   "metadata": {},
   "outputs": [
    {
     "data": {
      "text/plain": [
       "[]"
      ]
     },
     "execution_count": 88,
     "metadata": {},
     "output_type": "execute_result"
    }
   ],
   "source": [
    "list(x[30:])"
   ]
  },
  {
   "cell_type": "code",
   "execution_count": 91,
   "metadata": {},
   "outputs": [
    {
     "data": {
      "text/plain": [
       "array([1, 2, 3, 4])"
      ]
     },
     "execution_count": 91,
     "metadata": {},
     "output_type": "execute_result"
    }
   ],
   "source": [
    "x[slice(1, 5, 1)]"
   ]
  },
  {
   "cell_type": "code",
   "execution_count": 92,
   "metadata": {},
   "outputs": [
    {
     "data": {
      "text/plain": [
       "<member 'start' of 'range' objects>"
      ]
     },
     "execution_count": 92,
     "metadata": {},
     "output_type": "execute_result"
    }
   ],
   "source": [
    "range.start"
   ]
  },
  {
   "cell_type": "code",
   "execution_count": 97,
   "metadata": {},
   "outputs": [],
   "source": [
    "r = range(2,8)"
   ]
  },
  {
   "cell_type": "code",
   "execution_count": 98,
   "metadata": {},
   "outputs": [
    {
     "data": {
      "text/plain": [
       "2"
      ]
     },
     "execution_count": 98,
     "metadata": {},
     "output_type": "execute_result"
    }
   ],
   "source": [
    "r.start"
   ]
  },
  {
   "cell_type": "code",
   "execution_count": 99,
   "metadata": {},
   "outputs": [
    {
     "data": {
      "text/plain": [
       "8"
      ]
     },
     "execution_count": 99,
     "metadata": {},
     "output_type": "execute_result"
    }
   ],
   "source": [
    "r.stop"
   ]
  },
  {
   "cell_type": "code",
   "execution_count": 100,
   "metadata": {},
   "outputs": [],
   "source": [
    "a = (2, 3, 4)"
   ]
  },
  {
   "cell_type": "code",
   "execution_count": 101,
   "metadata": {},
   "outputs": [
    {
     "data": {
      "text/plain": [
       "(3, 4)"
      ]
     },
     "execution_count": 101,
     "metadata": {},
     "output_type": "execute_result"
    }
   ],
   "source": [
    "a[1:]"
   ]
  },
  {
   "cell_type": "code",
   "execution_count": 103,
   "metadata": {},
   "outputs": [],
   "source": [
    "def fun(a, b, **kwargs):\n",
    "    print(kwargs)"
   ]
  },
  {
   "cell_type": "code",
   "execution_count": 104,
   "metadata": {},
   "outputs": [
    {
     "name": "stdout",
     "output_type": "stream",
     "text": [
      "{'c': 1, 'd': 2}\n"
     ]
    }
   ],
   "source": [
    "fun(1, 2, c=1, d=2)"
   ]
  },
  {
   "cell_type": "code",
   "execution_count": 105,
   "metadata": {},
   "outputs": [],
   "source": [
    "tr = range(6, 12)"
   ]
  },
  {
   "cell_type": "code",
   "execution_count": 107,
   "metadata": {},
   "outputs": [],
   "source": [
    "n = []\n",
    "c = 0\n",
    "n.extend(tuple(range(c, tr.start)))"
   ]
  },
  {
   "cell_type": "code",
   "execution_count": 108,
   "metadata": {},
   "outputs": [
    {
     "data": {
      "text/plain": [
       "[0, 1, 2, 3, 4, 5]"
      ]
     },
     "execution_count": 108,
     "metadata": {},
     "output_type": "execute_result"
    }
   ],
   "source": [
    "n"
   ]
  },
  {
   "cell_type": "code",
   "execution_count": 109,
   "metadata": {},
   "outputs": [
    {
     "data": {
      "text/plain": [
       "array([0, 1, 2, 3, 4, 5, 6, 7, 8])"
      ]
     },
     "execution_count": 109,
     "metadata": {},
     "output_type": "execute_result"
    }
   ],
   "source": [
    "x"
   ]
  },
  {
   "cell_type": "code",
   "execution_count": 110,
   "metadata": {},
   "outputs": [
    {
     "data": {
      "text/plain": [
       "[0, 1, 2, 3, 4, 5, 6, 7, 8]"
      ]
     },
     "execution_count": 110,
     "metadata": {},
     "output_type": "execute_result"
    }
   ],
   "source": [
    "list(x)"
   ]
  },
  {
   "cell_type": "code",
   "execution_count": 7,
   "metadata": {},
   "outputs": [],
   "source": [
    "import numpy as np\n",
    "import pandas as pd"
   ]
  },
  {
   "cell_type": "code",
   "execution_count": 8,
   "metadata": {},
   "outputs": [],
   "source": [
    "x = np.array([])"
   ]
  },
  {
   "cell_type": "code",
   "execution_count": 9,
   "metadata": {},
   "outputs": [
    {
     "data": {
      "text/plain": [
       "True"
      ]
     },
     "execution_count": 9,
     "metadata": {},
     "output_type": "execute_result"
    }
   ],
   "source": [
    "x.size == 0"
   ]
  },
  {
   "cell_type": "code",
   "execution_count": 10,
   "metadata": {},
   "outputs": [],
   "source": [
    "x = np.random.random((50, 10))"
   ]
  },
  {
   "cell_type": "code",
   "execution_count": 11,
   "metadata": {},
   "outputs": [
    {
     "data": {
      "text/plain": [
       "(50, 10)"
      ]
     },
     "execution_count": 11,
     "metadata": {},
     "output_type": "execute_result"
    }
   ],
   "source": [
    "x.shape"
   ]
  },
  {
   "cell_type": "code",
   "execution_count": 24,
   "metadata": {},
   "outputs": [],
   "source": [
    "df = pd.DataFrame(data=x)"
   ]
  },
  {
   "cell_type": "code",
   "execution_count": 25,
   "metadata": {},
   "outputs": [
    {
     "data": {
      "text/plain": [
       "2"
      ]
     },
     "execution_count": 25,
     "metadata": {},
     "output_type": "execute_result"
    }
   ],
   "source": [
    "x.ndim"
   ]
  },
  {
   "cell_type": "code",
   "execution_count": 26,
   "metadata": {},
   "outputs": [],
   "source": [
    "import shap"
   ]
  },
  {
   "cell_type": "code",
   "execution_count": 31,
   "metadata": {},
   "outputs": [
    {
     "data": {
      "text/plain": [
       "array([[0.65157691, 0.7281689 , 0.71478345, 0.44497366, 0.64486658,\n",
       "        0.28245375, 0.7156696 , 0.81022938, 0.59674478, 0.58049425],\n",
       "       [0.68421615, 0.65308577, 0.40047649, 0.80726417, 0.41652105,\n",
       "        0.65704939, 0.27242645, 0.64336904, 0.259407  , 0.58049425],\n",
       "       [0.8957094 , 0.18047929, 0.64023675, 0.76975906, 0.41652105,\n",
       "        0.28245375, 0.32018815, 0.71332807, 0.57497935, 0.58049425],\n",
       "       [0.30386129, 0.39556042, 0.23240583, 0.54580547, 0.349761  ,\n",
       "        0.90799866, 0.52802372, 0.48182703, 0.75461195, 0.36415503],\n",
       "       [0.41254363, 0.42647575, 0.79758428, 0.54580547, 0.69980883,\n",
       "        0.22198415, 0.52802372, 0.17258613, 0.30850524, 0.31199116],\n",
       "       [0.6018119 , 0.45167187, 0.85461957, 0.60640252, 0.25789881,\n",
       "        0.45806269, 0.59451907, 0.26587505, 0.80719604, 0.73021112],\n",
       "       [0.36159671, 0.70827906, 0.79758428, 0.27671825, 0.09988919,\n",
       "        0.77959622, 0.30514836, 0.43838391, 0.38803452, 0.90009175],\n",
       "       [0.35256088, 0.54002813, 0.08401164, 0.46008267, 0.77579592,\n",
       "        0.23617031, 0.41034036, 0.67276293, 0.44634923, 0.58049425],\n",
       "       [0.00952529, 0.13155258, 0.1992829 , 0.55104813, 0.04988871,\n",
       "        0.51351284, 0.66442557, 0.06777067, 0.05081491, 0.76858356],\n",
       "       [0.7565627 , 0.3793255 , 0.51360813, 0.30882572, 0.81901342,\n",
       "        0.74499836, 0.30514836, 0.18144968, 0.89807573, 0.62219417]])"
      ]
     },
     "execution_count": 31,
     "metadata": {},
     "output_type": "execute_result"
    }
   ],
   "source": [
    "shap.kmeans(df, 10).data"
   ]
  },
  {
   "cell_type": "code",
   "execution_count": null,
   "metadata": {},
   "outputs": [],
   "source": []
  },
  {
   "cell_type": "code",
   "execution_count": 28,
   "metadata": {},
   "outputs": [
    {
     "data": {
      "text/html": [
       "<div>\n",
       "<style scoped>\n",
       "    .dataframe tbody tr th:only-of-type {\n",
       "        vertical-align: middle;\n",
       "    }\n",
       "\n",
       "    .dataframe tbody tr th {\n",
       "        vertical-align: top;\n",
       "    }\n",
       "\n",
       "    .dataframe thead th {\n",
       "        text-align: right;\n",
       "    }\n",
       "</style>\n",
       "<table border=\"1\" class=\"dataframe\">\n",
       "  <thead>\n",
       "    <tr style=\"text-align: right;\">\n",
       "      <th></th>\n",
       "      <th>0</th>\n",
       "      <th>1</th>\n",
       "      <th>2</th>\n",
       "      <th>3</th>\n",
       "      <th>4</th>\n",
       "      <th>5</th>\n",
       "      <th>6</th>\n",
       "      <th>7</th>\n",
       "      <th>8</th>\n",
       "      <th>9</th>\n",
       "    </tr>\n",
       "  </thead>\n",
       "  <tbody>\n",
       "    <tr>\n",
       "      <th>44</th>\n",
       "      <td>0.481583</td>\n",
       "      <td>0.708279</td>\n",
       "      <td>0.202035</td>\n",
       "      <td>0.649735</td>\n",
       "      <td>0.790464</td>\n",
       "      <td>0.242740</td>\n",
       "      <td>0.154138</td>\n",
       "      <td>0.867905</td>\n",
       "      <td>0.859231</td>\n",
       "      <td>0.936896</td>\n",
       "    </tr>\n",
       "    <tr>\n",
       "      <th>47</th>\n",
       "      <td>0.503710</td>\n",
       "      <td>0.831491</td>\n",
       "      <td>0.835078</td>\n",
       "      <td>0.237303</td>\n",
       "      <td>0.026516</td>\n",
       "      <td>0.884624</td>\n",
       "      <td>0.147237</td>\n",
       "      <td>0.491339</td>\n",
       "      <td>0.453251</td>\n",
       "      <td>0.996594</td>\n",
       "    </tr>\n",
       "    <tr>\n",
       "      <th>0</th>\n",
       "      <td>0.235457</td>\n",
       "      <td>0.718770</td>\n",
       "      <td>0.741104</td>\n",
       "      <td>0.395503</td>\n",
       "      <td>0.577890</td>\n",
       "      <td>0.118477</td>\n",
       "      <td>0.272426</td>\n",
       "      <td>0.053748</td>\n",
       "      <td>0.163020</td>\n",
       "      <td>0.868963</td>\n",
       "    </tr>\n",
       "    <tr>\n",
       "      <th>3</th>\n",
       "      <td>0.385220</td>\n",
       "      <td>0.914692</td>\n",
       "      <td>0.380352</td>\n",
       "      <td>0.357846</td>\n",
       "      <td>0.051988</td>\n",
       "      <td>0.891329</td>\n",
       "      <td>0.668393</td>\n",
       "      <td>0.607131</td>\n",
       "      <td>0.614707</td>\n",
       "      <td>0.364155</td>\n",
       "    </tr>\n",
       "    <tr>\n",
       "      <th>3</th>\n",
       "      <td>0.385220</td>\n",
       "      <td>0.914692</td>\n",
       "      <td>0.380352</td>\n",
       "      <td>0.357846</td>\n",
       "      <td>0.051988</td>\n",
       "      <td>0.891329</td>\n",
       "      <td>0.668393</td>\n",
       "      <td>0.607131</td>\n",
       "      <td>0.614707</td>\n",
       "      <td>0.364155</td>\n",
       "    </tr>\n",
       "    <tr>\n",
       "      <th>39</th>\n",
       "      <td>0.037030</td>\n",
       "      <td>0.051106</td>\n",
       "      <td>0.990858</td>\n",
       "      <td>0.191194</td>\n",
       "      <td>0.815265</td>\n",
       "      <td>0.036264</td>\n",
       "      <td>0.497874</td>\n",
       "      <td>0.302452</td>\n",
       "      <td>0.035630</td>\n",
       "      <td>0.142579</td>\n",
       "    </tr>\n",
       "    <tr>\n",
       "      <th>9</th>\n",
       "      <td>0.578762</td>\n",
       "      <td>0.426476</td>\n",
       "      <td>0.018618</td>\n",
       "      <td>0.545805</td>\n",
       "      <td>0.775796</td>\n",
       "      <td>0.907999</td>\n",
       "      <td>0.812721</td>\n",
       "      <td>0.014046</td>\n",
       "      <td>0.345731</td>\n",
       "      <td>0.108275</td>\n",
       "    </tr>\n",
       "    <tr>\n",
       "      <th>19</th>\n",
       "      <td>0.596977</td>\n",
       "      <td>0.540028</td>\n",
       "      <td>0.822734</td>\n",
       "      <td>0.769759</td>\n",
       "      <td>0.442290</td>\n",
       "      <td>0.155670</td>\n",
       "      <td>0.594519</td>\n",
       "      <td>0.917090</td>\n",
       "      <td>0.673412</td>\n",
       "      <td>0.477911</td>\n",
       "    </tr>\n",
       "    <tr>\n",
       "      <th>21</th>\n",
       "      <td>0.776329</td>\n",
       "      <td>0.046687</td>\n",
       "      <td>0.730683</td>\n",
       "      <td>0.107414</td>\n",
       "      <td>0.784005</td>\n",
       "      <td>0.861631</td>\n",
       "      <td>0.254586</td>\n",
       "      <td>0.085024</td>\n",
       "      <td>0.807196</td>\n",
       "      <td>0.694702</td>\n",
       "    </tr>\n",
       "    <tr>\n",
       "      <th>36</th>\n",
       "      <td>0.379829</td>\n",
       "      <td>0.117711</td>\n",
       "      <td>0.102567</td>\n",
       "      <td>0.286975</td>\n",
       "      <td>0.887828</td>\n",
       "      <td>0.220739</td>\n",
       "      <td>0.528024</td>\n",
       "      <td>0.265875</td>\n",
       "      <td>0.599415</td>\n",
       "      <td>0.377041</td>\n",
       "    </tr>\n",
       "  </tbody>\n",
       "</table>\n",
       "</div>"
      ],
      "text/plain": [
       "           0         1         2         3         4         5         6  \\\n",
       "44  0.481583  0.708279  0.202035  0.649735  0.790464  0.242740  0.154138   \n",
       "47  0.503710  0.831491  0.835078  0.237303  0.026516  0.884624  0.147237   \n",
       "0   0.235457  0.718770  0.741104  0.395503  0.577890  0.118477  0.272426   \n",
       "3   0.385220  0.914692  0.380352  0.357846  0.051988  0.891329  0.668393   \n",
       "3   0.385220  0.914692  0.380352  0.357846  0.051988  0.891329  0.668393   \n",
       "39  0.037030  0.051106  0.990858  0.191194  0.815265  0.036264  0.497874   \n",
       "9   0.578762  0.426476  0.018618  0.545805  0.775796  0.907999  0.812721   \n",
       "19  0.596977  0.540028  0.822734  0.769759  0.442290  0.155670  0.594519   \n",
       "21  0.776329  0.046687  0.730683  0.107414  0.784005  0.861631  0.254586   \n",
       "36  0.379829  0.117711  0.102567  0.286975  0.887828  0.220739  0.528024   \n",
       "\n",
       "           7         8         9  \n",
       "44  0.867905  0.859231  0.936896  \n",
       "47  0.491339  0.453251  0.996594  \n",
       "0   0.053748  0.163020  0.868963  \n",
       "3   0.607131  0.614707  0.364155  \n",
       "3   0.607131  0.614707  0.364155  \n",
       "39  0.302452  0.035630  0.142579  \n",
       "9   0.014046  0.345731  0.108275  \n",
       "19  0.917090  0.673412  0.477911  \n",
       "21  0.085024  0.807196  0.694702  \n",
       "36  0.265875  0.599415  0.377041  "
      ]
     },
     "execution_count": 28,
     "metadata": {},
     "output_type": "execute_result"
    }
   ],
   "source": [
    "shap.sample(df, 10)"
   ]
  },
  {
   "cell_type": "code",
   "execution_count": 23,
   "metadata": {},
   "outputs": [
    {
     "data": {
      "text/plain": [
       "numpy.ndarray"
      ]
     },
     "execution_count": 23,
     "metadata": {},
     "output_type": "execute_result"
    }
   ],
   "source": [
    "type(x)"
   ]
  },
  {
   "cell_type": "code",
   "execution_count": null,
   "metadata": {},
   "outputs": [],
   "source": []
  }
 ],
 "metadata": {
  "kernelspec": {
   "display_name": "Python 3",
   "language": "python",
   "name": "python3"
  },
  "language_info": {
   "codemirror_mode": {
    "name": "ipython",
    "version": 3
   },
   "file_extension": ".py",
   "mimetype": "text/x-python",
   "name": "python",
   "nbconvert_exporter": "python",
   "pygments_lexer": "ipython3",
   "version": "3.7.6"
  }
 },
 "nbformat": 4,
 "nbformat_minor": 4
}
