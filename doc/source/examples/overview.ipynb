{
 "cells": [
  {
   "cell_type": "markdown",
   "id": "9a4f4dbf-a083-46e9-8891-55ef9123cf4a",
   "metadata": {},
   "source": [
    "# Alibi Overview Example\n",
    "\n",
    "This notebook aims to demonstrate each of the explainers Alibi provides on the same model and dataset. Unfortunately, this isn't possible as white-box neural network methods exclude tree-based white-box methods. Hence we will train both a neural network(TensorFlow) and a random forest model on the same dataset and apply the full range of explainers to see what insights we can obtain.\n",
    "\n",
    "The results and code from this notebook are used in the [documentation overview](../overview/high_level.md).\n",
    "\n",
    "This notebook requires the seaborn package for visualization which can be installed via pip:"
   ]
  },
  {
   "cell_type": "code",
   "execution_count": null,
   "outputs": [],
   "source": [
    "!pip install seaborn"
   ],
   "metadata": {
    "collapsed": false,
    "pycharm": {
     "name": "#%%\n"
    }
   }
  },
  {
   "cell_type": "code",
   "execution_count": null,
   "outputs": [],
   "source": [
    "import requests\n",
    "from io import BytesIO, StringIO\n",
    "from io import BytesIO\n",
    "from zipfile import ZipFile\n",
    "\n",
    "import matplotlib.pyplot as plt\n",
    "import numpy as np\n",
    "%matplotlib inline\n",
    "import seaborn as sns\n",
    "sns.set(rc={'figure.figsize':(11.7,8.27)})\n",
    "\n",
    "import numpy as np\n",
    "import pandas as pd\n",
    "from sklearn.model_selection import train_test_split\n",
    "from sklearn.metrics import accuracy_score, f1_score\n",
    "from sklearn.metrics import confusion_matrix, ConfusionMatrixDisplay\n",
    "from sklearn.preprocessing import StandardScaler\n",
    "from sklearn.model_selection import train_test_split\n",
    "import joblib\n",
    "import os.path\n",
    "\n",
    "import tensorflow as tf\n",
    "np.random.seed(0)\n",
    "tf.random.set_seed(0)\n",
    "\n",
    "FROM_SCRATCH = False\n",
    "TF_MODEL_FNAME = 'tf-clf-wine'\n",
    "RFC_FNAME = 'rfc-wine'\n",
    "ENC_FNAME = 'wine_encoder'\n",
    "DEC_FNAME = 'wine_decoder'"
   ],
   "metadata": {
    "collapsed": false,
    "pycharm": {
     "name": "#%%\n"
    }
   }
  },
  {
   "cell_type": "markdown",
   "source": [
    "## Preparing the data.\n",
    "\n",
    "We're using the [wine-quality](https://archive.ics.uci.edu/ml/machine-learning-databases/wine-quality/) dataset, a numeric tabular dataset containing features that refer to the chemical composition of wines and quality ratings. To make this a simple classification task, we bucket all wines with ratings greater than five as good, and the rest we label bad. We also normalize all the features."
   ],
   "metadata": {
    "collapsed": false,
    "pycharm": {
     "name": "#%% md\n"
    }
   }
  },
  {
   "cell_type": "code",
   "execution_count": null,
   "outputs": [],
   "source": [
    "def fetch_wine_ds():\n",
    "    url = 'https://archive.ics.uci.edu/ml/machine-learning-databases/wine-quality/winequality-red.csv'\n",
    "\n",
    "    try:\n",
    "        resp = requests.get(url, timeout=2)\n",
    "        resp.raise_for_status()\n",
    "    except requests.RequestException:\n",
    "        logger.exception(\"Could not connect, URL may be out of service\")\n",
    "        raise\n",
    "    string_io = StringIO(resp.content.decode('utf-8'))\n",
    "    return pd.read_csv(string_io, sep=';')"
   ],
   "metadata": {
    "collapsed": false,
    "pycharm": {
     "name": "#%%\n"
    }
   }
  },
  {
   "cell_type": "code",
   "execution_count": null,
   "outputs": [],
   "source": [
    "df = fetch_wine_ds()"
   ],
   "metadata": {
    "collapsed": false,
    "pycharm": {
     "name": "#%%\n"
    }
   }
  },
  {
   "cell_type": "code",
   "execution_count": null,
   "outputs": [],
   "source": [
    "df['class'] = 'bad'\n",
    "df.loc[(df['quality'] > 5), 'class'] = 'good'\n",
    "\n",
    "features = [\n",
    "    'fixed acidity', 'volatile acidity', 'citric acid', 'residual sugar',\n",
    "    'chlorides', 'free sulfur dioxide', 'total sulfur dioxide', 'density',\n",
    "    'pH', 'sulphates', 'alcohol'\n",
    "]\n",
    "\n",
    "df['good'] = 0\n",
    "df['bad'] = 0\n",
    "df.loc[df['class'] == 'good', 'good'] = 1\n",
    "df.loc[df['class'] == 'bad', 'bad'] = 1\n",
    "\n",
    "data = df[features].to_numpy()\n",
    "labels = df[['class','good', 'bad']].to_numpy()\n",
    "\n",
    "X_train, X_test, y_train, y_test = train_test_split(data, labels, random_state=0)\n",
    "X_train, X_test = X_train.astype('float32'), X_test.astype('float32')\n",
    "y_train_lab, y_test_lab = y_train[:, 0], y_test[:, 0]\n",
    "y_train, y_test = y_train[:, 1:].astype('float32'), y_test[:, 1:].astype('float32')\n",
    "\n",
    "scaler = StandardScaler()\n",
    "scaler.fit(X_train)"
   ],
   "metadata": {
    "collapsed": false,
    "pycharm": {
     "name": "#%%\n"
    }
   }
  },
  {
   "cell_type": "markdown",
   "source": [
    "### Select good wine instance \n",
    "\n",
    "We partition the dataset into good and bad portions and select an instance of interest. I've chosen it to be a good quality wine. \n",
    "\n",
    "**Note** that bad wines are class 1 and correspond to the second model output being high, whereas good wines are class 0 and correspond to the first model output being high."
   ],
   "metadata": {
    "collapsed": false,
    "pycharm": {
     "name": "#%% md\n"
    }
   }
  },
  {
   "cell_type": "code",
   "execution_count": null,
   "outputs": [],
   "source": [
    "bad_wines = np.array([a for a, b in zip(X_train, y_train) if b[1] == 1])\n",
    "good_wines = np.array([a for a, b in zip(X_train, y_train) if b[1] == 0])\n",
    "x = np.array([[9.2, 0.36, 0.34, 1.6, 0.062, 5., 12., 0.99667, 3.2, 0.67, 10.5]]) # prechosen instance"
   ],
   "metadata": {
    "collapsed": false,
    "pycharm": {
     "name": "#%%\n"
    }
   }
  },
  {
   "cell_type": "markdown",
   "source": [
    "## Training models"
   ],
   "metadata": {
    "collapsed": false,
    "pycharm": {
     "name": "#%% md\n"
    }
   }
  },
  {
   "cell_type": "markdown",
   "source": [
    "### Creating an Autoencoder\n",
    "\n",
    "For some of the explainers, we need an autoencoder to check whether example instances are close to the training data distribution or not."
   ],
   "metadata": {
    "collapsed": false,
    "pycharm": {
     "name": "#%% md\n"
    }
   }
  },
  {
   "cell_type": "code",
   "execution_count": null,
   "outputs": [],
   "source": [
    "from tensorflow.keras.layers import Dense, Dropout\n",
    "from tensorflow.keras.models import Sequential, Model\n",
    "from tensorflow.keras import metrics, Input\n",
    "from tensorflow import keras\n",
    "\n",
    "\n",
    "ENCODING_DIM = 7\n",
    "BATCH_SIZE = 64\n",
    "EPOCHS = 100\n",
    "\n",
    "\n",
    "class AE(keras.Model):\n",
    "    def __init__(self, encoder: keras.Model, decoder: keras.Model, **kwargs) -> None:\n",
    "        super().__init__(**kwargs)\n",
    "        self.encoder = encoder\n",
    "        self.decoder = decoder\n",
    "\n",
    "    def call(self, x: tf.Tensor, **kwargs):\n",
    "        z = self.encoder(x)\n",
    "        x_hat = self.decoder(z)\n",
    "        return x_hat\n",
    "    \n",
    "def make_ae():\n",
    "    len_input_output = X_train.shape[-1]\n",
    "\n",
    "    encoder = keras.Sequential()\n",
    "    encoder.add(Dense(units=ENCODING_DIM*2, activation=\"relu\", input_shape=(len_input_output, )))\n",
    "    encoder.add(Dense(units=ENCODING_DIM, activation=\"relu\"))\n",
    "\n",
    "    decoder = keras.Sequential()\n",
    "    decoder.add(Dense(units=ENCODING_DIM*2, activation=\"relu\", input_shape=(ENCODING_DIM, )))\n",
    "    decoder.add(Dense(units=len_input_output, activation=\"linear\"))\n",
    "\n",
    "    ae = AE(encoder=encoder, decoder=decoder)\n",
    "\n",
    "    ae.compile(optimizer='adam', loss='mean_squared_error')\n",
    "    history = ae.fit(\n",
    "        scaler.transform(X_train), \n",
    "        scaler.transform(X_train), \n",
    "        batch_size=BATCH_SIZE, \n",
    "        epochs=EPOCHS, \n",
    "        verbose=False,)\n",
    "\n",
    "    # loss = history.history['loss']\n",
    "    # plt.plot(loss)\n",
    "    # plt.xlabel('Epoch')\n",
    "    # plt.ylabel('MSE-Loss')\n",
    "\n",
    "    ae.encoder.save(f'{ENC_FNAME}.h5')\n",
    "    ae.decoder.save(f'{DEC_FNAME}.h5')\n",
    "    return ae\n",
    "\n",
    "def load_ae_model():\n",
    "    encoder = load_model(f'{ENC_FNAME}.h5')\n",
    "    decoder = load_model(f'{DEC_FNAME}.h5')\n",
    "    return AE(encoder=encoder, decoder=decoder)"
   ],
   "metadata": {
    "collapsed": false,
    "pycharm": {
     "name": "#%%\n"
    }
   }
  },
  {
   "cell_type": "markdown",
   "source": [
    "### Random Forest Model"
   ],
   "metadata": {
    "collapsed": false,
    "pycharm": {
     "name": "#%% md\n"
    }
   }
  },
  {
   "cell_type": "markdown",
   "source": [
    "We need a tree-based model to get results for the tree SHAP explainer. Hence we train a random forest on the wine-quality dataset."
   ],
   "metadata": {
    "collapsed": false,
    "pycharm": {
     "name": "#%% md\n"
    }
   }
  },
  {
   "cell_type": "code",
   "execution_count": null,
   "outputs": [],
   "source": [
    "from sklearn.pipeline import Pipeline\n",
    "from sklearn.preprocessing import StandardScaler\n",
    "from sklearn.model_selection import train_test_split\n",
    "from sklearn.ensemble import RandomForestClassifier\n",
    "from sklearn.metrics import accuracy_score, f1_score\n",
    "from sklearn.metrics import confusion_matrix, ConfusionMatrixDisplay\n",
    "\n",
    "def make_rfc():\n",
    "    rfc = RandomForestClassifier(n_estimators=50)\n",
    "    rfc.fit(scaler.transform(X_train), y_train_lab)\n",
    "    y_pred = rfc.predict(scaler.transform(X_test))\n",
    "\n",
    "    print('accuracy_score:', accuracy_score(y_pred, y_test_lab))\n",
    "    print('f1_score:', f1_score(y_test_lab, y_pred, average=None))\n",
    "\n",
    "    joblib.dump(rfc, f\"{RFC_FNAME}.joblib\")\n",
    "    return rfc\n",
    "\n",
    "\n",
    "def load_rfc_model():\n",
    "    return joblib.load(f\"{RFC_FNAME}.joblib\")"
   ],
   "metadata": {
    "collapsed": false,
    "pycharm": {
     "name": "#%%\n"
    }
   }
  },
  {
   "cell_type": "markdown",
   "source": [
    "### Tensorflow Model"
   ],
   "metadata": {
    "collapsed": false,
    "pycharm": {
     "name": "#%% md\n"
    }
   }
  },
  {
   "cell_type": "markdown",
   "source": [
    "Finally, we also train a TensorFlow model."
   ],
   "metadata": {
    "collapsed": false,
    "pycharm": {
     "name": "#%% md\n"
    }
   }
  },
  {
   "cell_type": "code",
   "execution_count": null,
   "outputs": [],
   "source": [
    "from tensorflow import keras\n",
    "from tensorflow.keras import layers \n",
    "\n",
    "def make_tf_model():\n",
    "    inputs = keras.Input(shape=X_train.shape[1])\n",
    "    x = layers.Dense(6, activation=\"relu\")(inputs)\n",
    "    outputs = layers.Dense(2, activation=\"softmax\")(x)\n",
    "    model = keras.Model(inputs, outputs)\n",
    "\n",
    "    model.compile(optimizer=\"adam\", loss=\"categorical_crossentropy\", metrics=['accuracy'])\n",
    "    history = model.fit(\n",
    "        scaler.transform(X_train), \n",
    "        y_train,\n",
    "        epochs=30, \n",
    "        verbose=False, \n",
    "        validation_data=(scaler.transform(X_test), y_test),\n",
    "    )\n",
    "\n",
    "    y_pred = model(scaler.transform(X_test)).numpy().argmax(axis=1)\n",
    "    print('accuracy_score:', accuracy_score(y_pred, y_test.argmax(axis=1)))\n",
    "    print('f1_score:', f1_score(y_pred, y_test.argmax(axis=1), average=None))\n",
    "\n",
    "    model.save(f'{TF_MODEL_FNAME}.h5')\n",
    "    return model\n",
    "\n",
    "def load_tf_model():\n",
    "    return load_model(f'{TF_MODEL_FNAME}.h5')"
   ],
   "metadata": {
    "collapsed": false,
    "pycharm": {
     "name": "#%%\n"
    }
   }
  },
  {
   "cell_type": "markdown",
   "source": [
    "### Load/Make models"
   ],
   "metadata": {
    "collapsed": false,
    "pycharm": {
     "name": "#%% md\n"
    }
   }
  },
  {
   "cell_type": "markdown",
   "source": [
    "We save and load the same models each time to ensure stable results. If they don't exist we create new ones. If you want to generate new models on each notebook run, then set `FROM_SCRATCH=True`."
   ],
   "metadata": {
    "collapsed": false,
    "pycharm": {
     "name": "#%% md\n"
    }
   }
  },
  {
   "cell_type": "code",
   "execution_count": null,
   "outputs": [],
   "source": [
    "from tensorflow.keras.models import Model, load_model\n",
    "\n",
    "if FROM_SCRATCH or not os.path.isfile(f'{TF_MODEL_FNAME}.h5'):\n",
    "    model = make_tf_model()\n",
    "    rfc = make_rfc()\n",
    "    ae = make_ae()\n",
    "else:\n",
    "    rfc = load_rfc_model()\n",
    "    model = load_tf_model() \n",
    "    ae = load_ae_model()"
   ],
   "metadata": {
    "collapsed": false,
    "pycharm": {
     "name": "#%%\n"
    }
   }
  },
  {
   "cell_type": "markdown",
   "source": [
    "## Util functions\n",
    "\n",
    "These are utility functions for exploring results. The first shows two instances of the data side by side and compares the difference. We'll use this to see how the counterfactuals differ from their original instances. The second function plots the importance of each feature. This will be useful for visualizing the attribution methods."
   ],
   "metadata": {
    "collapsed": false,
    "pycharm": {
     "name": "#%% md\n"
    }
   }
  },
  {
   "cell_type": "code",
   "execution_count": null,
   "outputs": [],
   "source": [
    "def compare_instances(x, cf):\n",
    "    \"\"\"\n",
    "    Show the difference in values between two instances.\n",
    "    \"\"\"\n",
    "    x = x.astype('float64')\n",
    "    cf = cf.astype('float64')\n",
    "    for f, v1, v2 in zip(features, x[0], cf[0]):\n",
    "        print(f'{f:<25} instance: {round(v1, 3):^10} counter factual: {round(v2, 3):^10} difference: {round(v1 - v2, 7):^5}')\n",
    "\n",
    "def plot_importance(feat_imp, feat_names, class_idx, **kwargs):\n",
    "    \"\"\"\n",
    "    Create a horizontal barchart of feature effects, sorted by their magnitude.\n",
    "    \"\"\"\n",
    "    \n",
    "    df = pd.DataFrame(data=feat_imp, columns=feat_names).sort_values(by=0, axis='columns')\n",
    "    feat_imp, feat_names = df.values[0], df.columns\n",
    "    fig, ax = plt.subplots(figsize=(10, 5))\n",
    "    y_pos = np.arange(len(feat_imp))\n",
    "    ax.barh(y_pos, feat_imp)\n",
    "    ax.set_yticks(y_pos)\n",
    "    ax.set_yticklabels(feat_names, fontsize=15)\n",
    "    ax.invert_yaxis()\n",
    "    ax.set_xlabel(f'Feature effects for class {class_idx}', fontsize=15)\n",
    "    return ax, fig"
   ],
   "metadata": {
    "collapsed": false,
    "pycharm": {
     "name": "#%%\n"
    }
   }
  },
  {
   "cell_type": "markdown",
   "source": [
    "## Local Feature Attribution"
   ],
   "metadata": {
    "collapsed": false,
    "pycharm": {
     "name": "#%% md\n"
    }
   }
  },
  {
   "cell_type": "markdown",
   "source": [
    "### Integrated Gradients\n",
    "\n",
    "The integrated gradients (IG) method computes the attribution of each feature by integrating the model partial derivatives along a path from a baseline point to the instance. This accumulates the changes in the prediction that occur due to the changing feature values. These accumulated values represent how each feature contributes to the prediction for the instance of interest.\n",
    "\n",
    "We illustrate the application of IG to the instance of interest."
   ],
   "metadata": {
    "collapsed": false,
    "pycharm": {
     "name": "#%% md\n"
    }
   }
  },
  {
   "cell_type": "code",
   "execution_count": null,
   "outputs": [],
   "source": [
    "from alibi.explainers import IntegratedGradients\n",
    "\n",
    "ig = IntegratedGradients(model,\n",
    "                         layer=None,\n",
    "                         method=\"gausslegendre\",\n",
    "                         n_steps=50,\n",
    "                         internal_batch_size=100)\n",
    "\n",
    "result = ig.explain(scaler.transform(x), target=0)\n",
    "\n",
    "plot_importance(result.data['attributions'][0], features, '\"good\"')"
   ],
   "metadata": {
    "collapsed": false,
    "pycharm": {
     "name": "#%%\n"
    }
   }
  },
  {
   "cell_type": "markdown",
   "source": [
    "### Kernel SHAP\n",
    "\n",
    "Kernel SHAP is a method for computing the Shapley values of a model around an instance. Shapley values are a game-theoretic method of assigning payout to players depending on their contribution to an overall goal. In our case, the features are the players, and the payouts are the attributions.\n",
    "\n",
    "Here we give an example of Kernel SHAP method applied to the Tensorflow model."
   ],
   "metadata": {
    "collapsed": false,
    "pycharm": {
     "name": "#%% md\n"
    }
   }
  },
  {
   "cell_type": "code",
   "execution_count": null,
   "outputs": [],
   "source": [
    "import shap\n",
    "from alibi.explainers import KernelShap\n",
    "\n",
    "predict_fn = lambda x: model(scaler.transform(x))\n",
    "\n",
    "explainer = KernelShap(predict_fn, task='classification')\n",
    "\n",
    "explainer.fit(X_train[0:100])\n",
    "\n",
    "result = explainer.explain(x)\n",
    "\n",
    "plot_importance(result.shap_values[0], features, 0)"
   ],
   "metadata": {
    "collapsed": false,
    "pycharm": {
     "name": "#%%\n"
    }
   }
  },
  {
   "cell_type": "markdown",
   "source": [
    "Here we apply Kernel SHAP to the Tree-based model to compare to the tree-based methods we run later."
   ],
   "metadata": {
    "collapsed": false,
    "pycharm": {
     "name": "#%% md\n"
    }
   }
  },
  {
   "cell_type": "code",
   "execution_count": null,
   "outputs": [],
   "source": [
    "import shap\n",
    "from alibi.explainers import KernelShap\n",
    "\n",
    "predict_fn = lambda x: rfc.predict_proba(scaler.transform(x))\n",
    "\n",
    "explainer = KernelShap(predict_fn, task='classification')\n",
    "\n",
    "explainer.fit(X_train[0:100])\n",
    "\n",
    "result = explainer.explain(x)\n",
    "\n",
    "plot_importance(result.shap_values[1], features, '\"Good\"')"
   ],
   "metadata": {
    "collapsed": false,
    "pycharm": {
     "name": "#%%\n"
    }
   }
  },
  {
   "cell_type": "markdown",
   "source": [
    "### Interventional treeSHAP\n",
    "\n",
    "Interventional tree SHAP computes the same Shapley values as the kernel SHAP method above. The difference is that it's much faster for tree-based models. Here it is applied to the random forest we trained. Comparison with the kernel SHAP results above show very similar outcomes."
   ],
   "metadata": {
    "collapsed": false,
    "pycharm": {
     "name": "#%% md\n"
    }
   }
  },
  {
   "cell_type": "code",
   "execution_count": null,
   "outputs": [],
   "source": [
    "from alibi.explainers import TreeShap\n",
    "\n",
    "tree_explainer_interventional = TreeShap(rfc, model_output='raw', task='classification')\n",
    "tree_explainer_interventional.fit(scaler.transform(X_train[0:100]))\n",
    "result = tree_explainer_interventional.explain(scaler.transform(x), check_additivity=False)\n",
    "\n",
    "plot_importance(result.shap_values[1], features, '\"Good\"')"
   ],
   "metadata": {
    "collapsed": false,
    "pycharm": {
     "name": "#%%\n"
    }
   }
  },
  {
   "cell_type": "markdown",
   "source": [
    "### Path Dependent treeSHAP\n",
    "\n",
    "Path Dependent tree SHAP gives the same results as the Kernel SHAP method, only faster. Here it is applied to a random forest model. Again very similar results to kernel SHAP and Interventional tree SHAP as expected."
   ],
   "metadata": {
    "collapsed": false,
    "pycharm": {
     "name": "#%% md\n"
    }
   }
  },
  {
   "cell_type": "code",
   "execution_count": null,
   "outputs": [],
   "source": [
    "path_dependent_explainer = TreeShap(rfc, model_output='raw', task='classification')\n",
    "path_dependent_explainer.fit()\n",
    "result = path_dependent_explainer.explain(scaler.transform(x))\n",
    "\n",
    "plot_importance(result.shap_values[1], features, '\"Good\"')"
   ],
   "metadata": {
    "collapsed": false,
    "pycharm": {
     "name": "#%%\n"
    }
   }
  },
  {
   "cell_type": "markdown",
   "source": [
    "**Note**: There is some difference between the kernel SHAP and integrated gradient applied to the TensorFlow model and the SHAP methods applied to the random forest. This is expected due to the combination of different methods and models. They are reasonably similar overall. Notably, the ordering is nearly the same."
   ],
   "metadata": {
    "collapsed": false,
    "pycharm": {
     "name": "#%% md\n"
    }
   }
  },
  {
   "cell_type": "markdown",
   "source": [
    "## Local Necessary Features"
   ],
   "metadata": {
    "collapsed": false,
    "pycharm": {
     "name": "#%% md\n"
    }
   }
  },
  {
   "cell_type": "markdown",
   "source": [
    "### Anchors\n",
    "\n",
    "Anchors tell us what features need to stay the same for a specific instance for the model to give the same classification. In the case of a trained image classification model, an anchor for a given instance would be a minimal subset of the image that the model uses to make its decision.\n",
    "\n",
    "Here we apply Anchors to the tensor flow model trained on the wine-quality dataset."
   ],
   "metadata": {
    "collapsed": false,
    "pycharm": {
     "name": "#%% md\n"
    }
   }
  },
  {
   "cell_type": "code",
   "execution_count": null,
   "outputs": [],
   "source": [
    "from alibi.explainers import AnchorTabular\n",
    "\n",
    "predict_fn = lambda x: model.predict(scaler.transform(x))\n",
    "explainer = AnchorTabular(predict_fn, features)\n",
    "explainer.fit(X_train, disc_perc=(25, 50, 75))\n",
    "result = explainer.explain(x, threshold=0.95)"
   ],
   "metadata": {
    "collapsed": false,
    "pycharm": {
     "name": "#%%\n"
    }
   }
  },
  {
   "cell_type": "markdown",
   "source": [
    "The result is a set of predicates that tell you whether a point in the data set is in the anchor or not. If it is in the anchor, it is very likely to have the same classification as the instance `x`."
   ],
   "metadata": {
    "collapsed": false,
    "pycharm": {
     "name": "#%% md\n"
    }
   }
  },
  {
   "cell_type": "code",
   "execution_count": null,
   "outputs": [],
   "source": [
    "print('Anchor =', result.data['anchor'])\n",
    "print('Precision = ', result.data['precision'])\n",
    "print('Coverage = ', result.data['coverage'])"
   ],
   "metadata": {
    "collapsed": false,
    "pycharm": {
     "name": "#%%\n"
    }
   }
  },
  {
   "cell_type": "markdown",
   "source": [
    "## Global Feature Attribution"
   ],
   "metadata": {
    "collapsed": false,
    "pycharm": {
     "name": "#%% md\n"
    }
   }
  },
  {
   "cell_type": "markdown",
   "source": [
    "### ALE \n",
    "\n",
    "ALE plots show the dependency of model output on a subset of the input features. They provide global insight describing the model's behaviour over the input space. Here we use ALE to directly visualize the relationship between the TensorFlow model's predictions and the alcohol content of wine."
   ],
   "metadata": {
    "collapsed": false,
    "pycharm": {
     "name": "#%% md\n"
    }
   }
  },
  {
   "cell_type": "code",
   "execution_count": null,
   "outputs": [],
   "source": [
    "from alibi.explainers import ALE\n",
    "from alibi.explainers import plot_ale\n",
    "\n",
    "predict_fn = lambda x: model(scaler.transform(x)).numpy()[:, 0]\n",
    "ale = ALE(predict_fn, feature_names=features)\n",
    "exp = ale.explain(X_train)\n",
    "plot_ale(exp, features=['alcohol'], line_kw={'label': 'Probability of \"good\" class'})"
   ],
   "metadata": {
    "collapsed": false,
    "pycharm": {
     "name": "#%%\n"
    }
   }
  },
  {
   "cell_type": "markdown",
   "source": [
    "## Counterfactuals\n",
    "\n",
    "Next, we apply each of the \"counterfactuals with reinforcement learning\", \"counterfactual instances\", \"contrastive explanation method\", and the \"counterfactuals with prototypes\" methods. We also plot the kernel SHAP values to show how the counterfactual methods change the attribution of each feature leading to the change in prediction."
   ],
   "metadata": {
    "collapsed": false,
    "pycharm": {
     "name": "#%% md\n"
    }
   }
  },
  {
   "cell_type": "markdown",
   "source": [
    "### Counter Factuals with Reinforcement Learning\n",
    "\n",
    "CFRL trains a new model when fitting the explainer called an actor that takes instances and produces counterfactuals. It does this using reinforcement learning. In reinforcement learning, an actor model takes some state as input and generates actions; in our case, the actor takes an instance with a target classification and attempts to produce a member of the target class. Outcomes of actions are assigned rewards dependent on a reward function designed to encourage specific behaviors. In our case, we reward correctly classified counterfactuals generated by the actor. As well as this, we reward counterfactuals that are close to the data distribution as modeled by an autoencoder. Finally, we require that they are sparse perturbations of the original instance. The reinforcement training step pushes the actor to take high reward actions. CFRL is a black-box method as the process by which we update the actor to maximize the reward only requires estimating the reward via sampling the counterfactuals."
   ],
   "metadata": {
    "collapsed": false,
    "pycharm": {
     "name": "#%% md\n"
    }
   }
  },
  {
   "cell_type": "code",
   "execution_count": null,
   "outputs": [],
   "source": [
    "from alibi.explainers import CounterfactualRL \n",
    "\n",
    "predict_fn = lambda x: model(x)\n",
    "\n",
    "cfrl_explainer = CounterfactualRL(\n",
    "    predictor=predict_fn,               # The model to explain\n",
    "    encoder=ae.encoder,                 # The encoder\n",
    "    decoder=ae.decoder,                 # The decoder\n",
    "    latent_dim=7,                       # The dimension of the autoencoder latent space\n",
    "    coeff_sparsity=0.5,                 # The coefficient of sparsity\n",
    "    coeff_consistency=0.5,              # The coefficient of consistency\n",
    "    train_steps=10000,                  # The number of training steps\n",
    "    batch_size=100,                     # The batch size\n",
    ")\n",
    "\n",
    "cfrl_explainer.fit(X=scaler.transform(X_train))\n",
    "\n",
    "result_cfrl = cfrl_explainer.explain(X=scaler.transform(x), Y_t=np.array([1]))\n",
    "print(\"Instance class prediction:\", model.predict(scaler.transform(x))[0].argmax())\n",
    "print(\"Counterfactual class prediction:\", model.predict(result_cfrl.data['cf']['X'])[0].argmax())"
   ],
   "metadata": {
    "collapsed": false,
    "pycharm": {
     "name": "#%%\n"
    }
   }
  },
  {
   "cell_type": "code",
   "execution_count": null,
   "outputs": [],
   "source": [
    "cfrl = scaler.inverse_transform(result_cfrl.data['cf']['X'])\n",
    "compare_instances(x, cfrl)"
   ],
   "metadata": {
    "collapsed": false,
    "pycharm": {
     "name": "#%%\n"
    }
   }
  },
  {
   "cell_type": "code",
   "execution_count": null,
   "outputs": [],
   "source": [
    "import shap\n",
    "from alibi.explainers import KernelShap\n",
    "\n",
    "predict_fn = lambda x: model(scaler.transform(x))\n",
    "\n",
    "explainer = KernelShap(predict_fn, task='classification')\n",
    "\n",
    "explainer.fit(X_train[0:100])\n",
    "\n",
    "result_x = explainer.explain(x)\n",
    "result_cfrl = explainer.explain(cfrl)\n",
    "\n",
    "plot_importance(result_x.shap_values[0], features, 0)\n",
    "plot_importance(result_cfrl.shap_values[0], features, 0)"
   ],
   "metadata": {
    "collapsed": false,
    "pycharm": {
     "name": "#%%\n"
    }
   }
  },
  {
   "cell_type": "markdown",
   "source": [
    "### Counterfactual Instances"
   ],
   "metadata": {
    "collapsed": false,
    "pycharm": {
     "name": "#%% md\n"
    }
   }
  },
  {
   "cell_type": "markdown",
   "source": [
    "First we need to revert to using tfv1"
   ],
   "metadata": {
    "collapsed": false,
    "pycharm": {
     "name": "#%% md\n"
    }
   }
  },
  {
   "cell_type": "code",
   "execution_count": null,
   "outputs": [],
   "source": [
    "import tensorflow.compat.v1 as tf\n",
    "tf.disable_v2_behavior()"
   ],
   "metadata": {
    "collapsed": false,
    "pycharm": {
     "name": "#%%\n"
    }
   }
  },
  {
   "cell_type": "code",
   "execution_count": null,
   "outputs": [],
   "source": [
    "from tensorflow.keras.models import Model, load_model\n",
    "model = load_tf_model() \n",
    "ae = load_ae_model()"
   ],
   "metadata": {
    "collapsed": false,
    "pycharm": {
     "name": "#%%\n"
    }
   }
  },
  {
   "cell_type": "markdown",
   "source": [
    "The counterfactual instance method in alibi generates counterfactuals by defining a loss that prefers interpretable instances close to the target class. It then uses gradient descent to move within the feature space until it obtains a counterfactual of sufficient quality. "
   ],
   "metadata": {
    "collapsed": false,
    "pycharm": {
     "name": "#%% md\n"
    }
   }
  },
  {
   "cell_type": "code",
   "execution_count": null,
   "outputs": [],
   "source": [
    "from alibi.explainers import Counterfactual\n",
    "\n",
    "explainer = Counterfactual(\n",
    "    model,                              # The model to explain\n",
    "    shape=(1,) + X_train.shape[1:],     # The shape of the model input\n",
    "    target_proba=0.51,                  # The target class probability\n",
    "    tol=0.01,                           # The tolerance for the loss\n",
    "    target_class='other',               # The target class to obtain  \n",
    ")\n",
    "\n",
    "result_cf = explainer.explain(scaler.transform(x))\n",
    "print(\"Instance class prediction:\", model.predict(scaler.transform(x))[0].argmax())\n",
    "print(\"Counterfactual class prediction:\", model.predict(result_cf.data['cf']['X'])[0].argmax())"
   ],
   "metadata": {
    "collapsed": false,
    "pycharm": {
     "name": "#%%\n"
    }
   }
  },
  {
   "cell_type": "code",
   "execution_count": null,
   "outputs": [],
   "source": [
    "cf = scaler.inverse_transform(result_cf.data['cf']['X'])\n",
    "compare_instances(x, cf)"
   ],
   "metadata": {
    "collapsed": false,
    "pycharm": {
     "name": "#%%\n"
    }
   }
  },
  {
   "cell_type": "code",
   "execution_count": null,
   "outputs": [],
   "source": [
    "import shap\n",
    "from alibi.explainers import KernelShap\n",
    "\n",
    "predict_fn = lambda x: model.predict(scaler.transform(x))\n",
    "\n",
    "explainer = KernelShap(predict_fn, task='classification')\n",
    "\n",
    "explainer.fit(X_train[0:100])\n",
    "\n",
    "result_x = explainer.explain(x)\n",
    "result_cf = explainer.explain(cf)\n",
    "\n",
    "plot_importance(result_x.shap_values[0], features, 0)\n",
    "plot_importance(result_cf.shap_values[0], features, 0)"
   ],
   "metadata": {
    "collapsed": false,
    "pycharm": {
     "name": "#%%\n"
    }
   }
  },
  {
   "cell_type": "markdown",
   "source": [
    "### Contrastive Explanations Method"
   ],
   "metadata": {
    "collapsed": false,
    "pycharm": {
     "name": "#%% md\n"
    }
   }
  },
  {
   "cell_type": "markdown",
   "source": [
    "The CEM method generates counterfactuals by defining a loss that prefers interpretable instances close to the target class. It also adds an autoencoder reconstruction loss to ensure the counterfactual stays within the data distribution."
   ],
   "metadata": {
    "collapsed": false,
    "pycharm": {
     "name": "#%% md\n"
    }
   }
  },
  {
   "cell_type": "code",
   "execution_count": null,
   "outputs": [],
   "source": [
    "from alibi.explainers import CEM\n",
    "\n",
    "cem = CEM(model,                            # model to explain\n",
    "          shape=(1,) + X_train.shape[1:],   # shape of the model input\n",
    "          mode='PN',                        # pertinant negative mode\n",
    "          kappa=0.2,                        # Confidence parameter for the attack loss term\n",
    "          beta=0.1,                         # Regularization constant for L1 loss term\n",
    "          ae_model=ae                       # autoencoder model\n",
    ")\n",
    "\n",
    "cem.fit(\n",
    "    scaler.transform(X_train), # scaled training data\n",
    "    no_info_type='median'      # non-informative value for each feature\n",
    ")\n",
    "result_cem = cem.explain(scaler.transform(x), verbose=False)\n",
    "cem_cf = result_cem.data['PN']\n",
    "\n",
    "print(\"Instance class prediction:\", model.predict(scaler.transform(x))[0].argmax())\n",
    "print(\"Counterfactual class prediction:\", model.predict(cem_cf)[0].argmax())"
   ],
   "metadata": {
    "collapsed": false,
    "pycharm": {
     "name": "#%%\n"
    }
   }
  },
  {
   "cell_type": "code",
   "execution_count": null,
   "outputs": [],
   "source": [
    "cem_cf = result_cem.data['PN']\n",
    "cem_cf = scaler.inverse_transform(cem_cf)\n",
    "compare_instances(x, cem_cf)"
   ],
   "metadata": {
    "collapsed": false,
    "pycharm": {
     "name": "#%%\n"
    }
   }
  },
  {
   "cell_type": "code",
   "execution_count": null,
   "outputs": [],
   "source": [
    "import shap\n",
    "from alibi.explainers import KernelShap\n",
    "\n",
    "predict_fn = lambda x: model.predict(scaler.transform(x))\n",
    "\n",
    "explainer = KernelShap(predict_fn, task='classification')\n",
    "\n",
    "explainer.fit(X_train[0:100])\n",
    "\n",
    "result_x = explainer.explain(x)\n",
    "result_cem_cf = explainer.explain(cem_cf)\n",
    "\n",
    "plot_importance(result_x.shap_values[0], features, 0)\n",
    "plot_importance(result_cem_cf.shap_values[0], features, 0)"
   ],
   "metadata": {
    "collapsed": false,
    "pycharm": {
     "name": "#%%\n"
    }
   }
  },
  {
   "cell_type": "markdown",
   "source": [
    "### Counterfactual With Prototypes"
   ],
   "metadata": {
    "collapsed": false,
    "pycharm": {
     "name": "#%% md\n"
    }
   }
  },
  {
   "cell_type": "markdown",
   "source": [
    "Like the previous two methods, \"counterfactuals with prototypes\" defines a loss that guides the counterfactual towards the target class while also using an autoencoder to ensure it stays within the data distribution. As well as this, it uses prototype instances of the target class to ensure that the generated counterfactual is interpretable as a member of the target class."
   ],
   "metadata": {
    "collapsed": false,
    "pycharm": {
     "name": "#%% md\n"
    }
   }
  },
  {
   "cell_type": "code",
   "execution_count": null,
   "outputs": [],
   "source": [
    "from alibi.explainers import CounterfactualProto\n",
    "\n",
    "explainer = CounterfactualProto(\n",
    "    model,                           # The model to explain\n",
    "    shape=(1,) + X_train.shape[1:],  # shape of the model input\n",
    "    ae_model=ae,                     # The autoencoder\n",
    "    enc_model=ae.encoder             # The encoder\n",
    ")\n",
    "\n",
    "explainer.fit(scaler.transform(X_train)) # Fit the explainer with scaled data\n",
    "\n",
    "result_proto = explainer.explain(scaler.transform(x), verbose=False)\n",
    "\n",
    "proto_cf = result_proto.data['cf']['X']\n",
    "print(\"Instance class prediction:\", model.predict(scaler.transform(x))[0].argmax())\n",
    "print(\"Counterfactual class prediction:\", model.predict(proto_cf)[0].argmax())"
   ],
   "metadata": {
    "collapsed": false,
    "pycharm": {
     "name": "#%%\n"
    }
   }
  },
  {
   "cell_type": "code",
   "execution_count": null,
   "outputs": [],
   "source": [
    "proto_cf = scaler.inverse_transform(proto_cf)\n",
    "compare_instances(x, proto_cf)"
   ],
   "metadata": {
    "collapsed": false,
    "pycharm": {
     "name": "#%%\n"
    }
   }
  },
  {
   "cell_type": "code",
   "execution_count": null,
   "outputs": [],
   "source": [
    "import shap\n",
    "from alibi.explainers import KernelShap\n",
    "\n",
    "predict_fn = lambda x: model.predict(scaler.transform(x))\n",
    "\n",
    "explainer = KernelShap(predict_fn, task='classification')\n",
    "\n",
    "explainer.fit(X_train[0:100])\n",
    "\n",
    "result_x = explainer.explain(x)\n",
    "result_proto_cf = explainer.explain(cem_cf)\n",
    "\n",
    "plot_importance(result_x.shap_values[0], features, 0)\n",
    "print(result_x.shap_values[0].sum())\n",
    "plot_importance(result_proto_cf.shap_values[0], features, 0)\n",
    "print(result_proto_cf.shap_values[0].sum())"
   ],
   "metadata": {
    "collapsed": false,
    "pycharm": {
     "name": "#%%\n"
    }
   }
  },
  {
   "cell_type": "code",
   "execution_count": 33,
   "id": "20c990ef-808f-4502-9806-6d03c6635a18",
   "metadata": {},
   "outputs": [
    {
     "data": {
      "text/plain": [
       "array([[<AxesSubplot:xlabel='sulphates', ylabel='ALE'>,\n",
       "        <AxesSubplot:xlabel='alcohol', ylabel='ALE'>,\n",
       "        <AxesSubplot:xlabel='residual sugar', ylabel='ALE'>],\n",
       "       [<AxesSubplot:xlabel='chlorides', ylabel='ALE'>,\n",
       "        <AxesSubplot:xlabel='free sulfur dioxide', ylabel='ALE'>,\n",
       "        <AxesSubplot:xlabel='total sulfur dioxide', ylabel='ALE'>]],\n",
       "      dtype=object)"
      ]
     },
     "execution_count": 33,
     "metadata": {},
     "output_type": "execute_result"
    },
    {
     "data": {
      "image/png": "[encoded data removed]",
      "text/plain": [
       "<Figure size 842.4x595.44 with 7 Axes>"
      ]
     },
     "metadata": {},
     "output_type": "display_data"
    }
   ],
   "source": [
    "plot_ale(exp, features=['sulphates', 'alcohol', 'residual sugar', 'chlorides', 'free sulfur dioxide', 'total sulfur dioxide'], line_kw={'label': 'Probability of \"good\" class'})"
   ]
  },
  {
   "cell_type": "code",
   "execution_count": null,
   "id": "4e929a28-8f20-4d2a-84a8-30ef5bae9e4e",
   "metadata": {},
   "outputs": [],
   "source": []
  }
 ],
 "metadata": {
  "kernelspec": {
   "display_name": "Python 3 (ipykernel)",
   "language": "python",
   "name": "python3"
  },
  "language_info": {
   "codemirror_mode": {
    "name": "ipython",
    "version": 3
   },
   "file_extension": ".py",
   "mimetype": "text/x-python",
   "name": "python",
   "nbconvert_exporter": "python",
   "pygments_lexer": "ipython3",
   "version": "3.8.11"
  }
 },
 "nbformat": 4,
 "nbformat_minor": 5
}