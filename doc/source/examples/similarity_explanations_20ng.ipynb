{
 "cells": [
  {
   "cell_type": "markdown",
   "id": "611fec1a",
   "metadata": {},
   "source": [
    "# Similarity explanations for 20 news groups dataset"
   ]
  },
  {
   "cell_type": "markdown",
   "id": "9366dea8",
   "metadata": {},
   "source": [
    "In this notebook we apply the similarity explanation method to a feed forward neural network (FFNN) trained on the 20 news group dataset. \n",
    "\n",
    "The 20 news group dataset is a corpus of 18846 text documents (emails) divided in 20 sections. The FFNN is trained to classify each document in the correct section. The model uses pre-trained sentence embeddings as input features, which are obtained from raw text using a [pretrained transformer](https://www.sbert.net/docs/pretrained_models.html). \n",
    "\n",
    "Given an input document of interest, the similarity explanation method used here aims to find text documents in the train dataset that are similar to the document of interest according to \"how the model sees them\", meaning that the similarity metric makes use of the gradients of the model's loss function with respect to the model's parameters.\n",
    "\n",
    "The similarity explanation tool is implemented with both pytorch and tensorflow backends. In this example, we will use the pytorch backend.\n",
    "\n",
    "A more detailed description of the method can be found [here](link_to_method). The implementation follows  [Charpiat et al., 2019](https://papers.nips.cc/paper/2019/file/c61f571dbd2fb949d3fe5ae1608dd48b-Paper.pdf) and  [Hanawa et al. 2021](https://arxiv.org/pdf/2006.04528.pdf)."
   ]
  },
  {
   "cell_type": "code",
   "execution_count": 2,
   "id": "3c702433",
   "metadata": {},
   "outputs": [],
   "source": [
    "import numpy as np\n",
    "import pandas as pd\n",
    "import os\n",
    "import torch\n",
    "import re\n",
    "import string\n",
    "import matplotlib.pyplot as plt\n",
    "import torch.nn as nn\n",
    "from termcolor import colored\n",
    "from torch.utils.data import DataLoader\n",
    "from tqdm import tqdm\n",
    "from sentence_transformers import SentenceTransformer\n",
    "from sklearn.datasets import fetch_20newsgroups\n",
    "from sklearn.model_selection import train_test_split\n",
    "from alibi.explainers.similarity.grad import GradientSimilarity"
   ]
  },
  {
   "cell_type": "code",
   "execution_count": 42,
   "id": "8769f3c0",
   "metadata": {},
   "outputs": [],
   "source": [
    "def to_categorical(y, num_classes):\n",
    "    \"\"\" 1-hot encodes a tensor \"\"\"\n",
    "    return np.eye(num_classes, dtype='uint8')[y].astype('float32')\n",
    "\n",
    "class TorchDataset(torch.utils.data.Dataset):\n",
    "    \"\"\"Utility class to create a torch dataloader from numpy arrays.\n",
    "    \"\"\"\n",
    "    def __init__(self, *indexables):\n",
    "        self.indexables = indexables\n",
    "\n",
    "    def __getitem__(self, idx):\n",
    "        output = tuple(indexable[idx] for indexable in self.indexables)\n",
    "        return output if len(output) > 1 else output[0]\n",
    "\n",
    "    def __len__(self):\n",
    "        return len(self.indexables[0])\n",
    "    \n",
    "def appendInt(num):\n",
    "    \"\"\"Converts integer into cardials (ex. 1 -> 1st, 2 -> 2nd, etc.)\n",
    "    \"\"\"\n",
    "    if num > 9:\n",
    "        secondToLastDigit = str(num)[-2]\n",
    "        if secondToLastDigit == '1':\n",
    "            return 'th'\n",
    "    lastDigit = num % 10\n",
    "    if (lastDigit == 1):\n",
    "        return 'st'\n",
    "    elif (lastDigit == 2):\n",
    "        return 'nd'\n",
    "    elif (lastDigit == 3):\n",
    "        return 'rd'\n",
    "    else:\n",
    "        return 'th'"
   ]
  },
  {
   "cell_type": "markdown",
   "id": "87f7db33",
   "metadata": {},
   "source": [
    "## Load data"
   ]
  },
  {
   "cell_type": "markdown",
   "id": "23401d67",
   "metadata": {},
   "source": [
    "Loading and preparing the 20 news group data set."
   ]
  },
  {
   "cell_type": "code",
   "execution_count": 26,
   "id": "9054cfc6",
   "metadata": {},
   "outputs": [
    {
     "name": "stdout",
     "output_type": "stream",
     "text": [
      "Loading 20 news groups dataset\n",
      "Cleaning text\n"
     ]
    },
    {
     "name": "stderr",
     "output_type": "stream",
     "text": [
      "The default value of regex will change from True to False in a future version.\n"
     ]
    },
    {
     "name": "stdout",
     "output_type": "stream",
     "text": [
      "\n",
      "\u001b[31mSample document before cleaning\u001b[0m\n",
      "\n",
      "So its an automatic? Don't know if US spec=CDN spec. for Maximas.\n",
      "\n",
      "\n",
      "If it is the first set of brake pads on front, then this is fine. My car\n",
      "eats a set every 15k miles or so. The fact that he is replacing the\n",
      "muffler too is also ok.\n",
      "\n",
      "\n",
      "The mileage is fairly low - but typical fwd stuff is CV joints. Check\n",
      "the maintenance records with the manufacturers requirements for valve\n",
      "adjustments, timing belt changes and so on.\n",
      "\n",
      "The 60k mile service is often expensive, so make sure he has done everything.\n",
      "\n",
      "\n",
      "Well, this is one of the commonly cited methods for identifying a\n",
      "car with highway miles. \n",
      "Might check the gas pedal wear too. Ask him how many sets of tires he\n",
      "has been through. A highway car might have squeezed by on 2 sets,\n",
      "a hard driven car 6-10 sets.\n",
      "\n",
      "\n",
      "\n",
      "Well, the Maxima should be pretty reliable - but if its out of warranty\n",
      "you should get it checked out by someone knowledgeable first. Stuff\n",
      "for Japanese cars can be expensive.\n",
      "\n",
      "\n",
      "1995 model year, I believe. \n",
      "\n",
      "\u001b[31mSample document after cleaning\u001b[0m\n",
      "So its an automatic? Don't know if US spec=CDN spec. for Maximas. If it is the first set of brake pads on front, then this is fine. My car eats a set every 15k miles or so. The fact that he is replacing the muffler too is also ok. The mileage is fairly low - but typical fwd stuff is CV joints. Check the maintenance records with the manufacturers requirements for valve adjustments, timing belt changes and so on. The 60k mile service is often expensive, so make sure he has done everything. Well, this is one of the commonly cited methods for identifying a car with highway miles. Might check the gas pedal wear too. Ask him how many sets of tires he has been through. A highway car might have squeezed by on 2 sets, a hard driven car 6-10 sets. Well, the Maxima should be pretty reliable - but if its out of warranty you should get it checked out by someone knowledgeable first. Stuff for Japanese cars can be expensive. 1995 model year, I believe.\n",
      "\n",
      "Splitting train - test\n",
      "X_train shape: (14604,) - y_train shape: (14604, 20)\n",
      "X_test shape: (3652,) - y_test shape: (3652, 20)\n"
     ]
    }
   ],
   "source": [
    "example_idx = 4\n",
    "\n",
    "print(\"Loading 20 news groups dataset\")\n",
    "data = fetch_20newsgroups(shuffle=True, random_state=1, subset='all',\n",
    "                          remove=('headers', 'footers', 'quotes'),\n",
    "                          return_X_y=False)\n",
    "X, y = np.asarray(data.data), data.target\n",
    "target_names = data.target_names\n",
    "df = pd.DataFrame({'text': X, 'labels': y})\n",
    "\n",
    "print(\"Cleaning text\")\n",
    "df['text_cleaned'] = df['text'].str.replace('\\s+',' ')\n",
    "df['text_cleaned'] = df['text_cleaned'].str.strip()\n",
    "df['text_cleaned'] = df['text_cleaned'].str.slice(0,131072)\n",
    "df = df.replace('', np.NaN).dropna()\n",
    "df = df.drop_duplicates(subset='text_cleaned')\n",
    "print('')\n",
    "\n",
    "print(colored(\"Sample document before cleaning\", 'red'))\n",
    "print(f\"{df['text'][example_idx]}\")\n",
    "print('')\n",
    "print(colored(\"Sample document after cleaning\", 'red'))\n",
    "print(f\"{df['text_cleaned'][example_idx]}\")\n",
    "print('')\n",
    "\n",
    "print(\"Splitting train - test\")\n",
    "df_train, df_test = train_test_split(df, test_size=0.2)\n",
    "X_train, y_train = df_train['text_cleaned'].values, df_train['labels'].values\n",
    "X_test, y_test = df_test['text_cleaned'].values, df_test['labels'].values\n",
    "y_train, y_test = to_categorical(y_train, num_classes=20), to_categorical(y_test, num_classes=20)\n",
    "print(f\"X_train shape: {X_train.shape} - y_train shape: {y_train.shape}\")\n",
    "print(f\"X_test shape: {X_test.shape} - y_test shape: {y_test.shape}\")"
   ]
  },
  {
   "cell_type": "markdown",
   "id": "cfdb67fd",
   "metadata": {},
   "source": [
    "## Define and train model"
   ]
  },
  {
   "cell_type": "markdown",
   "id": "177469ea",
   "metadata": {},
   "source": [
    "We define and train a pytorch classifier using sentence embeddings as inputs."
   ]
  },
  {
   "cell_type": "markdown",
   "id": "894f1d3b",
   "metadata": {},
   "source": [
    "### Define model"
   ]
  },
  {
   "cell_type": "code",
   "execution_count": 28,
   "id": "ea62d378",
   "metadata": {},
   "outputs": [],
   "source": [
    "class EmbeddingModel:\n",
    "    \"\"\"Pre-trained sentence transformer wrapper.\n",
    "    \"\"\"\n",
    "    def __init__(\n",
    "        self,\n",
    "        model_name: str = 'paraphrase-MiniLM-L6-v2',  # https://www.sbert.net/docs/pretrained_models.html\n",
    "        max_seq_length: int = 200,\n",
    "        batch_size: int = 32,\n",
    "        device: torch.device = None\n",
    "    ) -> None:\n",
    "        if not isinstance(device, torch.device):\n",
    "            device = torch.device('cuda' if torch.cuda.is_available() else 'cpu')\n",
    "        self.encode_text = SentenceTransformer(model_name).to(device)\n",
    "        self.encode_text.max_seq_length = max_seq_length\n",
    "        self.batch_size = batch_size\n",
    "    \n",
    "    def __call__(self, x: np.ndarray) -> np.ndarray:\n",
    "        return self.encode_text.encode(x, \n",
    "                                       convert_to_numpy=True, \n",
    "                                       batch_size=self.batch_size,\n",
    "                                       show_progress_bar=False)\n",
    "\n",
    "class Classifier(nn.Module):\n",
    "    \"\"\"FFNN classifier with pretrained sentence embeddings inputs.\n",
    "    \"\"\"\n",
    "    def __init__(\n",
    "        self, \n",
    "        n_classes= 20\n",
    "    ) -> None:\n",
    "        \"\"\" Text classification model from sentence embeddings. \"\"\"\n",
    "        super().__init__()\n",
    "        self.head = nn.Sequential(nn.Linear(384, 256), \n",
    "                                  nn.LeakyReLU(.1), \n",
    "                                  nn.Dropout(.5), \n",
    "                                  nn.Linear(256, n_classes))\n",
    "        \n",
    "    def forward(self, sentence_embeddings) -> torch.Tensor:\n",
    "        return self.head(sentence_embeddings)"
   ]
  },
  {
   "cell_type": "code",
   "execution_count": 29,
   "id": "ed493080",
   "metadata": {},
   "outputs": [],
   "source": [
    "device = torch.device('cuda' if torch.cuda.is_available() else 'cpu') "
   ]
  },
  {
   "cell_type": "markdown",
   "id": "af340e2c",
   "metadata": {},
   "source": [
    "### Get sentence embeddings and define dataloaders"
   ]
  },
  {
   "cell_type": "code",
   "execution_count": 30,
   "id": "ca37a6af",
   "metadata": {},
   "outputs": [
    {
     "name": "stdout",
     "output_type": "stream",
     "text": [
      "Getting train embeddings\n",
      "Getting test embeddings\n"
     ]
    }
   ],
   "source": [
    "embedding_model = EmbeddingModel(device=device)\n",
    "\n",
    "print('Getting train embeddings')    \n",
    "embeddings_train = embedding_model(X_train)\n",
    "train_loader = DataLoader(TorchDataset(torch.Tensor(embeddings_train).to(device), \n",
    "                                       torch.Tensor(y_train).to(device)), \n",
    "                          batch_size=32, \n",
    "                          shuffle=True)\n",
    "\n",
    "print('Getting test embeddings')  \n",
    "embeddings_test = embedding_model(X_test)\n",
    "test_loader = DataLoader(TorchDataset(torch.Tensor(embeddings_test).to(device), \n",
    "                                      torch.Tensor(y_test).to(device)), \n",
    "                         batch_size=32, \n",
    "                         shuffle=False)"
   ]
  },
  {
   "cell_type": "markdown",
   "id": "ed010991",
   "metadata": {},
   "source": [
    "### Train model"
   ]
  },
  {
   "cell_type": "code",
   "execution_count": 31,
   "id": "a9a4521f",
   "metadata": {
    "scrolled": true
   },
   "outputs": [
    {
     "name": "stdout",
     "output_type": "stream",
     "text": [
      "Training classifier\n"
     ]
    },
    {
     "name": "stderr",
     "output_type": "stream",
     "text": [
      "100%|███████████████| 457/457 [00:00<00:00, 1108.64it/s]\n",
      "100%|███████████████| 457/457 [00:00<00:00, 1114.26it/s]\n",
      "100%|███████████████| 457/457 [00:00<00:00, 1103.87it/s]\n"
     ]
    }
   ],
   "source": [
    "epochs = 3\n",
    "\n",
    "# initialize classifier\n",
    "model = Classifier().to(device)\n",
    "print('Training classifier')\n",
    "loss_fn = nn.CrossEntropyLoss()\n",
    "optimizer = torch.optim.Adam(model.parameters(), lr=1e-3)\n",
    "for epoch in range(epochs):\n",
    "    for x, y in tqdm(train_loader):\n",
    "        y_hat = model(x)\n",
    "        optimizer.zero_grad()\n",
    "        loss = loss_fn(y_hat, y)\n",
    "        loss.backward()\n",
    "        optimizer.step()"
   ]
  },
  {
   "cell_type": "markdown",
   "id": "889dc742",
   "metadata": {},
   "source": [
    "### Evaluate model"
   ]
  },
  {
   "cell_type": "markdown",
   "id": "b7d8bd58",
   "metadata": {},
   "source": [
    "Evaluating the model on train and test set. Since the dataset is well balanced, we only consider accuracy as evaluation metric."
   ]
  },
  {
   "cell_type": "code",
   "execution_count": 32,
   "id": "8d93b6a5",
   "metadata": {},
   "outputs": [
    {
     "name": "stdout",
     "output_type": "stream",
     "text": [
      "Train set evaluation\n",
      "Accuracy: 0.723\n",
      "Test set evaluation\n",
      "Accuracy: 0.674\n"
     ]
    }
   ],
   "source": [
    "def eval_model(model, loader):\n",
    "    model.eval()\n",
    "    logits, labels = [], []\n",
    "    with torch.no_grad():\n",
    "        for x, y in loader:\n",
    "            y_hat = model(x)\n",
    "            logits += [y_hat.cpu().numpy()]\n",
    "            labels += [y.cpu().numpy()]\n",
    "    logits = np.concatenate(logits, 0)\n",
    "    preds = np.argmax(logits, 1)\n",
    "    labels = np.concatenate(labels, 0)\n",
    "    accuracy = (preds == labels.argmax(axis=1)).mean()\n",
    "    print(f'Accuracy: {accuracy:.3f}')\n",
    "    \n",
    "print('Train set evaluation')\n",
    "eval_model(model, train_loader)\n",
    "print('Test set evaluation')\n",
    "eval_model(model, test_loader)"
   ]
  },
  {
   "cell_type": "markdown",
   "id": "8886b5f3",
   "metadata": {},
   "source": [
    "## Find similaraties "
   ]
  },
  {
   "cell_type": "markdown",
   "id": "1e06b980",
   "metadata": {},
   "source": [
    "Selecting a reference set of 1000 random samples from the training set. The `GradientSimilarity` explainer will find the most similar instances among those. This downsampling step is performed in order to speed up the `fit` step."
   ]
  },
  {
   "cell_type": "code",
   "execution_count": 33,
   "id": "b0694105",
   "metadata": {},
   "outputs": [],
   "source": [
    "idxs_ref = np.random.choice(len(X_train), 1000, replace=False)\n",
    "X_ref = X_train[idxs_ref]\n",
    "embeddings_ref = embeddings_train[idxs_ref]\n",
    "y_ref = y_train[idxs_ref]"
   ]
  },
  {
   "cell_type": "markdown",
   "id": "c67aae23",
   "metadata": {},
   "source": [
    "Initializing a `GradientSimilarity` explainer instance."
   ]
  },
  {
   "cell_type": "code",
   "execution_count": 34,
   "id": "f135bb7a",
   "metadata": {},
   "outputs": [],
   "source": [
    "gsm = GradientSimilarity(model, \n",
    "                         loss_fn, \n",
    "                         precompute_grads=True, \n",
    "                         sim_fn='grad_cos', \n",
    "                         backend='pytorch', \n",
    "                         device=device)"
   ]
  },
  {
   "cell_type": "markdown",
   "id": "6dad914f",
   "metadata": {},
   "source": [
    "Fitting the explainer on the reference data."
   ]
  },
  {
   "cell_type": "code",
   "execution_count": 35,
   "id": "597cc5f3",
   "metadata": {},
   "outputs": [
    {
     "data": {
      "text/plain": [
       "GradientSimilarity(meta={\n",
       "  'name': 'GradientSimilarity',\n",
       "  'type': ['whitebox'],\n",
       "  'explanations': ['local'],\n",
       "  'params': {\n",
       "              'sim_fn_name': 'grad_cos',\n",
       "              'store_grads': True,\n",
       "              'backend_name': 'pytorch',\n",
       "              'task_name': 'classification'}\n",
       "            ,\n",
       "  'version': '0.6.6dev'}\n",
       ")"
      ]
     },
     "execution_count": 35,
     "metadata": {},
     "output_type": "execute_result"
    }
   ],
   "source": [
    "gsm.fit(embeddings_ref, y_ref)"
   ]
  },
  {
   "cell_type": "markdown",
   "id": "307c3f73",
   "metadata": {},
   "source": [
    "Selecting 5 random instances from the test set."
   ]
  },
  {
   "cell_type": "code",
   "execution_count": 36,
   "id": "f08b5935",
   "metadata": {},
   "outputs": [],
   "source": [
    "idxs_samples = np.random.choice(len(X_test), 5, replace=False)\n",
    "X_sample, embeddings_sample, y_sample = X_test[idxs_samples], embeddings_test[idxs_samples], y_test[idxs_samples]"
   ]
  },
  {
   "cell_type": "markdown",
   "id": "c6f66047",
   "metadata": {},
   "source": [
    "Getting predictions and explanations for each of the 5 test samples."
   ]
  },
  {
   "cell_type": "code",
   "execution_count": 37,
   "id": "208dab82",
   "metadata": {},
   "outputs": [],
   "source": [
    "preds = model(torch.Tensor(embeddings_sample).to(device)).detach().cpu().numpy().argmax(axis=1)\n",
    "expls = gsm.explain(embeddings_sample, y_sample)"
   ]
  },
  {
   "cell_type": "markdown",
   "id": "777bba57",
   "metadata": {},
   "source": [
    "## Visualizations "
   ]
  },
  {
   "cell_type": "markdown",
   "id": "39d31e05",
   "metadata": {},
   "source": [
    "Building a dictionary for each sample for visualization purposes. \n",
    "Each dictionary contains\n",
    "* The original text document `x` (not the embedding representation).\n",
    "* The corresponding label `y`.\n",
    "* The corresponding model's prediction `pred`.\n",
    "* The reference instances ordered by similarity `x_sim`.\n",
    "* The corresponding reference labels ordered by similarity `y_sim`.\n",
    "* The corresponding model's predictions for the reference set `preds_sim`."
   ]
  },
  {
   "cell_type": "code",
   "execution_count": 38,
   "id": "b20715b1",
   "metadata": {},
   "outputs": [],
   "source": [
    "ds = []\n",
    "for j in range(len(embeddings_sample)):\n",
    "    y_sim = y_ref[expls.data['ordered_indices'][j]].argmax(axis=1)\n",
    "    X_sim = X_ref[expls.data['ordered_indices'][j]]\n",
    "    sim_embedding = embeddings_ref[expls.data['ordered_indices'][j]]\n",
    "    preds_sim = model(torch.Tensor(sim_embedding).to(device)).detach().cpu().numpy().argmax(axis=1)\n",
    "\n",
    "    d = {'x': X_sample[j], \n",
    "         'y': y_sample[j].argmax(), \n",
    "         'pred':preds[j],\n",
    "         'x_sim': X_sim,\n",
    "         'y_sim': y_sim, \n",
    "         'preds_sim': preds_sim}\n",
    "    ds.append(d)"
   ]
  },
  {
   "cell_type": "markdown",
   "id": "d218474f",
   "metadata": {},
   "source": [
    "### Most similar instances"
   ]
  },
  {
   "cell_type": "markdown",
   "id": "46033679",
   "metadata": {},
   "source": [
    "Showing the most similar instance for each of the test instances."
   ]
  },
  {
   "cell_type": "code",
   "execution_count": 43,
   "id": "d98e9482",
   "metadata": {
    "scrolled": true
   },
   "outputs": [
    {
     "name": "stdout",
     "output_type": "stream",
     "text": [
      "\u001b[34mSample nb 0\u001b[0m\n",
      "\u001b[34m===========\u001b[0m\n",
      "\n",
      "\u001b[31mOriginal instance - \u001b[0m \u001b[31mLabel: rec.autos - \u001b[0m \u001b[31mPrediction: misc.forsale\u001b[0m\n",
      "Two-volume soft-cover repair manuals for all models of '91 Toyota Celicas. (Probably good for '92 models as well.) Like new condition. These are the manuals used by the Toyota dealers' mechanics - they normally cost over $80 new. $50 OBO\n",
      "\n",
      "\u001b[31m1st most similar instance - \u001b[0m \u001b[31mLabel: rec.autos - \u001b[0m \u001b[31mPrediction: rec.autos\u001b[0m\n",
      "Any one with experience in having a centreforce clutch (or any other) on his/her car? I'm considering to replace my old stock clutch on my 90 CRX Si. What is a fair price?\n",
      "\n",
      "\u001b[31m2nd most similar instance - \u001b[0m \u001b[31mLabel: rec.autos - \u001b[0m \u001b[31mPrediction: rec.autos\u001b[0m\n",
      "I have been looking at buying a 1989 Jeep Laredo and was wondering if anyone had any bad or good experiences with this model. Is it all that much different than the other YJs? It looks, feels and sounds like a nice vehicle even thought the price is rather steep for an '89 (12K Canadian).\n",
      "\n",
      "\u001b[31m3rd most similar instance - \u001b[0m \u001b[31mLabel: rec.autos - \u001b[0m \u001b[31mPrediction: rec.autos\u001b[0m\n",
      "The Civic does still come in a 4 door model. My wife and I looked quite seriously at the 626, Prizm (Corolla), and Civic, as well as some other cars. Our impressions: all three seemed well built and had the features we wanted - these are similar to the features you want except for cruise control, and we want a manual transmission and are considering anti-lock brakes. I also hate automatic seatbelts and we both think having an airbag is a plus. In general, comfort and performance were both significant. Some specific +'s and -'s are listed below. Mazda 626 + very comfortable and roomy + can theoretically get ABS on DX model, though in practice this is hard to find + base price for base model includes numerous little things like: tach, variable speed wipers, rear defroster, 60/40 split folding rear seat - more expensive than many other cars listed below Honda Civic + DX gets significantly better mileage than other cars listed here + comfortable front seat + adjustable seat belt mounting - no ABS without EX model (includes $1000's of other things like a sunroof) Geo Prizm/Toyota Corolla - seats not very comfortable to us (your mileage may vary) + adjustable seat belt mounting + can get ABS without lots of other extras Saturn + SL2 was quite comfortable, though SL1 less so - motorized attack belts Dodge Spirit no real outstanding +'s, but seemed generally ok - rear seat does not fold down Chevy Corsica + comes with ABS standard - lower \"would you buy that car again\" and safety ratings in Consumer Reports (than first 3 cars above) - suspension didn't feel as stiff as the others (this would be a + for some) The Honda Accord and Toyota Camry were both more expensive than the 626, and in our minds, not significantly better. We probably gave disproportionately low consideration to the \"big 3\", due (a) to my wife's family's general dislike of Chrysler products, (b) some unimpressive GM products owned by my parents and a housemate of mine (c) the Taurus comes with automatic transmission, I find the seat of the Tempo very uncomfortable, and the escort has attack belts and no air bag.\n",
      "\n",
      "\u001b[34mSample nb 1\u001b[0m\n",
      "\u001b[34m===========\u001b[0m\n",
      "\n",
      "\u001b[31mOriginal instance - \u001b[0m \u001b[31mLabel: talk.politics.mideast - \u001b[0m \u001b[31mPrediction: talk.politics.mideast\u001b[0m\n",
      "Bill Coleman writes... (responding to a discussion about a mosque in Jerusalem allegedly having been destroyed by Israel) BC> In today's Jerusalem Post Magazine there is a feature story about the BC> ongoing restoration of synagogues in the Jewish Quarter. The author, BC> Leah Abramowitz, writes that there were FIFTY-SEVEN synagogues in the BC> quarter in 1948, ALL of which were destroyed, some, she says, used as BC> donkey stables. The building shells, that is. BC> BC> I still find it really, really hard to understand why the demolition BC> of the buildings in front of the Kotel continues to evoke more outrage BC> than this. Everything is so much cheaper when it happens to the Jews. BC> BC> Why? The double standard of human behavior regarding the Jews must be manitained. A perfect example is the outcry over the temporary removal of 400 men who advocated murdering Jews and destroying the State of Israel, compared to the deafening silence over the abusive treatment of Jews in Arab countries during the past 50 years. Compare the tacit appoval that the world gives to Muslims who randomly murder Jewish civilians to the righteous indignation expressed if people in the occupied territories are kept from working in Israel in an effort to reduce these random murders from occuring, while everyone knows that no country is at all required to accept foreign workers, except Israel, of course. Jewish blood has always been cheap. The non-Jewish world ha never regarded any form of Jewish suffering important, except when the Jews were the models of the powerless victim holding the high moral ground, as it had been just after World War 2. However, as soon as the Jewish people started to take care of themselves, the ancient hatred of Jews was unleashed again. I doubt if the non-Jewish world is even capable of having any compassion towards Jews as anti-semitism is so ancient and so basic to both Christianity and Islam. Golda Meir said that there would be peace when the Arabs love their own children more than they hate the Jews. And while I know that there are more Arab parents who love their children than those who would send their children out into the streets to throw rocks at men trained to defend themselves with guns, the world is so obsessed by a hatred of Jews trying to defend themselves that they have yet to even question the actions of those parents who not simply allow their children to do this, but encourage them to throw themselves into harm's way. Even Arab children are expendable, if their tragic deaths are used in the neverending propoganda battle to blame Israel, and the Jews, for any misfortune befalling Arabs in the middle east.\n",
      "\n",
      "\u001b[31m1st most similar instance - \u001b[0m \u001b[31mLabel: talk.politics.mideast - \u001b[0m \u001b[31mPrediction: talk.politics.mideast\u001b[0m\n",
      "> Lines: 13 > NNTP-Posting-Host: yfn.ysu.edu > > > > >Our little Goebbels, to those who forgot, is talking about an alleged > >\"infection\" of \"fine Egyptian men\", by a \"Mossad agent caught spying > >with her father in Egypt\". As noted before, the women is a Muslim > >Israeli, she was not a spy, and she didn't infect anybody. > > The Jewish version of the story!! > > \"A Muslim Israeli.\" I thought it is a Jewish State. > Hasn't it yet been defined up to this point? > This is a post from a hospital? The inmates from foam the cushion ward have net access!\n",
      "\n",
      "\u001b[31m2nd most similar instance - \u001b[0m \u001b[31mLabel: talk.politics.mideast - \u001b[0m \u001b[31mPrediction: talk.politics.mideast\u001b[0m\n",
      "Hate to be simple minded about this Tim, but I think its really very simple. He was a dirty Jew. And the only good Jew, in some peoples mind, is a dead Jew. Thats what 40 years of propaganda that fails to discriminate between Jew and Zionist will do. Thats what 20 years of statements like the ones I've appended will do to someones mind. They make people sick. They drag down political discourse to the point where killing your opponent is an honorable way to resolve a dispute. What else can come of such demagogery? Peace? Adam Arafat on political pluralism: ``Any Palestinian leader who suggests ending the intifada exposes himself to the bullets of his own people and endangers his life. The PLO will know how to deal with him.'' --- Arafat, Kuwaiti News Agency, 1/2/89 Arafat on the massacre at Tienamin Square: ``... on behalf of the Arab Palestinian People, their leadership, and myself... [I] take this opportunity to express extreme gratification that you were able to restore normal order after the recent incidents in People's China.'' --- Arafat in telegram sent to the head of the Chinese Communist Party Yassir Arafat, humanitarian: ``Open fire on the new Jewish immigrants ... be they from the Soviet Union, Ethiopia, or anywhere else. It would be a disgrace if we did not lift a finger while herds of immigrants settle our territory. I want you to shoot... It makes no difference if they live in Jaffa or Jericho. I give you explicit orders to open fire. Do everything to stop the flow of immigration.'' --- Yassir Arafat, Al Muharar (Lebanese weekly), April 10, 1990 Yassir Arafat on genocide: ``When the Arabs set off their volcano, there will only be Arabs in this part of the world. Our people will continue to fuel the torch of the revolution with rivers of blood until the whole of the occupied homeland is liberated...'' --- Yasser Arafat, AP, 3/12/79 Adam Shostack adam@das.harvard.edu\n",
      "\n",
      "\u001b[31m3rd most similar instance - \u001b[0m \u001b[31mLabel: talk.politics.mideast - \u001b[0m \u001b[31mPrediction: talk.politics.mideast\u001b[0m\n",
      "Contrary to what the \"Protocols of Zion crowd\" might suggest, Judaism does not have any such goals. The question you ask is complicated and deserves an honest answer. I am going to provide one from my own current perspective, not a historical one. Currently, as a non-observant jew/Israeli/American, my own feeling is that Jews from the diaspora do not have a greater right in Palestine or Israel, than the palestinians or Israelis (both arab and jew) do. With regard to Jewish Israelis, they should have the same rights in Israel as do all other Israelis. Who are them? If by them you mean the non-religious Jews, I think you should be aware by now that the majority of the settlers and their supporters are religious. The other part of the problem is, to my knowledge, not that the palestinians don't want to be a part of Israel, as much as they would accept (for the most part) being full citizens of Israel, with all the priviliges and responsibilities accorded Israeli citizens. What they object to is the current limbo in which they find themselves.\n",
      "\n",
      "\u001b[34mSample nb 2\u001b[0m\n",
      "\u001b[34m===========\u001b[0m\n",
      "\n",
      "\u001b[31mOriginal instance - \u001b[0m \u001b[31mLabel: comp.sys.mac.hardware - \u001b[0m \u001b[31mPrediction: misc.forsale\u001b[0m\n",
      "I have a 512k VRAM chip for sale. Worked fine in my LCII and will give 256 colors on 640 x 480 size screen. Asking $50. I'll cover postage. Speaking of which, does anyone know what the best way to send a chip is. I have a plastic antistatic sleeve, but what's the best way to send it? In an envelope? First class? All info appreciated.\n",
      "\n",
      "\u001b[31m1st most similar instance - \u001b[0m \u001b[31mLabel: comp.sys.mac.hardware - \u001b[0m \u001b[31mPrediction: comp.sys.mac.hardware\u001b[0m\n",
      "Of course its possible, I get 1024x768 on my Centris 650. All you need is a correctly wired video cable. Gary --\n",
      "\n",
      "\u001b[31m2nd most similar instance - \u001b[0m \u001b[31mLabel: comp.sys.mac.hardware - \u001b[0m \u001b[31mPrediction: sci.electronics\u001b[0m\n",
      "I am looking for any information about the Sigma Designs double up board. All I can figure out is that it is a hardware compression board that works with AutoDoubler, but I am not sure about this. Also how much would one cost?\n",
      "\n",
      "\u001b[31m3rd most similar instance - \u001b[0m \u001b[31mLabel: comp.sys.mac.hardware - \u001b[0m \u001b[31mPrediction: comp.sys.mac.hardware\u001b[0m\n",
      "I have an opportunity to buy a Radius VideoVision board for about 1/3 of normal street price, which I believe is due to a change in the board architecture. I VAGUELY, MAYBE remember that there was some kind of serious problem with this board, which does Composite, PAL, SECAM to S video, Composite, etc coversions. Plus also generating quicktime movies, etc. MacWeek was generally complimentary about it in the April 12th issue. Does anyone have any information on this board, such as is it the one which has been superceeded, what about an upgrade if so, etc. I'd be very curious to hear from you. THANKS! --B.W.\n",
      "\n",
      "\u001b[34mSample nb 3\u001b[0m\n",
      "\u001b[34m===========\u001b[0m\n",
      "\n",
      "\u001b[31mOriginal instance - \u001b[0m \u001b[31mLabel: sci.space - \u001b[0m \u001b[31mPrediction: sci.space\u001b[0m\n",
      "Hmmmm.... The prefix \"peri-\" is Greek, not Latin, so it's usually used with the Greek form of the name of the body being orbited. (That's why it's \"perihelion\" rather than \"perisol\", \"perigee\" rather than \"periterr\", and \"pericynthion\" rather than \"perilune\".) So for Jupiter I'd expect it to be something like \"perizeon\".) :^)\n",
      "\n",
      "\u001b[31m1st most similar instance - \u001b[0m \u001b[31mLabel: sci.space - \u001b[0m \u001b[31mPrediction: sci.space\u001b[0m\n",
      "The Orion concept as actually proposed (as opposed to the way it has been somewhat misrepresented in some fiction) included wrapping a thick layer of reaction mass -- probably plastic of some sort -- around each bomb. The bomb vaporizes the reaction mass, and it's that which transfers momentum to the pusher plate.\n",
      "\n",
      "\u001b[31m2nd most similar instance - \u001b[0m \u001b[31mLabel: sci.space - \u001b[0m \u001b[31mPrediction: sci.space\u001b[0m\n",
      "Hiya I'm a VERY amuture astronomer in Adelaide Australia, and today, I heard some very interesting and exciting news from a local program on TV. As I couldn't find anything on it on the news server, I have posted this. However, if it is old information, tell me, and ill sue the TV station for saying they are 'Up to date' ;-) (Also, my news server could be slow. . so . . .!!! I only caught the end of the article, so all the information on the topic is not known to me at the moment. The news is of a small 'psudo' planet outside the orbit of pluto found in a Hawiian obsevatory, supposably 'recently' - acording to the report. It was meant to be about 150miles in diamater, and a faily large distance from the plutos orbit. (it had a computer drawing, and the orbit distance from pluto was about the same as neptune to pluto when they are furthest apart. This is all I found out about it. OH it is called Karna. (un-officially ). CAn anyone give any more information to me on it??? Thanx. Brendan Woithe swoithe@crackle.aelmg.adelaide.edu.au BTW - if this is old news, does anyone know a good lawyer. . . .8)\n",
      "\n",
      "\u001b[31m3rd most similar instance - \u001b[0m \u001b[31mLabel: sci.space - \u001b[0m \u001b[31mPrediction: sci.space\u001b[0m\n",
      "Well, here goes. The first item of business is to establish the importance space life sciences in the whole of scheme of humankind. I mean compared to football and baseball, the average joe schmoe doesn't seem interested or even curious about spaceflight. I think that this forum can make a major change in that lack of insight and education. All of us, in our own way, can contribute to a comprehensive document which can be released to the general public around the world. The document would scientifically analyze the technical aspects of long term human habitation in space. I believe that if any long-term space exploration program is to succeed we need to basically learn how to engineer our own microworld (i.e. the spacecraft). Only through the careful analyses of engineering, chemical, biological, and medical factors will a good ecosystem be created to facilitate human life on a long-duration flight. So, I would like to see posts of opinions regarding the most objective methods to analyze the accepted scientific literature for technologies which can be applied to long-duration spaceflight. Such a detailed literature search would be of interest to ourselves as space advocates and clearly important to existing space programs. In essence, we would be dividing the space life science issues into various technical problems which could be solved with various technologies. This database of acceptable solutions to various problems could form the basis of detailed discussions involving people from the bionet, isunet, and any other source!\n",
      "\n",
      "\u001b[34mSample nb 4\u001b[0m\n",
      "\u001b[34m===========\u001b[0m\n",
      "\n",
      "\u001b[31mOriginal instance - \u001b[0m \u001b[31mLabel: comp.os.ms-windows.misc - \u001b[0m \u001b[31mPrediction: comp.os.ms-windows.misc\u001b[0m\n",
      "(stuff deleted) This sounds like what happened to my HD a month ago. My HD was stacked with Stacker v.2.0 (I run Dos5) Suddenly everything hung up, and most of the HD got corrupted (directories changed into unreadable files with 'funny' names). In other words: it is probably just the doubledisk part of Dos6 that is troublesome. I now use Stacker v 3.0, and so far I have had no trouble. -------------------------------------------------------------------------- Elisabeth Bull e_mail: eliza@swix.nvg.unit.no\n",
      "\n",
      "\u001b[31m1st most similar instance - \u001b[0m \u001b[31mLabel: comp.os.ms-windows.misc - \u001b[0m \u001b[31mPrediction: comp.os.ms-windows.misc\u001b[0m\n",
      "I have just checked it and you have three files that are loaded: PROTMAN : 128 Bytes DRIVER : 9072 Bytes WORKGRP : 4416 Bytes No W4WG uses it's own drivers. Not that I know of, I bought two copies, had some problems with one installed both from the same copie, no problems. Do worry I just had a really old BIOS and that's the only problem I got. It will replace all older files (I think) and prompt you for the others. This I do not know... Hope this helps\n",
      "\n",
      "\u001b[31m2nd most similar instance - \u001b[0m \u001b[31mLabel: comp.os.ms-windows.misc - \u001b[0m \u001b[31mPrediction: comp.os.ms-windows.misc\u001b[0m\n",
      "I've had the same problem with a Maxtor 7213A. Turned off smartdrive, 32 bit disk access, etc. This same disk aborts Norton Speed Disk (NU 4.5), up to 8 times, requesting NDD to be run when attempting to defrag drive. At Some peoples' suggestion I reformatted my drive and reloaded DOS 5.0, Win 3.1 from scratch. A few people found that installing 3.1 on top of 3.1 beta on top of 3.0 caused a similar problem, So I tried this drastic solution. When the problem reoccurred, I didn't have the brains not to load 6.0 and dblespaced the drive. I get arround the annoyance by copying my *.grp files to *.gro. when I get the message, I run file manager and copy the offeniding group files from *.gro ove rthe *.grp. Then I quit and restart windows(If the group is an often used important one.) This really sucks. But I'm pretty sure that the problem is the drive (especially with the NSD problem). I will be going with out over 66% of my memory after finals for 2 to 4 weeks, while the guy I bought the disk and system from, goes over it and either fixes it or replaces the drive. I can't wait to have a system that will run consistently with all hte goodies!\n",
      "\n",
      "\u001b[31m3rd most similar instance - \u001b[0m \u001b[31mLabel: comp.os.ms-windows.misc - \u001b[0m \u001b[31mPrediction: comp.os.ms-windows.misc\u001b[0m\n",
      "Has anyone else experienced problems with windows hanging after the installation of DOS 6? I have narrowed the problem down to EMM386. If if remove (or disable) EMM386, windows is ok. If EMM386 is active, with NOEMS, windows hangs. If I use AUTO with EMM386, the system hangs on bootup. Dave. -- ------------------------------------------------------------------- David Clarke ...the well is deep...wish me well... ac151@Freenet.carleton.ca David_Clarke@mtsa.ubc.ca clarkec@sfu.ca\n",
      "\n"
     ]
    }
   ],
   "source": [
    "for sample_nb in range(5):\n",
    "    print(colored(f\"Sample nb {sample_nb}\", 'blue'))\n",
    "    print(colored(\"===========\", 'blue'))\n",
    "    print('')\n",
    "    \n",
    "    print(colored(\"Original instance - \", 'red'), \n",
    "          colored(f\"Label: {target_names[ds[sample_nb]['y']]} - \", 'red'), \n",
    "          colored(f\"Prediction: {target_names[ds[sample_nb]['pred']]}\", 'red'))\n",
    "    print(f\"{ds[sample_nb]['x']}\")\n",
    "    print('')\n",
    "    \n",
    "    for i in range(3):\n",
    "        print(colored(f\"{i+1}{appendInt(i+1)} most similar instance - \", 'red'), \n",
    "              colored(f\"Label: {target_names[ds[sample_nb]['y_sim'][i]]} - \", 'red'), \n",
    "              colored(f\"Prediction: {target_names[ds[sample_nb]['preds_sim'][i]]}\", 'red'))\n",
    "        print(f\"{ds[sample_nb]['x_sim'][i]}\")\n",
    "        print('')"
   ]
  },
  {
   "cell_type": "markdown",
   "id": "89288d2c",
   "metadata": {},
   "source": [
    "### Most similar labels distributions "
   ]
  },
  {
   "cell_type": "markdown",
   "id": "446700df",
   "metadata": {},
   "source": [
    "Showing the average similarity scores for each group of instances in the reference set belonging to the same true class and to same predicted class. "
   ]
  },
  {
   "cell_type": "code",
   "execution_count": 40,
   "id": "50b0b6e0",
   "metadata": {},
   "outputs": [],
   "source": [
    "def plot_distributions(ds, expls, figsize=(20, 5)):\n",
    "\n",
    "    for i in range(len(ds)):\n",
    "        fig, axes = plt.subplots(1, 2, figsize=figsize, sharex=False)\n",
    "        d = ds[i]\n",
    "\n",
    "        y_sim = d['y_sim']\n",
    "        preds_sim = d['preds_sim']\n",
    "        y = d['y']\n",
    "        pred = d['pred']\n",
    "        df_ditribution = pd.DataFrame({'y_sim': y_sim, \n",
    "                                       'preds_sim': preds_sim, \n",
    "                                       'scores': expls.data['scores'][i]})\n",
    "        print(colored(f\"Sample nb {i}\", 'blue'))\n",
    "        print(colored(\"===========\", 'blue'))\n",
    "        print('')\n",
    "\n",
    "        print(colored(\"Original instance\", 'red'))\n",
    "        print(colored(f\"Label: section {d['y']}, {target_names[d['y']]}\", 'red')) \n",
    "        print(colored(f\"Prediction: section {d['pred']}, {target_names[d['pred']]}\", 'red'))\n",
    "        print(f\"{d['x']}\")\n",
    "        \n",
    "        df_y = df_ditribution.groupby('y_sim')['scores'].mean().sort_values(ascending=False)\n",
    "        df_y.plot(kind='bar', ax=axes[0])\n",
    "        axes[0].set_title(\"Averaged scores for each true class in reference set \\n\")\n",
    "        df_preds = df_ditribution.groupby('preds_sim')['scores'].mean().sort_values(ascending=False)\n",
    "        df_preds.plot(kind='bar', ax=axes[1])\n",
    "        axes[1].set_title(\"Averaged scores for each predicted class in reference set \\n\")\n",
    "\n",
    "        plt.show()"
   ]
  },
  {
   "cell_type": "code",
   "execution_count": 41,
   "id": "7fdff624",
   "metadata": {
    "scrolled": false
   },
   "outputs": [
    {
     "name": "stdout",
     "output_type": "stream",
     "text": [
      "\u001b[34mSample nb 0\u001b[0m\n",
      "\u001b[34m===========\u001b[0m\n",
      "\n",
      "\u001b[31mOriginal instance\u001b[0m\n",
      "\u001b[31mLabel: section 7, rec.autos\u001b[0m\n",
      "\u001b[31mPrediction: section 6, misc.forsale\u001b[0m\n",
      "Two-volume soft-cover repair manuals for all models of '91 Toyota Celicas. (Probably good for '92 models as well.) Like new condition. These are the manuals used by the Toyota dealers' mechanics - they normally cost over $80 new. $50 OBO\n"
     ]
    },
    {
     "data": {
      "image/png": "[encoded data removed]",
      "text/plain": [
       "<Figure size 1440x360 with 2 Axes>"
      ]
     },
     "metadata": {
      "needs_background": "light"
     },
     "output_type": "display_data"
    },
    {
     "name": "stdout",
     "output_type": "stream",
     "text": [
      "\u001b[34mSample nb 1\u001b[0m\n",
      "\u001b[34m===========\u001b[0m\n",
      "\n",
      "\u001b[31mOriginal instance\u001b[0m\n",
      "\u001b[31mLabel: section 17, talk.politics.mideast\u001b[0m\n",
      "\u001b[31mPrediction: section 17, talk.politics.mideast\u001b[0m\n",
      "Bill Coleman writes... (responding to a discussion about a mosque in Jerusalem allegedly having been destroyed by Israel) BC> In today's Jerusalem Post Magazine there is a feature story about the BC> ongoing restoration of synagogues in the Jewish Quarter. The author, BC> Leah Abramowitz, writes that there were FIFTY-SEVEN synagogues in the BC> quarter in 1948, ALL of which were destroyed, some, she says, used as BC> donkey stables. The building shells, that is. BC> BC> I still find it really, really hard to understand why the demolition BC> of the buildings in front of the Kotel continues to evoke more outrage BC> than this. Everything is so much cheaper when it happens to the Jews. BC> BC> Why? The double standard of human behavior regarding the Jews must be manitained. A perfect example is the outcry over the temporary removal of 400 men who advocated murdering Jews and destroying the State of Israel, compared to the deafening silence over the abusive treatment of Jews in Arab countries during the past 50 years. Compare the tacit appoval that the world gives to Muslims who randomly murder Jewish civilians to the righteous indignation expressed if people in the occupied territories are kept from working in Israel in an effort to reduce these random murders from occuring, while everyone knows that no country is at all required to accept foreign workers, except Israel, of course. Jewish blood has always been cheap. The non-Jewish world ha never regarded any form of Jewish suffering important, except when the Jews were the models of the powerless victim holding the high moral ground, as it had been just after World War 2. However, as soon as the Jewish people started to take care of themselves, the ancient hatred of Jews was unleashed again. I doubt if the non-Jewish world is even capable of having any compassion towards Jews as anti-semitism is so ancient and so basic to both Christianity and Islam. Golda Meir said that there would be peace when the Arabs love their own children more than they hate the Jews. And while I know that there are more Arab parents who love their children than those who would send their children out into the streets to throw rocks at men trained to defend themselves with guns, the world is so obsessed by a hatred of Jews trying to defend themselves that they have yet to even question the actions of those parents who not simply allow their children to do this, but encourage them to throw themselves into harm's way. Even Arab children are expendable, if their tragic deaths are used in the neverending propoganda battle to blame Israel, and the Jews, for any misfortune befalling Arabs in the middle east.\n"
     ]
    },
    {
     "data": {
      "image/png": "[encoded data removed]",
      "text/plain": [
       "<Figure size 1440x360 with 2 Axes>"
      ]
     },
     "metadata": {
      "needs_background": "light"
     },
     "output_type": "display_data"
    },
    {
     "name": "stdout",
     "output_type": "stream",
     "text": [
      "\u001b[34mSample nb 2\u001b[0m\n",
      "\u001b[34m===========\u001b[0m\n",
      "\n",
      "\u001b[31mOriginal instance\u001b[0m\n",
      "\u001b[31mLabel: section 4, comp.sys.mac.hardware\u001b[0m\n",
      "\u001b[31mPrediction: section 6, misc.forsale\u001b[0m\n",
      "I have a 512k VRAM chip for sale. Worked fine in my LCII and will give 256 colors on 640 x 480 size screen. Asking $50. I'll cover postage. Speaking of which, does anyone know what the best way to send a chip is. I have a plastic antistatic sleeve, but what's the best way to send it? In an envelope? First class? All info appreciated.\n"
     ]
    },
    {
     "data": {
      "image/png": "[encoded data removed]",
      "text/plain": [
       "<Figure size 1440x360 with 2 Axes>"
      ]
     },
     "metadata": {
      "needs_background": "light"
     },
     "output_type": "display_data"
    },
    {
     "name": "stdout",
     "output_type": "stream",
     "text": [
      "\u001b[34mSample nb 3\u001b[0m\n",
      "\u001b[34m===========\u001b[0m\n",
      "\n",
      "\u001b[31mOriginal instance\u001b[0m\n",
      "\u001b[31mLabel: section 14, sci.space\u001b[0m\n",
      "\u001b[31mPrediction: section 14, sci.space\u001b[0m\n",
      "Hmmmm.... The prefix \"peri-\" is Greek, not Latin, so it's usually used with the Greek form of the name of the body being orbited. (That's why it's \"perihelion\" rather than \"perisol\", \"perigee\" rather than \"periterr\", and \"pericynthion\" rather than \"perilune\".) So for Jupiter I'd expect it to be something like \"perizeon\".) :^)\n"
     ]
    },
    {
     "data": {
      "image/png": "[encoded data removed]",
      "text/plain": [
       "<Figure size 1440x360 with 2 Axes>"
      ]
     },
     "metadata": {
      "needs_background": "light"
     },
     "output_type": "display_data"
    },
    {
     "name": "stdout",
     "output_type": "stream",
     "text": [
      "\u001b[34mSample nb 4\u001b[0m\n",
      "\u001b[34m===========\u001b[0m\n",
      "\n",
      "\u001b[31mOriginal instance\u001b[0m\n",
      "\u001b[31mLabel: section 2, comp.os.ms-windows.misc\u001b[0m\n",
      "\u001b[31mPrediction: section 2, comp.os.ms-windows.misc\u001b[0m\n",
      "(stuff deleted) This sounds like what happened to my HD a month ago. My HD was stacked with Stacker v.2.0 (I run Dos5) Suddenly everything hung up, and most of the HD got corrupted (directories changed into unreadable files with 'funny' names). In other words: it is probably just the doubledisk part of Dos6 that is troublesome. I now use Stacker v 3.0, and so far I have had no trouble. -------------------------------------------------------------------------- Elisabeth Bull e_mail: eliza@swix.nvg.unit.no\n"
     ]
    },
    {
     "data": {
      "image/png": "[encoded data removed]",
      "text/plain": [
       "<Figure size 1440x360 with 2 Axes>"
      ]
     },
     "metadata": {
      "needs_background": "light"
     },
     "output_type": "display_data"
    }
   ],
   "source": [
    "plot_distributions(ds, expls)"
   ]
  }
 ],
 "metadata": {
  "kernelspec": {
   "display_name": "Python 3 (ipykernel)",
   "language": "python",
   "name": "python3"
  },
  "language_info": {
   "codemirror_mode": {
    "name": "ipython",
    "version": 3
   },
   "file_extension": ".py",
   "mimetype": "text/x-python",
   "name": "python",
   "nbconvert_exporter": "python",
   "pygments_lexer": "ipython3",
   "version": "3.8.13"
  }
 },
 "nbformat": 4,
 "nbformat_minor": 5
}
